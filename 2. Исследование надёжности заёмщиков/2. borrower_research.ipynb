{
  "cells": [
    {
      "cell_type": "markdown",
      "id": "2f2bdc27",
      "metadata": {
        "deletable": false,
        "editable": false,
        "id": "2f2bdc27"
      },
      "source": [
        "# Исследование надежности заемщиков\n"
      ]
    },
    {
      "cell_type": "markdown",
      "id": "4dbfe73c",
      "metadata": {
        "id": "4dbfe73c"
      },
      "source": [
        "Для банка важно чтобы его заемщики во время производили платежи по кредитам. В имеющийся базе данных отображенна различная информация о заёмщиках, с её помощью необходимо выяснить какие категории чаще возвращают кредит в срок, а у каких имеются задержки по оплате."
      ]
    },
    {
      "cell_type": "markdown",
      "id": "8f15ff94",
      "metadata": {
        "id": "8f15ff94"
      },
      "source": [
        "<b>Цель иследования</b> — проверить четыре гипотезы:"
      ]
    },
    {
      "cell_type": "markdown",
      "id": "7eb68c8c",
      "metadata": {
        "id": "7eb68c8c"
      },
      "source": [
        "1. Влияет ли количество детей у заемщика на возврат кредита в срок.\n",
        "2. Есть ли зависимость между возвратом кредита в срок и семейным положение.\n",
        "3. Имеет ли влияние уровень дохода на не погашение кредита в срок.\n",
        "4. Есть зависимость между целью кредита и его погашением в срок."
      ]
    },
    {
      "cell_type": "markdown",
      "id": "479f7a0b",
      "metadata": {
        "id": "479f7a0b"
      },
      "source": [
        "<b>Ход исследования</b>"
      ]
    },
    {
      "cell_type": "markdown",
      "id": "6b9d236a",
      "metadata": {
        "id": "6b9d236a"
      },
      "source": [
        "Данные о заёмщиках содержатся в файле `/datasets/data.csv`. Перед проверкой гипотез необходимо ознакомиться с данными.\n",
        "\n",
        "При налачии ошибок оценить их влияние на исследование. На этапе предобработки необходимо исправить самые критичные ошибки.\n",
        "\n",
        "Исследование будет проходить в четыре этапа:\n",
        " 1. Обзор данных\n",
        " 2. Преобработка данных.\n",
        " 3. Проверка гипотез\n",
        " 4. Общий вывод"
      ]
    },
    {
      "cell_type": "markdown",
      "id": "f3f2aa88",
      "metadata": {
        "deletable": false,
        "editable": false,
        "id": "f3f2aa88"
      },
      "source": [
        "Во второй части проекта вы выполните шаги 3 и 4. Их вручную проверит ревьюер.\n",
        "Чтобы вам не пришлось писать код заново для шагов 1 и 2, мы добавили авторские решения в ячейки с кодом.\n",
        "\n"
      ]
    },
    {
      "cell_type": "markdown",
      "id": "bdd04853",
      "metadata": {
        "deletable": false,
        "editable": false,
        "id": "bdd04853"
      },
      "source": [
        "## Откройте таблицу и изучите общую информацию о данных"
      ]
    },
    {
      "cell_type": "markdown",
      "id": "6e428c3e",
      "metadata": {
        "id": "6e428c3e"
      },
      "source": [
        "Импорт библиотеки `pandas` и подключение базы данных `/datasets/data.csv`"
      ]
    },
    {
      "cell_type": "code",
      "execution_count": null,
      "id": "e6d9db10",
      "metadata": {
        "deletable": false,
        "id": "e6d9db10"
      },
      "outputs": [],
      "source": [
        "import pandas as pd\n",
        "from IPython.display import display\n",
        "try:\n",
        "    data = pd.read_csv('/datasets/data.csv')\n",
        "except:\n",
        "    data = pd.read_csv('https://code.s3.yandex.net/datasets/data.csv')"
      ]
    },
    {
      "cell_type": "markdown",
      "id": "7b6e1192",
      "metadata": {
        "id": "7b6e1192"
      },
      "source": [
        "Вывод первых 20 строчек датафрейма"
      ]
    },
    {
      "cell_type": "code",
      "execution_count": null,
      "id": "48d267e5",
      "metadata": {
        "deletable": false,
        "id": "48d267e5",
        "outputId": "1a8f3ef2-d323-4ec2-ddf7-89670b5944c4"
      },
      "outputs": [
        {
          "data": {
            "text/html": [
              "<div>\n",
              "<style scoped>\n",
              "    .dataframe tbody tr th:only-of-type {\n",
              "        vertical-align: middle;\n",
              "    }\n",
              "\n",
              "    .dataframe tbody tr th {\n",
              "        vertical-align: top;\n",
              "    }\n",
              "\n",
              "    .dataframe thead th {\n",
              "        text-align: right;\n",
              "    }\n",
              "</style>\n",
              "<table border=\"1\" class=\"dataframe\">\n",
              "  <thead>\n",
              "    <tr style=\"text-align: right;\">\n",
              "      <th></th>\n",
              "      <th>children</th>\n",
              "      <th>days_employed</th>\n",
              "      <th>dob_years</th>\n",
              "      <th>education</th>\n",
              "      <th>education_id</th>\n",
              "      <th>family_status</th>\n",
              "      <th>family_status_id</th>\n",
              "      <th>gender</th>\n",
              "      <th>income_type</th>\n",
              "      <th>debt</th>\n",
              "      <th>total_income</th>\n",
              "      <th>purpose</th>\n",
              "    </tr>\n",
              "  </thead>\n",
              "  <tbody>\n",
              "    <tr>\n",
              "      <th>0</th>\n",
              "      <td>1</td>\n",
              "      <td>-8437.673028</td>\n",
              "      <td>42</td>\n",
              "      <td>высшее</td>\n",
              "      <td>0</td>\n",
              "      <td>женат / замужем</td>\n",
              "      <td>0</td>\n",
              "      <td>F</td>\n",
              "      <td>сотрудник</td>\n",
              "      <td>0</td>\n",
              "      <td>253875.639453</td>\n",
              "      <td>покупка жилья</td>\n",
              "    </tr>\n",
              "    <tr>\n",
              "      <th>1</th>\n",
              "      <td>1</td>\n",
              "      <td>-4024.803754</td>\n",
              "      <td>36</td>\n",
              "      <td>среднее</td>\n",
              "      <td>1</td>\n",
              "      <td>женат / замужем</td>\n",
              "      <td>0</td>\n",
              "      <td>F</td>\n",
              "      <td>сотрудник</td>\n",
              "      <td>0</td>\n",
              "      <td>112080.014102</td>\n",
              "      <td>приобретение автомобиля</td>\n",
              "    </tr>\n",
              "    <tr>\n",
              "      <th>2</th>\n",
              "      <td>0</td>\n",
              "      <td>-5623.422610</td>\n",
              "      <td>33</td>\n",
              "      <td>Среднее</td>\n",
              "      <td>1</td>\n",
              "      <td>женат / замужем</td>\n",
              "      <td>0</td>\n",
              "      <td>M</td>\n",
              "      <td>сотрудник</td>\n",
              "      <td>0</td>\n",
              "      <td>145885.952297</td>\n",
              "      <td>покупка жилья</td>\n",
              "    </tr>\n",
              "    <tr>\n",
              "      <th>3</th>\n",
              "      <td>3</td>\n",
              "      <td>-4124.747207</td>\n",
              "      <td>32</td>\n",
              "      <td>среднее</td>\n",
              "      <td>1</td>\n",
              "      <td>женат / замужем</td>\n",
              "      <td>0</td>\n",
              "      <td>M</td>\n",
              "      <td>сотрудник</td>\n",
              "      <td>0</td>\n",
              "      <td>267628.550329</td>\n",
              "      <td>дополнительное образование</td>\n",
              "    </tr>\n",
              "    <tr>\n",
              "      <th>4</th>\n",
              "      <td>0</td>\n",
              "      <td>340266.072047</td>\n",
              "      <td>53</td>\n",
              "      <td>среднее</td>\n",
              "      <td>1</td>\n",
              "      <td>гражданский брак</td>\n",
              "      <td>1</td>\n",
              "      <td>F</td>\n",
              "      <td>пенсионер</td>\n",
              "      <td>0</td>\n",
              "      <td>158616.077870</td>\n",
              "      <td>сыграть свадьбу</td>\n",
              "    </tr>\n",
              "    <tr>\n",
              "      <th>5</th>\n",
              "      <td>0</td>\n",
              "      <td>-926.185831</td>\n",
              "      <td>27</td>\n",
              "      <td>высшее</td>\n",
              "      <td>0</td>\n",
              "      <td>гражданский брак</td>\n",
              "      <td>1</td>\n",
              "      <td>M</td>\n",
              "      <td>компаньон</td>\n",
              "      <td>0</td>\n",
              "      <td>255763.565419</td>\n",
              "      <td>покупка жилья</td>\n",
              "    </tr>\n",
              "    <tr>\n",
              "      <th>6</th>\n",
              "      <td>0</td>\n",
              "      <td>-2879.202052</td>\n",
              "      <td>43</td>\n",
              "      <td>высшее</td>\n",
              "      <td>0</td>\n",
              "      <td>женат / замужем</td>\n",
              "      <td>0</td>\n",
              "      <td>F</td>\n",
              "      <td>компаньон</td>\n",
              "      <td>0</td>\n",
              "      <td>240525.971920</td>\n",
              "      <td>операции с жильем</td>\n",
              "    </tr>\n",
              "    <tr>\n",
              "      <th>7</th>\n",
              "      <td>0</td>\n",
              "      <td>-152.779569</td>\n",
              "      <td>50</td>\n",
              "      <td>СРЕДНЕЕ</td>\n",
              "      <td>1</td>\n",
              "      <td>женат / замужем</td>\n",
              "      <td>0</td>\n",
              "      <td>M</td>\n",
              "      <td>сотрудник</td>\n",
              "      <td>0</td>\n",
              "      <td>135823.934197</td>\n",
              "      <td>образование</td>\n",
              "    </tr>\n",
              "    <tr>\n",
              "      <th>8</th>\n",
              "      <td>2</td>\n",
              "      <td>-6929.865299</td>\n",
              "      <td>35</td>\n",
              "      <td>ВЫСШЕЕ</td>\n",
              "      <td>0</td>\n",
              "      <td>гражданский брак</td>\n",
              "      <td>1</td>\n",
              "      <td>F</td>\n",
              "      <td>сотрудник</td>\n",
              "      <td>0</td>\n",
              "      <td>95856.832424</td>\n",
              "      <td>на проведение свадьбы</td>\n",
              "    </tr>\n",
              "    <tr>\n",
              "      <th>9</th>\n",
              "      <td>0</td>\n",
              "      <td>-2188.756445</td>\n",
              "      <td>41</td>\n",
              "      <td>среднее</td>\n",
              "      <td>1</td>\n",
              "      <td>женат / замужем</td>\n",
              "      <td>0</td>\n",
              "      <td>M</td>\n",
              "      <td>сотрудник</td>\n",
              "      <td>0</td>\n",
              "      <td>144425.938277</td>\n",
              "      <td>покупка жилья для семьи</td>\n",
              "    </tr>\n",
              "    <tr>\n",
              "      <th>10</th>\n",
              "      <td>2</td>\n",
              "      <td>-4171.483647</td>\n",
              "      <td>36</td>\n",
              "      <td>высшее</td>\n",
              "      <td>0</td>\n",
              "      <td>женат / замужем</td>\n",
              "      <td>0</td>\n",
              "      <td>M</td>\n",
              "      <td>компаньон</td>\n",
              "      <td>0</td>\n",
              "      <td>113943.491460</td>\n",
              "      <td>покупка недвижимости</td>\n",
              "    </tr>\n",
              "    <tr>\n",
              "      <th>11</th>\n",
              "      <td>0</td>\n",
              "      <td>-792.701887</td>\n",
              "      <td>40</td>\n",
              "      <td>среднее</td>\n",
              "      <td>1</td>\n",
              "      <td>женат / замужем</td>\n",
              "      <td>0</td>\n",
              "      <td>F</td>\n",
              "      <td>сотрудник</td>\n",
              "      <td>0</td>\n",
              "      <td>77069.234271</td>\n",
              "      <td>покупка коммерческой недвижимости</td>\n",
              "    </tr>\n",
              "    <tr>\n",
              "      <th>12</th>\n",
              "      <td>0</td>\n",
              "      <td>NaN</td>\n",
              "      <td>65</td>\n",
              "      <td>среднее</td>\n",
              "      <td>1</td>\n",
              "      <td>гражданский брак</td>\n",
              "      <td>1</td>\n",
              "      <td>M</td>\n",
              "      <td>пенсионер</td>\n",
              "      <td>0</td>\n",
              "      <td>NaN</td>\n",
              "      <td>сыграть свадьбу</td>\n",
              "    </tr>\n",
              "    <tr>\n",
              "      <th>13</th>\n",
              "      <td>0</td>\n",
              "      <td>-1846.641941</td>\n",
              "      <td>54</td>\n",
              "      <td>неоконченное высшее</td>\n",
              "      <td>2</td>\n",
              "      <td>женат / замужем</td>\n",
              "      <td>0</td>\n",
              "      <td>F</td>\n",
              "      <td>сотрудник</td>\n",
              "      <td>0</td>\n",
              "      <td>130458.228857</td>\n",
              "      <td>приобретение автомобиля</td>\n",
              "    </tr>\n",
              "    <tr>\n",
              "      <th>14</th>\n",
              "      <td>0</td>\n",
              "      <td>-1844.956182</td>\n",
              "      <td>56</td>\n",
              "      <td>высшее</td>\n",
              "      <td>0</td>\n",
              "      <td>гражданский брак</td>\n",
              "      <td>1</td>\n",
              "      <td>F</td>\n",
              "      <td>компаньон</td>\n",
              "      <td>1</td>\n",
              "      <td>165127.911772</td>\n",
              "      <td>покупка жилой недвижимости</td>\n",
              "    </tr>\n",
              "    <tr>\n",
              "      <th>15</th>\n",
              "      <td>1</td>\n",
              "      <td>-972.364419</td>\n",
              "      <td>26</td>\n",
              "      <td>среднее</td>\n",
              "      <td>1</td>\n",
              "      <td>женат / замужем</td>\n",
              "      <td>0</td>\n",
              "      <td>F</td>\n",
              "      <td>сотрудник</td>\n",
              "      <td>0</td>\n",
              "      <td>116820.904450</td>\n",
              "      <td>строительство собственной недвижимости</td>\n",
              "    </tr>\n",
              "    <tr>\n",
              "      <th>16</th>\n",
              "      <td>0</td>\n",
              "      <td>-1719.934226</td>\n",
              "      <td>35</td>\n",
              "      <td>среднее</td>\n",
              "      <td>1</td>\n",
              "      <td>женат / замужем</td>\n",
              "      <td>0</td>\n",
              "      <td>F</td>\n",
              "      <td>сотрудник</td>\n",
              "      <td>0</td>\n",
              "      <td>289202.704229</td>\n",
              "      <td>недвижимость</td>\n",
              "    </tr>\n",
              "    <tr>\n",
              "      <th>17</th>\n",
              "      <td>0</td>\n",
              "      <td>-2369.999720</td>\n",
              "      <td>33</td>\n",
              "      <td>высшее</td>\n",
              "      <td>0</td>\n",
              "      <td>гражданский брак</td>\n",
              "      <td>1</td>\n",
              "      <td>M</td>\n",
              "      <td>сотрудник</td>\n",
              "      <td>0</td>\n",
              "      <td>90410.586745</td>\n",
              "      <td>строительство недвижимости</td>\n",
              "    </tr>\n",
              "    <tr>\n",
              "      <th>18</th>\n",
              "      <td>0</td>\n",
              "      <td>400281.136913</td>\n",
              "      <td>53</td>\n",
              "      <td>среднее</td>\n",
              "      <td>1</td>\n",
              "      <td>вдовец / вдова</td>\n",
              "      <td>2</td>\n",
              "      <td>F</td>\n",
              "      <td>пенсионер</td>\n",
              "      <td>0</td>\n",
              "      <td>56823.777243</td>\n",
              "      <td>на покупку подержанного автомобиля</td>\n",
              "    </tr>\n",
              "    <tr>\n",
              "      <th>19</th>\n",
              "      <td>0</td>\n",
              "      <td>-10038.818549</td>\n",
              "      <td>48</td>\n",
              "      <td>СРЕДНЕЕ</td>\n",
              "      <td>1</td>\n",
              "      <td>в разводе</td>\n",
              "      <td>3</td>\n",
              "      <td>F</td>\n",
              "      <td>сотрудник</td>\n",
              "      <td>0</td>\n",
              "      <td>242831.107982</td>\n",
              "      <td>на покупку своего автомобиля</td>\n",
              "    </tr>\n",
              "  </tbody>\n",
              "</table>\n",
              "</div>"
            ],
            "text/plain": [
              "    children  days_employed  dob_years            education  education_id  \\\n",
              "0          1   -8437.673028         42               высшее             0   \n",
              "1          1   -4024.803754         36              среднее             1   \n",
              "2          0   -5623.422610         33              Среднее             1   \n",
              "3          3   -4124.747207         32              среднее             1   \n",
              "4          0  340266.072047         53              среднее             1   \n",
              "5          0    -926.185831         27               высшее             0   \n",
              "6          0   -2879.202052         43               высшее             0   \n",
              "7          0    -152.779569         50              СРЕДНЕЕ             1   \n",
              "8          2   -6929.865299         35               ВЫСШЕЕ             0   \n",
              "9          0   -2188.756445         41              среднее             1   \n",
              "10         2   -4171.483647         36               высшее             0   \n",
              "11         0    -792.701887         40              среднее             1   \n",
              "12         0            NaN         65              среднее             1   \n",
              "13         0   -1846.641941         54  неоконченное высшее             2   \n",
              "14         0   -1844.956182         56               высшее             0   \n",
              "15         1    -972.364419         26              среднее             1   \n",
              "16         0   -1719.934226         35              среднее             1   \n",
              "17         0   -2369.999720         33               высшее             0   \n",
              "18         0  400281.136913         53              среднее             1   \n",
              "19         0  -10038.818549         48              СРЕДНЕЕ             1   \n",
              "\n",
              "       family_status  family_status_id gender income_type  debt  \\\n",
              "0    женат / замужем                 0      F   сотрудник     0   \n",
              "1    женат / замужем                 0      F   сотрудник     0   \n",
              "2    женат / замужем                 0      M   сотрудник     0   \n",
              "3    женат / замужем                 0      M   сотрудник     0   \n",
              "4   гражданский брак                 1      F   пенсионер     0   \n",
              "5   гражданский брак                 1      M   компаньон     0   \n",
              "6    женат / замужем                 0      F   компаньон     0   \n",
              "7    женат / замужем                 0      M   сотрудник     0   \n",
              "8   гражданский брак                 1      F   сотрудник     0   \n",
              "9    женат / замужем                 0      M   сотрудник     0   \n",
              "10   женат / замужем                 0      M   компаньон     0   \n",
              "11   женат / замужем                 0      F   сотрудник     0   \n",
              "12  гражданский брак                 1      M   пенсионер     0   \n",
              "13   женат / замужем                 0      F   сотрудник     0   \n",
              "14  гражданский брак                 1      F   компаньон     1   \n",
              "15   женат / замужем                 0      F   сотрудник     0   \n",
              "16   женат / замужем                 0      F   сотрудник     0   \n",
              "17  гражданский брак                 1      M   сотрудник     0   \n",
              "18    вдовец / вдова                 2      F   пенсионер     0   \n",
              "19         в разводе                 3      F   сотрудник     0   \n",
              "\n",
              "     total_income                                 purpose  \n",
              "0   253875.639453                           покупка жилья  \n",
              "1   112080.014102                 приобретение автомобиля  \n",
              "2   145885.952297                           покупка жилья  \n",
              "3   267628.550329              дополнительное образование  \n",
              "4   158616.077870                         сыграть свадьбу  \n",
              "5   255763.565419                           покупка жилья  \n",
              "6   240525.971920                       операции с жильем  \n",
              "7   135823.934197                             образование  \n",
              "8    95856.832424                   на проведение свадьбы  \n",
              "9   144425.938277                 покупка жилья для семьи  \n",
              "10  113943.491460                    покупка недвижимости  \n",
              "11   77069.234271       покупка коммерческой недвижимости  \n",
              "12            NaN                         сыграть свадьбу  \n",
              "13  130458.228857                 приобретение автомобиля  \n",
              "14  165127.911772              покупка жилой недвижимости  \n",
              "15  116820.904450  строительство собственной недвижимости  \n",
              "16  289202.704229                            недвижимость  \n",
              "17   90410.586745              строительство недвижимости  \n",
              "18   56823.777243      на покупку подержанного автомобиля  \n",
              "19  242831.107982            на покупку своего автомобиля  "
            ]
          },
          "execution_count": 2,
          "metadata": {},
          "output_type": "execute_result"
        }
      ],
      "source": [
        "data.head(20)"
      ]
    },
    {
      "cell_type": "markdown",
      "id": "0813af5c",
      "metadata": {
        "id": "0813af5c"
      },
      "source": [
        "В первых 20 строках таблицы уже видно, что таблица заполненна не корректно, к примеру:\n",
        "* В столбце `days_employed` имеются отрицательные и пропущенные значения.\n",
        "* В столбце `education` имеет неявные дубликаты в разном написании `СРЕДНЕЕ` и `среднее`.\n",
        "* В столбце `total_income`имеются пропущенные значения."
      ]
    },
    {
      "cell_type": "markdown",
      "id": "3c3e5723",
      "metadata": {
        "id": "3c3e5723"
      },
      "source": [
        "Получение общей информации о таблице"
      ]
    },
    {
      "cell_type": "code",
      "execution_count": null,
      "id": "d61b57be",
      "metadata": {
        "deletable": false,
        "id": "d61b57be",
        "outputId": "15376089-8dad-46c9-b520-c05248d43158"
      },
      "outputs": [
        {
          "name": "stdout",
          "output_type": "stream",
          "text": [
            "<class 'pandas.core.frame.DataFrame'>\n",
            "RangeIndex: 21525 entries, 0 to 21524\n",
            "Data columns (total 12 columns):\n",
            " #   Column            Non-Null Count  Dtype  \n",
            "---  ------            --------------  -----  \n",
            " 0   children          21525 non-null  int64  \n",
            " 1   days_employed     19351 non-null  float64\n",
            " 2   dob_years         21525 non-null  int64  \n",
            " 3   education         21525 non-null  object \n",
            " 4   education_id      21525 non-null  int64  \n",
            " 5   family_status     21525 non-null  object \n",
            " 6   family_status_id  21525 non-null  int64  \n",
            " 7   gender            21525 non-null  object \n",
            " 8   income_type       21525 non-null  object \n",
            " 9   debt              21525 non-null  int64  \n",
            " 10  total_income      19351 non-null  float64\n",
            " 11  purpose           21525 non-null  object \n",
            "dtypes: float64(2), int64(5), object(5)\n",
            "memory usage: 2.0+ MB\n"
          ]
        }
      ],
      "source": [
        "data.info()"
      ]
    },
    {
      "cell_type": "markdown",
      "id": "f1ece3c1",
      "metadata": {
        "id": "f1ece3c1"
      },
      "source": [
        "В таблице 12 столбцов с типами данных — `int`,`float`,`object`\n",
        "\n",
        "Согласно документации к данным:\n",
        "\n",
        "* `children` — количество детей в семье\n",
        "* `days_employed` — общий трудовой стаж в днях\n",
        "* `dob_years` — возраст клиента в годах\n",
        "* `education` — уровень образования клиента\n",
        "* `education_id` — идентификатор уровня образования\n",
        "* `family_status` — семейное положение\n",
        "* `family_status_id` — идентификатор семейного положения\n",
        "* `gender` — пол клиента\n",
        "* `income_type` — тип занятости\n",
        "* `debt` — имел ли задолженность по возврату кредитов\n",
        "* `total_income` — ежемесячный доход\n",
        "* `purpose` — цель получения кредита\n",
        "\n",
        "Количество значений в столбцах различаются, следовательно есть пропущенные значения"
      ]
    },
    {
      "cell_type": "markdown",
      "id": "723f5f26",
      "metadata": {
        "id": "723f5f26"
      },
      "source": [
        "**Выводы**"
      ]
    },
    {
      "cell_type": "markdown",
      "id": "b0488b38",
      "metadata": {
        "id": "b0488b38"
      },
      "source": [
        "В каждой строке таблицы содержатся данные о заёмщике. Его семейное положение, уровень дохода, цель кредита, количество детей и т.д.\n",
        "\n",
        "Исходя из этих данных можно утверждать, что их достаточно для проверки гипотезы. Но встречаются пропуски, неявные дубликаты и некорректно офрмленна некоторая информация.\n",
        "\n",
        "Для проверки гипотез необходимо устранить имеющиеся проблемы."
      ]
    },
    {
      "cell_type": "markdown",
      "id": "573bb1ea",
      "metadata": {
        "deletable": false,
        "editable": false,
        "id": "573bb1ea"
      },
      "source": [
        "## Предобработка данных"
      ]
    },
    {
      "cell_type": "markdown",
      "id": "38dee721",
      "metadata": {
        "deletable": false,
        "editable": false,
        "id": "38dee721"
      },
      "source": [
        "### Удаление пропусков"
      ]
    },
    {
      "cell_type": "markdown",
      "id": "ba5ab87a",
      "metadata": {
        "id": "ba5ab87a"
      },
      "source": [
        "Подсчитаем количество пропуском по каждому столбцу"
      ]
    },
    {
      "cell_type": "code",
      "execution_count": null,
      "id": "2730561b",
      "metadata": {
        "deletable": false,
        "id": "2730561b",
        "outputId": "81f4d817-781c-465c-ed15-91ce4446810d"
      },
      "outputs": [
        {
          "data": {
            "text/plain": [
              "children               0\n",
              "days_employed       2174\n",
              "dob_years              0\n",
              "education              0\n",
              "education_id           0\n",
              "family_status          0\n",
              "family_status_id       0\n",
              "gender                 0\n",
              "income_type            0\n",
              "debt                   0\n",
              "total_income        2174\n",
              "purpose                0\n",
              "dtype: int64"
            ]
          },
          "execution_count": 4,
          "metadata": {},
          "output_type": "execute_result"
        }
      ],
      "source": [
        "data.isna().sum()"
      ]
    },
    {
      "cell_type": "markdown",
      "id": "8eec138e",
      "metadata": {
        "id": "8eec138e"
      },
      "source": [
        "Заполним медианным значением пропуски в столбце `total_income` в нем хранятся данные о доходах. На заполнение столбца влияет `income_type` — тип занятости. Создадим цикл по которому будут заполнятся пропуски в `total_income` в зависимости от того какой тип занятости у заёмщика в столбце `income_type`."
      ]
    },
    {
      "cell_type": "code",
      "execution_count": null,
      "id": "fd1fac24",
      "metadata": {
        "deletable": false,
        "id": "fd1fac24"
      },
      "outputs": [],
      "source": [
        "for t in data['income_type'].unique():\n",
        "    data.loc[(data['income_type'] == t) & (data['total_income'].isna()), 'total_income'] = \\\n",
        "    data.loc[(data['income_type'] == t), 'total_income'].median()"
      ]
    },
    {
      "cell_type": "markdown",
      "id": "a1f5e7c7",
      "metadata": {
        "deletable": false,
        "editable": false,
        "id": "a1f5e7c7"
      },
      "source": [
        "### Обработка аномальных значений"
      ]
    },
    {
      "cell_type": "markdown",
      "id": "ac4a8e7d",
      "metadata": {
        "id": "ac4a8e7d"
      },
      "source": [
        "В столбце `days_employed` имеются отрицательные числа, что невозможно, преобразуем их в положительные методом `abs()`"
      ]
    },
    {
      "cell_type": "code",
      "execution_count": null,
      "id": "6aef3bc7",
      "metadata": {
        "deletable": false,
        "id": "6aef3bc7"
      },
      "outputs": [],
      "source": [
        "data['days_employed'] = data['days_employed'].abs()"
      ]
    },
    {
      "cell_type": "markdown",
      "id": "641e9d24",
      "metadata": {
        "id": "641e9d24"
      },
      "source": [
        "Сгрупируем данные по типу занятости (столбец `income_type`) и посчитаем медианное значение (`agg('median')`) трудовго стажа(столбец `days_employed`)."
      ]
    },
    {
      "cell_type": "code",
      "execution_count": null,
      "id": "dfd73df1",
      "metadata": {
        "deletable": false,
        "id": "dfd73df1",
        "outputId": "801ef80e-522b-4668-f34e-565af7432bcf"
      },
      "outputs": [
        {
          "data": {
            "text/plain": [
              "income_type\n",
              "безработный        366413.652744\n",
              "в декрете            3296.759962\n",
              "госслужащий          2689.368353\n",
              "компаньон            1547.382223\n",
              "пенсионер          365213.306266\n",
              "предприниматель       520.848083\n",
              "сотрудник            1574.202821\n",
              "студент               578.751554\n",
              "Name: days_employed, dtype: float64"
            ]
          },
          "execution_count": 7,
          "metadata": {},
          "output_type": "execute_result"
        }
      ],
      "source": [
        "data.groupby('income_type')['days_employed'].agg('median')"
      ]
    },
    {
      "cell_type": "markdown",
      "id": "7cb92d2a",
      "metadata": {
        "deletable": false,
        "editable": false,
        "id": "7cb92d2a"
      },
      "source": [
        "У двух типов (безработные и пенсионеры) получатся аномально большие значения. Исправить такие значения сложно, поэтому оставьте их как есть. Тем более этот столбец не понадобится вам для исследования."
      ]
    },
    {
      "cell_type": "markdown",
      "id": "a97a64ea",
      "metadata": {
        "id": "a97a64ea"
      },
      "source": [
        "Выводим перечень уникальных столбца `children` значений методом `.unique()`"
      ]
    },
    {
      "cell_type": "code",
      "execution_count": null,
      "id": "81997d05",
      "metadata": {
        "deletable": false,
        "id": "81997d05",
        "outputId": "6975b15c-7f95-4697-d16d-a0c79b657b03"
      },
      "outputs": [
        {
          "data": {
            "text/plain": [
              "array([ 1,  0,  3,  2, -1,  4, 20,  5])"
            ]
          },
          "execution_count": 8,
          "metadata": {},
          "output_type": "execute_result"
        }
      ],
      "source": [
        "data['children'].unique()"
      ]
    },
    {
      "cell_type": "markdown",
      "id": "c2aa32f0",
      "metadata": {
        "id": "c2aa32f0"
      },
      "source": [
        "Удаляем аномальные значений, они могу повлиять на проверку гипотезы."
      ]
    },
    {
      "cell_type": "code",
      "execution_count": null,
      "id": "f437c28a",
      "metadata": {
        "deletable": false,
        "id": "f437c28a"
      },
      "outputs": [],
      "source": [
        "data = data[(data['children'] != -1) & (data['children'] != 20)]"
      ]
    },
    {
      "cell_type": "markdown",
      "id": "9ca93683",
      "metadata": {
        "id": "9ca93683"
      },
      "source": [
        "Проверяем все ли аномальные значения были удаленны."
      ]
    },
    {
      "cell_type": "code",
      "execution_count": null,
      "id": "e5a3e0fc",
      "metadata": {
        "deletable": false,
        "id": "e5a3e0fc",
        "outputId": "b2097101-d49d-44d9-901b-32a65c9463d1"
      },
      "outputs": [
        {
          "data": {
            "text/plain": [
              "array([1, 0, 3, 2, 4, 5])"
            ]
          },
          "execution_count": 10,
          "metadata": {},
          "output_type": "execute_result"
        }
      ],
      "source": [
        "data['children'].unique()"
      ]
    },
    {
      "cell_type": "markdown",
      "id": "e1d63b85",
      "metadata": {
        "deletable": false,
        "editable": false,
        "id": "e1d63b85"
      },
      "source": [
        "### Удаление пропусков (продолжение)"
      ]
    },
    {
      "cell_type": "markdown",
      "id": "423ccfb8",
      "metadata": {
        "id": "423ccfb8"
      },
      "source": [
        "Заполним медианным значением пропуски в столбце `days_employed` в нем хранится информация о общем трудов стаже в днях. На заполнение столбца влияет `income_type` — тип занятости. Создадим цикл по которому будут заполнятся пропуски в `days_employed` в зависимости от того какой тип занятости у заёмщика в столбце `income_type`."
      ]
    },
    {
      "cell_type": "code",
      "execution_count": null,
      "id": "658b3985",
      "metadata": {
        "deletable": false,
        "id": "658b3985"
      },
      "outputs": [],
      "source": [
        "for t in data['income_type'].unique():\n",
        "    data.loc[(data['income_type'] == t) & (data['days_employed'].isna()), 'days_employed'] = \\\n",
        "    data.loc[(data['income_type'] == t), 'days_employed'].median()"
      ]
    },
    {
      "cell_type": "markdown",
      "id": "2cc76f52",
      "metadata": {
        "id": "2cc76f52"
      },
      "source": [
        "Ещё раз проверяем чтобы небыло пропусков"
      ]
    },
    {
      "cell_type": "code",
      "execution_count": null,
      "id": "cf5fd798",
      "metadata": {
        "deletable": false,
        "id": "cf5fd798",
        "outputId": "8da1e4e1-358e-4e87-98c9-f261bce0a7b2"
      },
      "outputs": [
        {
          "data": {
            "text/plain": [
              "children            0\n",
              "days_employed       0\n",
              "dob_years           0\n",
              "education           0\n",
              "education_id        0\n",
              "family_status       0\n",
              "family_status_id    0\n",
              "gender              0\n",
              "income_type         0\n",
              "debt                0\n",
              "total_income        0\n",
              "purpose             0\n",
              "dtype: int64"
            ]
          },
          "execution_count": 12,
          "metadata": {},
          "output_type": "execute_result"
        }
      ],
      "source": [
        "data.isna().sum()"
      ]
    },
    {
      "cell_type": "markdown",
      "id": "4499af19",
      "metadata": {
        "deletable": false,
        "editable": false,
        "id": "4499af19"
      },
      "source": [
        "### Изменение типов данных"
      ]
    },
    {
      "cell_type": "markdown",
      "id": "5c94aa42",
      "metadata": {
        "deletable": false,
        "editable": false,
        "id": "5c94aa42"
      },
      "source": [
        "Заменим вещественный тип данных в столбце `total_income` на целочисленный с помощью метода `astype()`."
      ]
    },
    {
      "cell_type": "code",
      "execution_count": null,
      "id": "c6f65a0c",
      "metadata": {
        "deletable": false,
        "id": "c6f65a0c"
      },
      "outputs": [],
      "source": [
        "data['total_income'] = data['total_income'].astype(int)"
      ]
    },
    {
      "cell_type": "markdown",
      "id": "e2050285",
      "metadata": {
        "deletable": false,
        "editable": false,
        "id": "e2050285"
      },
      "source": [
        "### Обработка дубликатов"
      ]
    },
    {
      "cell_type": "markdown",
      "id": "0fc4d390",
      "metadata": {
        "id": "0fc4d390"
      },
      "source": [
        "Убираем неявные дубликаты в в столбце `education`, привидением их к общему виду методом `.lower()`"
      ]
    },
    {
      "cell_type": "code",
      "execution_count": null,
      "id": "b2c55116",
      "metadata": {
        "deletable": false,
        "id": "b2c55116"
      },
      "outputs": [],
      "source": [
        "data['education'] = data['education'].str.lower()"
      ]
    },
    {
      "cell_type": "markdown",
      "id": "80e42af8",
      "metadata": {
        "id": "80e42af8"
      },
      "source": [
        "Подсчитываем количество строк дубликатов"
      ]
    },
    {
      "cell_type": "code",
      "execution_count": null,
      "id": "647b4781",
      "metadata": {
        "deletable": false,
        "id": "647b4781",
        "outputId": "9684deba-1934-42d1-99e1-cda61740f822"
      },
      "outputs": [
        {
          "data": {
            "text/plain": [
              "71"
            ]
          },
          "execution_count": 15,
          "metadata": {},
          "output_type": "execute_result"
        }
      ],
      "source": [
        "data.duplicated().sum()"
      ]
    },
    {
      "cell_type": "markdown",
      "id": "845345de",
      "metadata": {
        "id": "845345de"
      },
      "source": [
        "И удаляем их"
      ]
    },
    {
      "cell_type": "code",
      "execution_count": null,
      "id": "9a081cf9",
      "metadata": {
        "deletable": false,
        "id": "9a081cf9"
      },
      "outputs": [],
      "source": [
        "data = data.drop_duplicates()"
      ]
    },
    {
      "cell_type": "markdown",
      "id": "3db4283f",
      "metadata": {
        "deletable": false,
        "editable": false,
        "id": "3db4283f"
      },
      "source": [
        "### Категоризация данных"
      ]
    },
    {
      "cell_type": "markdown",
      "id": "88dc38b3",
      "metadata": {
        "deletable": false,
        "editable": false,
        "id": "88dc38b3"
      },
      "source": [
        "На основании диапазонов, указанных ниже, создадим в датафрейме `data` столбец `total_income_category` с категориями:**\n",
        "\n",
        "- 0–30000 — `'E'`;\n",
        "- 30001–50000 — `'D'`;\n",
        "- 50001–200000 — `'C'`;\n",
        "- 200001–1000000 — `'B'`;\n",
        "- 1000001 и выше — `'A'`."
      ]
    },
    {
      "cell_type": "markdown",
      "id": "eac5e315",
      "metadata": {
        "id": "eac5e315"
      },
      "source": [
        "Создаем фунцкию, с помощью которой разделим людей на категории ('A', 'B', 'C', 'D', 'E') в зависимостих от их заработка."
      ]
    },
    {
      "cell_type": "code",
      "execution_count": null,
      "id": "5492ae8a",
      "metadata": {
        "deletable": false,
        "id": "5492ae8a"
      },
      "outputs": [],
      "source": [
        "def categorize_income(income):\n",
        "    try:\n",
        "        if 0 <= income <= 30000:\n",
        "            return 'E'\n",
        "        elif 30001 <= income <= 50000:\n",
        "            return 'D'\n",
        "        elif 50001 <= income <= 200000:\n",
        "            return 'C'\n",
        "        elif 200001 <= income <= 1000000:\n",
        "            return 'B'\n",
        "        elif income >= 1000001:\n",
        "            return 'A'\n",
        "    except:\n",
        "        pass"
      ]
    },
    {
      "cell_type": "markdown",
      "id": "94d74b74",
      "metadata": {
        "id": "94d74b74"
      },
      "source": [
        "Создадим новый столбец `total_income_category`. В него будется заполняться к какой категории по доходу относится заёмщик."
      ]
    },
    {
      "cell_type": "code",
      "execution_count": null,
      "id": "5e6459f6",
      "metadata": {
        "deletable": false,
        "id": "5e6459f6"
      },
      "outputs": [],
      "source": [
        "data['total_income_category'] = data['total_income'].apply(categorize_income)"
      ]
    },
    {
      "cell_type": "markdown",
      "id": "cfa9072c",
      "metadata": {
        "id": "cfa9072c"
      },
      "source": [
        "С помощью метода `.unique()` узнаем на какие цели берутся кредиты."
      ]
    },
    {
      "cell_type": "code",
      "execution_count": null,
      "id": "e37009f3",
      "metadata": {
        "deletable": false,
        "id": "e37009f3",
        "outputId": "673c12d9-7d7e-4ae0-9812-c622c89dd244"
      },
      "outputs": [
        {
          "data": {
            "text/plain": [
              "array(['покупка жилья', 'приобретение автомобиля',\n",
              "       'дополнительное образование', 'сыграть свадьбу',\n",
              "       'операции с жильем', 'образование', 'на проведение свадьбы',\n",
              "       'покупка жилья для семьи', 'покупка недвижимости',\n",
              "       'покупка коммерческой недвижимости', 'покупка жилой недвижимости',\n",
              "       'строительство собственной недвижимости', 'недвижимость',\n",
              "       'строительство недвижимости', 'на покупку подержанного автомобиля',\n",
              "       'на покупку своего автомобиля',\n",
              "       'операции с коммерческой недвижимостью',\n",
              "       'строительство жилой недвижимости', 'жилье',\n",
              "       'операции со своей недвижимостью', 'автомобили',\n",
              "       'заняться образованием', 'сделка с подержанным автомобилем',\n",
              "       'получение образования', 'автомобиль', 'свадьба',\n",
              "       'получение дополнительного образования', 'покупка своего жилья',\n",
              "       'операции с недвижимостью', 'получение высшего образования',\n",
              "       'свой автомобиль', 'сделка с автомобилем',\n",
              "       'профильное образование', 'высшее образование',\n",
              "       'покупка жилья для сдачи', 'на покупку автомобиля', 'ремонт жилью',\n",
              "       'заняться высшим образованием'], dtype=object)"
            ]
          },
          "execution_count": 19,
          "metadata": {},
          "output_type": "execute_result"
        }
      ],
      "source": [
        "data['purpose'].unique()"
      ]
    },
    {
      "cell_type": "markdown",
      "id": "f66c33f2",
      "metadata": {
        "id": "f66c33f2"
      },
      "source": [
        "Все цели можно разделить на четыре категории:\n",
        "- `'операции с автомобилем'`,\n",
        "- `'операции с недвижимостью'`,\n",
        "- `'проведение свадьбы'`,\n",
        "- `'получение образования'`."
      ]
    },
    {
      "cell_type": "markdown",
      "id": "21eaec12",
      "metadata": {
        "deletable": false,
        "editable": false,
        "id": "21eaec12"
      },
      "source": [
        "**Задание 18. Создадим функцию, которая на основании данных из столбца `purpose` сформирует новый столбец `purpose_category`, в который войдут следующие категории:**\n",
        "\n",
        "- `'операции с автомобилем'`,\n",
        "- `'операции с недвижимостью'`,\n",
        "- `'проведение свадьбы'`,\n",
        "- `'получение образования'`.\n"
      ]
    },
    {
      "cell_type": "markdown",
      "id": "02dc2a36",
      "metadata": {
        "id": "02dc2a36"
      },
      "source": [
        "Создадим функцию `categorize_purpose(row)`, которая делит цели кредитов, на четыре категории"
      ]
    },
    {
      "cell_type": "code",
      "execution_count": null,
      "id": "52d4724f",
      "metadata": {
        "deletable": false,
        "id": "52d4724f"
      },
      "outputs": [],
      "source": [
        "def categorize_purpose(row):\n",
        "    try:\n",
        "        if 'автом' in row:\n",
        "            return 'операции с автомобилем'\n",
        "        elif 'жил' in row or 'недвиж' in row:\n",
        "            return 'операции с недвижимостью'\n",
        "        elif 'свад' in row:\n",
        "            return 'проведение свадьбы'\n",
        "        elif 'образов' in row:\n",
        "            return 'получение образования'\n",
        "    except:\n",
        "        return 'нет категории'"
      ]
    },
    {
      "cell_type": "markdown",
      "id": "47968d94",
      "metadata": {
        "id": "47968d94"
      },
      "source": [
        "Создадим новый столбец `purpose_category`. В него будется заполняться к какой категории по цели кредита относится заёмщик."
      ]
    },
    {
      "cell_type": "code",
      "execution_count": null,
      "id": "cc86a007",
      "metadata": {
        "deletable": false,
        "id": "cc86a007",
        "scrolled": true,
        "outputId": "97f5d1d3-6417-4c0c-be4d-7d9566998243"
      },
      "outputs": [
        {
          "data": {
            "text/html": [
              "<div>\n",
              "<style scoped>\n",
              "    .dataframe tbody tr th:only-of-type {\n",
              "        vertical-align: middle;\n",
              "    }\n",
              "\n",
              "    .dataframe tbody tr th {\n",
              "        vertical-align: top;\n",
              "    }\n",
              "\n",
              "    .dataframe thead th {\n",
              "        text-align: right;\n",
              "    }\n",
              "</style>\n",
              "<table border=\"1\" class=\"dataframe\">\n",
              "  <thead>\n",
              "    <tr style=\"text-align: right;\">\n",
              "      <th></th>\n",
              "      <th>children</th>\n",
              "      <th>days_employed</th>\n",
              "      <th>dob_years</th>\n",
              "      <th>education</th>\n",
              "      <th>education_id</th>\n",
              "      <th>family_status</th>\n",
              "      <th>family_status_id</th>\n",
              "      <th>gender</th>\n",
              "      <th>income_type</th>\n",
              "      <th>debt</th>\n",
              "      <th>total_income</th>\n",
              "      <th>purpose</th>\n",
              "      <th>total_income_category</th>\n",
              "      <th>purpose_category</th>\n",
              "    </tr>\n",
              "  </thead>\n",
              "  <tbody>\n",
              "    <tr>\n",
              "      <th>0</th>\n",
              "      <td>1</td>\n",
              "      <td>8437.673028</td>\n",
              "      <td>42</td>\n",
              "      <td>высшее</td>\n",
              "      <td>0</td>\n",
              "      <td>женат / замужем</td>\n",
              "      <td>0</td>\n",
              "      <td>F</td>\n",
              "      <td>сотрудник</td>\n",
              "      <td>0</td>\n",
              "      <td>253875</td>\n",
              "      <td>покупка жилья</td>\n",
              "      <td>B</td>\n",
              "      <td>операции с недвижимостью</td>\n",
              "    </tr>\n",
              "    <tr>\n",
              "      <th>1</th>\n",
              "      <td>1</td>\n",
              "      <td>4024.803754</td>\n",
              "      <td>36</td>\n",
              "      <td>среднее</td>\n",
              "      <td>1</td>\n",
              "      <td>женат / замужем</td>\n",
              "      <td>0</td>\n",
              "      <td>F</td>\n",
              "      <td>сотрудник</td>\n",
              "      <td>0</td>\n",
              "      <td>112080</td>\n",
              "      <td>приобретение автомобиля</td>\n",
              "      <td>C</td>\n",
              "      <td>операции с автомобилем</td>\n",
              "    </tr>\n",
              "    <tr>\n",
              "      <th>2</th>\n",
              "      <td>0</td>\n",
              "      <td>5623.422610</td>\n",
              "      <td>33</td>\n",
              "      <td>среднее</td>\n",
              "      <td>1</td>\n",
              "      <td>женат / замужем</td>\n",
              "      <td>0</td>\n",
              "      <td>M</td>\n",
              "      <td>сотрудник</td>\n",
              "      <td>0</td>\n",
              "      <td>145885</td>\n",
              "      <td>покупка жилья</td>\n",
              "      <td>C</td>\n",
              "      <td>операции с недвижимостью</td>\n",
              "    </tr>\n",
              "    <tr>\n",
              "      <th>3</th>\n",
              "      <td>3</td>\n",
              "      <td>4124.747207</td>\n",
              "      <td>32</td>\n",
              "      <td>среднее</td>\n",
              "      <td>1</td>\n",
              "      <td>женат / замужем</td>\n",
              "      <td>0</td>\n",
              "      <td>M</td>\n",
              "      <td>сотрудник</td>\n",
              "      <td>0</td>\n",
              "      <td>267628</td>\n",
              "      <td>дополнительное образование</td>\n",
              "      <td>B</td>\n",
              "      <td>получение образования</td>\n",
              "    </tr>\n",
              "    <tr>\n",
              "      <th>4</th>\n",
              "      <td>0</td>\n",
              "      <td>340266.072047</td>\n",
              "      <td>53</td>\n",
              "      <td>среднее</td>\n",
              "      <td>1</td>\n",
              "      <td>гражданский брак</td>\n",
              "      <td>1</td>\n",
              "      <td>F</td>\n",
              "      <td>пенсионер</td>\n",
              "      <td>0</td>\n",
              "      <td>158616</td>\n",
              "      <td>сыграть свадьбу</td>\n",
              "      <td>C</td>\n",
              "      <td>проведение свадьбы</td>\n",
              "    </tr>\n",
              "    <tr>\n",
              "      <th>5</th>\n",
              "      <td>0</td>\n",
              "      <td>926.185831</td>\n",
              "      <td>27</td>\n",
              "      <td>высшее</td>\n",
              "      <td>0</td>\n",
              "      <td>гражданский брак</td>\n",
              "      <td>1</td>\n",
              "      <td>M</td>\n",
              "      <td>компаньон</td>\n",
              "      <td>0</td>\n",
              "      <td>255763</td>\n",
              "      <td>покупка жилья</td>\n",
              "      <td>B</td>\n",
              "      <td>операции с недвижимостью</td>\n",
              "    </tr>\n",
              "    <tr>\n",
              "      <th>6</th>\n",
              "      <td>0</td>\n",
              "      <td>2879.202052</td>\n",
              "      <td>43</td>\n",
              "      <td>высшее</td>\n",
              "      <td>0</td>\n",
              "      <td>женат / замужем</td>\n",
              "      <td>0</td>\n",
              "      <td>F</td>\n",
              "      <td>компаньон</td>\n",
              "      <td>0</td>\n",
              "      <td>240525</td>\n",
              "      <td>операции с жильем</td>\n",
              "      <td>B</td>\n",
              "      <td>операции с недвижимостью</td>\n",
              "    </tr>\n",
              "    <tr>\n",
              "      <th>7</th>\n",
              "      <td>0</td>\n",
              "      <td>152.779569</td>\n",
              "      <td>50</td>\n",
              "      <td>среднее</td>\n",
              "      <td>1</td>\n",
              "      <td>женат / замужем</td>\n",
              "      <td>0</td>\n",
              "      <td>M</td>\n",
              "      <td>сотрудник</td>\n",
              "      <td>0</td>\n",
              "      <td>135823</td>\n",
              "      <td>образование</td>\n",
              "      <td>C</td>\n",
              "      <td>получение образования</td>\n",
              "    </tr>\n",
              "    <tr>\n",
              "      <th>8</th>\n",
              "      <td>2</td>\n",
              "      <td>6929.865299</td>\n",
              "      <td>35</td>\n",
              "      <td>высшее</td>\n",
              "      <td>0</td>\n",
              "      <td>гражданский брак</td>\n",
              "      <td>1</td>\n",
              "      <td>F</td>\n",
              "      <td>сотрудник</td>\n",
              "      <td>0</td>\n",
              "      <td>95856</td>\n",
              "      <td>на проведение свадьбы</td>\n",
              "      <td>C</td>\n",
              "      <td>проведение свадьбы</td>\n",
              "    </tr>\n",
              "    <tr>\n",
              "      <th>9</th>\n",
              "      <td>0</td>\n",
              "      <td>2188.756445</td>\n",
              "      <td>41</td>\n",
              "      <td>среднее</td>\n",
              "      <td>1</td>\n",
              "      <td>женат / замужем</td>\n",
              "      <td>0</td>\n",
              "      <td>M</td>\n",
              "      <td>сотрудник</td>\n",
              "      <td>0</td>\n",
              "      <td>144425</td>\n",
              "      <td>покупка жилья для семьи</td>\n",
              "      <td>C</td>\n",
              "      <td>операции с недвижимостью</td>\n",
              "    </tr>\n",
              "    <tr>\n",
              "      <th>10</th>\n",
              "      <td>2</td>\n",
              "      <td>4171.483647</td>\n",
              "      <td>36</td>\n",
              "      <td>высшее</td>\n",
              "      <td>0</td>\n",
              "      <td>женат / замужем</td>\n",
              "      <td>0</td>\n",
              "      <td>M</td>\n",
              "      <td>компаньон</td>\n",
              "      <td>0</td>\n",
              "      <td>113943</td>\n",
              "      <td>покупка недвижимости</td>\n",
              "      <td>C</td>\n",
              "      <td>операции с недвижимостью</td>\n",
              "    </tr>\n",
              "    <tr>\n",
              "      <th>11</th>\n",
              "      <td>0</td>\n",
              "      <td>792.701887</td>\n",
              "      <td>40</td>\n",
              "      <td>среднее</td>\n",
              "      <td>1</td>\n",
              "      <td>женат / замужем</td>\n",
              "      <td>0</td>\n",
              "      <td>F</td>\n",
              "      <td>сотрудник</td>\n",
              "      <td>0</td>\n",
              "      <td>77069</td>\n",
              "      <td>покупка коммерческой недвижимости</td>\n",
              "      <td>C</td>\n",
              "      <td>операции с недвижимостью</td>\n",
              "    </tr>\n",
              "    <tr>\n",
              "      <th>12</th>\n",
              "      <td>0</td>\n",
              "      <td>365286.622650</td>\n",
              "      <td>65</td>\n",
              "      <td>среднее</td>\n",
              "      <td>1</td>\n",
              "      <td>гражданский брак</td>\n",
              "      <td>1</td>\n",
              "      <td>M</td>\n",
              "      <td>пенсионер</td>\n",
              "      <td>0</td>\n",
              "      <td>118514</td>\n",
              "      <td>сыграть свадьбу</td>\n",
              "      <td>C</td>\n",
              "      <td>проведение свадьбы</td>\n",
              "    </tr>\n",
              "    <tr>\n",
              "      <th>13</th>\n",
              "      <td>0</td>\n",
              "      <td>1846.641941</td>\n",
              "      <td>54</td>\n",
              "      <td>неоконченное высшее</td>\n",
              "      <td>2</td>\n",
              "      <td>женат / замужем</td>\n",
              "      <td>0</td>\n",
              "      <td>F</td>\n",
              "      <td>сотрудник</td>\n",
              "      <td>0</td>\n",
              "      <td>130458</td>\n",
              "      <td>приобретение автомобиля</td>\n",
              "      <td>C</td>\n",
              "      <td>операции с автомобилем</td>\n",
              "    </tr>\n",
              "    <tr>\n",
              "      <th>14</th>\n",
              "      <td>0</td>\n",
              "      <td>1844.956182</td>\n",
              "      <td>56</td>\n",
              "      <td>высшее</td>\n",
              "      <td>0</td>\n",
              "      <td>гражданский брак</td>\n",
              "      <td>1</td>\n",
              "      <td>F</td>\n",
              "      <td>компаньон</td>\n",
              "      <td>1</td>\n",
              "      <td>165127</td>\n",
              "      <td>покупка жилой недвижимости</td>\n",
              "      <td>C</td>\n",
              "      <td>операции с недвижимостью</td>\n",
              "    </tr>\n",
              "    <tr>\n",
              "      <th>15</th>\n",
              "      <td>1</td>\n",
              "      <td>972.364419</td>\n",
              "      <td>26</td>\n",
              "      <td>среднее</td>\n",
              "      <td>1</td>\n",
              "      <td>женат / замужем</td>\n",
              "      <td>0</td>\n",
              "      <td>F</td>\n",
              "      <td>сотрудник</td>\n",
              "      <td>0</td>\n",
              "      <td>116820</td>\n",
              "      <td>строительство собственной недвижимости</td>\n",
              "      <td>C</td>\n",
              "      <td>операции с недвижимостью</td>\n",
              "    </tr>\n",
              "    <tr>\n",
              "      <th>16</th>\n",
              "      <td>0</td>\n",
              "      <td>1719.934226</td>\n",
              "      <td>35</td>\n",
              "      <td>среднее</td>\n",
              "      <td>1</td>\n",
              "      <td>женат / замужем</td>\n",
              "      <td>0</td>\n",
              "      <td>F</td>\n",
              "      <td>сотрудник</td>\n",
              "      <td>0</td>\n",
              "      <td>289202</td>\n",
              "      <td>недвижимость</td>\n",
              "      <td>B</td>\n",
              "      <td>операции с недвижимостью</td>\n",
              "    </tr>\n",
              "    <tr>\n",
              "      <th>17</th>\n",
              "      <td>0</td>\n",
              "      <td>2369.999720</td>\n",
              "      <td>33</td>\n",
              "      <td>высшее</td>\n",
              "      <td>0</td>\n",
              "      <td>гражданский брак</td>\n",
              "      <td>1</td>\n",
              "      <td>M</td>\n",
              "      <td>сотрудник</td>\n",
              "      <td>0</td>\n",
              "      <td>90410</td>\n",
              "      <td>строительство недвижимости</td>\n",
              "      <td>C</td>\n",
              "      <td>операции с недвижимостью</td>\n",
              "    </tr>\n",
              "    <tr>\n",
              "      <th>18</th>\n",
              "      <td>0</td>\n",
              "      <td>400281.136913</td>\n",
              "      <td>53</td>\n",
              "      <td>среднее</td>\n",
              "      <td>1</td>\n",
              "      <td>вдовец / вдова</td>\n",
              "      <td>2</td>\n",
              "      <td>F</td>\n",
              "      <td>пенсионер</td>\n",
              "      <td>0</td>\n",
              "      <td>56823</td>\n",
              "      <td>на покупку подержанного автомобиля</td>\n",
              "      <td>C</td>\n",
              "      <td>операции с автомобилем</td>\n",
              "    </tr>\n",
              "    <tr>\n",
              "      <th>19</th>\n",
              "      <td>0</td>\n",
              "      <td>10038.818549</td>\n",
              "      <td>48</td>\n",
              "      <td>среднее</td>\n",
              "      <td>1</td>\n",
              "      <td>в разводе</td>\n",
              "      <td>3</td>\n",
              "      <td>F</td>\n",
              "      <td>сотрудник</td>\n",
              "      <td>0</td>\n",
              "      <td>242831</td>\n",
              "      <td>на покупку своего автомобиля</td>\n",
              "      <td>B</td>\n",
              "      <td>операции с автомобилем</td>\n",
              "    </tr>\n",
              "    <tr>\n",
              "      <th>20</th>\n",
              "      <td>1</td>\n",
              "      <td>1311.604166</td>\n",
              "      <td>36</td>\n",
              "      <td>среднее</td>\n",
              "      <td>1</td>\n",
              "      <td>женат / замужем</td>\n",
              "      <td>0</td>\n",
              "      <td>M</td>\n",
              "      <td>сотрудник</td>\n",
              "      <td>0</td>\n",
              "      <td>209552</td>\n",
              "      <td>недвижимость</td>\n",
              "      <td>B</td>\n",
              "      <td>операции с недвижимостью</td>\n",
              "    </tr>\n",
              "    <tr>\n",
              "      <th>21</th>\n",
              "      <td>1</td>\n",
              "      <td>253.685166</td>\n",
              "      <td>33</td>\n",
              "      <td>среднее</td>\n",
              "      <td>1</td>\n",
              "      <td>гражданский брак</td>\n",
              "      <td>1</td>\n",
              "      <td>F</td>\n",
              "      <td>сотрудник</td>\n",
              "      <td>0</td>\n",
              "      <td>131812</td>\n",
              "      <td>приобретение автомобиля</td>\n",
              "      <td>C</td>\n",
              "      <td>операции с автомобилем</td>\n",
              "    </tr>\n",
              "    <tr>\n",
              "      <th>22</th>\n",
              "      <td>1</td>\n",
              "      <td>1766.644138</td>\n",
              "      <td>24</td>\n",
              "      <td>среднее</td>\n",
              "      <td>1</td>\n",
              "      <td>гражданский брак</td>\n",
              "      <td>1</td>\n",
              "      <td>F</td>\n",
              "      <td>сотрудник</td>\n",
              "      <td>0</td>\n",
              "      <td>149681</td>\n",
              "      <td>на покупку подержанного автомобиля</td>\n",
              "      <td>C</td>\n",
              "      <td>операции с автомобилем</td>\n",
              "    </tr>\n",
              "    <tr>\n",
              "      <th>23</th>\n",
              "      <td>0</td>\n",
              "      <td>272.981385</td>\n",
              "      <td>21</td>\n",
              "      <td>высшее</td>\n",
              "      <td>0</td>\n",
              "      <td>гражданский брак</td>\n",
              "      <td>1</td>\n",
              "      <td>M</td>\n",
              "      <td>сотрудник</td>\n",
              "      <td>0</td>\n",
              "      <td>128265</td>\n",
              "      <td>сыграть свадьбу</td>\n",
              "      <td>C</td>\n",
              "      <td>проведение свадьбы</td>\n",
              "    </tr>\n",
              "    <tr>\n",
              "      <th>24</th>\n",
              "      <td>1</td>\n",
              "      <td>338551.952911</td>\n",
              "      <td>57</td>\n",
              "      <td>среднее</td>\n",
              "      <td>1</td>\n",
              "      <td>Не женат / не замужем</td>\n",
              "      <td>4</td>\n",
              "      <td>F</td>\n",
              "      <td>пенсионер</td>\n",
              "      <td>0</td>\n",
              "      <td>290547</td>\n",
              "      <td>операции с коммерческой недвижимостью</td>\n",
              "      <td>B</td>\n",
              "      <td>операции с недвижимостью</td>\n",
              "    </tr>\n",
              "    <tr>\n",
              "      <th>25</th>\n",
              "      <td>0</td>\n",
              "      <td>363548.489348</td>\n",
              "      <td>67</td>\n",
              "      <td>среднее</td>\n",
              "      <td>1</td>\n",
              "      <td>женат / замужем</td>\n",
              "      <td>0</td>\n",
              "      <td>M</td>\n",
              "      <td>пенсионер</td>\n",
              "      <td>0</td>\n",
              "      <td>55112</td>\n",
              "      <td>покупка недвижимости</td>\n",
              "      <td>C</td>\n",
              "      <td>операции с недвижимостью</td>\n",
              "    </tr>\n",
              "    <tr>\n",
              "      <th>26</th>\n",
              "      <td>0</td>\n",
              "      <td>2689.137274</td>\n",
              "      <td>41</td>\n",
              "      <td>среднее</td>\n",
              "      <td>1</td>\n",
              "      <td>женат / замужем</td>\n",
              "      <td>0</td>\n",
              "      <td>M</td>\n",
              "      <td>госслужащий</td>\n",
              "      <td>0</td>\n",
              "      <td>150447</td>\n",
              "      <td>образование</td>\n",
              "      <td>C</td>\n",
              "      <td>получение образования</td>\n",
              "    </tr>\n",
              "    <tr>\n",
              "      <th>27</th>\n",
              "      <td>0</td>\n",
              "      <td>529.191635</td>\n",
              "      <td>28</td>\n",
              "      <td>высшее</td>\n",
              "      <td>0</td>\n",
              "      <td>женат / замужем</td>\n",
              "      <td>0</td>\n",
              "      <td>M</td>\n",
              "      <td>сотрудник</td>\n",
              "      <td>0</td>\n",
              "      <td>308848</td>\n",
              "      <td>строительство собственной недвижимости</td>\n",
              "      <td>B</td>\n",
              "      <td>операции с недвижимостью</td>\n",
              "    </tr>\n",
              "    <tr>\n",
              "      <th>28</th>\n",
              "      <td>1</td>\n",
              "      <td>717.274324</td>\n",
              "      <td>26</td>\n",
              "      <td>высшее</td>\n",
              "      <td>0</td>\n",
              "      <td>женат / замужем</td>\n",
              "      <td>0</td>\n",
              "      <td>F</td>\n",
              "      <td>сотрудник</td>\n",
              "      <td>0</td>\n",
              "      <td>187863</td>\n",
              "      <td>строительство собственной недвижимости</td>\n",
              "      <td>C</td>\n",
              "      <td>операции с недвижимостью</td>\n",
              "    </tr>\n",
              "    <tr>\n",
              "      <th>29</th>\n",
              "      <td>0</td>\n",
              "      <td>365286.622650</td>\n",
              "      <td>63</td>\n",
              "      <td>среднее</td>\n",
              "      <td>1</td>\n",
              "      <td>Не женат / не замужем</td>\n",
              "      <td>4</td>\n",
              "      <td>F</td>\n",
              "      <td>пенсионер</td>\n",
              "      <td>0</td>\n",
              "      <td>118514</td>\n",
              "      <td>строительство жилой недвижимости</td>\n",
              "      <td>C</td>\n",
              "      <td>операции с недвижимостью</td>\n",
              "    </tr>\n",
              "  </tbody>\n",
              "</table>\n",
              "</div>"
            ],
            "text/plain": [
              "    children  days_employed  dob_years            education  education_id  \\\n",
              "0          1    8437.673028         42               высшее             0   \n",
              "1          1    4024.803754         36              среднее             1   \n",
              "2          0    5623.422610         33              среднее             1   \n",
              "3          3    4124.747207         32              среднее             1   \n",
              "4          0  340266.072047         53              среднее             1   \n",
              "5          0     926.185831         27               высшее             0   \n",
              "6          0    2879.202052         43               высшее             0   \n",
              "7          0     152.779569         50              среднее             1   \n",
              "8          2    6929.865299         35               высшее             0   \n",
              "9          0    2188.756445         41              среднее             1   \n",
              "10         2    4171.483647         36               высшее             0   \n",
              "11         0     792.701887         40              среднее             1   \n",
              "12         0  365286.622650         65              среднее             1   \n",
              "13         0    1846.641941         54  неоконченное высшее             2   \n",
              "14         0    1844.956182         56               высшее             0   \n",
              "15         1     972.364419         26              среднее             1   \n",
              "16         0    1719.934226         35              среднее             1   \n",
              "17         0    2369.999720         33               высшее             0   \n",
              "18         0  400281.136913         53              среднее             1   \n",
              "19         0   10038.818549         48              среднее             1   \n",
              "20         1    1311.604166         36              среднее             1   \n",
              "21         1     253.685166         33              среднее             1   \n",
              "22         1    1766.644138         24              среднее             1   \n",
              "23         0     272.981385         21               высшее             0   \n",
              "24         1  338551.952911         57              среднее             1   \n",
              "25         0  363548.489348         67              среднее             1   \n",
              "26         0    2689.137274         41              среднее             1   \n",
              "27         0     529.191635         28               высшее             0   \n",
              "28         1     717.274324         26               высшее             0   \n",
              "29         0  365286.622650         63              среднее             1   \n",
              "\n",
              "            family_status  family_status_id gender  income_type  debt  \\\n",
              "0         женат / замужем                 0      F    сотрудник     0   \n",
              "1         женат / замужем                 0      F    сотрудник     0   \n",
              "2         женат / замужем                 0      M    сотрудник     0   \n",
              "3         женат / замужем                 0      M    сотрудник     0   \n",
              "4        гражданский брак                 1      F    пенсионер     0   \n",
              "5        гражданский брак                 1      M    компаньон     0   \n",
              "6         женат / замужем                 0      F    компаньон     0   \n",
              "7         женат / замужем                 0      M    сотрудник     0   \n",
              "8        гражданский брак                 1      F    сотрудник     0   \n",
              "9         женат / замужем                 0      M    сотрудник     0   \n",
              "10        женат / замужем                 0      M    компаньон     0   \n",
              "11        женат / замужем                 0      F    сотрудник     0   \n",
              "12       гражданский брак                 1      M    пенсионер     0   \n",
              "13        женат / замужем                 0      F    сотрудник     0   \n",
              "14       гражданский брак                 1      F    компаньон     1   \n",
              "15        женат / замужем                 0      F    сотрудник     0   \n",
              "16        женат / замужем                 0      F    сотрудник     0   \n",
              "17       гражданский брак                 1      M    сотрудник     0   \n",
              "18         вдовец / вдова                 2      F    пенсионер     0   \n",
              "19              в разводе                 3      F    сотрудник     0   \n",
              "20        женат / замужем                 0      M    сотрудник     0   \n",
              "21       гражданский брак                 1      F    сотрудник     0   \n",
              "22       гражданский брак                 1      F    сотрудник     0   \n",
              "23       гражданский брак                 1      M    сотрудник     0   \n",
              "24  Не женат / не замужем                 4      F    пенсионер     0   \n",
              "25        женат / замужем                 0      M    пенсионер     0   \n",
              "26        женат / замужем                 0      M  госслужащий     0   \n",
              "27        женат / замужем                 0      M    сотрудник     0   \n",
              "28        женат / замужем                 0      F    сотрудник     0   \n",
              "29  Не женат / не замужем                 4      F    пенсионер     0   \n",
              "\n",
              "    total_income                                 purpose  \\\n",
              "0         253875                           покупка жилья   \n",
              "1         112080                 приобретение автомобиля   \n",
              "2         145885                           покупка жилья   \n",
              "3         267628              дополнительное образование   \n",
              "4         158616                         сыграть свадьбу   \n",
              "5         255763                           покупка жилья   \n",
              "6         240525                       операции с жильем   \n",
              "7         135823                             образование   \n",
              "8          95856                   на проведение свадьбы   \n",
              "9         144425                 покупка жилья для семьи   \n",
              "10        113943                    покупка недвижимости   \n",
              "11         77069       покупка коммерческой недвижимости   \n",
              "12        118514                         сыграть свадьбу   \n",
              "13        130458                 приобретение автомобиля   \n",
              "14        165127              покупка жилой недвижимости   \n",
              "15        116820  строительство собственной недвижимости   \n",
              "16        289202                            недвижимость   \n",
              "17         90410              строительство недвижимости   \n",
              "18         56823      на покупку подержанного автомобиля   \n",
              "19        242831            на покупку своего автомобиля   \n",
              "20        209552                            недвижимость   \n",
              "21        131812                 приобретение автомобиля   \n",
              "22        149681      на покупку подержанного автомобиля   \n",
              "23        128265                         сыграть свадьбу   \n",
              "24        290547   операции с коммерческой недвижимостью   \n",
              "25         55112                    покупка недвижимости   \n",
              "26        150447                             образование   \n",
              "27        308848  строительство собственной недвижимости   \n",
              "28        187863  строительство собственной недвижимости   \n",
              "29        118514        строительство жилой недвижимости   \n",
              "\n",
              "   total_income_category          purpose_category  \n",
              "0                      B  операции с недвижимостью  \n",
              "1                      C    операции с автомобилем  \n",
              "2                      C  операции с недвижимостью  \n",
              "3                      B     получение образования  \n",
              "4                      C        проведение свадьбы  \n",
              "5                      B  операции с недвижимостью  \n",
              "6                      B  операции с недвижимостью  \n",
              "7                      C     получение образования  \n",
              "8                      C        проведение свадьбы  \n",
              "9                      C  операции с недвижимостью  \n",
              "10                     C  операции с недвижимостью  \n",
              "11                     C  операции с недвижимостью  \n",
              "12                     C        проведение свадьбы  \n",
              "13                     C    операции с автомобилем  \n",
              "14                     C  операции с недвижимостью  \n",
              "15                     C  операции с недвижимостью  \n",
              "16                     B  операции с недвижимостью  \n",
              "17                     C  операции с недвижимостью  \n",
              "18                     C    операции с автомобилем  \n",
              "19                     B    операции с автомобилем  \n",
              "20                     B  операции с недвижимостью  \n",
              "21                     C    операции с автомобилем  \n",
              "22                     C    операции с автомобилем  \n",
              "23                     C        проведение свадьбы  \n",
              "24                     B  операции с недвижимостью  \n",
              "25                     C  операции с недвижимостью  \n",
              "26                     C     получение образования  \n",
              "27                     B  операции с недвижимостью  \n",
              "28                     C  операции с недвижимостью  \n",
              "29                     C  операции с недвижимостью  "
            ]
          },
          "metadata": {},
          "output_type": "display_data"
        }
      ],
      "source": [
        "data['purpose_category'] = data['purpose'].apply(categorize_purpose)\n",
        "display(data.head(30))"
      ]
    },
    {
      "cell_type": "markdown",
      "id": "19baedfc",
      "metadata": {
        "id": "19baedfc"
      },
      "source": [
        "**Выводы**"
      ]
    },
    {
      "cell_type": "markdown",
      "id": "46d51278",
      "metadata": {
        "id": "46d51278"
      },
      "source": [
        "Предобработка обнаружила четыре проблемы:"
      ]
    },
    {
      "cell_type": "markdown",
      "id": "8fd1e49e",
      "metadata": {
        "id": "8fd1e49e"
      },
      "source": [
        "* Явные и неявные дубликаты.\n",
        "* Наличие пропуском.\n",
        "* Аномальные значения.\n",
        "* Несоответствие типов данных.\n",
        "\n",
        "Явные дубликаты были удаленны, неявные исправлены. Пропуски заполнены медианным значениями. Аномальные значения, которые могли исказить проверку гипотез были удаленны. Несоответстветствующие типы данных приведенны к необходимым"
      ]
    },
    {
      "cell_type": "markdown",
      "id": "53f440fc",
      "metadata": {
        "deletable": false,
        "editable": false,
        "id": "53f440fc"
      },
      "source": [
        "### Шаг 3. Исследуйте данные и ответьте на вопросы"
      ]
    },
    {
      "cell_type": "markdown",
      "id": "bc4bb261",
      "metadata": {
        "deletable": false,
        "editable": false,
        "id": "bc4bb261"
      },
      "source": [
        "#### 3.1 Есть ли зависимость между количеством детей и возвратом кредита в срок?"
      ]
    },
    {
      "cell_type": "markdown",
      "id": "0f9953f7",
      "metadata": {
        "id": "0f9953f7"
      },
      "source": [
        "Создаем сводную таблицу по количеству детей. В ней отразим количество детей столбец `children`, количество людей которые не вернули кредит в срок `sum_debt`, общее количество заёмщиков `count_debt`, доля заёмщиков во время не вернувших кредит отображается в столбце `mean_debt`.\n",
        "Для более корректного отображения и удобной работы с таблицой были удаленны мультииндексы."
      ]
    },
    {
      "cell_type": "code",
      "execution_count": null,
      "id": "73032cc2",
      "metadata": {
        "id": "73032cc2",
        "outputId": "cffb6f2e-3e7e-4553-c8fd-1ac60bb49fa1"
      },
      "outputs": [
        {
          "data": {
            "text/html": [
              "<div>\n",
              "<style scoped>\n",
              "    .dataframe tbody tr th:only-of-type {\n",
              "        vertical-align: middle;\n",
              "    }\n",
              "\n",
              "    .dataframe tbody tr th {\n",
              "        vertical-align: top;\n",
              "    }\n",
              "\n",
              "    .dataframe thead th {\n",
              "        text-align: right;\n",
              "    }\n",
              "</style>\n",
              "<table border=\"1\" class=\"dataframe\">\n",
              "  <thead>\n",
              "    <tr style=\"text-align: right;\">\n",
              "      <th></th>\n",
              "      <th>children_</th>\n",
              "      <th>sum_debt</th>\n",
              "      <th>count_debt</th>\n",
              "      <th>mean_debt</th>\n",
              "    </tr>\n",
              "  </thead>\n",
              "  <tbody>\n",
              "    <tr>\n",
              "      <th>0</th>\n",
              "      <td>0</td>\n",
              "      <td>1063</td>\n",
              "      <td>14091</td>\n",
              "      <td>0.075438</td>\n",
              "    </tr>\n",
              "    <tr>\n",
              "      <th>1</th>\n",
              "      <td>1</td>\n",
              "      <td>444</td>\n",
              "      <td>4808</td>\n",
              "      <td>0.092346</td>\n",
              "    </tr>\n",
              "    <tr>\n",
              "      <th>2</th>\n",
              "      <td>2</td>\n",
              "      <td>194</td>\n",
              "      <td>2052</td>\n",
              "      <td>0.094542</td>\n",
              "    </tr>\n",
              "    <tr>\n",
              "      <th>3</th>\n",
              "      <td>3</td>\n",
              "      <td>27</td>\n",
              "      <td>330</td>\n",
              "      <td>0.081818</td>\n",
              "    </tr>\n",
              "    <tr>\n",
              "      <th>4</th>\n",
              "      <td>4</td>\n",
              "      <td>4</td>\n",
              "      <td>41</td>\n",
              "      <td>0.097561</td>\n",
              "    </tr>\n",
              "    <tr>\n",
              "      <th>5</th>\n",
              "      <td>5</td>\n",
              "      <td>0</td>\n",
              "      <td>9</td>\n",
              "      <td>0.000000</td>\n",
              "    </tr>\n",
              "  </tbody>\n",
              "</table>\n",
              "</div>"
            ],
            "text/plain": [
              "   children_  sum_debt  count_debt  mean_debt\n",
              "0          0      1063       14091   0.075438\n",
              "1          1       444        4808   0.092346\n",
              "2          2       194        2052   0.094542\n",
              "3          3        27         330   0.081818\n",
              "4          4         4          41   0.097561\n",
              "5          5         0           9   0.000000"
            ]
          },
          "metadata": {},
          "output_type": "display_data"
        }
      ],
      "source": [
        "data_pivot = data.pivot_table(index=['children'],values=['debt'],aggfunc=['sum','count','mean'])\n",
        "data_pivot = data_pivot.reset_index()\n",
        "data_pivot.columns = ['_'.join(col).strip() for col in data_pivot.columns.values]\n",
        "\n",
        "display(data_pivot)"
      ]
    },
    {
      "cell_type": "markdown",
      "id": "dabed504",
      "metadata": {
        "id": "dabed504"
      },
      "source": [
        "В дальнейшем столбцы таблицы были переименованны. Произведенны вычисления:\n",
        "* Количество заёмщиков вернувших в срок кредит, столбец `sum_return_debt`\n",
        "* Доли не вернувших в срок кредит переведенны в проценты, столбец `debt_%`\n",
        "* Найден процент заёмщиков вернувших в срок кредит, столбец `return_debt_%`\n",
        "\n",
        "Так же стобцы были выстроенны в опредлённом порядке и отсортированны по убыванию процента возврата кредита."
      ]
    },
    {
      "cell_type": "code",
      "execution_count": null,
      "id": "1051e993",
      "metadata": {
        "deletable": false,
        "id": "1051e993",
        "outputId": "cb840185-8ea2-4bf2-dff5-719b8288e594"
      },
      "outputs": [
        {
          "data": {
            "text/html": [
              "<div>\n",
              "<style scoped>\n",
              "    .dataframe tbody tr th:only-of-type {\n",
              "        vertical-align: middle;\n",
              "    }\n",
              "\n",
              "    .dataframe tbody tr th {\n",
              "        vertical-align: top;\n",
              "    }\n",
              "\n",
              "    .dataframe thead th {\n",
              "        text-align: right;\n",
              "    }\n",
              "</style>\n",
              "<table border=\"1\" class=\"dataframe\">\n",
              "  <thead>\n",
              "    <tr style=\"text-align: right;\">\n",
              "      <th></th>\n",
              "      <th>children</th>\n",
              "      <th>sum_debt</th>\n",
              "      <th>sum_return_debt</th>\n",
              "      <th>count_debt</th>\n",
              "      <th>debt_%</th>\n",
              "      <th>return_debt_%</th>\n",
              "    </tr>\n",
              "  </thead>\n",
              "  <tbody>\n",
              "    <tr>\n",
              "      <th>5</th>\n",
              "      <td>5</td>\n",
              "      <td>0</td>\n",
              "      <td>9</td>\n",
              "      <td>9</td>\n",
              "      <td>0.000000</td>\n",
              "      <td>100.000000</td>\n",
              "    </tr>\n",
              "    <tr>\n",
              "      <th>0</th>\n",
              "      <td>0</td>\n",
              "      <td>1063</td>\n",
              "      <td>13028</td>\n",
              "      <td>14091</td>\n",
              "      <td>7.543822</td>\n",
              "      <td>92.456178</td>\n",
              "    </tr>\n",
              "    <tr>\n",
              "      <th>3</th>\n",
              "      <td>3</td>\n",
              "      <td>27</td>\n",
              "      <td>303</td>\n",
              "      <td>330</td>\n",
              "      <td>8.181818</td>\n",
              "      <td>91.818182</td>\n",
              "    </tr>\n",
              "    <tr>\n",
              "      <th>1</th>\n",
              "      <td>1</td>\n",
              "      <td>444</td>\n",
              "      <td>4364</td>\n",
              "      <td>4808</td>\n",
              "      <td>9.234609</td>\n",
              "      <td>90.765391</td>\n",
              "    </tr>\n",
              "    <tr>\n",
              "      <th>2</th>\n",
              "      <td>2</td>\n",
              "      <td>194</td>\n",
              "      <td>1858</td>\n",
              "      <td>2052</td>\n",
              "      <td>9.454191</td>\n",
              "      <td>90.545809</td>\n",
              "    </tr>\n",
              "    <tr>\n",
              "      <th>4</th>\n",
              "      <td>4</td>\n",
              "      <td>4</td>\n",
              "      <td>37</td>\n",
              "      <td>41</td>\n",
              "      <td>9.756098</td>\n",
              "      <td>90.243902</td>\n",
              "    </tr>\n",
              "  </tbody>\n",
              "</table>\n",
              "</div>"
            ],
            "text/plain": [
              "   children  sum_debt  sum_return_debt  count_debt    debt_%  return_debt_%\n",
              "5         5         0                9           9  0.000000     100.000000\n",
              "0         0      1063            13028       14091  7.543822      92.456178\n",
              "3         3        27              303         330  8.181818      91.818182\n",
              "1         1       444             4364        4808  9.234609      90.765391\n",
              "2         2       194             1858        2052  9.454191      90.545809\n",
              "4         4         4               37          41  9.756098      90.243902"
            ]
          },
          "metadata": {},
          "output_type": "display_data"
        }
      ],
      "source": [
        "# Ваш код будет здесь. Вы можете создавать новые ячейки.\n",
        "data_pivot = data_pivot.rename(columns = {'children_' : 'children','mean_debt':'debt_%',})\n",
        "data_pivot['sum_return_debt'] = data_pivot['count_debt'] - data_pivot['sum_debt']\n",
        "data_pivot['debt_%'] = data_pivot['debt_%']*100\n",
        "data_pivot['return_debt_%'] = 100 - data_pivot['debt_%']\n",
        "data_pivot = data_pivot.reindex(columns=['children', 'sum_debt', 'sum_return_debt','count_debt','debt_%','return_debt_%'])\n",
        "display(data_pivot.sort_values(by='return_debt_%',ascending=False))"
      ]
    },
    {
      "cell_type": "markdown",
      "id": "f4b591ba",
      "metadata": {
        "deletable": false,
        "id": "f4b591ba"
      },
      "source": [
        "**Вывод:**"
      ]
    },
    {
      "cell_type": "markdown",
      "id": "1c02918b",
      "metadata": {
        "id": "1c02918b"
      },
      "source": [
        "Гипотеза подвердилась:\n",
        "* Люди без детей чаще возвращают кредит в срок\n",
        "* Люди с 5 детьми всегда возвращают кредит в срок, но их количество слишком мало (9 человек), чтобы подтвердить гипотезу"
      ]
    },
    {
      "cell_type": "markdown",
      "id": "0c6b42f6",
      "metadata": {
        "deletable": false,
        "editable": false,
        "id": "0c6b42f6"
      },
      "source": [
        "#### 3.2 Есть ли зависимость между семейным положением и возвратом кредита в срок?"
      ]
    },
    {
      "cell_type": "markdown",
      "id": "c3efe5be",
      "metadata": {
        "id": "c3efe5be"
      },
      "source": [
        "Создаем группировку по семейному статусу и присоединяем к нему количество заёмщиков не вернувших кредит в срок `sum`, общее количество взявших кредит `count`, и долю не вернуших `mean`"
      ]
    },
    {
      "cell_type": "code",
      "execution_count": null,
      "id": "511a9599",
      "metadata": {
        "id": "511a9599",
        "outputId": "08e90fae-377d-4085-9458-280685ad1d8f"
      },
      "outputs": [
        {
          "data": {
            "text/html": [
              "<div>\n",
              "<style scoped>\n",
              "    .dataframe tbody tr th:only-of-type {\n",
              "        vertical-align: middle;\n",
              "    }\n",
              "\n",
              "    .dataframe tbody tr th {\n",
              "        vertical-align: top;\n",
              "    }\n",
              "\n",
              "    .dataframe thead th {\n",
              "        text-align: right;\n",
              "    }\n",
              "</style>\n",
              "<table border=\"1\" class=\"dataframe\">\n",
              "  <thead>\n",
              "    <tr style=\"text-align: right;\">\n",
              "      <th></th>\n",
              "      <th>family_status</th>\n",
              "      <th>sum</th>\n",
              "      <th>count</th>\n",
              "      <th>mean</th>\n",
              "    </tr>\n",
              "  </thead>\n",
              "  <tbody>\n",
              "    <tr>\n",
              "      <th>0</th>\n",
              "      <td>Не женат / не замужем</td>\n",
              "      <td>273</td>\n",
              "      <td>2796</td>\n",
              "      <td>0.097639</td>\n",
              "    </tr>\n",
              "    <tr>\n",
              "      <th>1</th>\n",
              "      <td>в разводе</td>\n",
              "      <td>84</td>\n",
              "      <td>1189</td>\n",
              "      <td>0.070648</td>\n",
              "    </tr>\n",
              "    <tr>\n",
              "      <th>2</th>\n",
              "      <td>вдовец / вдова</td>\n",
              "      <td>63</td>\n",
              "      <td>951</td>\n",
              "      <td>0.066246</td>\n",
              "    </tr>\n",
              "    <tr>\n",
              "      <th>3</th>\n",
              "      <td>гражданский брак</td>\n",
              "      <td>385</td>\n",
              "      <td>4134</td>\n",
              "      <td>0.093130</td>\n",
              "    </tr>\n",
              "    <tr>\n",
              "      <th>4</th>\n",
              "      <td>женат / замужем</td>\n",
              "      <td>927</td>\n",
              "      <td>12261</td>\n",
              "      <td>0.075606</td>\n",
              "    </tr>\n",
              "  </tbody>\n",
              "</table>\n",
              "</div>"
            ],
            "text/plain": [
              "           family_status  sum  count      mean\n",
              "0  Не женат / не замужем  273   2796  0.097639\n",
              "1              в разводе   84   1189  0.070648\n",
              "2         вдовец / вдова   63    951  0.066246\n",
              "3       гражданский брак  385   4134  0.093130\n",
              "4        женат / замужем  927  12261  0.075606"
            ]
          },
          "metadata": {},
          "output_type": "display_data"
        }
      ],
      "source": [
        "data_family = data.groupby('family_status')['debt'].agg(['sum','count','mean']).reset_index()\n",
        "\n",
        "display(data_family)"
      ]
    },
    {
      "cell_type": "markdown",
      "id": "872ba74d",
      "metadata": {
        "id": "872ba74d"
      },
      "source": [
        "В дальнейшем мы переименовываем столбцы и производим вычисления:\n",
        "* Количество заёмщиков не вернувших в срок кредит, столбец `sum_debt`\n",
        "* Количество заёмщиков вернувших в срок кредит, столбец `sum_return_debt`\n",
        "* Общее количество заёмщиков, столбец `count_debt`\n",
        "* Доли не вернувших в срок кредит переведенны в проценты, столбец `debt_%`\n",
        "* Найден процент заёмщиков вернувших в срок кредит, столбец `return_debt_%`\n",
        "\n",
        "Так же стобцы были выстроенны в опредлённом порядке и отсортированны по убыванию процента возврата кредита."
      ]
    },
    {
      "cell_type": "code",
      "execution_count": null,
      "id": "a6741269",
      "metadata": {
        "deletable": false,
        "id": "a6741269",
        "outputId": "28cd2cb7-3e83-498f-c2d3-99141deafbdd"
      },
      "outputs": [
        {
          "data": {
            "text/html": [
              "<div>\n",
              "<style scoped>\n",
              "    .dataframe tbody tr th:only-of-type {\n",
              "        vertical-align: middle;\n",
              "    }\n",
              "\n",
              "    .dataframe tbody tr th {\n",
              "        vertical-align: top;\n",
              "    }\n",
              "\n",
              "    .dataframe thead th {\n",
              "        text-align: right;\n",
              "    }\n",
              "</style>\n",
              "<table border=\"1\" class=\"dataframe\">\n",
              "  <thead>\n",
              "    <tr style=\"text-align: right;\">\n",
              "      <th></th>\n",
              "      <th>family_status</th>\n",
              "      <th>sum_debt</th>\n",
              "      <th>sum_return_debt</th>\n",
              "      <th>count_debt</th>\n",
              "      <th>debt_%</th>\n",
              "      <th>return_debt_%</th>\n",
              "    </tr>\n",
              "  </thead>\n",
              "  <tbody>\n",
              "    <tr>\n",
              "      <th>2</th>\n",
              "      <td>вдовец / вдова</td>\n",
              "      <td>63</td>\n",
              "      <td>888</td>\n",
              "      <td>951</td>\n",
              "      <td>6.624606</td>\n",
              "      <td>93.375394</td>\n",
              "    </tr>\n",
              "    <tr>\n",
              "      <th>1</th>\n",
              "      <td>в разводе</td>\n",
              "      <td>84</td>\n",
              "      <td>1105</td>\n",
              "      <td>1189</td>\n",
              "      <td>7.064760</td>\n",
              "      <td>92.935240</td>\n",
              "    </tr>\n",
              "    <tr>\n",
              "      <th>4</th>\n",
              "      <td>женат / замужем</td>\n",
              "      <td>927</td>\n",
              "      <td>11334</td>\n",
              "      <td>12261</td>\n",
              "      <td>7.560558</td>\n",
              "      <td>92.439442</td>\n",
              "    </tr>\n",
              "    <tr>\n",
              "      <th>3</th>\n",
              "      <td>гражданский брак</td>\n",
              "      <td>385</td>\n",
              "      <td>3749</td>\n",
              "      <td>4134</td>\n",
              "      <td>9.313014</td>\n",
              "      <td>90.686986</td>\n",
              "    </tr>\n",
              "    <tr>\n",
              "      <th>0</th>\n",
              "      <td>Не женат / не замужем</td>\n",
              "      <td>273</td>\n",
              "      <td>2523</td>\n",
              "      <td>2796</td>\n",
              "      <td>9.763948</td>\n",
              "      <td>90.236052</td>\n",
              "    </tr>\n",
              "  </tbody>\n",
              "</table>\n",
              "</div>"
            ],
            "text/plain": [
              "           family_status  sum_debt  sum_return_debt  count_debt    debt_%  \\\n",
              "2         вдовец / вдова        63              888         951  6.624606   \n",
              "1              в разводе        84             1105        1189  7.064760   \n",
              "4        женат / замужем       927            11334       12261  7.560558   \n",
              "3       гражданский брак       385             3749        4134  9.313014   \n",
              "0  Не женат / не замужем       273             2523        2796  9.763948   \n",
              "\n",
              "   return_debt_%  \n",
              "2      93.375394  \n",
              "1      92.935240  \n",
              "4      92.439442  \n",
              "3      90.686986  \n",
              "0      90.236052  "
            ]
          },
          "metadata": {},
          "output_type": "display_data"
        }
      ],
      "source": [
        "# Ваш код будет здесь. Вы можете создавать новые ячейки.\n",
        "\n",
        "data_family = data_family.rename(columns = {'mean':'debt_%', 'sum': 'sum_debt', 'count': 'count_debt'})\n",
        "data_family['sum_return_debt'] = data_family['count_debt'] - data_family['sum_debt']\n",
        "data_family['debt_%'] = data_family['debt_%']*100\n",
        "data_family['return_debt_%'] = 100 - data_family['debt_%']\n",
        "data_family = data_family.reindex(columns=['family_status', 'sum_debt', 'sum_return_debt','count_debt','debt_%','return_debt_%'])\n",
        "display(data_family.sort_values(by='return_debt_%',ascending=False))"
      ]
    },
    {
      "cell_type": "markdown",
      "id": "4fdce306",
      "metadata": {
        "deletable": false,
        "id": "4fdce306"
      },
      "source": [
        "**Вывод:**"
      ]
    },
    {
      "cell_type": "markdown",
      "id": "1b975438",
      "metadata": {
        "id": "1b975438"
      },
      "source": [
        "Гипотеза подвердилась:\n",
        "* Вдовцы / вдовы и в разводе чаще возвращаю кредит в срок, но они реже других берут кредиты\n",
        "* Категория женат / замужем чаще других берут кредиты, и находятся на третье позиции по возврату кредита в срок"
      ]
    },
    {
      "cell_type": "markdown",
      "id": "141a7b7a",
      "metadata": {
        "deletable": false,
        "editable": false,
        "id": "141a7b7a"
      },
      "source": [
        "#### 3.3 Есть ли зависимость между уровнем дохода и возвратом кредита в срок?"
      ]
    },
    {
      "cell_type": "markdown",
      "id": "0c33a009",
      "metadata": {
        "id": "0c33a009"
      },
      "source": [
        "Создаем группировку по категориям уровня дохода и присоединяем к нему количество заёмщиков не вернувших кредит в срок `sum`, общее количество взявших кредит `count`, и долю не вернуших `mean`\n",
        "\n",
        "Переименовываем столбцы и производим вычисления:\n",
        "* Количество заёмщиков не вернувших в срок кредит, столбец `sum_debt`\n",
        "* Количество заёмщиков вернувших в срок кредит, столбец `sum_return_debt`\n",
        "* Общее количество заёмщиков, столбец `count_debt`\n",
        "* Доли не вернувших в срок кредит переведенны в проценты, столбец `debt_%`\n",
        "* Найден процент заёмщиков вернувших в срок кредит, столбец `return_debt_%`"
      ]
    },
    {
      "cell_type": "code",
      "execution_count": null,
      "id": "3b01bebf",
      "metadata": {
        "id": "3b01bebf",
        "outputId": "d9980516-782b-45ab-95f8-a85880d39c7f"
      },
      "outputs": [
        {
          "data": {
            "text/html": [
              "<div>\n",
              "<style scoped>\n",
              "    .dataframe tbody tr th:only-of-type {\n",
              "        vertical-align: middle;\n",
              "    }\n",
              "\n",
              "    .dataframe tbody tr th {\n",
              "        vertical-align: top;\n",
              "    }\n",
              "\n",
              "    .dataframe thead th {\n",
              "        text-align: right;\n",
              "    }\n",
              "</style>\n",
              "<table border=\"1\" class=\"dataframe\">\n",
              "  <thead>\n",
              "    <tr style=\"text-align: right;\">\n",
              "      <th></th>\n",
              "      <th>total_income_category</th>\n",
              "      <th>sum_debt</th>\n",
              "      <th>count_debt</th>\n",
              "      <th>debt_%</th>\n",
              "      <th>sum_return_debt</th>\n",
              "      <th>return_debt_%</th>\n",
              "    </tr>\n",
              "  </thead>\n",
              "  <tbody>\n",
              "    <tr>\n",
              "      <th>0</th>\n",
              "      <td>A</td>\n",
              "      <td>2</td>\n",
              "      <td>25</td>\n",
              "      <td>8.000000</td>\n",
              "      <td>23</td>\n",
              "      <td>92.000000</td>\n",
              "    </tr>\n",
              "    <tr>\n",
              "      <th>1</th>\n",
              "      <td>B</td>\n",
              "      <td>354</td>\n",
              "      <td>5014</td>\n",
              "      <td>7.060231</td>\n",
              "      <td>4660</td>\n",
              "      <td>92.939769</td>\n",
              "    </tr>\n",
              "    <tr>\n",
              "      <th>2</th>\n",
              "      <td>C</td>\n",
              "      <td>1353</td>\n",
              "      <td>15921</td>\n",
              "      <td>8.498210</td>\n",
              "      <td>14568</td>\n",
              "      <td>91.501790</td>\n",
              "    </tr>\n",
              "    <tr>\n",
              "      <th>3</th>\n",
              "      <td>D</td>\n",
              "      <td>21</td>\n",
              "      <td>349</td>\n",
              "      <td>6.017192</td>\n",
              "      <td>328</td>\n",
              "      <td>93.982808</td>\n",
              "    </tr>\n",
              "    <tr>\n",
              "      <th>4</th>\n",
              "      <td>E</td>\n",
              "      <td>2</td>\n",
              "      <td>22</td>\n",
              "      <td>9.090909</td>\n",
              "      <td>20</td>\n",
              "      <td>90.909091</td>\n",
              "    </tr>\n",
              "  </tbody>\n",
              "</table>\n",
              "</div>"
            ],
            "text/plain": [
              "  total_income_category  sum_debt  count_debt    debt_%  sum_return_debt  \\\n",
              "0                     A         2          25  8.000000               23   \n",
              "1                     B       354        5014  7.060231             4660   \n",
              "2                     C      1353       15921  8.498210            14568   \n",
              "3                     D        21         349  6.017192              328   \n",
              "4                     E         2          22  9.090909               20   \n",
              "\n",
              "   return_debt_%  \n",
              "0      92.000000  \n",
              "1      92.939769  \n",
              "2      91.501790  \n",
              "3      93.982808  \n",
              "4      90.909091  "
            ]
          },
          "metadata": {},
          "output_type": "display_data"
        }
      ],
      "source": [
        "data_income = data.groupby('total_income_category')['debt'].agg(['sum','count','mean']).reset_index()\n",
        "data_income = data_income.rename(columns = {'mean':'debt_%', 'sum': 'sum_debt', 'count': 'count_debt'})\n",
        "data_income['sum_return_debt'] = data_income['count_debt'] - data_income['sum_debt']\n",
        "data_income['debt_%'] = data_income['debt_%']*100\n",
        "data_income['return_debt_%'] = 100 - data_income['debt_%']\n",
        "display(data_income)"
      ]
    },
    {
      "cell_type": "markdown",
      "id": "7194e53b",
      "metadata": {
        "id": "7194e53b"
      },
      "source": [
        "Из получившегося результата не ясно к какому диапозону дохода относиться каждая категория, создадим функцию, которая к каждой категории подставит диапозон доходов заёмщиков."
      ]
    },
    {
      "cell_type": "code",
      "execution_count": null,
      "id": "e1c72844",
      "metadata": {
        "deletable": false,
        "id": "e1c72844"
      },
      "outputs": [],
      "source": [
        "# Ваш код будет здесь. Вы можете создавать новые ячейки.\n",
        "\n",
        "def range_of_categories(category):\n",
        "    try:\n",
        "        if category == 'E':\n",
        "            return '(0;30000]'\n",
        "        elif category == 'D':\n",
        "            return '[30001;50000]'\n",
        "        elif category == 'C':\n",
        "            return '[50001;200000]'\n",
        "        elif category == 'B':\n",
        "            return '[200001;1000000]'\n",
        "        elif category == 'A':\n",
        "            return '[1000001;∞]'\n",
        "    except:\n",
        "        pass"
      ]
    },
    {
      "cell_type": "markdown",
      "id": "dbc6b3a1",
      "metadata": {
        "id": "dbc6b3a1"
      },
      "source": [
        "Дальше создадим столбец `range_of_categories` и подставим к каждой категории её диапозон, через ранее созданную функцию.\n",
        "Переставим столбцы в необходимом для понимания порядке и отсортируем таблицу по убыванию количества заёмщиков."
      ]
    },
    {
      "cell_type": "code",
      "execution_count": null,
      "id": "9b07287d",
      "metadata": {
        "id": "9b07287d",
        "outputId": "4b4d61d6-561c-454a-f9af-bcdee0e62e54"
      },
      "outputs": [
        {
          "data": {
            "text/html": [
              "<div>\n",
              "<style scoped>\n",
              "    .dataframe tbody tr th:only-of-type {\n",
              "        vertical-align: middle;\n",
              "    }\n",
              "\n",
              "    .dataframe tbody tr th {\n",
              "        vertical-align: top;\n",
              "    }\n",
              "\n",
              "    .dataframe thead th {\n",
              "        text-align: right;\n",
              "    }\n",
              "</style>\n",
              "<table border=\"1\" class=\"dataframe\">\n",
              "  <thead>\n",
              "    <tr style=\"text-align: right;\">\n",
              "      <th></th>\n",
              "      <th>total_income_category</th>\n",
              "      <th>range_of_categories</th>\n",
              "      <th>sum_debt</th>\n",
              "      <th>sum_return_debt</th>\n",
              "      <th>count_debt</th>\n",
              "      <th>debt_%</th>\n",
              "      <th>return_debt_%</th>\n",
              "    </tr>\n",
              "  </thead>\n",
              "  <tbody>\n",
              "    <tr>\n",
              "      <th>2</th>\n",
              "      <td>C</td>\n",
              "      <td>[50001;200000]</td>\n",
              "      <td>1353</td>\n",
              "      <td>14568</td>\n",
              "      <td>15921</td>\n",
              "      <td>8.498210</td>\n",
              "      <td>91.501790</td>\n",
              "    </tr>\n",
              "    <tr>\n",
              "      <th>1</th>\n",
              "      <td>B</td>\n",
              "      <td>[200001;1000000]</td>\n",
              "      <td>354</td>\n",
              "      <td>4660</td>\n",
              "      <td>5014</td>\n",
              "      <td>7.060231</td>\n",
              "      <td>92.939769</td>\n",
              "    </tr>\n",
              "    <tr>\n",
              "      <th>3</th>\n",
              "      <td>D</td>\n",
              "      <td>[30001;50000]</td>\n",
              "      <td>21</td>\n",
              "      <td>328</td>\n",
              "      <td>349</td>\n",
              "      <td>6.017192</td>\n",
              "      <td>93.982808</td>\n",
              "    </tr>\n",
              "    <tr>\n",
              "      <th>0</th>\n",
              "      <td>A</td>\n",
              "      <td>[1000001;∞]</td>\n",
              "      <td>2</td>\n",
              "      <td>23</td>\n",
              "      <td>25</td>\n",
              "      <td>8.000000</td>\n",
              "      <td>92.000000</td>\n",
              "    </tr>\n",
              "    <tr>\n",
              "      <th>4</th>\n",
              "      <td>E</td>\n",
              "      <td>(0;30000]</td>\n",
              "      <td>2</td>\n",
              "      <td>20</td>\n",
              "      <td>22</td>\n",
              "      <td>9.090909</td>\n",
              "      <td>90.909091</td>\n",
              "    </tr>\n",
              "  </tbody>\n",
              "</table>\n",
              "</div>"
            ],
            "text/plain": [
              "  total_income_category range_of_categories  sum_debt  sum_return_debt  \\\n",
              "2                     C      [50001;200000]      1353            14568   \n",
              "1                     B    [200001;1000000]       354             4660   \n",
              "3                     D       [30001;50000]        21              328   \n",
              "0                     A         [1000001;∞]         2               23   \n",
              "4                     E           (0;30000]         2               20   \n",
              "\n",
              "   count_debt    debt_%  return_debt_%  \n",
              "2       15921  8.498210      91.501790  \n",
              "1        5014  7.060231      92.939769  \n",
              "3         349  6.017192      93.982808  \n",
              "0          25  8.000000      92.000000  \n",
              "4          22  9.090909      90.909091  "
            ]
          },
          "metadata": {},
          "output_type": "display_data"
        }
      ],
      "source": [
        "data_income['range_of_categories'] = data_income.apply(lambda x: range_of_categories(x.total_income_category), axis=1)\n",
        "data_income = data_income.reindex(columns=['total_income_category','range_of_categories', 'sum_debt', 'sum_return_debt','count_debt','debt_%','return_debt_%'])\n",
        "display(data_income.sort_values(by='count_debt',ascending=False))"
      ]
    },
    {
      "cell_type": "markdown",
      "id": "79c98488",
      "metadata": {
        "deletable": false,
        "id": "79c98488"
      },
      "source": [
        "**Вывод:**"
      ]
    },
    {
      "cell_type": "markdown",
      "id": "1f2d1b03",
      "metadata": {
        "id": "1f2d1b03"
      },
      "source": [
        "Гипотеза подвердилась:\n",
        "* Люди с доходом 50001-200000 чаще других берут кредиты, но на предпоследнем месте по возврату кредита в срок\n",
        "* Категория с доходом 200001-1000000 на втором месте по количеству взятых кредитов, и так же на втором месте по их возврату в срок\n",
        "* Так же было выявленно, что в основном кредит берут люди из двух категорий доходов от 50001 до 200000 и 200001 до 1000000"
      ]
    },
    {
      "cell_type": "markdown",
      "id": "c003bb9c",
      "metadata": {
        "deletable": false,
        "editable": false,
        "id": "c003bb9c"
      },
      "source": [
        "#### 3.4 Как разные цели кредита влияют на его возврат в срок?"
      ]
    },
    {
      "cell_type": "markdown",
      "id": "e0bc0940",
      "metadata": {
        "id": "e0bc0940"
      },
      "source": [
        "Создаем группировку по целям кредита и присоединяем к нему количество заёмщиков не вернувших кредит в срок `sum`, общее количество взявших кредит `count`, и долю не вернуших `mean`"
      ]
    },
    {
      "cell_type": "code",
      "execution_count": null,
      "id": "b40ae2d5",
      "metadata": {
        "id": "b40ae2d5"
      },
      "outputs": [],
      "source": [
        "data_purpose = data.groupby('purpose_category')['debt'].agg(['sum','count','mean']).reset_index()"
      ]
    },
    {
      "cell_type": "markdown",
      "id": "25c4523b",
      "metadata": {
        "id": "25c4523b"
      },
      "source": [
        "Переименовываем столбцы и производим вычисления:\n",
        "* Количество заёмщиков не вернувших в срок кредит, столбец `sum_debt`\n",
        "* Количество заёмщиков вернувших в срок кредит, столбец `sum_return_debt`\n",
        "* Общее количество заёмщиков, столбец `count_debt`\n",
        "* Доли не вернувших в срок кредит переведенны в проценты, столбец `debt_%`\n",
        "* Найден процент заёмщиков вернувших в срок кредит, столбец `return_debt_%`\n",
        "\n",
        "Переставляем столбцы в необходимом порядке и сортируем по убыванию возврата кредита в процентах."
      ]
    },
    {
      "cell_type": "code",
      "execution_count": null,
      "id": "11f34fd4",
      "metadata": {
        "deletable": false,
        "id": "11f34fd4",
        "scrolled": true,
        "outputId": "2639750b-5584-4726-cf41-adf1330156c2"
      },
      "outputs": [
        {
          "data": {
            "text/html": [
              "<div>\n",
              "<style scoped>\n",
              "    .dataframe tbody tr th:only-of-type {\n",
              "        vertical-align: middle;\n",
              "    }\n",
              "\n",
              "    .dataframe tbody tr th {\n",
              "        vertical-align: top;\n",
              "    }\n",
              "\n",
              "    .dataframe thead th {\n",
              "        text-align: right;\n",
              "    }\n",
              "</style>\n",
              "<table border=\"1\" class=\"dataframe\">\n",
              "  <thead>\n",
              "    <tr style=\"text-align: right;\">\n",
              "      <th></th>\n",
              "      <th>purpose_category</th>\n",
              "      <th>sum_debt</th>\n",
              "      <th>sum_return_debt</th>\n",
              "      <th>count_debt</th>\n",
              "      <th>debt_%</th>\n",
              "      <th>return_debt_%</th>\n",
              "    </tr>\n",
              "  </thead>\n",
              "  <tbody>\n",
              "    <tr>\n",
              "      <th>1</th>\n",
              "      <td>операции с недвижимостью</td>\n",
              "      <td>780</td>\n",
              "      <td>9971</td>\n",
              "      <td>10751</td>\n",
              "      <td>7.255139</td>\n",
              "      <td>92.744861</td>\n",
              "    </tr>\n",
              "    <tr>\n",
              "      <th>3</th>\n",
              "      <td>проведение свадьбы</td>\n",
              "      <td>183</td>\n",
              "      <td>2130</td>\n",
              "      <td>2313</td>\n",
              "      <td>7.911803</td>\n",
              "      <td>92.088197</td>\n",
              "    </tr>\n",
              "    <tr>\n",
              "      <th>2</th>\n",
              "      <td>получение образования</td>\n",
              "      <td>369</td>\n",
              "      <td>3619</td>\n",
              "      <td>3988</td>\n",
              "      <td>9.252758</td>\n",
              "      <td>90.747242</td>\n",
              "    </tr>\n",
              "    <tr>\n",
              "      <th>0</th>\n",
              "      <td>операции с автомобилем</td>\n",
              "      <td>400</td>\n",
              "      <td>3879</td>\n",
              "      <td>4279</td>\n",
              "      <td>9.347978</td>\n",
              "      <td>90.652022</td>\n",
              "    </tr>\n",
              "  </tbody>\n",
              "</table>\n",
              "</div>"
            ],
            "text/plain": [
              "           purpose_category  sum_debt  sum_return_debt  count_debt    debt_%  \\\n",
              "1  операции с недвижимостью       780             9971       10751  7.255139   \n",
              "3        проведение свадьбы       183             2130        2313  7.911803   \n",
              "2     получение образования       369             3619        3988  9.252758   \n",
              "0    операции с автомобилем       400             3879        4279  9.347978   \n",
              "\n",
              "   return_debt_%  \n",
              "1      92.744861  \n",
              "3      92.088197  \n",
              "2      90.747242  \n",
              "0      90.652022  "
            ]
          },
          "metadata": {},
          "output_type": "display_data"
        }
      ],
      "source": [
        "# Ваш код будет здесь. Вы можете создавать новые ячейки.\n",
        "data_purpose = data_purpose.rename(columns = {'mean':'debt_%', 'sum': 'sum_debt', 'count': 'count_debt'})\n",
        "data_purpose['sum_return_debt'] = data_purpose['count_debt'] - data_purpose['sum_debt']\n",
        "data_purpose['debt_%'] = data_purpose['debt_%']*100\n",
        "data_purpose['return_debt_%'] = 100 - data_purpose['debt_%']\n",
        "data_purpose = data_purpose.reindex(columns=['purpose_category', 'sum_debt', 'sum_return_debt','count_debt','debt_%','return_debt_%'])\n",
        "display(data_purpose.sort_values(by='return_debt_%',ascending=False))"
      ]
    },
    {
      "cell_type": "markdown",
      "id": "77b0a387",
      "metadata": {
        "deletable": false,
        "id": "77b0a387"
      },
      "source": [
        "**Вывод:**"
      ]
    },
    {
      "cell_type": "markdown",
      "id": "90d97dff",
      "metadata": {
        "id": "90d97dff"
      },
      "source": [
        "Гипотеза подвердилась:\n",
        "* Люди с целью кредита операции с недвижимостью чаще других возвращают кредит в срок\n",
        "* С небольшим отставанием идет категория кредитов на проведение свадьбы"
      ]
    },
    {
      "cell_type": "markdown",
      "id": "d93141a6",
      "metadata": {
        "deletable": false,
        "editable": false,
        "id": "d93141a6"
      },
      "source": [
        "#### 3.5 Приведите возможные причины появления пропусков в исходных данных."
      ]
    },
    {
      "cell_type": "markdown",
      "id": "14f02abb",
      "metadata": {
        "deletable": false,
        "id": "14f02abb"
      },
      "source": [
        "*Ответ:*"
      ]
    },
    {
      "cell_type": "markdown",
      "id": "ca059e90",
      "metadata": {
        "id": "ca059e90"
      },
      "source": [
        "* Некорректные формы заполнения личных данных на сайте\n",
        "* Неправильно сформированный запрос на выгрузку из базы данных\n",
        "* Человеческий фактор при заполнении базы данных"
      ]
    },
    {
      "cell_type": "markdown",
      "id": "53302abb",
      "metadata": {
        "deletable": false,
        "editable": false,
        "id": "53302abb"
      },
      "source": [
        "#### 3.6 Объясните, почему заполнить пропуски медианным значением — лучшее решение для количественных переменных."
      ]
    },
    {
      "cell_type": "markdown",
      "id": "357ee807",
      "metadata": {
        "deletable": false,
        "id": "357ee807"
      },
      "source": [
        "*Ответ:*"
      ]
    },
    {
      "cell_type": "markdown",
      "id": "ccf8b1b8",
      "metadata": {
        "id": "ccf8b1b8"
      },
      "source": [
        "Выбросы в данных могу сильно исказить среднее значение, в том время как на медиану они не повлияют"
      ]
    },
    {
      "cell_type": "markdown",
      "id": "7626bf67",
      "metadata": {
        "deletable": false,
        "editable": false,
        "id": "7626bf67"
      },
      "source": [
        "### Шаг 4: общий вывод."
      ]
    },
    {
      "cell_type": "markdown",
      "id": "344418fd",
      "metadata": {
        "id": "344418fd"
      },
      "source": [
        "Для проверки поставленных гипотез было пройдено три этапа:\n",
        "1. Обзор данных\n",
        "2. Предобработка данных.\n",
        "3. Проверка гипотез"
      ]
    },
    {
      "cell_type": "markdown",
      "id": "cd19cf5a",
      "metadata": {
        "id": "cd19cf5a"
      },
      "source": [
        "На стадии обзора данных, был рассмотрен файл `/datasets/data.csv`и выявленно, что база данных заполняется не корректно, а именно:\n",
        "* Имеются явные или неявные дубликаты\n",
        "* Отсутсвует заполнение некоторых полей\n",
        "* Имеются отрицательные значения, где они никак не могут быть\n",
        "\n",
        "Из этого можно сделать вывод, что возможно **нет проверки** при заполнении информации о заёмщиках. Что позволяет делать неявные дубликаты, заполнять отрицательными числами данные, которые могут быть только положительными или вовсе не заполнять поля."
      ]
    },
    {
      "cell_type": "markdown",
      "id": "f625e976",
      "metadata": {
        "id": "f625e976"
      },
      "source": [
        "На этапе предобработки были устраннены следующие проблемы:\n",
        " 1. Явные и неявные дубликаты.\n",
        " 2. Наличие пропуском.\n",
        " 3. Аномальные значения.\n",
        "\n",
        "Явные дубликаты в количестве 71 строк были удаленны, не явные дубликаты в столбце `education`, приведенны к общему виду.\n",
        "\n",
        "Пропуски в столбцах `days_employed`,`total_income` заполнены медианным значениями по каждому типу занятости из столбца `income_type`.\n",
        "\n",
        "Аномальные значения в столбце `children`, которые могли исказить проверку гипотез были удаленны, а именно количество детей -1 и 20.\n",
        "\n",
        "Так были исправленны аномальные значения столбца `days_employed`, имевшие отрицательное значение.\n",
        "\n",
        "Были созданы категории по уровню дохода заёмщика и диапозонами:\n",
        "- 0–30000 — `'E'`;\n",
        "- 30001–50000 — `'D'`;\n",
        "- 50001–200000 — `'C'`;\n",
        "- 200001–1000000 — `'B'`;\n",
        "- 1000001 и выше — `'A'`.\n",
        "\n",
        "\n",
        "По целям кредита также создали категории:\n",
        "- `'операции с автомобилем'`,\n",
        "- `'операции с недвижимостью'`,\n",
        "- `'проведение свадьбы'`,\n",
        "- `'получение образования'`.\n",
        "\n",
        "С их помощью можно легко и быстро группировать, сортировать данные, на это также стоит обратить внимание при заполнении базы данных."
      ]
    },
    {
      "cell_type": "markdown",
      "id": "9d5a50e5",
      "metadata": {
        "deletable": false,
        "id": "9d5a50e5"
      },
      "source": [
        "На последнем этапе было проверенно четыре гипотезы и установленно:\n",
        "    \n",
        " **1.** Влияет ли количество детей на возврат кредитов\n",
        "\n",
        " Первая гипотеза **подтвердилась**:\n",
        "* Люди без детей чаще возвращают кредиты\n",
        "* Многодетные заёмщики с пятью детими всегда возвращаю кредит в срок, но их количество не достаточно, для подтверждения гипотезы.\n",
        "    \n",
        "    \n",
        " **2.** Влияет ли семейное положение на возврат кредита\n",
        "\n",
        " Вторая гипотеза так же **подтвердилась**:\n",
        "* Вдовцы / вдовы и в разводе чаще возвращаю кредит в срок, но они реже других берут кредиты\n",
        "* Категория женат / замужем чаще других берут кредиты, и находятся на третье позиции по возврату кредита в срок\n",
        "    \n",
        "    \n",
        " **3.** Влияет ли уровень дохода на возврат кредита\n",
        "\n",
        " Гипотеза **подвердилась**:\n",
        "* Люди с доходом 50001-200000 чаще других берут кредиты, но на предпоследнем месте по возврату кредита в срок\n",
        "* Категория с доходом 200001-1000000 на втором месте по количеству взятых кредитов, и так же на втором месте по их возврату в срок\n",
        "* Так же было выявленно, что в основном кредит берут люди из двух категорий доходов от 50001 до 200000 и 200001 до 1000000\n",
        "    \n",
        "**4.** Влияют ли цели кредита на его возврат\n",
        "\n",
        "   Гипотеза **подвердилась**:\n",
        "* Люди с целью кредита операции с недвижимостью чаще других возвращают кредит в срок\n",
        "* С небольшим отставанием идет категория кредитов на проведение свадьбы\n",
        "    \n",
        "    На основании проверенных гипотез, можно сделать вывод:\n",
        "    \n",
        " 1) Имеющиеся гипотезы имеют полное подтверждение    \n",
        " 2) Для более корректного исследования гипотез, необходимо больше информации по некоторым категориям кредитуемых, так как её отсутствие затрудняет или искажает получаемые выводы."
      ]
    }
  ],
  "metadata": {
    "ExecuteTimeLog": [
      {
        "duration": 61,
        "start_time": "2022-12-03T13:13:51.849Z"
      },
      {
        "duration": 512,
        "start_time": "2022-12-03T13:13:59.982Z"
      },
      {
        "duration": 27,
        "start_time": "2022-12-03T13:14:00.497Z"
      },
      {
        "duration": 17,
        "start_time": "2022-12-03T13:14:00.678Z"
      },
      {
        "duration": 10,
        "start_time": "2022-12-03T13:14:01.441Z"
      },
      {
        "duration": 33,
        "start_time": "2022-12-03T13:14:01.781Z"
      },
      {
        "duration": 4,
        "start_time": "2022-12-03T13:14:02.261Z"
      },
      {
        "duration": 8,
        "start_time": "2022-12-03T13:14:02.661Z"
      },
      {
        "duration": 5,
        "start_time": "2022-12-03T13:14:03.206Z"
      },
      {
        "duration": 9,
        "start_time": "2022-12-03T13:14:03.565Z"
      },
      {
        "duration": 5,
        "start_time": "2022-12-03T13:14:03.949Z"
      },
      {
        "duration": 41,
        "start_time": "2022-12-03T13:14:04.518Z"
      },
      {
        "duration": 10,
        "start_time": "2022-12-03T13:14:04.893Z"
      },
      {
        "duration": 4,
        "start_time": "2022-12-03T13:14:05.461Z"
      },
      {
        "duration": 10,
        "start_time": "2022-12-03T13:14:06.054Z"
      },
      {
        "duration": 26,
        "start_time": "2022-12-03T13:14:06.415Z"
      },
      {
        "duration": 24,
        "start_time": "2022-12-03T13:14:06.606Z"
      },
      {
        "duration": 13,
        "start_time": "2022-12-03T13:14:07.221Z"
      },
      {
        "duration": 12,
        "start_time": "2022-12-03T13:14:07.415Z"
      },
      {
        "duration": 8,
        "start_time": "2022-12-03T13:14:07.813Z"
      },
      {
        "duration": 3,
        "start_time": "2022-12-03T13:14:08.917Z"
      },
      {
        "duration": 8,
        "start_time": "2022-12-03T13:14:09.181Z"
      },
      {
        "duration": 17,
        "start_time": "2022-12-03T13:14:10.147Z"
      },
      {
        "duration": 29,
        "start_time": "2022-12-03T13:20:48.214Z"
      },
      {
        "duration": 5,
        "start_time": "2022-12-03T13:20:56.675Z"
      },
      {
        "duration": 76,
        "start_time": "2022-12-03T13:28:17.298Z"
      },
      {
        "duration": 48,
        "start_time": "2022-12-03T13:30:18.234Z"
      },
      {
        "duration": 40,
        "start_time": "2022-12-03T13:32:25.422Z"
      },
      {
        "duration": 77,
        "start_time": "2022-12-03T13:33:34.160Z"
      },
      {
        "duration": 58,
        "start_time": "2022-12-03T13:33:55.936Z"
      },
      {
        "duration": 58,
        "start_time": "2022-12-03T13:39:01.022Z"
      },
      {
        "duration": 54,
        "start_time": "2022-12-03T13:53:44.448Z"
      },
      {
        "duration": 56,
        "start_time": "2022-12-03T13:54:01.241Z"
      },
      {
        "duration": 51,
        "start_time": "2022-12-03T13:54:56.998Z"
      },
      {
        "duration": 29,
        "start_time": "2022-12-03T13:55:49.353Z"
      },
      {
        "duration": 21,
        "start_time": "2022-12-03T13:56:12.648Z"
      },
      {
        "duration": 58,
        "start_time": "2022-12-03T13:56:18.768Z"
      },
      {
        "duration": 51,
        "start_time": "2022-12-03T13:56:48.144Z"
      },
      {
        "duration": 61,
        "start_time": "2022-12-03T13:56:56.911Z"
      },
      {
        "duration": 57,
        "start_time": "2022-12-03T13:57:25.751Z"
      },
      {
        "duration": 58,
        "start_time": "2022-12-03T13:58:43.062Z"
      },
      {
        "duration": 51,
        "start_time": "2022-12-03T14:00:06.054Z"
      },
      {
        "duration": 49,
        "start_time": "2022-12-03T14:05:03.013Z"
      },
      {
        "duration": 55,
        "start_time": "2022-12-03T14:05:29.284Z"
      },
      {
        "duration": 61,
        "start_time": "2022-12-03T14:05:44.102Z"
      },
      {
        "duration": 77,
        "start_time": "2022-12-03T14:10:53.811Z"
      },
      {
        "duration": 48,
        "start_time": "2022-12-03T14:11:36.826Z"
      },
      {
        "duration": 76,
        "start_time": "2022-12-03T14:12:32.827Z"
      },
      {
        "duration": 53,
        "start_time": "2022-12-03T14:13:28.218Z"
      },
      {
        "duration": 54,
        "start_time": "2022-12-03T14:14:03.009Z"
      },
      {
        "duration": 52,
        "start_time": "2022-12-03T14:16:58.784Z"
      },
      {
        "duration": 52,
        "start_time": "2022-12-03T14:17:22.793Z"
      },
      {
        "duration": 66,
        "start_time": "2022-12-03T14:20:01.744Z"
      },
      {
        "duration": 48,
        "start_time": "2022-12-03T14:23:27.411Z"
      },
      {
        "duration": 25,
        "start_time": "2022-12-03T15:20:48.822Z"
      },
      {
        "duration": 53,
        "start_time": "2022-12-04T07:49:54.968Z"
      },
      {
        "duration": 733,
        "start_time": "2022-12-04T07:50:08.717Z"
      },
      {
        "duration": 23,
        "start_time": "2022-12-04T07:50:09.452Z"
      },
      {
        "duration": 35,
        "start_time": "2022-12-04T07:50:09.477Z"
      },
      {
        "duration": 10,
        "start_time": "2022-12-04T07:50:10.021Z"
      },
      {
        "duration": 35,
        "start_time": "2022-12-04T07:50:10.349Z"
      },
      {
        "duration": 4,
        "start_time": "2022-12-04T07:50:10.853Z"
      },
      {
        "duration": 8,
        "start_time": "2022-12-04T07:50:11.180Z"
      },
      {
        "duration": 5,
        "start_time": "2022-12-04T07:50:11.677Z"
      },
      {
        "duration": 8,
        "start_time": "2022-12-04T07:50:12.020Z"
      },
      {
        "duration": 5,
        "start_time": "2022-12-04T07:50:12.357Z"
      },
      {
        "duration": 33,
        "start_time": "2022-12-04T07:50:12.861Z"
      },
      {
        "duration": 10,
        "start_time": "2022-12-04T07:50:13.198Z"
      },
      {
        "duration": 4,
        "start_time": "2022-12-04T07:50:13.764Z"
      },
      {
        "duration": 12,
        "start_time": "2022-12-04T07:50:14.308Z"
      },
      {
        "duration": 21,
        "start_time": "2022-12-04T07:50:14.668Z"
      },
      {
        "duration": 22,
        "start_time": "2022-12-04T07:50:14.860Z"
      },
      {
        "duration": 4,
        "start_time": "2022-12-04T07:50:15.445Z"
      },
      {
        "duration": 12,
        "start_time": "2022-12-04T07:50:15.668Z"
      },
      {
        "duration": 7,
        "start_time": "2022-12-04T07:50:16.252Z"
      },
      {
        "duration": 3,
        "start_time": "2022-12-04T07:50:16.717Z"
      },
      {
        "duration": 27,
        "start_time": "2022-12-04T07:50:16.894Z"
      },
      {
        "duration": 57,
        "start_time": "2022-12-04T07:50:18.755Z"
      },
      {
        "duration": 53,
        "start_time": "2022-12-04T07:50:27.253Z"
      },
      {
        "duration": 74,
        "start_time": "2022-12-04T08:48:37.154Z"
      },
      {
        "duration": 74,
        "start_time": "2022-12-04T08:48:50.737Z"
      },
      {
        "duration": 74,
        "start_time": "2022-12-04T08:49:04.107Z"
      },
      {
        "duration": 75,
        "start_time": "2022-12-04T08:56:21.523Z"
      },
      {
        "duration": 70,
        "start_time": "2022-12-04T08:57:52.688Z"
      },
      {
        "duration": 698,
        "start_time": "2022-12-05T09:33:21.603Z"
      },
      {
        "duration": 21,
        "start_time": "2022-12-05T09:33:22.303Z"
      },
      {
        "duration": 14,
        "start_time": "2022-12-05T09:33:22.325Z"
      },
      {
        "duration": 10,
        "start_time": "2022-12-05T09:33:22.961Z"
      },
      {
        "duration": 33,
        "start_time": "2022-12-05T09:33:23.365Z"
      },
      {
        "duration": 3,
        "start_time": "2022-12-05T09:33:23.884Z"
      },
      {
        "duration": 7,
        "start_time": "2022-12-05T09:33:24.201Z"
      },
      {
        "duration": 5,
        "start_time": "2022-12-05T09:33:24.721Z"
      },
      {
        "duration": 9,
        "start_time": "2022-12-05T09:33:25.072Z"
      },
      {
        "duration": 5,
        "start_time": "2022-12-05T09:33:25.432Z"
      },
      {
        "duration": 31,
        "start_time": "2022-12-05T09:33:25.976Z"
      },
      {
        "duration": 9,
        "start_time": "2022-12-05T09:33:26.353Z"
      },
      {
        "duration": 4,
        "start_time": "2022-12-05T09:33:26.940Z"
      },
      {
        "duration": 10,
        "start_time": "2022-12-05T09:33:27.481Z"
      },
      {
        "duration": 19,
        "start_time": "2022-12-05T09:33:27.824Z"
      },
      {
        "duration": 17,
        "start_time": "2022-12-05T09:33:28.008Z"
      },
      {
        "duration": 4,
        "start_time": "2022-12-05T09:33:28.544Z"
      },
      {
        "duration": 9,
        "start_time": "2022-12-05T09:33:28.720Z"
      },
      {
        "duration": 6,
        "start_time": "2022-12-05T09:33:29.089Z"
      },
      {
        "duration": 3,
        "start_time": "2022-12-05T09:33:29.449Z"
      },
      {
        "duration": 24,
        "start_time": "2022-12-05T09:33:29.650Z"
      },
      {
        "duration": 55,
        "start_time": "2022-12-05T09:33:30.253Z"
      },
      {
        "duration": 61,
        "start_time": "2022-12-05T09:33:31.280Z"
      },
      {
        "duration": 57,
        "start_time": "2022-12-05T09:33:32.752Z"
      },
      {
        "duration": 49,
        "start_time": "2022-12-05T09:33:34.360Z"
      },
      {
        "duration": 70,
        "start_time": "2022-12-05T09:43:54.262Z"
      },
      {
        "duration": 465,
        "start_time": "2022-12-06T06:33:56.072Z"
      },
      {
        "duration": 21,
        "start_time": "2022-12-06T06:33:56.538Z"
      },
      {
        "duration": 17,
        "start_time": "2022-12-06T06:33:56.561Z"
      },
      {
        "duration": 10,
        "start_time": "2022-12-06T06:33:56.581Z"
      },
      {
        "duration": 32,
        "start_time": "2022-12-06T06:33:56.604Z"
      },
      {
        "duration": 3,
        "start_time": "2022-12-06T06:33:56.638Z"
      },
      {
        "duration": 9,
        "start_time": "2022-12-06T06:33:56.643Z"
      },
      {
        "duration": 4,
        "start_time": "2022-12-06T06:33:56.654Z"
      },
      {
        "duration": 7,
        "start_time": "2022-12-06T06:33:56.660Z"
      },
      {
        "duration": 35,
        "start_time": "2022-12-06T06:33:56.670Z"
      },
      {
        "duration": 31,
        "start_time": "2022-12-06T06:33:56.707Z"
      },
      {
        "duration": 10,
        "start_time": "2022-12-06T06:33:56.740Z"
      },
      {
        "duration": 3,
        "start_time": "2022-12-06T06:33:56.752Z"
      },
      {
        "duration": 11,
        "start_time": "2022-12-06T06:33:56.757Z"
      },
      {
        "duration": 48,
        "start_time": "2022-12-06T06:33:56.770Z"
      },
      {
        "duration": 17,
        "start_time": "2022-12-06T06:33:56.820Z"
      },
      {
        "duration": 4,
        "start_time": "2022-12-06T06:33:56.838Z"
      },
      {
        "duration": 12,
        "start_time": "2022-12-06T06:33:56.844Z"
      },
      {
        "duration": 7,
        "start_time": "2022-12-06T06:33:56.858Z"
      },
      {
        "duration": 4,
        "start_time": "2022-12-06T06:33:56.867Z"
      },
      {
        "duration": 47,
        "start_time": "2022-12-06T06:33:56.872Z"
      },
      {
        "duration": 48,
        "start_time": "2022-12-06T06:33:56.921Z"
      },
      {
        "duration": 72,
        "start_time": "2022-12-06T06:33:56.970Z"
      },
      {
        "duration": 63,
        "start_time": "2022-12-06T06:33:57.043Z"
      },
      {
        "duration": 49,
        "start_time": "2022-12-06T06:33:57.108Z"
      },
      {
        "duration": 69,
        "start_time": "2022-12-06T08:42:35.326Z"
      },
      {
        "duration": 584,
        "start_time": "2022-12-06T08:42:53.539Z"
      },
      {
        "duration": 22,
        "start_time": "2022-12-06T08:42:54.125Z"
      },
      {
        "duration": 17,
        "start_time": "2022-12-06T08:42:54.210Z"
      },
      {
        "duration": 11,
        "start_time": "2022-12-06T08:42:54.907Z"
      },
      {
        "duration": 52,
        "start_time": "2022-12-06T08:42:55.242Z"
      },
      {
        "duration": 5,
        "start_time": "2022-12-06T08:42:55.768Z"
      },
      {
        "duration": 8,
        "start_time": "2022-12-06T08:42:56.106Z"
      },
      {
        "duration": 4,
        "start_time": "2022-12-06T08:42:56.664Z"
      },
      {
        "duration": 7,
        "start_time": "2022-12-06T08:42:57.027Z"
      },
      {
        "duration": 6,
        "start_time": "2022-12-06T08:42:57.386Z"
      },
      {
        "duration": 46,
        "start_time": "2022-12-06T08:42:57.938Z"
      },
      {
        "duration": 10,
        "start_time": "2022-12-06T08:42:58.314Z"
      },
      {
        "duration": 4,
        "start_time": "2022-12-06T08:42:58.867Z"
      },
      {
        "duration": 18,
        "start_time": "2022-12-06T08:42:59.435Z"
      },
      {
        "duration": 24,
        "start_time": "2022-12-06T08:42:59.803Z"
      },
      {
        "duration": 19,
        "start_time": "2022-12-06T08:43:00.002Z"
      },
      {
        "duration": 7,
        "start_time": "2022-12-06T08:43:00.563Z"
      },
      {
        "duration": 16,
        "start_time": "2022-12-06T08:43:00.747Z"
      },
      {
        "duration": 5,
        "start_time": "2022-12-06T08:43:01.124Z"
      },
      {
        "duration": 3,
        "start_time": "2022-12-06T08:43:01.515Z"
      },
      {
        "duration": 25,
        "start_time": "2022-12-06T08:43:01.707Z"
      },
      {
        "duration": 53,
        "start_time": "2022-12-06T08:43:03.032Z"
      },
      {
        "duration": 15,
        "start_time": "2022-12-06T08:43:31.988Z"
      },
      {
        "duration": 26,
        "start_time": "2022-12-06T08:43:55.588Z"
      },
      {
        "duration": 24,
        "start_time": "2022-12-06T08:44:17.519Z"
      },
      {
        "duration": 23,
        "start_time": "2022-12-06T08:44:52.115Z"
      },
      {
        "duration": 1213,
        "start_time": "2022-12-06T08:48:39.170Z"
      },
      {
        "duration": 1111,
        "start_time": "2022-12-06T08:49:18.442Z"
      },
      {
        "duration": 1280,
        "start_time": "2022-12-06T08:49:57.844Z"
      },
      {
        "duration": 1183,
        "start_time": "2022-12-06T08:50:22.449Z"
      },
      {
        "duration": 26,
        "start_time": "2022-12-06T08:50:31.523Z"
      },
      {
        "duration": 93,
        "start_time": "2022-12-06T09:04:06.981Z"
      },
      {
        "duration": 1130,
        "start_time": "2022-12-06T09:04:25.461Z"
      },
      {
        "duration": 15,
        "start_time": "2022-12-06T09:05:11.302Z"
      },
      {
        "duration": 71,
        "start_time": "2022-12-06T09:05:17.455Z"
      },
      {
        "duration": 90,
        "start_time": "2022-12-06T09:05:20.813Z"
      },
      {
        "duration": 25,
        "start_time": "2022-12-06T09:05:26.069Z"
      },
      {
        "duration": 18,
        "start_time": "2022-12-06T09:34:34.809Z"
      },
      {
        "duration": 30,
        "start_time": "2022-12-06T09:35:01.138Z"
      },
      {
        "duration": 17,
        "start_time": "2022-12-06T09:35:28.881Z"
      },
      {
        "duration": 15,
        "start_time": "2022-12-06T09:36:33.511Z"
      },
      {
        "duration": 16,
        "start_time": "2022-12-06T09:37:29.161Z"
      },
      {
        "duration": 20,
        "start_time": "2022-12-06T09:37:59.869Z"
      },
      {
        "duration": 30,
        "start_time": "2022-12-06T09:38:11.918Z"
      },
      {
        "duration": 87,
        "start_time": "2022-12-06T09:38:53.160Z"
      },
      {
        "duration": 15,
        "start_time": "2022-12-06T09:39:03.125Z"
      },
      {
        "duration": 8,
        "start_time": "2022-12-06T09:40:21.699Z"
      },
      {
        "duration": 20,
        "start_time": "2022-12-06T09:41:59.051Z"
      },
      {
        "duration": 33,
        "start_time": "2022-12-06T09:42:25.083Z"
      },
      {
        "duration": 24,
        "start_time": "2022-12-06T09:43:21.881Z"
      },
      {
        "duration": 80,
        "start_time": "2022-12-06T09:47:06.822Z"
      },
      {
        "duration": 74,
        "start_time": "2022-12-06T09:47:11.640Z"
      },
      {
        "duration": 2067,
        "start_time": "2022-12-06T09:47:20.871Z"
      },
      {
        "duration": 83,
        "start_time": "2022-12-06T09:47:25.935Z"
      },
      {
        "duration": 72,
        "start_time": "2022-12-06T09:47:40.295Z"
      },
      {
        "duration": 1247,
        "start_time": "2022-12-06T09:51:14.084Z"
      },
      {
        "duration": 1169,
        "start_time": "2022-12-06T09:51:49.813Z"
      },
      {
        "duration": 29,
        "start_time": "2022-12-06T09:52:17.173Z"
      },
      {
        "duration": 44,
        "start_time": "2022-12-06T09:52:58.244Z"
      },
      {
        "duration": 51,
        "start_time": "2022-12-06T09:53:26.612Z"
      },
      {
        "duration": 13,
        "start_time": "2022-12-06T09:54:15.891Z"
      },
      {
        "duration": 14,
        "start_time": "2022-12-06T09:55:40.098Z"
      },
      {
        "duration": 12,
        "start_time": "2022-12-06T09:55:45.283Z"
      },
      {
        "duration": 24,
        "start_time": "2022-12-06T09:59:29.449Z"
      },
      {
        "duration": 49,
        "start_time": "2022-12-06T09:59:53.593Z"
      },
      {
        "duration": 22,
        "start_time": "2022-12-06T10:00:12.456Z"
      },
      {
        "duration": 37,
        "start_time": "2022-12-06T10:01:47.176Z"
      },
      {
        "duration": 75,
        "start_time": "2022-12-06T10:02:46.031Z"
      },
      {
        "duration": 1140,
        "start_time": "2022-12-06T10:03:26.062Z"
      },
      {
        "duration": 1450,
        "start_time": "2022-12-06T10:03:56.392Z"
      },
      {
        "duration": 47,
        "start_time": "2022-12-06T10:07:04.632Z"
      },
      {
        "duration": 32,
        "start_time": "2022-12-06T10:07:29.590Z"
      },
      {
        "duration": 67,
        "start_time": "2022-12-06T10:08:21.468Z"
      },
      {
        "duration": 16,
        "start_time": "2022-12-06T10:08:21.767Z"
      },
      {
        "duration": 23,
        "start_time": "2022-12-06T10:08:22.056Z"
      },
      {
        "duration": 10,
        "start_time": "2022-12-06T10:08:22.740Z"
      },
      {
        "duration": 34,
        "start_time": "2022-12-06T10:08:23.117Z"
      },
      {
        "duration": 4,
        "start_time": "2022-12-06T10:08:23.669Z"
      },
      {
        "duration": 10,
        "start_time": "2022-12-06T10:08:24.062Z"
      },
      {
        "duration": 5,
        "start_time": "2022-12-06T10:08:24.692Z"
      },
      {
        "duration": 7,
        "start_time": "2022-12-06T10:08:25.069Z"
      },
      {
        "duration": 5,
        "start_time": "2022-12-06T10:08:25.476Z"
      },
      {
        "duration": 38,
        "start_time": "2022-12-06T10:08:26.064Z"
      },
      {
        "duration": 16,
        "start_time": "2022-12-06T10:08:26.480Z"
      },
      {
        "duration": 5,
        "start_time": "2022-12-06T10:08:27.205Z"
      },
      {
        "duration": 12,
        "start_time": "2022-12-06T10:08:27.876Z"
      },
      {
        "duration": 30,
        "start_time": "2022-12-06T10:08:28.541Z"
      },
      {
        "duration": 29,
        "start_time": "2022-12-06T10:08:28.845Z"
      },
      {
        "duration": 5,
        "start_time": "2022-12-06T10:08:29.621Z"
      },
      {
        "duration": 13,
        "start_time": "2022-12-06T10:08:29.973Z"
      },
      {
        "duration": 9,
        "start_time": "2022-12-06T10:08:30.958Z"
      },
      {
        "duration": 3,
        "start_time": "2022-12-06T10:08:31.725Z"
      },
      {
        "duration": 26,
        "start_time": "2022-12-06T10:08:32.190Z"
      },
      {
        "duration": 1164,
        "start_time": "2022-12-06T10:09:31.060Z"
      },
      {
        "duration": 36,
        "start_time": "2022-12-06T10:09:45.664Z"
      },
      {
        "duration": 17,
        "start_time": "2022-12-06T10:10:01.613Z"
      },
      {
        "duration": 39,
        "start_time": "2022-12-06T10:10:08.466Z"
      },
      {
        "duration": 79,
        "start_time": "2022-12-06T10:11:02.437Z"
      },
      {
        "duration": 14,
        "start_time": "2022-12-06T10:11:16.629Z"
      },
      {
        "duration": 54,
        "start_time": "2022-12-06T10:11:22.245Z"
      },
      {
        "duration": 14,
        "start_time": "2022-12-06T10:15:48.895Z"
      },
      {
        "duration": 17,
        "start_time": "2022-12-06T10:16:43.732Z"
      },
      {
        "duration": 35,
        "start_time": "2022-12-06T10:16:51.165Z"
      },
      {
        "duration": 36,
        "start_time": "2022-12-06T10:17:07.868Z"
      },
      {
        "duration": 11,
        "start_time": "2022-12-06T10:20:07.722Z"
      },
      {
        "duration": 14,
        "start_time": "2022-12-06T10:20:30.091Z"
      },
      {
        "duration": 13,
        "start_time": "2022-12-06T10:20:38.067Z"
      },
      {
        "duration": 13,
        "start_time": "2022-12-06T10:21:07.929Z"
      },
      {
        "duration": 74,
        "start_time": "2022-12-06T10:24:20.705Z"
      },
      {
        "duration": 19,
        "start_time": "2022-12-06T10:24:28.392Z"
      },
      {
        "duration": 22,
        "start_time": "2022-12-06T10:24:48.808Z"
      },
      {
        "duration": 24,
        "start_time": "2022-12-06T10:25:58.112Z"
      },
      {
        "duration": 74,
        "start_time": "2022-12-06T10:28:19.239Z"
      },
      {
        "duration": 88,
        "start_time": "2022-12-06T10:28:39.816Z"
      },
      {
        "duration": 24,
        "start_time": "2022-12-06T10:28:48.311Z"
      },
      {
        "duration": 72,
        "start_time": "2022-12-06T10:29:12.799Z"
      },
      {
        "duration": 71,
        "start_time": "2022-12-06T10:30:19.863Z"
      },
      {
        "duration": 28,
        "start_time": "2022-12-06T10:30:41.955Z"
      },
      {
        "duration": 25,
        "start_time": "2022-12-06T10:31:15.830Z"
      },
      {
        "duration": 30,
        "start_time": "2022-12-06T10:31:30.974Z"
      },
      {
        "duration": 25,
        "start_time": "2022-12-06T10:49:54.172Z"
      },
      {
        "duration": 23,
        "start_time": "2022-12-06T10:51:52.316Z"
      },
      {
        "duration": 24,
        "start_time": "2022-12-06T10:51:56.123Z"
      },
      {
        "duration": 1158,
        "start_time": "2022-12-06T11:03:02.289Z"
      },
      {
        "duration": 94,
        "start_time": "2022-12-06T11:03:22.866Z"
      },
      {
        "duration": 24,
        "start_time": "2022-12-06T11:03:32.009Z"
      },
      {
        "duration": 29,
        "start_time": "2022-12-06T12:55:45.596Z"
      },
      {
        "duration": 26,
        "start_time": "2022-12-06T12:56:04.778Z"
      },
      {
        "duration": 72,
        "start_time": "2022-12-06T12:58:08.410Z"
      },
      {
        "duration": 24,
        "start_time": "2022-12-06T12:58:18.362Z"
      },
      {
        "duration": 24,
        "start_time": "2022-12-06T12:58:31.618Z"
      },
      {
        "duration": 37,
        "start_time": "2022-12-06T13:01:34.362Z"
      },
      {
        "duration": 484,
        "start_time": "2022-12-06T13:07:50.855Z"
      },
      {
        "duration": 5,
        "start_time": "2022-12-06T13:08:25.568Z"
      },
      {
        "duration": 28,
        "start_time": "2022-12-06T13:08:47.567Z"
      },
      {
        "duration": 22,
        "start_time": "2022-12-06T13:09:06.055Z"
      },
      {
        "duration": 35,
        "start_time": "2022-12-06T13:10:51.143Z"
      },
      {
        "duration": 34,
        "start_time": "2022-12-06T13:10:56.277Z"
      },
      {
        "duration": 34,
        "start_time": "2022-12-06T13:11:40.244Z"
      },
      {
        "duration": 33,
        "start_time": "2022-12-06T13:11:59.784Z"
      },
      {
        "duration": 28,
        "start_time": "2022-12-06T13:13:20.221Z"
      },
      {
        "duration": 31,
        "start_time": "2022-12-06T13:13:32.998Z"
      },
      {
        "duration": 24,
        "start_time": "2022-12-06T13:13:46.845Z"
      },
      {
        "duration": 35,
        "start_time": "2022-12-06T13:14:32.957Z"
      },
      {
        "duration": 22,
        "start_time": "2022-12-06T13:14:42.848Z"
      },
      {
        "duration": 73,
        "start_time": "2022-12-06T13:16:35.509Z"
      },
      {
        "duration": 24,
        "start_time": "2022-12-06T13:16:47.125Z"
      },
      {
        "duration": 28,
        "start_time": "2022-12-06T13:18:15.659Z"
      },
      {
        "duration": 26,
        "start_time": "2022-12-06T13:19:08.347Z"
      },
      {
        "duration": 26,
        "start_time": "2022-12-06T13:19:54.987Z"
      },
      {
        "duration": 26,
        "start_time": "2022-12-06T13:20:18.858Z"
      },
      {
        "duration": 26,
        "start_time": "2022-12-06T13:20:45.447Z"
      },
      {
        "duration": 34,
        "start_time": "2022-12-06T13:20:49.291Z"
      },
      {
        "duration": 71,
        "start_time": "2022-12-06T13:21:07.131Z"
      },
      {
        "duration": 74,
        "start_time": "2022-12-06T13:21:20.027Z"
      },
      {
        "duration": 110,
        "start_time": "2022-12-06T13:21:30.115Z"
      },
      {
        "duration": 39,
        "start_time": "2022-12-06T13:21:39.613Z"
      },
      {
        "duration": 48,
        "start_time": "2022-12-06T13:23:06.939Z"
      },
      {
        "duration": 30,
        "start_time": "2022-12-06T13:23:47.850Z"
      },
      {
        "duration": 28,
        "start_time": "2022-12-06T13:23:57.098Z"
      },
      {
        "duration": 28,
        "start_time": "2022-12-06T13:24:03.354Z"
      },
      {
        "duration": 26,
        "start_time": "2022-12-06T13:24:23.954Z"
      },
      {
        "duration": 27,
        "start_time": "2022-12-06T13:24:31.145Z"
      },
      {
        "duration": 33,
        "start_time": "2022-12-06T13:24:45.322Z"
      },
      {
        "duration": 31,
        "start_time": "2022-12-06T13:24:58.353Z"
      },
      {
        "duration": 32,
        "start_time": "2022-12-06T13:25:02.777Z"
      },
      {
        "duration": 30,
        "start_time": "2022-12-06T13:25:13.177Z"
      },
      {
        "duration": 31,
        "start_time": "2022-12-06T13:25:28.842Z"
      },
      {
        "duration": 31,
        "start_time": "2022-12-06T13:25:32.257Z"
      },
      {
        "duration": 27,
        "start_time": "2022-12-06T13:25:40.602Z"
      },
      {
        "duration": 24,
        "start_time": "2022-12-06T13:25:46.482Z"
      },
      {
        "duration": 26,
        "start_time": "2022-12-06T13:25:53.778Z"
      },
      {
        "duration": 27,
        "start_time": "2022-12-06T13:27:06.025Z"
      },
      {
        "duration": 25,
        "start_time": "2022-12-06T13:27:27.167Z"
      },
      {
        "duration": 25,
        "start_time": "2022-12-06T13:27:32.264Z"
      },
      {
        "duration": 23,
        "start_time": "2022-12-06T13:28:00.618Z"
      },
      {
        "duration": 26,
        "start_time": "2022-12-06T13:28:13.536Z"
      },
      {
        "duration": 29,
        "start_time": "2022-12-06T13:28:24.529Z"
      },
      {
        "duration": 27,
        "start_time": "2022-12-06T13:29:06.360Z"
      },
      {
        "duration": 29,
        "start_time": "2022-12-06T13:29:15.721Z"
      },
      {
        "duration": 28,
        "start_time": "2022-12-06T13:29:25.513Z"
      },
      {
        "duration": 26,
        "start_time": "2022-12-06T13:30:24.416Z"
      },
      {
        "duration": 28,
        "start_time": "2022-12-06T13:31:34.688Z"
      },
      {
        "duration": 30,
        "start_time": "2022-12-06T13:31:44.143Z"
      },
      {
        "duration": 27,
        "start_time": "2022-12-06T13:33:55.815Z"
      },
      {
        "duration": 33,
        "start_time": "2022-12-06T13:36:12.047Z"
      },
      {
        "duration": 35,
        "start_time": "2022-12-06T13:38:44.967Z"
      },
      {
        "duration": 36,
        "start_time": "2022-12-06T13:44:00.148Z"
      },
      {
        "duration": 30,
        "start_time": "2022-12-06T13:44:08.488Z"
      },
      {
        "duration": 32,
        "start_time": "2022-12-06T13:45:29.050Z"
      },
      {
        "duration": 30,
        "start_time": "2022-12-06T13:45:52.146Z"
      },
      {
        "duration": 31,
        "start_time": "2022-12-06T13:46:17.587Z"
      },
      {
        "duration": 27,
        "start_time": "2022-12-06T13:59:33.686Z"
      },
      {
        "duration": 39,
        "start_time": "2022-12-06T14:00:02.134Z"
      },
      {
        "duration": 31,
        "start_time": "2022-12-06T14:00:07.534Z"
      },
      {
        "duration": 30,
        "start_time": "2022-12-06T14:00:18.599Z"
      },
      {
        "duration": 28,
        "start_time": "2022-12-06T14:00:30.079Z"
      },
      {
        "duration": 31,
        "start_time": "2022-12-06T14:00:41.447Z"
      },
      {
        "duration": 31,
        "start_time": "2022-12-06T14:00:45.693Z"
      },
      {
        "duration": 30,
        "start_time": "2022-12-06T14:01:38.061Z"
      },
      {
        "duration": 30,
        "start_time": "2022-12-06T14:02:10.069Z"
      },
      {
        "duration": 26,
        "start_time": "2022-12-06T14:03:41.213Z"
      },
      {
        "duration": 37,
        "start_time": "2022-12-06T14:03:49.629Z"
      },
      {
        "duration": 5,
        "start_time": "2022-12-06T14:05:59.012Z"
      },
      {
        "duration": 10,
        "start_time": "2022-12-06T14:06:17.500Z"
      },
      {
        "duration": 8,
        "start_time": "2022-12-06T14:06:53.660Z"
      },
      {
        "duration": 17,
        "start_time": "2022-12-06T14:10:43.683Z"
      },
      {
        "duration": 13,
        "start_time": "2022-12-06T14:11:11.006Z"
      },
      {
        "duration": 13,
        "start_time": "2022-12-06T14:12:25.089Z"
      },
      {
        "duration": 30,
        "start_time": "2022-12-06T14:12:54.609Z"
      },
      {
        "duration": 29,
        "start_time": "2022-12-06T14:13:55.245Z"
      },
      {
        "duration": 18,
        "start_time": "2022-12-06T14:15:50.929Z"
      },
      {
        "duration": 10,
        "start_time": "2022-12-06T14:15:59.248Z"
      },
      {
        "duration": 9,
        "start_time": "2022-12-06T14:16:37.640Z"
      },
      {
        "duration": 8,
        "start_time": "2022-12-06T14:17:16.888Z"
      },
      {
        "duration": 10,
        "start_time": "2022-12-06T14:17:50.375Z"
      },
      {
        "duration": 8,
        "start_time": "2022-12-06T14:18:17.959Z"
      },
      {
        "duration": 3,
        "start_time": "2022-12-06T14:18:26.981Z"
      },
      {
        "duration": 9,
        "start_time": "2022-12-06T14:18:28.527Z"
      },
      {
        "duration": 9,
        "start_time": "2022-12-06T14:18:46.623Z"
      },
      {
        "duration": 74,
        "start_time": "2022-12-06T14:19:20.114Z"
      },
      {
        "duration": 17,
        "start_time": "2022-12-06T14:19:20.486Z"
      },
      {
        "duration": 14,
        "start_time": "2022-12-06T14:19:20.846Z"
      },
      {
        "duration": 11,
        "start_time": "2022-12-06T14:19:21.566Z"
      },
      {
        "duration": 36,
        "start_time": "2022-12-06T14:19:21.942Z"
      },
      {
        "duration": 4,
        "start_time": "2022-12-06T14:19:22.493Z"
      },
      {
        "duration": 9,
        "start_time": "2022-12-06T14:19:22.917Z"
      },
      {
        "duration": 5,
        "start_time": "2022-12-06T14:19:23.492Z"
      },
      {
        "duration": 6,
        "start_time": "2022-12-06T14:19:23.895Z"
      },
      {
        "duration": 5,
        "start_time": "2022-12-06T14:19:24.286Z"
      },
      {
        "duration": 35,
        "start_time": "2022-12-06T14:19:24.893Z"
      },
      {
        "duration": 11,
        "start_time": "2022-12-06T14:19:25.294Z"
      },
      {
        "duration": 5,
        "start_time": "2022-12-06T14:19:25.893Z"
      },
      {
        "duration": 13,
        "start_time": "2022-12-06T14:19:26.533Z"
      },
      {
        "duration": 22,
        "start_time": "2022-12-06T14:19:26.958Z"
      },
      {
        "duration": 20,
        "start_time": "2022-12-06T14:19:27.157Z"
      },
      {
        "duration": 3,
        "start_time": "2022-12-06T14:19:27.814Z"
      },
      {
        "duration": 10,
        "start_time": "2022-12-06T14:19:28.005Z"
      },
      {
        "duration": 6,
        "start_time": "2022-12-06T14:19:28.445Z"
      },
      {
        "duration": 4,
        "start_time": "2022-12-06T14:19:28.885Z"
      },
      {
        "duration": 28,
        "start_time": "2022-12-06T14:19:29.111Z"
      },
      {
        "duration": 33,
        "start_time": "2022-12-06T14:19:30.318Z"
      },
      {
        "duration": 17,
        "start_time": "2022-12-06T14:19:34.224Z"
      },
      {
        "duration": 11,
        "start_time": "2022-12-06T14:19:50.918Z"
      },
      {
        "duration": 1110,
        "start_time": "2022-12-06T15:50:55.721Z"
      },
      {
        "duration": 15,
        "start_time": "2022-12-06T15:51:18.812Z"
      },
      {
        "duration": 17,
        "start_time": "2022-12-06T15:53:36.140Z"
      },
      {
        "duration": 17,
        "start_time": "2022-12-06T15:54:10.850Z"
      },
      {
        "duration": 17,
        "start_time": "2022-12-06T15:54:21.578Z"
      },
      {
        "duration": 16,
        "start_time": "2022-12-06T16:03:15.784Z"
      },
      {
        "duration": 19,
        "start_time": "2022-12-06T16:11:55.790Z"
      },
      {
        "duration": 20,
        "start_time": "2022-12-06T16:12:04.694Z"
      },
      {
        "duration": 17,
        "start_time": "2022-12-06T16:12:16.862Z"
      },
      {
        "duration": 18,
        "start_time": "2022-12-06T16:12:55.005Z"
      },
      {
        "duration": 17,
        "start_time": "2022-12-06T16:13:01.334Z"
      },
      {
        "duration": 38,
        "start_time": "2022-12-06T16:13:38.141Z"
      },
      {
        "duration": 22,
        "start_time": "2022-12-06T16:20:23.124Z"
      },
      {
        "duration": 20,
        "start_time": "2022-12-06T16:21:45.188Z"
      },
      {
        "duration": 21,
        "start_time": "2022-12-06T16:22:30.882Z"
      },
      {
        "duration": 17,
        "start_time": "2022-12-06T16:22:40.227Z"
      },
      {
        "duration": 17,
        "start_time": "2022-12-06T16:22:50.460Z"
      },
      {
        "duration": 1123,
        "start_time": "2022-12-06T16:31:06.898Z"
      },
      {
        "duration": 26,
        "start_time": "2022-12-06T16:31:35.568Z"
      },
      {
        "duration": 17,
        "start_time": "2022-12-06T16:31:47.888Z"
      },
      {
        "duration": 22,
        "start_time": "2022-12-06T16:33:01.744Z"
      },
      {
        "duration": 46,
        "start_time": "2022-12-06T16:34:16.519Z"
      },
      {
        "duration": 15,
        "start_time": "2022-12-06T16:34:54.799Z"
      },
      {
        "duration": 29,
        "start_time": "2022-12-06T16:35:55.016Z"
      },
      {
        "duration": 27,
        "start_time": "2022-12-06T16:38:47.550Z"
      },
      {
        "duration": 17,
        "start_time": "2022-12-06T16:46:40.615Z"
      },
      {
        "duration": 76,
        "start_time": "2022-12-06T17:01:44.745Z"
      },
      {
        "duration": 25,
        "start_time": "2022-12-06T17:02:02.202Z"
      },
      {
        "duration": 34,
        "start_time": "2022-12-06T17:03:09.648Z"
      },
      {
        "duration": 17,
        "start_time": "2022-12-06T17:03:37.608Z"
      },
      {
        "duration": 24,
        "start_time": "2022-12-06T17:04:05.583Z"
      },
      {
        "duration": 28,
        "start_time": "2022-12-06T17:04:20.631Z"
      },
      {
        "duration": 22,
        "start_time": "2022-12-06T17:05:30.934Z"
      },
      {
        "duration": 21,
        "start_time": "2022-12-06T17:05:37.343Z"
      },
      {
        "duration": 20,
        "start_time": "2022-12-06T17:05:45.620Z"
      },
      {
        "duration": 18,
        "start_time": "2022-12-06T17:06:11.208Z"
      },
      {
        "duration": 21,
        "start_time": "2022-12-06T17:06:18.701Z"
      },
      {
        "duration": 6,
        "start_time": "2022-12-06T17:08:32.924Z"
      },
      {
        "duration": 22,
        "start_time": "2022-12-06T17:08:41.739Z"
      },
      {
        "duration": 19,
        "start_time": "2022-12-06T17:09:06.377Z"
      },
      {
        "duration": 18,
        "start_time": "2022-12-06T17:21:27.949Z"
      },
      {
        "duration": 16,
        "start_time": "2022-12-06T17:21:37.156Z"
      },
      {
        "duration": 17,
        "start_time": "2022-12-06T17:21:56.971Z"
      },
      {
        "duration": 70,
        "start_time": "2022-12-07T08:58:41.613Z"
      },
      {
        "duration": 81,
        "start_time": "2022-12-07T09:00:11.968Z"
      },
      {
        "duration": 99,
        "start_time": "2022-12-07T09:05:43.064Z"
      },
      {
        "duration": 70,
        "start_time": "2022-12-07T09:11:10.703Z"
      },
      {
        "duration": 66,
        "start_time": "2022-12-07T09:25:11.111Z"
      },
      {
        "duration": 542,
        "start_time": "2022-12-07T09:30:38.794Z"
      },
      {
        "duration": 28,
        "start_time": "2022-12-07T09:30:41.910Z"
      },
      {
        "duration": 13,
        "start_time": "2022-12-07T09:30:42.453Z"
      },
      {
        "duration": 10,
        "start_time": "2022-12-07T09:30:43.329Z"
      },
      {
        "duration": 41,
        "start_time": "2022-12-07T09:30:43.669Z"
      },
      {
        "duration": 5,
        "start_time": "2022-12-07T09:30:44.204Z"
      },
      {
        "duration": 9,
        "start_time": "2022-12-07T09:30:44.558Z"
      },
      {
        "duration": 5,
        "start_time": "2022-12-07T09:30:45.068Z"
      },
      {
        "duration": 7,
        "start_time": "2022-12-07T09:30:45.432Z"
      },
      {
        "duration": 4,
        "start_time": "2022-12-07T09:30:45.790Z"
      },
      {
        "duration": 39,
        "start_time": "2022-12-07T09:30:46.289Z"
      },
      {
        "duration": 10,
        "start_time": "2022-12-07T09:30:46.644Z"
      },
      {
        "duration": 4,
        "start_time": "2022-12-07T09:30:47.193Z"
      },
      {
        "duration": 12,
        "start_time": "2022-12-07T09:30:47.764Z"
      },
      {
        "duration": 30,
        "start_time": "2022-12-07T09:30:48.165Z"
      },
      {
        "duration": 26,
        "start_time": "2022-12-07T09:30:48.350Z"
      },
      {
        "duration": 5,
        "start_time": "2022-12-07T09:30:48.959Z"
      },
      {
        "duration": 11,
        "start_time": "2022-12-07T09:30:49.142Z"
      },
      {
        "duration": 7,
        "start_time": "2022-12-07T09:30:49.528Z"
      },
      {
        "duration": 3,
        "start_time": "2022-12-07T09:30:50.085Z"
      },
      {
        "duration": 43,
        "start_time": "2022-12-07T09:30:50.311Z"
      },
      {
        "duration": 35,
        "start_time": "2022-12-07T09:30:53.644Z"
      },
      {
        "duration": 36,
        "start_time": "2022-12-07T09:31:04.556Z"
      },
      {
        "duration": 32,
        "start_time": "2022-12-07T09:31:25.294Z"
      },
      {
        "duration": 191,
        "start_time": "2022-12-07T09:37:04.060Z"
      },
      {
        "duration": 84,
        "start_time": "2022-12-07T10:10:03.406Z"
      },
      {
        "duration": 92,
        "start_time": "2022-12-07T10:12:06.972Z"
      },
      {
        "duration": 126,
        "start_time": "2022-12-07T10:19:35.364Z"
      },
      {
        "duration": 88,
        "start_time": "2022-12-07T10:20:35.843Z"
      },
      {
        "duration": 123,
        "start_time": "2022-12-07T10:26:23.360Z"
      },
      {
        "duration": 79,
        "start_time": "2022-12-07T10:29:54.848Z"
      },
      {
        "duration": 86,
        "start_time": "2022-12-07T10:31:20.047Z"
      },
      {
        "duration": 42,
        "start_time": "2022-12-07T10:31:40.034Z"
      },
      {
        "duration": 105,
        "start_time": "2022-12-07T10:32:58.886Z"
      },
      {
        "duration": 21,
        "start_time": "2022-12-07T11:14:54.233Z"
      },
      {
        "duration": 81,
        "start_time": "2022-12-07T11:15:12.103Z"
      },
      {
        "duration": 75,
        "start_time": "2022-12-07T11:16:04.151Z"
      },
      {
        "duration": 33,
        "start_time": "2022-12-07T11:16:04.696Z"
      },
      {
        "duration": 31,
        "start_time": "2022-12-07T11:16:05.407Z"
      },
      {
        "duration": 11,
        "start_time": "2022-12-07T11:16:06.887Z"
      },
      {
        "duration": 52,
        "start_time": "2022-12-07T11:16:07.448Z"
      },
      {
        "duration": 6,
        "start_time": "2022-12-07T11:16:08.207Z"
      },
      {
        "duration": 9,
        "start_time": "2022-12-07T11:16:08.767Z"
      },
      {
        "duration": 9,
        "start_time": "2022-12-07T11:16:09.530Z"
      },
      {
        "duration": 7,
        "start_time": "2022-12-07T11:16:10.095Z"
      },
      {
        "duration": 5,
        "start_time": "2022-12-07T11:16:10.663Z"
      },
      {
        "duration": 40,
        "start_time": "2022-12-07T11:16:11.442Z"
      },
      {
        "duration": 9,
        "start_time": "2022-12-07T11:16:11.991Z"
      },
      {
        "duration": 6,
        "start_time": "2022-12-07T11:16:12.633Z"
      },
      {
        "duration": 13,
        "start_time": "2022-12-07T11:16:13.447Z"
      },
      {
        "duration": 29,
        "start_time": "2022-12-07T11:16:14.111Z"
      },
      {
        "duration": 19,
        "start_time": "2022-12-07T11:16:14.533Z"
      },
      {
        "duration": 6,
        "start_time": "2022-12-07T11:16:15.808Z"
      },
      {
        "duration": 24,
        "start_time": "2022-12-07T11:16:16.407Z"
      },
      {
        "duration": 11,
        "start_time": "2022-12-07T11:16:17.138Z"
      },
      {
        "duration": 4,
        "start_time": "2022-12-07T11:16:18.034Z"
      },
      {
        "duration": 32,
        "start_time": "2022-12-07T11:16:18.601Z"
      },
      {
        "duration": 31,
        "start_time": "2022-12-07T11:16:21.959Z"
      },
      {
        "duration": 39,
        "start_time": "2022-12-07T11:16:32.457Z"
      },
      {
        "duration": 30,
        "start_time": "2022-12-07T11:17:52.480Z"
      },
      {
        "duration": 13,
        "start_time": "2022-12-07T11:20:49.359Z"
      },
      {
        "duration": 36,
        "start_time": "2022-12-07T11:20:57.415Z"
      },
      {
        "duration": 18,
        "start_time": "2022-12-07T11:32:42.249Z"
      },
      {
        "duration": 26,
        "start_time": "2022-12-07T11:35:37.062Z"
      },
      {
        "duration": 20,
        "start_time": "2022-12-07T11:37:39.378Z"
      },
      {
        "duration": 15,
        "start_time": "2022-12-07T11:43:38.705Z"
      },
      {
        "duration": 18,
        "start_time": "2022-12-07T11:43:41.145Z"
      },
      {
        "duration": 38,
        "start_time": "2022-12-07T11:48:56.870Z"
      },
      {
        "duration": 23,
        "start_time": "2022-12-07T11:52:54.877Z"
      },
      {
        "duration": 3,
        "start_time": "2022-12-07T11:56:21.182Z"
      },
      {
        "duration": 74,
        "start_time": "2022-12-07T11:58:31.387Z"
      },
      {
        "duration": 16,
        "start_time": "2022-12-07T11:58:39.114Z"
      },
      {
        "duration": 26,
        "start_time": "2022-12-07T12:05:21.869Z"
      },
      {
        "duration": 9,
        "start_time": "2022-12-07T12:12:43.100Z"
      },
      {
        "duration": 71,
        "start_time": "2022-12-07T13:49:02.210Z"
      },
      {
        "duration": 487,
        "start_time": "2022-12-07T19:22:53.016Z"
      },
      {
        "duration": 21,
        "start_time": "2022-12-07T19:22:53.504Z"
      },
      {
        "duration": 20,
        "start_time": "2022-12-07T19:22:53.526Z"
      },
      {
        "duration": 14,
        "start_time": "2022-12-07T19:22:53.547Z"
      },
      {
        "duration": 57,
        "start_time": "2022-12-07T19:22:53.563Z"
      },
      {
        "duration": 16,
        "start_time": "2022-12-07T19:22:53.621Z"
      },
      {
        "duration": 31,
        "start_time": "2022-12-07T19:22:53.638Z"
      },
      {
        "duration": 22,
        "start_time": "2022-12-07T19:22:53.671Z"
      },
      {
        "duration": 23,
        "start_time": "2022-12-07T19:22:53.695Z"
      },
      {
        "duration": 25,
        "start_time": "2022-12-07T19:22:53.722Z"
      },
      {
        "duration": 42,
        "start_time": "2022-12-07T19:22:53.749Z"
      },
      {
        "duration": 9,
        "start_time": "2022-12-07T19:22:53.793Z"
      },
      {
        "duration": 30,
        "start_time": "2022-12-07T19:22:53.803Z"
      },
      {
        "duration": 31,
        "start_time": "2022-12-07T19:22:53.834Z"
      },
      {
        "duration": 42,
        "start_time": "2022-12-07T19:22:53.867Z"
      },
      {
        "duration": 14,
        "start_time": "2022-12-07T19:22:53.910Z"
      },
      {
        "duration": 20,
        "start_time": "2022-12-07T19:22:53.926Z"
      },
      {
        "duration": 31,
        "start_time": "2022-12-07T19:22:53.947Z"
      },
      {
        "duration": 25,
        "start_time": "2022-12-07T19:22:53.979Z"
      },
      {
        "duration": 23,
        "start_time": "2022-12-07T19:22:54.006Z"
      },
      {
        "duration": 43,
        "start_time": "2022-12-07T19:22:54.031Z"
      },
      {
        "duration": 26,
        "start_time": "2022-12-07T19:22:54.076Z"
      },
      {
        "duration": 17,
        "start_time": "2022-12-07T19:22:54.104Z"
      },
      {
        "duration": 25,
        "start_time": "2022-12-07T19:22:54.123Z"
      },
      {
        "duration": 21,
        "start_time": "2022-12-07T19:22:54.149Z"
      },
      {
        "duration": 24,
        "start_time": "2022-12-07T19:22:54.172Z"
      },
      {
        "duration": 9,
        "start_time": "2022-12-07T19:22:54.198Z"
      },
      {
        "duration": 31,
        "start_time": "2022-12-07T19:22:54.210Z"
      },
      {
        "duration": 10,
        "start_time": "2022-12-07T19:22:54.243Z"
      },
      {
        "duration": 20,
        "start_time": "2022-12-07T19:22:54.255Z"
      }
    ],
    "colab": {
      "provenance": []
    },
    "kernelspec": {
      "display_name": "Python 3 (ipykernel)",
      "language": "python",
      "name": "python3"
    },
    "language_info": {
      "codemirror_mode": {
        "name": "ipython",
        "version": 3
      },
      "file_extension": ".py",
      "mimetype": "text/x-python",
      "name": "python",
      "nbconvert_exporter": "python",
      "pygments_lexer": "ipython3",
      "version": "3.9.5"
    },
    "toc": {
      "base_numbering": 1,
      "nav_menu": {
        "height": "314px",
        "width": "334px"
      },
      "number_sections": true,
      "sideBar": true,
      "skip_h1_title": true,
      "title_cell": "Table of Contents",
      "title_sidebar": "Contents",
      "toc_cell": false,
      "toc_position": {
        "height": "calc(100% - 180px)",
        "left": "10px",
        "top": "150px",
        "width": "391.188px"
      },
      "toc_section_display": true,
      "toc_window_display": true
    }
  },
  "nbformat": 4,
  "nbformat_minor": 5
}