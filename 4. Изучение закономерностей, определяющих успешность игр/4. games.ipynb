{
  "cells": [
    {
      "cell_type": "markdown",
      "id": "65fcb66c",
      "metadata": {
        "id": "65fcb66c"
      },
      "source": [
        "# Исследование о продаже компьютерных игры в интернет-магазине\n",
        "\n",
        "В нашем распоряжение из открытых источников попал датасет содержащий информацию о проданных играх с 1980-2016 гг., оценках пользователей и экспертов, жанрах и платформах. Необходимо выявить определяющие успешность игры закономерности. Это позволит интернет-магазину \"Стримчик\" сделать ставку на наиболее популярные игры и спланировать рекламные кампании."
      ]
    },
    {
      "cell_type": "markdown",
      "id": "554aff47",
      "metadata": {
        "id": "554aff47"
      },
      "source": [
        "**Цель исследования — выявить какие факторы влияют на успех видео игр в различных регионах.**"
      ]
    },
    {
      "cell_type": "markdown",
      "id": "4a928ca5",
      "metadata": {
        "id": "4a928ca5"
      },
      "source": [
        "Исследование будет проходить в 6 этапов:\n",
        "\n",
        " 1) Обзор данных. Данные хранящиеся в датасете `games.csv`, проверим на пропуски и корректность заполнения.\n",
        "\n",
        " 2) Предобработка данных. Выявленные в предыдущем этапе пропуски и ошибки, необходимо по возможности заполнить или удалить.\n",
        "\n",
        " 3) Проведение исследовательского анализа. Необходимо провести исследовательский анализ, а также ответить на следующие вопросы:\n",
        "\n",
        " * Сколько игр выпускалось в разные годы. Важны ли данные за все периоды?\n",
        " * Как менялись продажи по платформам и за какой характерный срок появляются новые и исчезают старые платформы?\n",
        " * Какие платформы лидируют по продажам, растут или падают?\n",
        " * Что можно сказать о самых прибыльных жанрах и выделяются ли жанры с высокими и низкими продажами?\n",
        "     \n",
        "     \n",
        " 4) Составление портрета пользователя каждого региона (NA, EU, JP).\n",
        "\n",
        "\n",
        " * Самые популярные платформы (топ-5).\n",
        " * Самые популярные жанры (топ-5).\n",
        " * Влияет ли рейтинг ESRB на продажи в отдельном регионе?\n",
        "\n",
        "\n",
        " 5) Проверка гипотез.\n",
        "\n",
        "\n",
        " * Средние пользовательские рейтинги платформ Xbox One и PC одинаковые\n",
        " * Средние пользовательские рейтинги жанров Action (англ. «действие», экшен-игры) и Sports (англ. «спортивные соревнования») разные\n",
        "\n",
        "\n",
        " 6) Общий вывод. Подведение итогов по выполненному исследованию."
      ]
    },
    {
      "cell_type": "markdown",
      "id": "1c768780",
      "metadata": {
        "id": "1c768780"
      },
      "source": [
        "## Обзор данных"
      ]
    },
    {
      "cell_type": "markdown",
      "id": "6d8733ad",
      "metadata": {
        "id": "6d8733ad"
      },
      "source": [
        "Подключаем библиотеки и импортируем базу данных `games.csv`"
      ]
    },
    {
      "cell_type": "code",
      "execution_count": null,
      "id": "bc034684",
      "metadata": {
        "scrolled": true,
        "id": "bc034684"
      },
      "outputs": [],
      "source": [
        "import pandas as pd\n",
        "import matplotlib.pyplot as plt\n",
        "import math\n",
        "import matplotlib\n",
        "import seaborn as sns\n",
        "from scipy import stats as st\n",
        "import numpy as np\n",
        "from scipy.stats import linregress\n",
        "import os\n",
        "\n",
        "pth1 = 'games.csv'\n",
        "pth2 = '/datasets/games.csv'\n",
        "\n",
        "if os.path.exists(pth1):\n",
        "    data = pd.read_csv(pth1)\n",
        "elif os.path.exists(pth2):\n",
        "    data = pd.read_csv(pth2)\n",
        "else:\n",
        "    print('Something is wrong')"
      ]
    },
    {
      "cell_type": "markdown",
      "id": "ed6d4913",
      "metadata": {
        "id": "ed6d4913"
      },
      "source": [
        "Выводим общую информацию по таблице"
      ]
    },
    {
      "cell_type": "code",
      "execution_count": null,
      "id": "4e8d6448",
      "metadata": {
        "scrolled": true,
        "id": "4e8d6448",
        "outputId": "acd08fc9-99fb-46f8-d478-e9f863c16907"
      },
      "outputs": [
        {
          "name": "stdout",
          "output_type": "stream",
          "text": [
            "<class 'pandas.core.frame.DataFrame'>\n",
            "RangeIndex: 16715 entries, 0 to 16714\n",
            "Data columns (total 11 columns):\n",
            " #   Column           Non-Null Count  Dtype  \n",
            "---  ------           --------------  -----  \n",
            " 0   Name             16713 non-null  object \n",
            " 1   Platform         16715 non-null  object \n",
            " 2   Year_of_Release  16446 non-null  float64\n",
            " 3   Genre            16713 non-null  object \n",
            " 4   NA_sales         16715 non-null  float64\n",
            " 5   EU_sales         16715 non-null  float64\n",
            " 6   JP_sales         16715 non-null  float64\n",
            " 7   Other_sales      16715 non-null  float64\n",
            " 8   Critic_Score     8137 non-null   float64\n",
            " 9   User_Score       10014 non-null  object \n",
            " 10  Rating           9949 non-null   object \n",
            "dtypes: float64(6), object(5)\n",
            "memory usage: 1.4+ MB\n"
          ]
        }
      ],
      "source": [
        "data.info()"
      ]
    },
    {
      "cell_type": "markdown",
      "id": "d45249c7",
      "metadata": {
        "id": "d45249c7"
      },
      "source": [
        "В таблице 11 столбцов с типами данных — float, object\n",
        " * Name — название игры\n",
        " * Platform — платформа\n",
        " * Year_of_Release — год выпуска\n",
        " * Genre — жанр игры\n",
        " * NA_sales — продажи в Северной Америке (миллионы проданных копий)\n",
        " * EU_sales — продажи в Европе (миллионы проданных копий)\n",
        " * JP_sales — продажи в Японии (миллионы проданных копий)\n",
        " * Other_sales — продажи в других странах (миллионы проданных копий)\n",
        " * Critic_Score — оценка критиков (максимум 100)\n",
        " * User_Score — оценка пользователей (максимум 10)\n",
        " * Rating — рейтинг от организации ESRB (англ. Entertainment Software Rating Board). Эта ассоциация определяет рейтинг компьютерных игр и присваивает им подходящую возрастную категорию.\n",
        "\n",
        " Количество значений в столбцах различаются, следовательно **есть пропущенные значения**"
      ]
    },
    {
      "cell_type": "code",
      "execution_count": null,
      "id": "5ef7bb7d",
      "metadata": {
        "scrolled": false,
        "id": "5ef7bb7d",
        "outputId": "99a8f0ad-1d0e-4c31-97c3-7938e72b942d"
      },
      "outputs": [
        {
          "data": {
            "text/html": [
              "<div>\n",
              "<style scoped>\n",
              "    .dataframe tbody tr th:only-of-type {\n",
              "        vertical-align: middle;\n",
              "    }\n",
              "\n",
              "    .dataframe tbody tr th {\n",
              "        vertical-align: top;\n",
              "    }\n",
              "\n",
              "    .dataframe thead th {\n",
              "        text-align: right;\n",
              "    }\n",
              "</style>\n",
              "<table border=\"1\" class=\"dataframe\">\n",
              "  <thead>\n",
              "    <tr style=\"text-align: right;\">\n",
              "      <th></th>\n",
              "      <th>Name</th>\n",
              "      <th>Platform</th>\n",
              "      <th>Year_of_Release</th>\n",
              "      <th>Genre</th>\n",
              "      <th>NA_sales</th>\n",
              "      <th>EU_sales</th>\n",
              "      <th>JP_sales</th>\n",
              "      <th>Other_sales</th>\n",
              "      <th>Critic_Score</th>\n",
              "      <th>User_Score</th>\n",
              "      <th>Rating</th>\n",
              "    </tr>\n",
              "  </thead>\n",
              "  <tbody>\n",
              "    <tr>\n",
              "      <th>0</th>\n",
              "      <td>Wii Sports</td>\n",
              "      <td>Wii</td>\n",
              "      <td>2006.0</td>\n",
              "      <td>Sports</td>\n",
              "      <td>41.36</td>\n",
              "      <td>28.96</td>\n",
              "      <td>3.77</td>\n",
              "      <td>8.45</td>\n",
              "      <td>76.0</td>\n",
              "      <td>8</td>\n",
              "      <td>E</td>\n",
              "    </tr>\n",
              "    <tr>\n",
              "      <th>1</th>\n",
              "      <td>Super Mario Bros.</td>\n",
              "      <td>NES</td>\n",
              "      <td>1985.0</td>\n",
              "      <td>Platform</td>\n",
              "      <td>29.08</td>\n",
              "      <td>3.58</td>\n",
              "      <td>6.81</td>\n",
              "      <td>0.77</td>\n",
              "      <td>NaN</td>\n",
              "      <td>NaN</td>\n",
              "      <td>NaN</td>\n",
              "    </tr>\n",
              "    <tr>\n",
              "      <th>2</th>\n",
              "      <td>Mario Kart Wii</td>\n",
              "      <td>Wii</td>\n",
              "      <td>2008.0</td>\n",
              "      <td>Racing</td>\n",
              "      <td>15.68</td>\n",
              "      <td>12.76</td>\n",
              "      <td>3.79</td>\n",
              "      <td>3.29</td>\n",
              "      <td>82.0</td>\n",
              "      <td>8.3</td>\n",
              "      <td>E</td>\n",
              "    </tr>\n",
              "    <tr>\n",
              "      <th>3</th>\n",
              "      <td>Wii Sports Resort</td>\n",
              "      <td>Wii</td>\n",
              "      <td>2009.0</td>\n",
              "      <td>Sports</td>\n",
              "      <td>15.61</td>\n",
              "      <td>10.93</td>\n",
              "      <td>3.28</td>\n",
              "      <td>2.95</td>\n",
              "      <td>80.0</td>\n",
              "      <td>8</td>\n",
              "      <td>E</td>\n",
              "    </tr>\n",
              "    <tr>\n",
              "      <th>4</th>\n",
              "      <td>Pokemon Red/Pokemon Blue</td>\n",
              "      <td>GB</td>\n",
              "      <td>1996.0</td>\n",
              "      <td>Role-Playing</td>\n",
              "      <td>11.27</td>\n",
              "      <td>8.89</td>\n",
              "      <td>10.22</td>\n",
              "      <td>1.00</td>\n",
              "      <td>NaN</td>\n",
              "      <td>NaN</td>\n",
              "      <td>NaN</td>\n",
              "    </tr>\n",
              "    <tr>\n",
              "      <th>5</th>\n",
              "      <td>Tetris</td>\n",
              "      <td>GB</td>\n",
              "      <td>1989.0</td>\n",
              "      <td>Puzzle</td>\n",
              "      <td>23.20</td>\n",
              "      <td>2.26</td>\n",
              "      <td>4.22</td>\n",
              "      <td>0.58</td>\n",
              "      <td>NaN</td>\n",
              "      <td>NaN</td>\n",
              "      <td>NaN</td>\n",
              "    </tr>\n",
              "    <tr>\n",
              "      <th>6</th>\n",
              "      <td>New Super Mario Bros.</td>\n",
              "      <td>DS</td>\n",
              "      <td>2006.0</td>\n",
              "      <td>Platform</td>\n",
              "      <td>11.28</td>\n",
              "      <td>9.14</td>\n",
              "      <td>6.50</td>\n",
              "      <td>2.88</td>\n",
              "      <td>89.0</td>\n",
              "      <td>8.5</td>\n",
              "      <td>E</td>\n",
              "    </tr>\n",
              "    <tr>\n",
              "      <th>7</th>\n",
              "      <td>Wii Play</td>\n",
              "      <td>Wii</td>\n",
              "      <td>2006.0</td>\n",
              "      <td>Misc</td>\n",
              "      <td>13.96</td>\n",
              "      <td>9.18</td>\n",
              "      <td>2.93</td>\n",
              "      <td>2.84</td>\n",
              "      <td>58.0</td>\n",
              "      <td>6.6</td>\n",
              "      <td>E</td>\n",
              "    </tr>\n",
              "    <tr>\n",
              "      <th>8</th>\n",
              "      <td>New Super Mario Bros. Wii</td>\n",
              "      <td>Wii</td>\n",
              "      <td>2009.0</td>\n",
              "      <td>Platform</td>\n",
              "      <td>14.44</td>\n",
              "      <td>6.94</td>\n",
              "      <td>4.70</td>\n",
              "      <td>2.24</td>\n",
              "      <td>87.0</td>\n",
              "      <td>8.4</td>\n",
              "      <td>E</td>\n",
              "    </tr>\n",
              "    <tr>\n",
              "      <th>9</th>\n",
              "      <td>Duck Hunt</td>\n",
              "      <td>NES</td>\n",
              "      <td>1984.0</td>\n",
              "      <td>Shooter</td>\n",
              "      <td>26.93</td>\n",
              "      <td>0.63</td>\n",
              "      <td>0.28</td>\n",
              "      <td>0.47</td>\n",
              "      <td>NaN</td>\n",
              "      <td>NaN</td>\n",
              "      <td>NaN</td>\n",
              "    </tr>\n",
              "    <tr>\n",
              "      <th>10</th>\n",
              "      <td>Nintendogs</td>\n",
              "      <td>DS</td>\n",
              "      <td>2005.0</td>\n",
              "      <td>Simulation</td>\n",
              "      <td>9.05</td>\n",
              "      <td>10.95</td>\n",
              "      <td>1.93</td>\n",
              "      <td>2.74</td>\n",
              "      <td>NaN</td>\n",
              "      <td>NaN</td>\n",
              "      <td>NaN</td>\n",
              "    </tr>\n",
              "    <tr>\n",
              "      <th>11</th>\n",
              "      <td>Mario Kart DS</td>\n",
              "      <td>DS</td>\n",
              "      <td>2005.0</td>\n",
              "      <td>Racing</td>\n",
              "      <td>9.71</td>\n",
              "      <td>7.47</td>\n",
              "      <td>4.13</td>\n",
              "      <td>1.90</td>\n",
              "      <td>91.0</td>\n",
              "      <td>8.6</td>\n",
              "      <td>E</td>\n",
              "    </tr>\n",
              "    <tr>\n",
              "      <th>12</th>\n",
              "      <td>Pokemon Gold/Pokemon Silver</td>\n",
              "      <td>GB</td>\n",
              "      <td>1999.0</td>\n",
              "      <td>Role-Playing</td>\n",
              "      <td>9.00</td>\n",
              "      <td>6.18</td>\n",
              "      <td>7.20</td>\n",
              "      <td>0.71</td>\n",
              "      <td>NaN</td>\n",
              "      <td>NaN</td>\n",
              "      <td>NaN</td>\n",
              "    </tr>\n",
              "    <tr>\n",
              "      <th>13</th>\n",
              "      <td>Wii Fit</td>\n",
              "      <td>Wii</td>\n",
              "      <td>2007.0</td>\n",
              "      <td>Sports</td>\n",
              "      <td>8.92</td>\n",
              "      <td>8.03</td>\n",
              "      <td>3.60</td>\n",
              "      <td>2.15</td>\n",
              "      <td>80.0</td>\n",
              "      <td>7.7</td>\n",
              "      <td>E</td>\n",
              "    </tr>\n",
              "    <tr>\n",
              "      <th>14</th>\n",
              "      <td>Kinect Adventures!</td>\n",
              "      <td>X360</td>\n",
              "      <td>2010.0</td>\n",
              "      <td>Misc</td>\n",
              "      <td>15.00</td>\n",
              "      <td>4.89</td>\n",
              "      <td>0.24</td>\n",
              "      <td>1.69</td>\n",
              "      <td>61.0</td>\n",
              "      <td>6.3</td>\n",
              "      <td>E</td>\n",
              "    </tr>\n",
              "    <tr>\n",
              "      <th>15</th>\n",
              "      <td>Wii Fit Plus</td>\n",
              "      <td>Wii</td>\n",
              "      <td>2009.0</td>\n",
              "      <td>Sports</td>\n",
              "      <td>9.01</td>\n",
              "      <td>8.49</td>\n",
              "      <td>2.53</td>\n",
              "      <td>1.77</td>\n",
              "      <td>80.0</td>\n",
              "      <td>7.4</td>\n",
              "      <td>E</td>\n",
              "    </tr>\n",
              "    <tr>\n",
              "      <th>16</th>\n",
              "      <td>Grand Theft Auto V</td>\n",
              "      <td>PS3</td>\n",
              "      <td>2013.0</td>\n",
              "      <td>Action</td>\n",
              "      <td>7.02</td>\n",
              "      <td>9.09</td>\n",
              "      <td>0.98</td>\n",
              "      <td>3.96</td>\n",
              "      <td>97.0</td>\n",
              "      <td>8.2</td>\n",
              "      <td>M</td>\n",
              "    </tr>\n",
              "    <tr>\n",
              "      <th>17</th>\n",
              "      <td>Grand Theft Auto: San Andreas</td>\n",
              "      <td>PS2</td>\n",
              "      <td>2004.0</td>\n",
              "      <td>Action</td>\n",
              "      <td>9.43</td>\n",
              "      <td>0.40</td>\n",
              "      <td>0.41</td>\n",
              "      <td>10.57</td>\n",
              "      <td>95.0</td>\n",
              "      <td>9</td>\n",
              "      <td>M</td>\n",
              "    </tr>\n",
              "    <tr>\n",
              "      <th>18</th>\n",
              "      <td>Super Mario World</td>\n",
              "      <td>SNES</td>\n",
              "      <td>1990.0</td>\n",
              "      <td>Platform</td>\n",
              "      <td>12.78</td>\n",
              "      <td>3.75</td>\n",
              "      <td>3.54</td>\n",
              "      <td>0.55</td>\n",
              "      <td>NaN</td>\n",
              "      <td>NaN</td>\n",
              "      <td>NaN</td>\n",
              "    </tr>\n",
              "    <tr>\n",
              "      <th>19</th>\n",
              "      <td>Brain Age: Train Your Brain in Minutes a Day</td>\n",
              "      <td>DS</td>\n",
              "      <td>2005.0</td>\n",
              "      <td>Misc</td>\n",
              "      <td>4.74</td>\n",
              "      <td>9.20</td>\n",
              "      <td>4.16</td>\n",
              "      <td>2.04</td>\n",
              "      <td>77.0</td>\n",
              "      <td>7.9</td>\n",
              "      <td>E</td>\n",
              "    </tr>\n",
              "  </tbody>\n",
              "</table>\n",
              "</div>"
            ],
            "text/plain": [
              "                                            Name Platform  Year_of_Release  \\\n",
              "0                                     Wii Sports      Wii           2006.0   \n",
              "1                              Super Mario Bros.      NES           1985.0   \n",
              "2                                 Mario Kart Wii      Wii           2008.0   \n",
              "3                              Wii Sports Resort      Wii           2009.0   \n",
              "4                       Pokemon Red/Pokemon Blue       GB           1996.0   \n",
              "5                                         Tetris       GB           1989.0   \n",
              "6                          New Super Mario Bros.       DS           2006.0   \n",
              "7                                       Wii Play      Wii           2006.0   \n",
              "8                      New Super Mario Bros. Wii      Wii           2009.0   \n",
              "9                                      Duck Hunt      NES           1984.0   \n",
              "10                                    Nintendogs       DS           2005.0   \n",
              "11                                 Mario Kart DS       DS           2005.0   \n",
              "12                   Pokemon Gold/Pokemon Silver       GB           1999.0   \n",
              "13                                       Wii Fit      Wii           2007.0   \n",
              "14                            Kinect Adventures!     X360           2010.0   \n",
              "15                                  Wii Fit Plus      Wii           2009.0   \n",
              "16                            Grand Theft Auto V      PS3           2013.0   \n",
              "17                 Grand Theft Auto: San Andreas      PS2           2004.0   \n",
              "18                             Super Mario World     SNES           1990.0   \n",
              "19  Brain Age: Train Your Brain in Minutes a Day       DS           2005.0   \n",
              "\n",
              "           Genre  NA_sales  EU_sales  JP_sales  Other_sales  Critic_Score  \\\n",
              "0         Sports     41.36     28.96      3.77         8.45          76.0   \n",
              "1       Platform     29.08      3.58      6.81         0.77           NaN   \n",
              "2         Racing     15.68     12.76      3.79         3.29          82.0   \n",
              "3         Sports     15.61     10.93      3.28         2.95          80.0   \n",
              "4   Role-Playing     11.27      8.89     10.22         1.00           NaN   \n",
              "5         Puzzle     23.20      2.26      4.22         0.58           NaN   \n",
              "6       Platform     11.28      9.14      6.50         2.88          89.0   \n",
              "7           Misc     13.96      9.18      2.93         2.84          58.0   \n",
              "8       Platform     14.44      6.94      4.70         2.24          87.0   \n",
              "9        Shooter     26.93      0.63      0.28         0.47           NaN   \n",
              "10    Simulation      9.05     10.95      1.93         2.74           NaN   \n",
              "11        Racing      9.71      7.47      4.13         1.90          91.0   \n",
              "12  Role-Playing      9.00      6.18      7.20         0.71           NaN   \n",
              "13        Sports      8.92      8.03      3.60         2.15          80.0   \n",
              "14          Misc     15.00      4.89      0.24         1.69          61.0   \n",
              "15        Sports      9.01      8.49      2.53         1.77          80.0   \n",
              "16        Action      7.02      9.09      0.98         3.96          97.0   \n",
              "17        Action      9.43      0.40      0.41        10.57          95.0   \n",
              "18      Platform     12.78      3.75      3.54         0.55           NaN   \n",
              "19          Misc      4.74      9.20      4.16         2.04          77.0   \n",
              "\n",
              "   User_Score Rating  \n",
              "0           8      E  \n",
              "1         NaN    NaN  \n",
              "2         8.3      E  \n",
              "3           8      E  \n",
              "4         NaN    NaN  \n",
              "5         NaN    NaN  \n",
              "6         8.5      E  \n",
              "7         6.6      E  \n",
              "8         8.4      E  \n",
              "9         NaN    NaN  \n",
              "10        NaN    NaN  \n",
              "11        8.6      E  \n",
              "12        NaN    NaN  \n",
              "13        7.7      E  \n",
              "14        6.3      E  \n",
              "15        7.4      E  \n",
              "16        8.2      M  \n",
              "17          9      M  \n",
              "18        NaN    NaN  \n",
              "19        7.9      E  "
            ]
          },
          "execution_count": 3,
          "metadata": {},
          "output_type": "execute_result"
        }
      ],
      "source": [
        "data.head(20)"
      ]
    },
    {
      "cell_type": "markdown",
      "id": "bf180f49",
      "metadata": {
        "id": "bf180f49"
      },
      "source": [
        "По представленным 20 строкам датафрейма можно сказать, что:\n",
        " * В основном пропуски присутствуют в столбцах `Critic_Score`, `User_Score`, `Rating`, которые необходимо будет заполнить или пропустить\n",
        " * Не соответствие типа данных и заполненой информации в столбцах `Year_of_Release`, `User_Score`"
      ]
    },
    {
      "cell_type": "markdown",
      "id": "56bd4c60",
      "metadata": {
        "id": "56bd4c60"
      },
      "source": [
        "### Вывод"
      ]
    },
    {
      "cell_type": "markdown",
      "id": "16d9797d",
      "metadata": {
        "id": "16d9797d"
      },
      "source": [
        "При ознакомленлении с датафреймом `games.csv`, было установленно что он содержит информацию о видео играх, количестве проданных копий по миру и рейтинг оценок пользователей и критиков и т.д.\n",
        "Имеется большое количество пропусков в ряде столбцов и не соответствие типов информации.\n",
        "На стадии предобработки необходимо:\n",
        " 1. Заполнить отсутсвующую информацию, либо оставить пропуски\n",
        " 2. Выявить явные и неявные дубликаты, исправить либо удалить их, если они есть\n",
        " 3. Привести к необходимому типу данных информацию в некоторых столбцах\n",
        " 4. Выявить аномальные значения, исправить либо удалить"
      ]
    },
    {
      "cell_type": "markdown",
      "id": "f44a26a4",
      "metadata": {
        "id": "f44a26a4"
      },
      "source": [
        "## Предобработка данных"
      ]
    },
    {
      "cell_type": "markdown",
      "id": "c5f9be6a",
      "metadata": {
        "id": "c5f9be6a"
      },
      "source": [
        "Приведем название столбцов к общему регистру"
      ]
    },
    {
      "cell_type": "code",
      "execution_count": null,
      "id": "34d70e61",
      "metadata": {
        "scrolled": true,
        "id": "34d70e61",
        "outputId": "334c12a8-4497-4423-8e81-7e85c3373d98"
      },
      "outputs": [
        {
          "data": {
            "text/plain": [
              "Index(['name', 'platform', 'year_of_release', 'genre', 'na_sales', 'eu_sales',\n",
              "       'jp_sales', 'other_sales', 'critic_score', 'user_score', 'rating'],\n",
              "      dtype='object')"
            ]
          },
          "execution_count": 4,
          "metadata": {},
          "output_type": "execute_result"
        }
      ],
      "source": [
        "data.rename(columns = {'Name':'name', 'Platform':'platform', 'Year_of_Release':'year_of_release',\n",
        "                       'Genre':'genre', 'NA_sales':'na_sales', 'EU_sales':'eu_sales', 'JP_sales':'jp_sales',\n",
        "                       'Other_sales':'other_sales', 'Critic_Score':'critic_score', 'User_Score':'user_score',\n",
        "                       'Rating':'rating'}, inplace = True )\n",
        "data.columns"
      ]
    },
    {
      "cell_type": "markdown",
      "id": "b3c3b45e",
      "metadata": {
        "id": "b3c3b45e"
      },
      "source": [
        "Подсчитаем количество пропусков по каждому столбцу"
      ]
    },
    {
      "cell_type": "code",
      "execution_count": null,
      "id": "0dfeae64",
      "metadata": {
        "scrolled": false,
        "id": "0dfeae64",
        "outputId": "9db9959d-13ff-454b-80db-2a1d503551b6"
      },
      "outputs": [
        {
          "data": {
            "text/plain": [
              "name                  2\n",
              "platform              0\n",
              "year_of_release     269\n",
              "genre                 2\n",
              "na_sales              0\n",
              "eu_sales              0\n",
              "jp_sales              0\n",
              "other_sales           0\n",
              "critic_score       8578\n",
              "user_score         6701\n",
              "rating             6766\n",
              "dtype: int64"
            ]
          },
          "execution_count": 5,
          "metadata": {},
          "output_type": "execute_result"
        }
      ],
      "source": [
        "data.isna().sum()"
      ]
    },
    {
      "cell_type": "markdown",
      "id": "2bca2966",
      "metadata": {
        "id": "2bca2966"
      },
      "source": [
        "Проверим датасет на наличие явных дубликатов."
      ]
    },
    {
      "cell_type": "code",
      "execution_count": null,
      "id": "efe414c0",
      "metadata": {
        "id": "efe414c0",
        "outputId": "bfb4a6da-d7d7-4f9e-c7de-541afdbf33fd"
      },
      "outputs": [
        {
          "data": {
            "text/plain": [
              "0"
            ]
          },
          "execution_count": 6,
          "metadata": {},
          "output_type": "execute_result"
        }
      ],
      "source": [
        "data.duplicated().sum()"
      ]
    },
    {
      "cell_type": "markdown",
      "id": "ece502c6",
      "metadata": {
        "id": "ece502c6"
      },
      "source": [
        "Явных дубликатов не обнаруженно"
      ]
    },
    {
      "cell_type": "markdown",
      "id": "073f7c13",
      "metadata": {
        "id": "073f7c13"
      },
      "source": [
        "Проверим наличие неявных дубликатов в столбцах"
      ]
    },
    {
      "cell_type": "code",
      "execution_count": null,
      "id": "fb6ce025",
      "metadata": {
        "scrolled": true,
        "id": "fb6ce025",
        "outputId": "e4fb2ece-c093-42fb-8602-4705413d2f9b"
      },
      "outputs": [
        {
          "data": {
            "text/plain": [
              "platform\n",
              "PS2     2161\n",
              "DS      2151\n",
              "PS3     1331\n",
              "Wii     1320\n",
              "X360    1262\n",
              "PSP     1209\n",
              "PS      1197\n",
              "PC       974\n",
              "XB       824\n",
              "GBA      822\n",
              "GC       556\n",
              "3DS      520\n",
              "PSV      430\n",
              "PS4      392\n",
              "N64      319\n",
              "XOne     247\n",
              "SNES     239\n",
              "SAT      173\n",
              "WiiU     147\n",
              "2600     133\n",
              "NES       98\n",
              "GB        98\n",
              "DC        52\n",
              "GEN       29\n",
              "NG        12\n",
              "SCD        6\n",
              "WS         6\n",
              "3DO        3\n",
              "TG16       2\n",
              "PCFX       1\n",
              "GG         1\n",
              "dtype: int64"
            ]
          },
          "execution_count": 7,
          "metadata": {},
          "output_type": "execute_result"
        }
      ],
      "source": [
        "data.value_counts('platform')"
      ]
    },
    {
      "cell_type": "code",
      "execution_count": null,
      "id": "240a2b99",
      "metadata": {
        "scrolled": true,
        "id": "240a2b99",
        "outputId": "34ee74a7-6951-4f27-f70d-5c72019709bf"
      },
      "outputs": [
        {
          "data": {
            "text/plain": [
              "genre\n",
              "Action          3369\n",
              "Sports          2348\n",
              "Misc            1750\n",
              "Role-Playing    1498\n",
              "Shooter         1323\n",
              "Adventure       1303\n",
              "Racing          1249\n",
              "Platform         888\n",
              "Simulation       873\n",
              "Fighting         849\n",
              "Strategy         683\n",
              "Puzzle           580\n",
              "dtype: int64"
            ]
          },
          "execution_count": 8,
          "metadata": {},
          "output_type": "execute_result"
        }
      ],
      "source": [
        "data.value_counts('genre')"
      ]
    },
    {
      "cell_type": "code",
      "execution_count": null,
      "id": "3c379fdc",
      "metadata": {
        "scrolled": true,
        "id": "3c379fdc",
        "outputId": "24f5dff9-2a15-4003-bf53-4a16cc6286a4"
      },
      "outputs": [
        {
          "data": {
            "text/plain": [
              "year_of_release\n",
              "2008.0    1427\n",
              "2009.0    1426\n",
              "2010.0    1255\n",
              "2007.0    1197\n",
              "2011.0    1136\n",
              "2006.0    1006\n",
              "2005.0     939\n",
              "2002.0     829\n",
              "2003.0     775\n",
              "2004.0     762\n",
              "2012.0     653\n",
              "2015.0     606\n",
              "2014.0     581\n",
              "2013.0     544\n",
              "2016.0     502\n",
              "2001.0     482\n",
              "1998.0     379\n",
              "2000.0     350\n",
              "1999.0     338\n",
              "1997.0     289\n",
              "1996.0     263\n",
              "1995.0     219\n",
              "1994.0     121\n",
              "1993.0      62\n",
              "1981.0      46\n",
              "1992.0      43\n",
              "1991.0      41\n",
              "1982.0      36\n",
              "1986.0      21\n",
              "1989.0      17\n",
              "1983.0      17\n",
              "1990.0      16\n",
              "1987.0      16\n",
              "1988.0      15\n",
              "1985.0      14\n",
              "1984.0      14\n",
              "1980.0       9\n",
              "dtype: int64"
            ]
          },
          "execution_count": 9,
          "metadata": {},
          "output_type": "execute_result"
        }
      ],
      "source": [
        "data.value_counts('year_of_release')"
      ]
    },
    {
      "cell_type": "markdown",
      "id": "d2aadb1c",
      "metadata": {
        "id": "d2aadb1c"
      },
      "source": [
        "Преобразуем названия игр в один регистр, для выявления дубликатов"
      ]
    },
    {
      "cell_type": "code",
      "execution_count": null,
      "id": "2f642e9a",
      "metadata": {
        "id": "2f642e9a"
      },
      "outputs": [],
      "source": [
        "data['name'] = data['name'].str.lower()"
      ]
    },
    {
      "cell_type": "markdown",
      "id": "cd4aea55",
      "metadata": {
        "id": "cd4aea55"
      },
      "source": [
        "Проверим дубликаты по сумме ключевых столбцов"
      ]
    },
    {
      "cell_type": "code",
      "execution_count": null,
      "id": "2f834303",
      "metadata": {
        "id": "2f834303",
        "outputId": "8ec74c61-73cb-47d6-b3c6-1e220d189678"
      },
      "outputs": [
        {
          "data": {
            "text/html": [
              "<div>\n",
              "<style scoped>\n",
              "    .dataframe tbody tr th:only-of-type {\n",
              "        vertical-align: middle;\n",
              "    }\n",
              "\n",
              "    .dataframe tbody tr th {\n",
              "        vertical-align: top;\n",
              "    }\n",
              "\n",
              "    .dataframe thead th {\n",
              "        text-align: right;\n",
              "    }\n",
              "</style>\n",
              "<table border=\"1\" class=\"dataframe\">\n",
              "  <thead>\n",
              "    <tr style=\"text-align: right;\">\n",
              "      <th></th>\n",
              "      <th>name</th>\n",
              "      <th>platform</th>\n",
              "      <th>year_of_release</th>\n",
              "      <th>genre</th>\n",
              "      <th>na_sales</th>\n",
              "      <th>eu_sales</th>\n",
              "      <th>jp_sales</th>\n",
              "      <th>other_sales</th>\n",
              "      <th>critic_score</th>\n",
              "      <th>user_score</th>\n",
              "      <th>rating</th>\n",
              "    </tr>\n",
              "  </thead>\n",
              "  <tbody>\n",
              "    <tr>\n",
              "      <th>604</th>\n",
              "      <td>madden nfl 13</td>\n",
              "      <td>PS3</td>\n",
              "      <td>2012.0</td>\n",
              "      <td>Sports</td>\n",
              "      <td>2.11</td>\n",
              "      <td>0.22</td>\n",
              "      <td>0.00</td>\n",
              "      <td>0.23</td>\n",
              "      <td>83.0</td>\n",
              "      <td>5.5</td>\n",
              "      <td>E</td>\n",
              "    </tr>\n",
              "    <tr>\n",
              "      <th>659</th>\n",
              "      <td>NaN</td>\n",
              "      <td>GEN</td>\n",
              "      <td>1993.0</td>\n",
              "      <td>NaN</td>\n",
              "      <td>1.78</td>\n",
              "      <td>0.53</td>\n",
              "      <td>0.00</td>\n",
              "      <td>0.08</td>\n",
              "      <td>NaN</td>\n",
              "      <td>NaN</td>\n",
              "      <td>NaN</td>\n",
              "    </tr>\n",
              "    <tr>\n",
              "      <th>14244</th>\n",
              "      <td>NaN</td>\n",
              "      <td>GEN</td>\n",
              "      <td>1993.0</td>\n",
              "      <td>NaN</td>\n",
              "      <td>0.00</td>\n",
              "      <td>0.00</td>\n",
              "      <td>0.03</td>\n",
              "      <td>0.00</td>\n",
              "      <td>NaN</td>\n",
              "      <td>NaN</td>\n",
              "      <td>NaN</td>\n",
              "    </tr>\n",
              "    <tr>\n",
              "      <th>16230</th>\n",
              "      <td>madden nfl 13</td>\n",
              "      <td>PS3</td>\n",
              "      <td>2012.0</td>\n",
              "      <td>Sports</td>\n",
              "      <td>0.00</td>\n",
              "      <td>0.01</td>\n",
              "      <td>0.00</td>\n",
              "      <td>0.00</td>\n",
              "      <td>83.0</td>\n",
              "      <td>5.5</td>\n",
              "      <td>E</td>\n",
              "    </tr>\n",
              "  </tbody>\n",
              "</table>\n",
              "</div>"
            ],
            "text/plain": [
              "                name platform  year_of_release   genre  na_sales  eu_sales  \\\n",
              "604    madden nfl 13      PS3           2012.0  Sports      2.11      0.22   \n",
              "659              NaN      GEN           1993.0     NaN      1.78      0.53   \n",
              "14244            NaN      GEN           1993.0     NaN      0.00      0.00   \n",
              "16230  madden nfl 13      PS3           2012.0  Sports      0.00      0.01   \n",
              "\n",
              "       jp_sales  other_sales  critic_score user_score rating  \n",
              "604        0.00         0.23          83.0        5.5      E  \n",
              "659        0.00         0.08           NaN        NaN    NaN  \n",
              "14244      0.03         0.00           NaN        NaN    NaN  \n",
              "16230      0.00         0.00          83.0        5.5      E  "
            ]
          },
          "metadata": {},
          "output_type": "display_data"
        },
        {
          "data": {
            "text/html": [
              "<div>\n",
              "<style scoped>\n",
              "    .dataframe tbody tr th:only-of-type {\n",
              "        vertical-align: middle;\n",
              "    }\n",
              "\n",
              "    .dataframe tbody tr th {\n",
              "        vertical-align: top;\n",
              "    }\n",
              "\n",
              "    .dataframe thead th {\n",
              "        text-align: right;\n",
              "    }\n",
              "</style>\n",
              "<table border=\"1\" class=\"dataframe\">\n",
              "  <thead>\n",
              "    <tr style=\"text-align: right;\">\n",
              "      <th></th>\n",
              "      <th>name</th>\n",
              "      <th>platform</th>\n",
              "      <th>year_of_release</th>\n",
              "      <th>genre</th>\n",
              "      <th>na_sales</th>\n",
              "      <th>eu_sales</th>\n",
              "      <th>jp_sales</th>\n",
              "      <th>other_sales</th>\n",
              "      <th>critic_score</th>\n",
              "      <th>user_score</th>\n",
              "      <th>rating</th>\n",
              "    </tr>\n",
              "  </thead>\n",
              "  <tbody>\n",
              "    <tr>\n",
              "      <th>604</th>\n",
              "      <td>madden nfl 13</td>\n",
              "      <td>PS3</td>\n",
              "      <td>2012.0</td>\n",
              "      <td>Sports</td>\n",
              "      <td>2.11</td>\n",
              "      <td>0.23</td>\n",
              "      <td>0.00</td>\n",
              "      <td>0.23</td>\n",
              "      <td>83.0</td>\n",
              "      <td>5.5</td>\n",
              "      <td>E</td>\n",
              "    </tr>\n",
              "    <tr>\n",
              "      <th>659</th>\n",
              "      <td>NaN</td>\n",
              "      <td>GEN</td>\n",
              "      <td>1993.0</td>\n",
              "      <td>NaN</td>\n",
              "      <td>1.78</td>\n",
              "      <td>0.53</td>\n",
              "      <td>0.00</td>\n",
              "      <td>0.08</td>\n",
              "      <td>NaN</td>\n",
              "      <td>NaN</td>\n",
              "      <td>NaN</td>\n",
              "    </tr>\n",
              "    <tr>\n",
              "      <th>14244</th>\n",
              "      <td>NaN</td>\n",
              "      <td>GEN</td>\n",
              "      <td>1993.0</td>\n",
              "      <td>NaN</td>\n",
              "      <td>0.00</td>\n",
              "      <td>0.00</td>\n",
              "      <td>0.03</td>\n",
              "      <td>0.00</td>\n",
              "      <td>NaN</td>\n",
              "      <td>NaN</td>\n",
              "      <td>NaN</td>\n",
              "    </tr>\n",
              "    <tr>\n",
              "      <th>16230</th>\n",
              "      <td>madden nfl 13</td>\n",
              "      <td>PS3</td>\n",
              "      <td>2012.0</td>\n",
              "      <td>Sports</td>\n",
              "      <td>0.00</td>\n",
              "      <td>0.01</td>\n",
              "      <td>0.00</td>\n",
              "      <td>0.00</td>\n",
              "      <td>83.0</td>\n",
              "      <td>5.5</td>\n",
              "      <td>E</td>\n",
              "    </tr>\n",
              "  </tbody>\n",
              "</table>\n",
              "</div>"
            ],
            "text/plain": [
              "                name platform  year_of_release   genre  na_sales  eu_sales  \\\n",
              "604    madden nfl 13      PS3           2012.0  Sports      2.11      0.23   \n",
              "659              NaN      GEN           1993.0     NaN      1.78      0.53   \n",
              "14244            NaN      GEN           1993.0     NaN      0.00      0.00   \n",
              "16230  madden nfl 13      PS3           2012.0  Sports      0.00      0.01   \n",
              "\n",
              "       jp_sales  other_sales  critic_score user_score rating  \n",
              "604        0.00         0.23          83.0        5.5      E  \n",
              "659        0.00         0.08           NaN        NaN    NaN  \n",
              "14244      0.03         0.00           NaN        NaN    NaN  \n",
              "16230      0.00         0.00          83.0        5.5      E  "
            ]
          },
          "metadata": {},
          "output_type": "display_data"
        },
        {
          "data": {
            "text/html": [
              "<div>\n",
              "<style scoped>\n",
              "    .dataframe tbody tr th:only-of-type {\n",
              "        vertical-align: middle;\n",
              "    }\n",
              "\n",
              "    .dataframe tbody tr th {\n",
              "        vertical-align: top;\n",
              "    }\n",
              "\n",
              "    .dataframe thead th {\n",
              "        text-align: right;\n",
              "    }\n",
              "</style>\n",
              "<table border=\"1\" class=\"dataframe\">\n",
              "  <thead>\n",
              "    <tr style=\"text-align: right;\">\n",
              "      <th></th>\n",
              "      <th>name</th>\n",
              "      <th>platform</th>\n",
              "      <th>year_of_release</th>\n",
              "      <th>genre</th>\n",
              "      <th>na_sales</th>\n",
              "      <th>eu_sales</th>\n",
              "      <th>jp_sales</th>\n",
              "      <th>other_sales</th>\n",
              "      <th>critic_score</th>\n",
              "      <th>user_score</th>\n",
              "      <th>rating</th>\n",
              "    </tr>\n",
              "  </thead>\n",
              "  <tbody>\n",
              "    <tr>\n",
              "      <th>659</th>\n",
              "      <td>NaN</td>\n",
              "      <td>GEN</td>\n",
              "      <td>1993.0</td>\n",
              "      <td>NaN</td>\n",
              "      <td>1.78</td>\n",
              "      <td>0.53</td>\n",
              "      <td>0.00</td>\n",
              "      <td>0.08</td>\n",
              "      <td>NaN</td>\n",
              "      <td>NaN</td>\n",
              "      <td>NaN</td>\n",
              "    </tr>\n",
              "    <tr>\n",
              "      <th>14244</th>\n",
              "      <td>NaN</td>\n",
              "      <td>GEN</td>\n",
              "      <td>1993.0</td>\n",
              "      <td>NaN</td>\n",
              "      <td>0.00</td>\n",
              "      <td>0.00</td>\n",
              "      <td>0.03</td>\n",
              "      <td>0.00</td>\n",
              "      <td>NaN</td>\n",
              "      <td>NaN</td>\n",
              "      <td>NaN</td>\n",
              "    </tr>\n",
              "  </tbody>\n",
              "</table>\n",
              "</div>"
            ],
            "text/plain": [
              "      name platform  year_of_release genre  na_sales  eu_sales  jp_sales  \\\n",
              "659    NaN      GEN           1993.0   NaN      1.78      0.53      0.00   \n",
              "14244  NaN      GEN           1993.0   NaN      0.00      0.00      0.03   \n",
              "\n",
              "       other_sales  critic_score user_score rating  \n",
              "659           0.08           NaN        NaN    NaN  \n",
              "14244         0.00           NaN        NaN    NaN  "
            ]
          },
          "metadata": {},
          "output_type": "display_data"
        },
        {
          "data": {
            "text/html": [
              "<div>\n",
              "<style scoped>\n",
              "    .dataframe tbody tr th:only-of-type {\n",
              "        vertical-align: middle;\n",
              "    }\n",
              "\n",
              "    .dataframe tbody tr th {\n",
              "        vertical-align: top;\n",
              "    }\n",
              "\n",
              "    .dataframe thead th {\n",
              "        text-align: right;\n",
              "    }\n",
              "</style>\n",
              "<table border=\"1\" class=\"dataframe\">\n",
              "  <thead>\n",
              "    <tr style=\"text-align: right;\">\n",
              "      <th></th>\n",
              "      <th>name</th>\n",
              "      <th>platform</th>\n",
              "      <th>year_of_release</th>\n",
              "      <th>genre</th>\n",
              "      <th>na_sales</th>\n",
              "      <th>eu_sales</th>\n",
              "      <th>jp_sales</th>\n",
              "      <th>other_sales</th>\n",
              "      <th>critic_score</th>\n",
              "      <th>user_score</th>\n",
              "      <th>rating</th>\n",
              "    </tr>\n",
              "  </thead>\n",
              "  <tbody>\n",
              "    <tr>\n",
              "      <th>507</th>\n",
              "      <td>madden nfl 13</td>\n",
              "      <td>X360</td>\n",
              "      <td>2012.0</td>\n",
              "      <td>Sports</td>\n",
              "      <td>2.53</td>\n",
              "      <td>0.15</td>\n",
              "      <td>0.0</td>\n",
              "      <td>0.17</td>\n",
              "      <td>81.0</td>\n",
              "      <td>5.8</td>\n",
              "      <td>E</td>\n",
              "    </tr>\n",
              "    <tr>\n",
              "      <th>604</th>\n",
              "      <td>madden nfl 13</td>\n",
              "      <td>PS3</td>\n",
              "      <td>2012.0</td>\n",
              "      <td>Sports</td>\n",
              "      <td>2.11</td>\n",
              "      <td>0.23</td>\n",
              "      <td>0.0</td>\n",
              "      <td>0.23</td>\n",
              "      <td>83.0</td>\n",
              "      <td>5.5</td>\n",
              "      <td>E</td>\n",
              "    </tr>\n",
              "    <tr>\n",
              "      <th>3986</th>\n",
              "      <td>madden nfl 13</td>\n",
              "      <td>Wii</td>\n",
              "      <td>2012.0</td>\n",
              "      <td>Sports</td>\n",
              "      <td>0.47</td>\n",
              "      <td>0.00</td>\n",
              "      <td>0.0</td>\n",
              "      <td>0.03</td>\n",
              "      <td>NaN</td>\n",
              "      <td>7.3</td>\n",
              "      <td>E</td>\n",
              "    </tr>\n",
              "    <tr>\n",
              "      <th>5887</th>\n",
              "      <td>madden nfl 13</td>\n",
              "      <td>PSV</td>\n",
              "      <td>2012.0</td>\n",
              "      <td>Sports</td>\n",
              "      <td>0.28</td>\n",
              "      <td>0.00</td>\n",
              "      <td>0.0</td>\n",
              "      <td>0.02</td>\n",
              "      <td>63.0</td>\n",
              "      <td>7.3</td>\n",
              "      <td>E</td>\n",
              "    </tr>\n",
              "    <tr>\n",
              "      <th>7066</th>\n",
              "      <td>madden nfl 13</td>\n",
              "      <td>WiiU</td>\n",
              "      <td>2012.0</td>\n",
              "      <td>Sports</td>\n",
              "      <td>0.21</td>\n",
              "      <td>0.00</td>\n",
              "      <td>0.0</td>\n",
              "      <td>0.02</td>\n",
              "      <td>75.0</td>\n",
              "      <td>6.7</td>\n",
              "      <td>E</td>\n",
              "    </tr>\n",
              "  </tbody>\n",
              "</table>\n",
              "</div>"
            ],
            "text/plain": [
              "               name platform  year_of_release   genre  na_sales  eu_sales  \\\n",
              "507   madden nfl 13     X360           2012.0  Sports      2.53      0.15   \n",
              "604   madden nfl 13      PS3           2012.0  Sports      2.11      0.23   \n",
              "3986  madden nfl 13      Wii           2012.0  Sports      0.47      0.00   \n",
              "5887  madden nfl 13      PSV           2012.0  Sports      0.28      0.00   \n",
              "7066  madden nfl 13     WiiU           2012.0  Sports      0.21      0.00   \n",
              "\n",
              "      jp_sales  other_sales  critic_score user_score rating  \n",
              "507        0.0         0.17          81.0        5.8      E  \n",
              "604        0.0         0.23          83.0        5.5      E  \n",
              "3986       0.0         0.03           NaN        7.3      E  \n",
              "5887       0.0         0.02          63.0        7.3      E  \n",
              "7066       0.0         0.02          75.0        6.7      E  "
            ]
          },
          "execution_count": 11,
          "metadata": {},
          "output_type": "execute_result"
        }
      ],
      "source": [
        "display(data[data.duplicated(subset=['name', 'platform', 'year_of_release'], keep=False)])\n",
        "#data.query('name==\"Madden NFL 13\" and platform==\"PS3\" and eu_sales==0.22')['eu_sales'] +=0.01\n",
        "\n",
        "data.loc[(data['name']=='madden nfl 13') & (data['platform']=='PS3') & (data['eu_sales']==0.22), 'eu_sales']+=0.01\n",
        "#data.value_counts('name')\n",
        "#data.query('name==\"Need for Speed: Most Wanted\"')\n",
        "#data = data.groupby(['name', 'platform', 'year_of_release']).agg({'eu_sales': ['sum']}).reset_index()\n",
        "#data = data.rename(columns = { 'eu_sales sum':'eu_sales'}, inplace = True )\n",
        "#data.columns = ['name', 'platform', 'year_of_release',\n",
        "#                'genre', 'na_sales', 'eu_sales', 'jp_sales',\n",
        "#                'other_sales', 'critic_score', 'user_score', 'rating']\n",
        "#data\n",
        "#data.loc[(data['name']!='Madden NFL 13') & (data['platform']!='PS3') & (data['eu_sales']!=0.01) & (data['rating']!='E') ]\n",
        "display(data[data.duplicated(subset=['name', 'platform', 'year_of_release'], keep=False)])\n",
        "\n",
        "data = data.drop([16230])\n",
        "display(data[data.duplicated(subset=['name', 'platform', 'year_of_release'], keep=False)])\n",
        "data.query('name==\"madden nfl 13\"')"
      ]
    },
    {
      "cell_type": "markdown",
      "id": "0fc506b9",
      "metadata": {
        "id": "0fc506b9"
      },
      "source": [
        "Просмотрим количество пропусков в столбце `name`"
      ]
    },
    {
      "cell_type": "code",
      "execution_count": null,
      "id": "9667343f",
      "metadata": {
        "id": "9667343f",
        "outputId": "94964510-bc17-46f7-b8bb-692d99b8a703"
      },
      "outputs": [
        {
          "data": {
            "text/html": [
              "<div>\n",
              "<style scoped>\n",
              "    .dataframe tbody tr th:only-of-type {\n",
              "        vertical-align: middle;\n",
              "    }\n",
              "\n",
              "    .dataframe tbody tr th {\n",
              "        vertical-align: top;\n",
              "    }\n",
              "\n",
              "    .dataframe thead th {\n",
              "        text-align: right;\n",
              "    }\n",
              "</style>\n",
              "<table border=\"1\" class=\"dataframe\">\n",
              "  <thead>\n",
              "    <tr style=\"text-align: right;\">\n",
              "      <th></th>\n",
              "      <th>name</th>\n",
              "      <th>platform</th>\n",
              "      <th>year_of_release</th>\n",
              "      <th>genre</th>\n",
              "      <th>na_sales</th>\n",
              "      <th>eu_sales</th>\n",
              "      <th>jp_sales</th>\n",
              "      <th>other_sales</th>\n",
              "      <th>critic_score</th>\n",
              "      <th>user_score</th>\n",
              "      <th>rating</th>\n",
              "    </tr>\n",
              "  </thead>\n",
              "  <tbody>\n",
              "    <tr>\n",
              "      <th>659</th>\n",
              "      <td>NaN</td>\n",
              "      <td>GEN</td>\n",
              "      <td>1993.0</td>\n",
              "      <td>NaN</td>\n",
              "      <td>1.78</td>\n",
              "      <td>0.53</td>\n",
              "      <td>0.00</td>\n",
              "      <td>0.08</td>\n",
              "      <td>NaN</td>\n",
              "      <td>NaN</td>\n",
              "      <td>NaN</td>\n",
              "    </tr>\n",
              "    <tr>\n",
              "      <th>14244</th>\n",
              "      <td>NaN</td>\n",
              "      <td>GEN</td>\n",
              "      <td>1993.0</td>\n",
              "      <td>NaN</td>\n",
              "      <td>0.00</td>\n",
              "      <td>0.00</td>\n",
              "      <td>0.03</td>\n",
              "      <td>0.00</td>\n",
              "      <td>NaN</td>\n",
              "      <td>NaN</td>\n",
              "      <td>NaN</td>\n",
              "    </tr>\n",
              "  </tbody>\n",
              "</table>\n",
              "</div>"
            ],
            "text/plain": [
              "      name platform  year_of_release genre  na_sales  eu_sales  jp_sales  \\\n",
              "659    NaN      GEN           1993.0   NaN      1.78      0.53      0.00   \n",
              "14244  NaN      GEN           1993.0   NaN      0.00      0.00      0.03   \n",
              "\n",
              "       other_sales  critic_score user_score rating  \n",
              "659           0.08           NaN        NaN    NaN  \n",
              "14244         0.00           NaN        NaN    NaN  "
            ]
          },
          "execution_count": 12,
          "metadata": {},
          "output_type": "execute_result"
        }
      ],
      "source": [
        "data.query('name.isna()')"
      ]
    },
    {
      "cell_type": "markdown",
      "id": "b9bc06ef",
      "metadata": {
        "id": "b9bc06ef"
      },
      "source": [
        "Данные строки датафрейма можно удалить, так как продажи по данным играм незначительные, также при их удалении мы уберем пропуски в столбце `genre`"
      ]
    },
    {
      "cell_type": "markdown",
      "id": "64618f19",
      "metadata": {
        "id": "64618f19"
      },
      "source": [
        "Удалим строки без названия игр"
      ]
    },
    {
      "cell_type": "code",
      "execution_count": null,
      "id": "7fb0d655",
      "metadata": {
        "id": "7fb0d655"
      },
      "outputs": [],
      "source": [
        "data= data[~(data['name'].isna())]"
      ]
    },
    {
      "cell_type": "markdown",
      "id": "eb8a7966",
      "metadata": {
        "id": "eb8a7966"
      },
      "source": [
        "Удалим строки без года выпуска игры и преобразуем столбец в тип `int`"
      ]
    },
    {
      "cell_type": "code",
      "execution_count": null,
      "id": "98b8dee0",
      "metadata": {
        "id": "98b8dee0"
      },
      "outputs": [],
      "source": [
        "data = data[~(data['year_of_release'].isna())]\n",
        "data['year_of_release'] = data['year_of_release'].astype(int)\n"
      ]
    },
    {
      "cell_type": "markdown",
      "id": "114d8631",
      "metadata": {
        "id": "114d8631"
      },
      "source": [
        "Значения `tbd` (to be determined = будет определено) столбца `user_score` были переназначены в NaN.\n",
        "Столбец преобразован в тип float"
      ]
    },
    {
      "cell_type": "code",
      "execution_count": null,
      "id": "423ff6de",
      "metadata": {
        "id": "423ff6de"
      },
      "outputs": [],
      "source": [
        "data.loc[data['user_score']=='tbd', 'user_score']='NaN'\n",
        "data['user_score'] = data['user_score'].astype(float)"
      ]
    },
    {
      "cell_type": "markdown",
      "id": "45f69804",
      "metadata": {
        "id": "45f69804"
      },
      "source": [
        "Оценки критиков преобразованны в формат схожий с форматом оценки пользователей, так как они не выставляли дробную часть."
      ]
    },
    {
      "cell_type": "code",
      "execution_count": null,
      "id": "3df06329",
      "metadata": {
        "id": "3df06329"
      },
      "outputs": [],
      "source": [
        "data.loc[~(data['user_score']=='NaN'), 'user_score'] = \\\n",
        "    data.loc[~(data['user_score']=='NaN'), 'user_score'] * 10"
      ]
    },
    {
      "cell_type": "markdown",
      "id": "e308d35e",
      "metadata": {
        "id": "e308d35e"
      },
      "source": [
        "Посчитаем все продажи в регионах и занесем их в отдельный столбец `all_sales`"
      ]
    },
    {
      "cell_type": "code",
      "execution_count": null,
      "id": "52c1df3f",
      "metadata": {
        "id": "52c1df3f"
      },
      "outputs": [],
      "source": [
        "data['all_sales'] = data[['na_sales','eu_sales','jp_sales', 'other_sales']].sum(axis = 1)"
      ]
    },
    {
      "cell_type": "markdown",
      "id": "218269c4",
      "metadata": {
        "id": "218269c4"
      },
      "source": [
        "Просмотрим частоту выставления играм различных рейтингов"
      ]
    },
    {
      "cell_type": "code",
      "execution_count": null,
      "id": "73987ddf",
      "metadata": {
        "id": "73987ddf",
        "outputId": "d4f5e490-2297-4c7f-9730-d38fe5521ef1"
      },
      "outputs": [
        {
          "data": {
            "text/plain": [
              "rating\n",
              "E       3920\n",
              "T       2905\n",
              "M       1536\n",
              "E10+    1393\n",
              "EC         8\n",
              "K-A        3\n",
              "AO         1\n",
              "RP         1\n",
              "dtype: int64"
            ]
          },
          "metadata": {},
          "output_type": "display_data"
        },
        {
          "name": "stdout",
          "output_type": "stream",
          "text": [
            "Количество игр без рейтинга 6676\n"
          ]
        }
      ],
      "source": [
        "display(data.value_counts('rating'))\n",
        "print('Количество игр без рейтинга',data.rating.isna().sum())"
      ]
    },
    {
      "cell_type": "markdown",
      "id": "054c831a",
      "metadata": {
        "id": "054c831a"
      },
      "source": [
        "В столбце `rating` заменим значение `K-A`(\"Kids to Adults\") на `E`(\"Everyone\"), так как оно является устаревшим обозначением."
      ]
    },
    {
      "cell_type": "code",
      "execution_count": null,
      "id": "91207a22",
      "metadata": {
        "id": "91207a22"
      },
      "outputs": [],
      "source": [
        "data.loc[data['rating']=='K-A', 'rating']='E'"
      ]
    },
    {
      "cell_type": "markdown",
      "id": "25205c35",
      "metadata": {
        "id": "25205c35"
      },
      "source": [
        "В столбце `rating` заменим значение `EC` («Early childhood») — «Для детей младшего возраста» на `E`(\"Everyone\"), так как оно подходит под эту категорию."
      ]
    },
    {
      "cell_type": "code",
      "execution_count": null,
      "id": "5d4c32f8",
      "metadata": {
        "id": "5d4c32f8"
      },
      "outputs": [],
      "source": [
        "data.loc[data['rating']=='EC', 'rating']='E'"
      ]
    },
    {
      "cell_type": "markdown",
      "id": "43c733e3",
      "metadata": {
        "id": "43c733e3"
      },
      "source": [
        "Так же в столбце `rating` можно объединить рейтинги `AO` («Adults Only 18+») — «Только для взрослых» и «M» («Mature») — «Для взрослых», из-за небольшого различия в возврастных ограничениях (`M` для лиц от 17 лет, `AO` для лиц от 18 лет) и всего у одной игры стоит рейтинг `AO`."
      ]
    },
    {
      "cell_type": "code",
      "execution_count": null,
      "id": "bc3b03c1",
      "metadata": {
        "id": "bc3b03c1"
      },
      "outputs": [],
      "source": [
        "data.loc[data['rating']=='AO', 'rating']='M'"
      ]
    },
    {
      "cell_type": "markdown",
      "id": "456d4a85",
      "metadata": {
        "id": "456d4a85"
      },
      "source": [
        "Играм без рейтинга был присвоен рейтинг `no rating`, так как невозможно на основе имеющихся данных подставить рейтинг из ESRB"
      ]
    },
    {
      "cell_type": "code",
      "execution_count": null,
      "id": "9d90de35",
      "metadata": {
        "id": "9d90de35"
      },
      "outputs": [],
      "source": [
        "data.loc[data['rating'].isna(), 'rating'] ='no rating'"
      ]
    },
    {
      "cell_type": "code",
      "execution_count": null,
      "id": "d862cc8b",
      "metadata": {
        "id": "d862cc8b",
        "outputId": "9d794c90-96cb-4577-bb58-ea34073a1c9b"
      },
      "outputs": [
        {
          "name": "stdout",
          "output_type": "stream",
          "text": [
            "<class 'pandas.core.frame.DataFrame'>\n",
            "Int64Index: 16443 entries, 0 to 16714\n",
            "Data columns (total 12 columns):\n",
            " #   Column           Non-Null Count  Dtype  \n",
            "---  ------           --------------  -----  \n",
            " 0   name             16443 non-null  object \n",
            " 1   platform         16443 non-null  object \n",
            " 2   year_of_release  16443 non-null  int64  \n",
            " 3   genre            16443 non-null  object \n",
            " 4   na_sales         16443 non-null  float64\n",
            " 5   eu_sales         16443 non-null  float64\n",
            " 6   jp_sales         16443 non-null  float64\n",
            " 7   other_sales      16443 non-null  float64\n",
            " 8   critic_score     7982 non-null   float64\n",
            " 9   user_score       7462 non-null   float64\n",
            " 10  rating           16443 non-null  object \n",
            " 11  all_sales        16443 non-null  float64\n",
            "dtypes: float64(7), int64(1), object(4)\n",
            "memory usage: 1.6+ MB\n"
          ]
        }
      ],
      "source": [
        "# check\n",
        "data.info()"
      ]
    },
    {
      "cell_type": "markdown",
      "id": "44bc7c63",
      "metadata": {
        "id": "44bc7c63"
      },
      "source": [
        "### Вывод"
      ]
    },
    {
      "cell_type": "markdown",
      "id": "80b65690",
      "metadata": {
        "id": "80b65690"
      },
      "source": [
        "После проведения предобработки были устранены следущие ошибки:\n",
        "\n",
        " 1) Названия столбцов приведены к общему виду (snake_case)\n",
        "\n",
        " 2) Удалены неявные дубликаты игр\n",
        "\n",
        " 3) Удалены строки с пропусками в столбцах `name`(название игры) и `year_of_release`(дата выхода игры).\n",
        "\n",
        " 4) Значения `tbd` было перезаписано в NaN, так как аббревиатура это и означает.\n",
        "\n",
        " 5) Столбцы `user_score`, `year_of_release` преобразованы в подходящие форматы, в столбце `critic_score` оценки были приведены из десяток в единицы.\n",
        "\n",
        " 6) Пропуски в столбце `rating` заменены на `no rating` в остальных столбцах были пропущенны, так как не хватает данных для их восстановления, а заполнение средним или медианой сильно исказит информацию и приведет к неверным выводам.\n",
        "\n",
        " 7) Создан новый столбец `all_sales` содержащий информацию о количестве проданных копий игры во всех регионах.\n",
        "\n",
        " 8) В столбце `rating` заменили значение `K-A` на `E`, так как оно является устаревшим обозначением. Значение `EC` заменили  на `E`, так как оно подходит под эту категорию. Заменили значение `AO` на `M` так как возврастное ограничение почти одинаковое.\n",
        "\n",
        "Часть пропусков в столбце `rating` можно объяснить тем, что рейтинг играм начал выдаваться с 1994 с основания Entertainment Software Rating Board (ESRB) — негосударственная организация, основное направление деятельности — принятие и определение рейтингов для компьютерных видеоигр.\n",
        "\n",
        "Также часть пропусков в столбцах `critic_score` и `user_score`, можно объяснить, что в самом начале у игр не было большего количества поклонников и коммьюнити было слабо развито, сфера видео игр, только начинала свое развитие. Но в более поздних играх отсутствие заполнения можно объяснить человеческим фактором при заполнение базы данных или не популярностью игры и незаинтересованностью игроков и критиков в выставлении оценок."
      ]
    },
    {
      "cell_type": "markdown",
      "id": "9a3ec9ca",
      "metadata": {
        "id": "9a3ec9ca"
      },
      "source": [
        "##  Исследовательский анализ данных"
      ]
    },
    {
      "cell_type": "markdown",
      "id": "833f048c",
      "metadata": {
        "id": "833f048c"
      },
      "source": [
        "### Cколько игр выпускалось в разные годы"
      ]
    },
    {
      "cell_type": "code",
      "execution_count": null,
      "id": "3355cb4f",
      "metadata": {
        "id": "3355cb4f",
        "outputId": "1301690b-b83c-4efe-8b47-2ac552fada2d"
      },
      "outputs": [
        {
          "data": {
            "text/plain": [
              "'Данные по играм за все года'"
            ]
          },
          "metadata": {},
          "output_type": "display_data"
        },
        {
          "data": {
            "text/html": [
              "<div>\n",
              "<style scoped>\n",
              "    .dataframe tbody tr th:only-of-type {\n",
              "        vertical-align: middle;\n",
              "    }\n",
              "\n",
              "    .dataframe tbody tr th {\n",
              "        vertical-align: top;\n",
              "    }\n",
              "\n",
              "    .dataframe thead th {\n",
              "        text-align: right;\n",
              "    }\n",
              "</style>\n",
              "<table border=\"1\" class=\"dataframe\">\n",
              "  <thead>\n",
              "    <tr style=\"text-align: right;\">\n",
              "      <th></th>\n",
              "      <th>year_of_release</th>\n",
              "      <th>name</th>\n",
              "    </tr>\n",
              "  </thead>\n",
              "  <tbody>\n",
              "    <tr>\n",
              "      <th>count</th>\n",
              "      <td>37.000000</td>\n",
              "      <td>37.000000</td>\n",
              "    </tr>\n",
              "    <tr>\n",
              "      <th>mean</th>\n",
              "      <td>1998.000000</td>\n",
              "      <td>444.405405</td>\n",
              "    </tr>\n",
              "    <tr>\n",
              "      <th>std</th>\n",
              "      <td>10.824355</td>\n",
              "      <td>451.591535</td>\n",
              "    </tr>\n",
              "    <tr>\n",
              "      <th>min</th>\n",
              "      <td>1980.000000</td>\n",
              "      <td>9.000000</td>\n",
              "    </tr>\n",
              "    <tr>\n",
              "      <th>25%</th>\n",
              "      <td>1989.000000</td>\n",
              "      <td>36.000000</td>\n",
              "    </tr>\n",
              "    <tr>\n",
              "      <th>50%</th>\n",
              "      <td>1998.000000</td>\n",
              "      <td>338.000000</td>\n",
              "    </tr>\n",
              "    <tr>\n",
              "      <th>75%</th>\n",
              "      <td>2007.000000</td>\n",
              "      <td>762.000000</td>\n",
              "    </tr>\n",
              "    <tr>\n",
              "      <th>max</th>\n",
              "      <td>2016.000000</td>\n",
              "      <td>1427.000000</td>\n",
              "    </tr>\n",
              "  </tbody>\n",
              "</table>\n",
              "</div>"
            ],
            "text/plain": [
              "       year_of_release         name\n",
              "count        37.000000    37.000000\n",
              "mean       1998.000000   444.405405\n",
              "std          10.824355   451.591535\n",
              "min        1980.000000     9.000000\n",
              "25%        1989.000000    36.000000\n",
              "50%        1998.000000   338.000000\n",
              "75%        2007.000000   762.000000\n",
              "max        2016.000000  1427.000000"
            ]
          },
          "metadata": {},
          "output_type": "display_data"
        },
        {
          "data": {
            "text/plain": [
              "'Данные по играм с 1995 года'"
            ]
          },
          "metadata": {},
          "output_type": "display_data"
        },
        {
          "data": {
            "text/html": [
              "<div>\n",
              "<style scoped>\n",
              "    .dataframe tbody tr th:only-of-type {\n",
              "        vertical-align: middle;\n",
              "    }\n",
              "\n",
              "    .dataframe tbody tr th {\n",
              "        vertical-align: top;\n",
              "    }\n",
              "\n",
              "    .dataframe thead th {\n",
              "        text-align: right;\n",
              "    }\n",
              "</style>\n",
              "<table border=\"1\" class=\"dataframe\">\n",
              "  <thead>\n",
              "    <tr style=\"text-align: right;\">\n",
              "      <th></th>\n",
              "      <th>year_of_release</th>\n",
              "      <th>name</th>\n",
              "    </tr>\n",
              "  </thead>\n",
              "  <tbody>\n",
              "    <tr>\n",
              "      <th>count</th>\n",
              "      <td>22.000000</td>\n",
              "      <td>22.000000</td>\n",
              "    </tr>\n",
              "    <tr>\n",
              "      <th>mean</th>\n",
              "      <td>2005.500000</td>\n",
              "      <td>725.318182</td>\n",
              "    </tr>\n",
              "    <tr>\n",
              "      <th>std</th>\n",
              "      <td>6.493587</td>\n",
              "      <td>380.957489</td>\n",
              "    </tr>\n",
              "    <tr>\n",
              "      <th>min</th>\n",
              "      <td>1995.000000</td>\n",
              "      <td>219.000000</td>\n",
              "    </tr>\n",
              "    <tr>\n",
              "      <th>25%</th>\n",
              "      <td>2000.250000</td>\n",
              "      <td>404.750000</td>\n",
              "    </tr>\n",
              "    <tr>\n",
              "      <th>50%</th>\n",
              "      <td>2005.500000</td>\n",
              "      <td>629.000000</td>\n",
              "    </tr>\n",
              "    <tr>\n",
              "      <th>75%</th>\n",
              "      <td>2010.750000</td>\n",
              "      <td>989.250000</td>\n",
              "    </tr>\n",
              "    <tr>\n",
              "      <th>max</th>\n",
              "      <td>2016.000000</td>\n",
              "      <td>1427.000000</td>\n",
              "    </tr>\n",
              "  </tbody>\n",
              "</table>\n",
              "</div>"
            ],
            "text/plain": [
              "       year_of_release         name\n",
              "count        22.000000    22.000000\n",
              "mean       2005.500000   725.318182\n",
              "std           6.493587   380.957489\n",
              "min        1995.000000   219.000000\n",
              "25%        2000.250000   404.750000\n",
              "50%        2005.500000   629.000000\n",
              "75%        2010.750000   989.250000\n",
              "max        2016.000000  1427.000000"
            ]
          },
          "metadata": {},
          "output_type": "display_data"
        }
      ],
      "source": [
        "display('Данные по играм за все года',data.groupby('year_of_release')['name'].count().reset_index().describe())\n",
        "display('Данные по играм с 1995 года',data.groupby('year_of_release')['name'].count().reset_index().query('year_of_release>1994').describe())"
      ]
    },
    {
      "cell_type": "code",
      "execution_count": null,
      "id": "d73943f5",
      "metadata": {
        "id": "d73943f5",
        "outputId": "03f83b42-c411-4784-e65f-dfa8246e5337"
      },
      "outputs": [
        {
          "data": {
            "text/plain": [
              "[Text(0.5, 0, 'Количество вышедших игр'), Text(0, 0.5, 'год выпуска')]"
            ]
          },
          "execution_count": 25,
          "metadata": {},
          "output_type": "execute_result"
        },
        {
          "data": {
            "image/png": "[encoded data removed]",
            "text/plain": [
              "<Figure size 648x576 with 1 Axes>"
            ]
          },
          "metadata": {
            "needs_background": "light"
          },
          "output_type": "display_data"
        }
      ],
      "source": [
        "data.groupby('year_of_release')['name'].count().reset_index().sort_values('year_of_release', ascending=False).plot(y='name', x ='year_of_release', kind='barh', grid=True, figsize=(9,8), title='Количество выпущенных игр по годам').set(xlabel='Количество вышедших игр', ylabel='год выпуска')"
      ]
    },
    {
      "cell_type": "markdown",
      "id": "3a3dfe27",
      "metadata": {
        "id": "3a3dfe27"
      },
      "source": [
        "По данному графику можно сказать, что самыми популярными годами по выпуску игр были 2008 и 2009. Период с 1980-1994гг. можно неучитывать, так как это было начало индустрии и в пике за этот период не было выпущено больше 130 игр. В среднем после 1994 года выходит более 720 игр."
      ]
    },
    {
      "cell_type": "markdown",
      "id": "eb491ecf",
      "metadata": {
        "id": "eb491ecf"
      },
      "source": [
        "### Как менялись продажи по платформам"
      ]
    },
    {
      "cell_type": "markdown",
      "id": "f4b4ed2f",
      "metadata": {
        "id": "f4b4ed2f"
      },
      "source": [
        "Посчитаем первые 10 платформ по количеству проданных на них игр"
      ]
    },
    {
      "cell_type": "code",
      "execution_count": null,
      "id": "64976188",
      "metadata": {
        "id": "64976188",
        "outputId": "226ca130-804a-4b82-8956-b2d3dc1d6604"
      },
      "outputs": [
        {
          "data": {
            "text/html": [
              "<div>\n",
              "<style scoped>\n",
              "    .dataframe tbody tr th:only-of-type {\n",
              "        vertical-align: middle;\n",
              "    }\n",
              "\n",
              "    .dataframe tbody tr th {\n",
              "        vertical-align: top;\n",
              "    }\n",
              "\n",
              "    .dataframe thead th {\n",
              "        text-align: right;\n",
              "    }\n",
              "</style>\n",
              "<table border=\"1\" class=\"dataframe\">\n",
              "  <thead>\n",
              "    <tr style=\"text-align: right;\">\n",
              "      <th></th>\n",
              "      <th>platform</th>\n",
              "      <th>all_sales</th>\n",
              "    </tr>\n",
              "  </thead>\n",
              "  <tbody>\n",
              "    <tr>\n",
              "      <th>16</th>\n",
              "      <td>PS2</td>\n",
              "      <td>1233.56</td>\n",
              "    </tr>\n",
              "    <tr>\n",
              "      <th>28</th>\n",
              "      <td>X360</td>\n",
              "      <td>961.24</td>\n",
              "    </tr>\n",
              "    <tr>\n",
              "      <th>17</th>\n",
              "      <td>PS3</td>\n",
              "      <td>931.34</td>\n",
              "    </tr>\n",
              "    <tr>\n",
              "      <th>26</th>\n",
              "      <td>Wii</td>\n",
              "      <td>891.18</td>\n",
              "    </tr>\n",
              "    <tr>\n",
              "      <th>4</th>\n",
              "      <td>DS</td>\n",
              "      <td>802.78</td>\n",
              "    </tr>\n",
              "    <tr>\n",
              "      <th>15</th>\n",
              "      <td>PS</td>\n",
              "      <td>727.58</td>\n",
              "    </tr>\n",
              "    <tr>\n",
              "      <th>18</th>\n",
              "      <td>PS4</td>\n",
              "      <td>314.14</td>\n",
              "    </tr>\n",
              "    <tr>\n",
              "      <th>6</th>\n",
              "      <td>GBA</td>\n",
              "      <td>312.88</td>\n",
              "    </tr>\n",
              "    <tr>\n",
              "      <th>19</th>\n",
              "      <td>PSP</td>\n",
              "      <td>289.53</td>\n",
              "    </tr>\n",
              "    <tr>\n",
              "      <th>2</th>\n",
              "      <td>3DS</td>\n",
              "      <td>257.81</td>\n",
              "    </tr>\n",
              "  </tbody>\n",
              "</table>\n",
              "</div>"
            ],
            "text/plain": [
              "   platform  all_sales\n",
              "16      PS2    1233.56\n",
              "28     X360     961.24\n",
              "17      PS3     931.34\n",
              "26      Wii     891.18\n",
              "4        DS     802.78\n",
              "15       PS     727.58\n",
              "18      PS4     314.14\n",
              "6       GBA     312.88\n",
              "19      PSP     289.53\n",
              "2       3DS     257.81"
            ]
          },
          "execution_count": 26,
          "metadata": {},
          "output_type": "execute_result"
        }
      ],
      "source": [
        "top_platform = data.groupby('platform')['all_sales'].sum().reset_index().sort_values('all_sales', ascending=False).head(10)\n",
        "top_platform"
      ]
    },
    {
      "cell_type": "code",
      "execution_count": null,
      "id": "6ce9b4cd",
      "metadata": {
        "scrolled": false,
        "id": "6ce9b4cd",
        "outputId": "12ccd0b3-4946-4a83-f768-be36ac690f6c"
      },
      "outputs": [
        {
          "data": {
            "text/plain": [
              "(1993.0, 2017.0)"
            ]
          },
          "execution_count": 27,
          "metadata": {},
          "output_type": "execute_result"
        },
        {
          "data": {
            "image/png": "[encoded data removed]",
            "text/plain": [
              "<Figure size 720x360 with 1 Axes>"
            ]
          },
          "metadata": {
            "needs_background": "light"
          },
          "output_type": "display_data"
        }
      ],
      "source": [
        "plt.figure(figsize=(10,5))\n",
        "plt.plot(data.query('platform in @top_platform.platform').pivot_table(\n",
        "    index='year_of_release',\n",
        "    columns='platform',\n",
        "    values='all_sales',aggfunc='sum'), label= data.query('platform in @top_platform.platform')['platform'].unique())\n",
        "plt.grid()\n",
        "plt.legend(loc='upper left')\n",
        "plt.xlabel('Год')\n",
        "plt.ylabel('Кол-во продаж')\n",
        "plt.title('Продажи по платформам за года')\n",
        "plt.xlim([1993, 2017])\n"
      ]
    },
    {
      "cell_type": "markdown",
      "id": "eb50a015",
      "metadata": {
        "id": "eb50a015"
      },
      "source": [
        "По данному графику можно сказать, что новые платформы в течении 2-3 лет входят в пик по проданным играм. В среднем платформы пользуются популярностью около 10 лет."
      ]
    },
    {
      "cell_type": "markdown",
      "id": "5255a41b",
      "metadata": {
        "id": "5255a41b"
      },
      "source": [
        "### Какие платформы потенциально прибыльные"
      ]
    },
    {
      "cell_type": "markdown",
      "id": "c999705c",
      "metadata": {
        "id": "c999705c"
      },
      "source": [
        "Потенциально прибыльными платформами будут считаться платформы у которых суммарные продажи с 2012 по 2015 превышают 15млн. проданных копий."
      ]
    },
    {
      "cell_type": "code",
      "execution_count": null,
      "id": "1bb2f123",
      "metadata": {
        "scrolled": true,
        "id": "1bb2f123",
        "outputId": "dd428f5a-a023-42ff-9819-ada77854b45f"
      },
      "outputs": [
        {
          "data": {
            "text/html": [
              "<div>\n",
              "<style scoped>\n",
              "    .dataframe tbody tr th:only-of-type {\n",
              "        vertical-align: middle;\n",
              "    }\n",
              "\n",
              "    .dataframe tbody tr th {\n",
              "        vertical-align: top;\n",
              "    }\n",
              "\n",
              "    .dataframe thead th {\n",
              "        text-align: right;\n",
              "    }\n",
              "</style>\n",
              "<table border=\"1\" class=\"dataframe\">\n",
              "  <thead>\n",
              "    <tr style=\"text-align: right;\">\n",
              "      <th></th>\n",
              "      <th>platform</th>\n",
              "      <th>all_sales</th>\n",
              "    </tr>\n",
              "  </thead>\n",
              "  <tbody>\n",
              "    <tr>\n",
              "      <th>4</th>\n",
              "      <td>PS4</td>\n",
              "      <td>244.89</td>\n",
              "    </tr>\n",
              "    <tr>\n",
              "      <th>3</th>\n",
              "      <td>PS3</td>\n",
              "      <td>177.83</td>\n",
              "    </tr>\n",
              "    <tr>\n",
              "      <th>9</th>\n",
              "      <td>X360</td>\n",
              "      <td>135.28</td>\n",
              "    </tr>\n",
              "    <tr>\n",
              "      <th>10</th>\n",
              "      <td>XOne</td>\n",
              "      <td>133.17</td>\n",
              "    </tr>\n",
              "    <tr>\n",
              "      <th>0</th>\n",
              "      <td>3DS</td>\n",
              "      <td>128.11</td>\n",
              "    </tr>\n",
              "    <tr>\n",
              "      <th>8</th>\n",
              "      <td>WiiU</td>\n",
              "      <td>60.03</td>\n",
              "    </tr>\n",
              "    <tr>\n",
              "      <th>2</th>\n",
              "      <td>PC</td>\n",
              "      <td>34.18</td>\n",
              "    </tr>\n",
              "    <tr>\n",
              "      <th>6</th>\n",
              "      <td>PSV</td>\n",
              "      <td>28.74</td>\n",
              "    </tr>\n",
              "  </tbody>\n",
              "</table>\n",
              "</div>"
            ],
            "text/plain": [
              "   platform  all_sales\n",
              "4       PS4     244.89\n",
              "3       PS3     177.83\n",
              "9      X360     135.28\n",
              "10     XOne     133.17\n",
              "0       3DS     128.11\n",
              "8      WiiU      60.03\n",
              "2        PC      34.18\n",
              "6       PSV      28.74"
            ]
          },
          "execution_count": 28,
          "metadata": {},
          "output_type": "execute_result"
        }
      ],
      "source": [
        "top_platform = \\\n",
        "data.query('year_of_release>2012 and year_of_release<2016').groupby('platform')['all_sales'].sum().reset_index().sort_values('all_sales', ascending=False).query('all_sales>15')\n",
        "\n",
        "data.query('year_of_release>2012 and year_of_release<2016').groupby('platform')['all_sales'].sum().reset_index().sort_values('all_sales', ascending=False).query('all_sales>15')"
      ]
    },
    {
      "cell_type": "markdown",
      "id": "d9a2b3c9",
      "metadata": {
        "id": "d9a2b3c9"
      },
      "source": [
        "Создадим переменную, в которой будут актуальные платформы для дальнейших исследований"
      ]
    },
    {
      "cell_type": "code",
      "execution_count": null,
      "id": "ba97dce7",
      "metadata": {
        "id": "ba97dce7"
      },
      "outputs": [],
      "source": [
        "top_8_platform=data.query('platform in (\"PS4\",\"PS3\",\"X360\",\"XOne\",\"3DS\",\"WiiU\",\"PC\",\"PSV\") and  year_of_release>2012 and year_of_release<2016')"
      ]
    },
    {
      "cell_type": "code",
      "execution_count": null,
      "id": "9523ec8f",
      "metadata": {
        "id": "9523ec8f",
        "outputId": "b849b041-7b9f-474a-8f4c-74dd3570088f"
      },
      "outputs": [
        {
          "data": {
            "text/plain": [
              "(2013.0, 2015.0)"
            ]
          },
          "execution_count": 30,
          "metadata": {},
          "output_type": "execute_result"
        },
        {
          "data": {
            "image/png": "[encoded data removed]",
            "text/plain": [
              "<Figure size 720x360 with 1 Axes>"
            ]
          },
          "metadata": {
            "needs_background": "light"
          },
          "output_type": "display_data"
        }
      ],
      "source": [
        "plt.figure(figsize=(10,5))\n",
        "plt.plot(data.query('platform in @top_platform.platform').pivot_table(\n",
        "    index='year_of_release',\n",
        "    columns='platform',\n",
        "    values='all_sales',aggfunc='sum'), label= data.query('platform in @top_platform.platform')['platform'].unique())\n",
        "plt.grid()\n",
        "plt.legend(loc='upper left')\n",
        "plt.xlabel('Год')\n",
        "plt.ylabel('Кол-во продаж')\n",
        "plt.title('Продажи по платформам за года')\n",
        "plt.xlim([2013, 2015])"
      ]
    },
    {
      "cell_type": "markdown",
      "id": "1487f85c",
      "metadata": {
        "id": "1487f85c"
      },
      "source": [
        "По данным на графике можно увидеть как изменились продажи игр на конкретные приставки с 2012 по 2015 год:\n",
        "\n",
        "1) PS4. Это потенциально прибыльная приставка, вышла в 2013 году, занимает первое место по суммарным продажам за 3 года.\n",
        "\n",
        "2) PS3. Предшественник PS4, вышла в 2006 году, но все ещё актуальна, проданные копии видеоигр за последние 3 года составляют 177.83 млн.\n",
        "\n",
        "3) X360. Платформа вышла в 2006 году. Проданные копии видеоигр за последние 3 года составляют 135.28 млн.\n",
        "\n",
        "4) xOne. Последняя платформа серии Xbox, вышла в 2013 году, но не смогла обойти своего предшественника(X360) по продажам. Суммарные продажи за 3 года составляют 133.17 млн.\n",
        "\n",
        "5) 3DS. Занимает первое по суммарным продажам за 3 года среди портативных платформ. Продажи составили 128.11 млн копий видеоигр.\n",
        "\n",
        "6) WiiU. Платформа вышла в 2012 году. Проданные копии видеоигр за последние 3 года составляют 60.03 млн.\n",
        "\n",
        "7) PC. Более 30 лет на рынке игровых платформ.Суммарные продажи составляют более 250 млн. проданных копий видеоигр, это не так много в сравнении с другими платформами, однако эта платформа набирает популярность, за последние три года на неё было продано 34.18 млн. копий игр.\n",
        "\n",
        "8) PSV. Также как и 3DS является портативной платформой, за последние три года на неё было продано 28.74 млн. видеоигр.\n"
      ]
    },
    {
      "cell_type": "markdown",
      "id": "e784643b",
      "metadata": {
        "id": "e784643b"
      },
      "source": [
        "### Глобальные продажи игр в разбивке по платформам"
      ]
    },
    {
      "cell_type": "markdown",
      "id": "f0282389",
      "metadata": {
        "id": "f0282389"
      },
      "source": [
        "Построим график `boxplot`, чтобы посмотреть как распределяются проданные копии видеоигр, а также выбросы."
      ]
    },
    {
      "cell_type": "code",
      "execution_count": null,
      "id": "018e0389",
      "metadata": {
        "scrolled": false,
        "id": "018e0389",
        "outputId": "3b95e3b9-34fe-4d05-dc75-bedb7286cbb9"
      },
      "outputs": [
        {
          "data": {
            "image/png": "[encoded data removed]",
            "text/plain": [
              "<Figure size 1152x576 with 1 Axes>"
            ]
          },
          "metadata": {
            "needs_background": "light"
          },
          "output_type": "display_data"
        }
      ],
      "source": [
        "\n",
        "def boxplot_sort(data,column,by):\n",
        "    data2 = pd.DataFrame({col:vals[column] for col, vals in data.groupby(by)})\n",
        "    med = data2.median().sort_values(ascending=True)\n",
        "    data2[med.index].boxplot()\n",
        "\n",
        "fig, ax = plt.subplots(figsize=(16,8))\n",
        "boxplot_sort(top_8_platform, column='all_sales', by='platform')\n",
        "ax.set_ylim(0,3)\n",
        "plt.show()\n"
      ]
    },
    {
      "cell_type": "markdown",
      "id": "60d915c1",
      "metadata": {
        "id": "60d915c1"
      },
      "source": [
        "Посмотрим максимальные выбросы"
      ]
    },
    {
      "cell_type": "code",
      "execution_count": null,
      "id": "38881bc4",
      "metadata": {
        "id": "38881bc4",
        "outputId": "15b33d4d-13cf-4a22-b96c-aa0034736442"
      },
      "outputs": [
        {
          "data": {
            "image/png": "[encoded data removed]",
            "text/plain": [
              "<Figure size 1152x576 with 1 Axes>"
            ]
          },
          "metadata": {
            "needs_background": "light"
          },
          "output_type": "display_data"
        }
      ],
      "source": [
        "fig, ax = plt.subplots(figsize=(16,8))\n",
        "boxplot_sort(top_8_platform, column='all_sales', by='platform')\n",
        "ax.set_ylim(0,20)\n",
        "plt.show()"
      ]
    },
    {
      "cell_type": "markdown",
      "id": "2f5c14bd",
      "metadata": {
        "id": "2f5c14bd"
      },
      "source": [
        "Из графиков видно, что половина игр вышедших на платформу XOne продавались в количестве от 0.15 до 1.07 млн копий. Следом идет PS4, половина игр продалавались в диапозоне от 0.13 до 1.05. Большие выбросы наблюдаюся у платформ X360, PS4 и 3DS. Рекордный выброс был X360, у одной игры было проданно 16 млн. копий. В основном игры продаются до 2.5 млн. копий."
      ]
    },
    {
      "cell_type": "markdown",
      "id": "22f4c271",
      "metadata": {
        "id": "22f4c271"
      },
      "source": [
        "### Как влияют на продажи отзывы пользователей и критиков"
      ]
    },
    {
      "cell_type": "markdown",
      "id": "0d90c985",
      "metadata": {
        "id": "0d90c985"
      },
      "source": [
        "Для исследования была выбрана платформа PS4 из-за большого количества проданных копий игр на неё в период  2013-2015гг."
      ]
    },
    {
      "cell_type": "markdown",
      "id": "f621582d",
      "metadata": {
        "id": "f621582d"
      },
      "source": [
        "Просмотрим числовые характеристики"
      ]
    },
    {
      "cell_type": "code",
      "execution_count": null,
      "id": "bbd08f85",
      "metadata": {
        "id": "bbd08f85",
        "outputId": "fdf2c5b2-a3de-4f5d-dcc7-71c54081d541"
      },
      "outputs": [
        {
          "data": {
            "text/html": [
              "<div>\n",
              "<style scoped>\n",
              "    .dataframe tbody tr th:only-of-type {\n",
              "        vertical-align: middle;\n",
              "    }\n",
              "\n",
              "    .dataframe tbody tr th {\n",
              "        vertical-align: top;\n",
              "    }\n",
              "\n",
              "    .dataframe thead th {\n",
              "        text-align: right;\n",
              "    }\n",
              "</style>\n",
              "<table border=\"1\" class=\"dataframe\">\n",
              "  <thead>\n",
              "    <tr style=\"text-align: right;\">\n",
              "      <th></th>\n",
              "      <th>all_sales</th>\n",
              "      <th>critic_score</th>\n",
              "      <th>user_score</th>\n",
              "    </tr>\n",
              "  </thead>\n",
              "  <tbody>\n",
              "    <tr>\n",
              "      <th>count</th>\n",
              "      <td>228.000000</td>\n",
              "      <td>154.000000</td>\n",
              "      <td>156.000000</td>\n",
              "    </tr>\n",
              "    <tr>\n",
              "      <th>mean</th>\n",
              "      <td>1.074079</td>\n",
              "      <td>72.357143</td>\n",
              "      <td>66.666667</td>\n",
              "    </tr>\n",
              "    <tr>\n",
              "      <th>std</th>\n",
              "      <td>1.899788</td>\n",
              "      <td>12.621529</td>\n",
              "      <td>14.492416</td>\n",
              "    </tr>\n",
              "    <tr>\n",
              "      <th>min</th>\n",
              "      <td>0.010000</td>\n",
              "      <td>19.000000</td>\n",
              "      <td>15.000000</td>\n",
              "    </tr>\n",
              "    <tr>\n",
              "      <th>25%</th>\n",
              "      <td>0.097500</td>\n",
              "      <td>66.000000</td>\n",
              "      <td>61.000000</td>\n",
              "    </tr>\n",
              "    <tr>\n",
              "      <th>50%</th>\n",
              "      <td>0.310000</td>\n",
              "      <td>74.000000</td>\n",
              "      <td>69.500000</td>\n",
              "    </tr>\n",
              "    <tr>\n",
              "      <th>75%</th>\n",
              "      <td>1.105000</td>\n",
              "      <td>81.000000</td>\n",
              "      <td>77.000000</td>\n",
              "    </tr>\n",
              "    <tr>\n",
              "      <th>max</th>\n",
              "      <td>14.630000</td>\n",
              "      <td>97.000000</td>\n",
              "      <td>92.000000</td>\n",
              "    </tr>\n",
              "  </tbody>\n",
              "</table>\n",
              "</div>"
            ],
            "text/plain": [
              "        all_sales  critic_score  user_score\n",
              "count  228.000000    154.000000  156.000000\n",
              "mean     1.074079     72.357143   66.666667\n",
              "std      1.899788     12.621529   14.492416\n",
              "min      0.010000     19.000000   15.000000\n",
              "25%      0.097500     66.000000   61.000000\n",
              "50%      0.310000     74.000000   69.500000\n",
              "75%      1.105000     81.000000   77.000000\n",
              "max     14.630000     97.000000   92.000000"
            ]
          },
          "execution_count": 33,
          "metadata": {},
          "output_type": "execute_result"
        }
      ],
      "source": [
        "top_8_platform.query('platform==\"PS4\"')[['all_sales','critic_score','user_score']].describe()"
      ]
    },
    {
      "cell_type": "markdown",
      "id": "16625b0e",
      "metadata": {
        "id": "16625b0e"
      },
      "source": [
        "Самое большое число копий игры проданной на платформе PS4 14.63 млн. В среднем продается 1.07 млн. копий одной игры. Пользователи и критики высоко оценивают игры, в среднем 69 балла со стороны игроков и 74 со стороны критиков."
      ]
    },
    {
      "cell_type": "markdown",
      "id": "b74c823f",
      "metadata": {
        "id": "b74c823f"
      },
      "source": [
        "Построим гистограммы"
      ]
    },
    {
      "cell_type": "code",
      "execution_count": null,
      "id": "2c10b6eb",
      "metadata": {
        "scrolled": false,
        "id": "2c10b6eb",
        "outputId": "40b6a0cc-aad1-4173-81e4-0c3011aa4f3c"
      },
      "outputs": [
        {
          "data": {
            "text/plain": [
              "array([[<AxesSubplot:title={'center':'all_sales'}>,\n",
              "        <AxesSubplot:title={'center':'critic_score'}>],\n",
              "       [<AxesSubplot:title={'center':'user_score'}>, <AxesSubplot:>]],\n",
              "      dtype=object)"
            ]
          },
          "execution_count": 34,
          "metadata": {},
          "output_type": "execute_result"
        },
        {
          "data": {
            "image/png": "[encoded data removed]",
            "text/plain": [
              "<Figure size 432x288 with 4 Axes>"
            ]
          },
          "metadata": {
            "needs_background": "light"
          },
          "output_type": "display_data"
        }
      ],
      "source": [
        "top_8_platform.query('platform==\"PS4\"')[['all_sales','critic_score','user_score']].hist()"
      ]
    },
    {
      "cell_type": "code",
      "execution_count": null,
      "id": "3d8e3726",
      "metadata": {
        "code_folding": [],
        "id": "3d8e3726",
        "outputId": "aeef78ad-3b9d-404b-8698-6e76be8b5dcc"
      },
      "outputs": [
        {
          "data": {
            "text/plain": [
              "(50.0, 100.0)"
            ]
          },
          "execution_count": 35,
          "metadata": {},
          "output_type": "execute_result"
        },
        {
          "data": {
            "image/png": "[encoded data removed]",
            "text/plain": [
              "<Figure size 432x288 with 1 Axes>"
            ]
          },
          "metadata": {
            "needs_background": "light"
          },
          "output_type": "display_data"
        }
      ],
      "source": [
        "\n",
        "plt.plot(top_8_platform.query('platform==\"PS4\"')['critic_score'],\n",
        "         top_8_platform.query('platform==\"PS4\"')['all_sales'], 'o', alpha=0.5, markersize=4)\n",
        "plt.xlabel('Оценка критиков')\n",
        "plt.ylabel('Кол-во проданных игр')\n",
        "plt.title('Зависимость продаж игр на PS4 от отзывов критиков')\n",
        "plt.xlim([50, 100])\n"
      ]
    },
    {
      "cell_type": "markdown",
      "id": "c1852e08",
      "metadata": {
        "id": "c1852e08"
      },
      "source": [
        "На графике заметна слабая связь между оценками критиков и кол-вом проданных игр. Чем выше оценка критиков, тем больше проданно игр."
      ]
    },
    {
      "cell_type": "code",
      "execution_count": null,
      "id": "3c43bd78",
      "metadata": {
        "scrolled": false,
        "id": "3c43bd78",
        "outputId": "243aab07-f624-4c6d-efc0-17776b77eb31"
      },
      "outputs": [
        {
          "data": {
            "text/plain": [
              "Text(0.5, 1.0, 'Зависимость продаж игр на PS4 от отзывов игроков')"
            ]
          },
          "execution_count": 36,
          "metadata": {},
          "output_type": "execute_result"
        },
        {
          "data": {
            "image/png": "[encoded data removed]",
            "text/plain": [
              "<Figure size 432x288 with 1 Axes>"
            ]
          },
          "metadata": {
            "needs_background": "light"
          },
          "output_type": "display_data"
        }
      ],
      "source": [
        "plt.plot(top_8_platform.query('platform==\"PS4\"')['user_score'],\n",
        "         top_8_platform.query('platform==\"PS4\"')['all_sales'], 'o', alpha=0.5, markersize=4)\n",
        "plt.xlabel('Оценка игроков')\n",
        "plt.ylabel('Кол-во проданных игр')\n",
        "plt.title('Зависимость продаж игр на PS4 от отзывов игроков')"
      ]
    },
    {
      "cell_type": "markdown",
      "id": "915c830b",
      "metadata": {
        "id": "915c830b"
      },
      "source": [
        "Связи между оценками и количеством проданных игр на PS4 не видно"
      ]
    },
    {
      "cell_type": "markdown",
      "id": "7a222fd0",
      "metadata": {
        "id": "7a222fd0"
      },
      "source": [
        "Построим ещё несколько диаграмм рассеивания по случайном выбранным платформам из выборки"
      ]
    },
    {
      "cell_type": "markdown",
      "id": "bf3b9f92",
      "metadata": {
        "id": "bf3b9f92"
      },
      "source": [
        "Платформа <b>X360</b>"
      ]
    },
    {
      "cell_type": "code",
      "execution_count": null,
      "id": "b440f4ec",
      "metadata": {
        "id": "b440f4ec",
        "outputId": "ba2281ab-db0b-4487-c0fc-05985cd7bf63"
      },
      "outputs": [
        {
          "data": {
            "text/plain": [
              "Text(0.5, 1.0, 'Зависимость продаж игр на X360 от отзывов критиков')"
            ]
          },
          "execution_count": 37,
          "metadata": {},
          "output_type": "execute_result"
        },
        {
          "data": {
            "image/png": "[encoded data removed]",
            "text/plain": [
              "<Figure size 432x288 with 1 Axes>"
            ]
          },
          "metadata": {
            "needs_background": "light"
          },
          "output_type": "display_data"
        }
      ],
      "source": [
        "plt.plot(top_8_platform.query('platform==\"X360\"')['critic_score'],\n",
        "         top_8_platform.query('platform==\"X360\"')['all_sales'], 'o', alpha=0.5, markersize=4)\n",
        "plt.xlabel('Оценка критиков')\n",
        "plt.ylabel('Кол-во проданных игр')\n",
        "plt.title('Зависимость продаж игр на X360 от отзывов критиков')\n"
      ]
    },
    {
      "cell_type": "markdown",
      "id": "1ecd889d",
      "metadata": {
        "id": "1ecd889d"
      },
      "source": [
        "Заметна слабая связь между оценками критиков и продажми игр на Xbox"
      ]
    },
    {
      "cell_type": "code",
      "execution_count": null,
      "id": "8ce3c2a2",
      "metadata": {
        "scrolled": false,
        "id": "8ce3c2a2",
        "outputId": "94952cc0-d064-4066-a66d-ba2f5ffe43d0"
      },
      "outputs": [
        {
          "data": {
            "text/plain": [
              "Text(0.5, 1.0, 'Зависимость продаж игр на X360 от отзывов игроков')"
            ]
          },
          "execution_count": 38,
          "metadata": {},
          "output_type": "execute_result"
        },
        {
          "data": {
            "image/png": "[encoded data removed]",
            "text/plain": [
              "<Figure size 432x288 with 1 Axes>"
            ]
          },
          "metadata": {
            "needs_background": "light"
          },
          "output_type": "display_data"
        }
      ],
      "source": [
        "plt.plot(top_8_platform.query('platform==\"X360\"')['user_score'],\n",
        "         top_8_platform.query('platform==\"X360\"')['all_sales'], 'o', alpha=0.5, markersize=4)\n",
        "plt.xlabel('Оценка игроков')\n",
        "plt.ylabel('Кол-во проданных игр')\n",
        "plt.title('Зависимость продаж игр на X360 от отзывов игроков')"
      ]
    },
    {
      "cell_type": "markdown",
      "id": "26d3f194",
      "metadata": {
        "id": "26d3f194"
      },
      "source": [
        "Связи между оценками и количеством проданных игр на X360 не видно"
      ]
    },
    {
      "cell_type": "markdown",
      "id": "75d3e03c",
      "metadata": {
        "id": "75d3e03c"
      },
      "source": [
        "Платформа <b>3DS</b>"
      ]
    },
    {
      "cell_type": "code",
      "execution_count": null,
      "id": "50f43c11",
      "metadata": {
        "id": "50f43c11",
        "outputId": "33d52598-ab77-4e54-da52-875aa283ef20"
      },
      "outputs": [
        {
          "data": {
            "text/plain": [
              "Text(0.5, 1.0, 'Зависимость продаж игр на 3DS от отзывов критиков')"
            ]
          },
          "execution_count": 39,
          "metadata": {},
          "output_type": "execute_result"
        },
        {
          "data": {
            "image/png": "[encoded data removed]",
            "text/plain": [
              "<Figure size 432x288 with 1 Axes>"
            ]
          },
          "metadata": {
            "needs_background": "light"
          },
          "output_type": "display_data"
        }
      ],
      "source": [
        "plt.plot(top_8_platform.query('platform==\"3DS\"')['critic_score'],\n",
        "         top_8_platform.query('platform==\"3DS\"')['all_sales'], 'o', alpha=0.5, markersize=4)\n",
        "plt.xlabel('Оценка критиков')\n",
        "plt.ylabel('Кол-во проданных игр')\n",
        "plt.title('Зависимость продаж игр на 3DS от отзывов критиков')"
      ]
    },
    {
      "cell_type": "markdown",
      "id": "45e2b4af",
      "metadata": {
        "id": "45e2b4af"
      },
      "source": [
        "Заметна слабая связь между оценками критиков и продажми игр на 3DS"
      ]
    },
    {
      "cell_type": "code",
      "execution_count": null,
      "id": "950679b6",
      "metadata": {
        "id": "950679b6",
        "outputId": "6b278526-3d03-405d-b5ef-f1a5e653bf08"
      },
      "outputs": [
        {
          "data": {
            "text/plain": [
              "Text(0.5, 1.0, 'Зависимость продаж игр на 3DS от отзывов игроков')"
            ]
          },
          "execution_count": 40,
          "metadata": {},
          "output_type": "execute_result"
        },
        {
          "data": {
            "image/png": "[encoded data removed]",
            "text/plain": [
              "<Figure size 432x288 with 1 Axes>"
            ]
          },
          "metadata": {
            "needs_background": "light"
          },
          "output_type": "display_data"
        }
      ],
      "source": [
        "plt.plot(top_8_platform.query('platform==\"3DS\"')['user_score'],\n",
        "         top_8_platform.query('platform==\"3DS\"')['all_sales'], 'o', alpha=0.5, markersize=4)\n",
        "plt.xlabel('Оценка игроков')\n",
        "plt.ylabel('Кол-во проданных игр')\n",
        "plt.title('Зависимость продаж игр на 3DS от отзывов игроков')"
      ]
    },
    {
      "cell_type": "markdown",
      "id": "8239eab9",
      "metadata": {
        "id": "8239eab9"
      },
      "source": [
        "Связи между оценками и количеством проданных игр на 3DS не видно"
      ]
    },
    {
      "cell_type": "code",
      "execution_count": null,
      "id": "9393e61b",
      "metadata": {
        "id": "9393e61b",
        "outputId": "1893d50d-831b-4623-981c-6236cc6bd0bd"
      },
      "outputs": [
        {
          "data": {
            "text/html": [
              "<div>\n",
              "<style scoped>\n",
              "    .dataframe tbody tr th:only-of-type {\n",
              "        vertical-align: middle;\n",
              "    }\n",
              "\n",
              "    .dataframe tbody tr th {\n",
              "        vertical-align: top;\n",
              "    }\n",
              "\n",
              "    .dataframe thead th {\n",
              "        text-align: right;\n",
              "    }\n",
              "</style>\n",
              "<table border=\"1\" class=\"dataframe\">\n",
              "  <thead>\n",
              "    <tr style=\"text-align: right;\">\n",
              "      <th></th>\n",
              "      <th>all_sales</th>\n",
              "      <th>critic_score</th>\n",
              "      <th>user_score</th>\n",
              "    </tr>\n",
              "  </thead>\n",
              "  <tbody>\n",
              "    <tr>\n",
              "      <th>all_sales</th>\n",
              "      <td>1.000000</td>\n",
              "      <td>0.431848</td>\n",
              "      <td>0.024231</td>\n",
              "    </tr>\n",
              "    <tr>\n",
              "      <th>critic_score</th>\n",
              "      <td>0.431848</td>\n",
              "      <td>1.000000</td>\n",
              "      <td>0.612451</td>\n",
              "    </tr>\n",
              "    <tr>\n",
              "      <th>user_score</th>\n",
              "      <td>0.024231</td>\n",
              "      <td>0.612451</td>\n",
              "      <td>1.000000</td>\n",
              "    </tr>\n",
              "  </tbody>\n",
              "</table>\n",
              "</div>"
            ],
            "text/plain": [
              "              all_sales  critic_score  user_score\n",
              "all_sales      1.000000      0.431848    0.024231\n",
              "critic_score   0.431848      1.000000    0.612451\n",
              "user_score     0.024231      0.612451    1.000000"
            ]
          },
          "execution_count": 41,
          "metadata": {},
          "output_type": "execute_result"
        }
      ],
      "source": [
        "top_8_platform.query('platform==\"PS4\"')[['all_sales','critic_score','user_score']].corr()"
      ]
    },
    {
      "cell_type": "markdown",
      "id": "7200af93",
      "metadata": {
        "id": "7200af93"
      },
      "source": [
        "Корреляции между оценками пользователей и количеством проданных игр слишком маленькая, чтобы делать вывод, что оценка пользователей влияет на продажи. Корреляция между оценками критиков и количеством проданных игр, также незначительна 0.43."
      ]
    },
    {
      "cell_type": "markdown",
      "id": "fe3bcbcb",
      "metadata": {
        "id": "fe3bcbcb"
      },
      "source": [
        "Посчитаем корреляцию ещё на 3 платформах, чтобы проверить теорию"
      ]
    },
    {
      "cell_type": "code",
      "execution_count": null,
      "id": "4586e90b",
      "metadata": {
        "id": "4586e90b",
        "outputId": "26bb54e7-7aa2-4f33-f120-53021d6d487f"
      },
      "outputs": [
        {
          "data": {
            "text/html": [
              "<div>\n",
              "<style scoped>\n",
              "    .dataframe tbody tr th:only-of-type {\n",
              "        vertical-align: middle;\n",
              "    }\n",
              "\n",
              "    .dataframe tbody tr th {\n",
              "        vertical-align: top;\n",
              "    }\n",
              "\n",
              "    .dataframe thead th {\n",
              "        text-align: right;\n",
              "    }\n",
              "</style>\n",
              "<table border=\"1\" class=\"dataframe\">\n",
              "  <thead>\n",
              "    <tr style=\"text-align: right;\">\n",
              "      <th></th>\n",
              "      <th>all_sales</th>\n",
              "      <th>critic_score</th>\n",
              "      <th>user_score</th>\n",
              "    </tr>\n",
              "  </thead>\n",
              "  <tbody>\n",
              "    <tr>\n",
              "      <th>all_sales</th>\n",
              "      <td>1.000000</td>\n",
              "      <td>0.350345</td>\n",
              "      <td>-0.034562</td>\n",
              "    </tr>\n",
              "    <tr>\n",
              "      <th>critic_score</th>\n",
              "      <td>0.350345</td>\n",
              "      <td>1.000000</td>\n",
              "      <td>0.520946</td>\n",
              "    </tr>\n",
              "    <tr>\n",
              "      <th>user_score</th>\n",
              "      <td>-0.034562</td>\n",
              "      <td>0.520946</td>\n",
              "      <td>1.000000</td>\n",
              "    </tr>\n",
              "  </tbody>\n",
              "</table>\n",
              "</div>"
            ],
            "text/plain": [
              "              all_sales  critic_score  user_score\n",
              "all_sales      1.000000      0.350345   -0.034562\n",
              "critic_score   0.350345      1.000000    0.520946\n",
              "user_score    -0.034562      0.520946    1.000000"
            ]
          },
          "execution_count": 42,
          "metadata": {},
          "output_type": "execute_result"
        }
      ],
      "source": [
        "top_8_platform.query('platform==\"X360\"')[['all_sales','critic_score','user_score']].corr()"
      ]
    },
    {
      "cell_type": "code",
      "execution_count": null,
      "id": "97bb7914",
      "metadata": {
        "id": "97bb7914",
        "outputId": "3f04371e-e243-4694-bc8c-50962cdad490"
      },
      "outputs": [
        {
          "data": {
            "text/html": [
              "<div>\n",
              "<style scoped>\n",
              "    .dataframe tbody tr th:only-of-type {\n",
              "        vertical-align: middle;\n",
              "    }\n",
              "\n",
              "    .dataframe tbody tr th {\n",
              "        vertical-align: top;\n",
              "    }\n",
              "\n",
              "    .dataframe thead th {\n",
              "        text-align: right;\n",
              "    }\n",
              "</style>\n",
              "<table border=\"1\" class=\"dataframe\">\n",
              "  <thead>\n",
              "    <tr style=\"text-align: right;\">\n",
              "      <th></th>\n",
              "      <th>all_sales</th>\n",
              "      <th>critic_score</th>\n",
              "      <th>user_score</th>\n",
              "    </tr>\n",
              "  </thead>\n",
              "  <tbody>\n",
              "    <tr>\n",
              "      <th>all_sales</th>\n",
              "      <td>1.000000</td>\n",
              "      <td>0.384326</td>\n",
              "      <td>0.264711</td>\n",
              "    </tr>\n",
              "    <tr>\n",
              "      <th>critic_score</th>\n",
              "      <td>0.384326</td>\n",
              "      <td>1.000000</td>\n",
              "      <td>0.776471</td>\n",
              "    </tr>\n",
              "    <tr>\n",
              "      <th>user_score</th>\n",
              "      <td>0.264711</td>\n",
              "      <td>0.776471</td>\n",
              "      <td>1.000000</td>\n",
              "    </tr>\n",
              "  </tbody>\n",
              "</table>\n",
              "</div>"
            ],
            "text/plain": [
              "              all_sales  critic_score  user_score\n",
              "all_sales      1.000000      0.384326    0.264711\n",
              "critic_score   0.384326      1.000000    0.776471\n",
              "user_score     0.264711      0.776471    1.000000"
            ]
          },
          "execution_count": 43,
          "metadata": {},
          "output_type": "execute_result"
        }
      ],
      "source": [
        "top_8_platform.query('platform==\"3DS\"')[['all_sales','critic_score','user_score']].corr()"
      ]
    },
    {
      "cell_type": "code",
      "execution_count": null,
      "id": "deba38b5",
      "metadata": {
        "id": "deba38b5",
        "outputId": "75cab515-e3c8-4b98-d0e1-c99a584c3e12"
      },
      "outputs": [
        {
          "data": {
            "text/html": [
              "<div>\n",
              "<style scoped>\n",
              "    .dataframe tbody tr th:only-of-type {\n",
              "        vertical-align: middle;\n",
              "    }\n",
              "\n",
              "    .dataframe tbody tr th {\n",
              "        vertical-align: top;\n",
              "    }\n",
              "\n",
              "    .dataframe thead th {\n",
              "        text-align: right;\n",
              "    }\n",
              "</style>\n",
              "<table border=\"1\" class=\"dataframe\">\n",
              "  <thead>\n",
              "    <tr style=\"text-align: right;\">\n",
              "      <th></th>\n",
              "      <th>all_sales</th>\n",
              "      <th>critic_score</th>\n",
              "      <th>user_score</th>\n",
              "    </tr>\n",
              "  </thead>\n",
              "  <tbody>\n",
              "    <tr>\n",
              "      <th>all_sales</th>\n",
              "      <td>1.000000</td>\n",
              "      <td>0.334285</td>\n",
              "      <td>-0.016333</td>\n",
              "    </tr>\n",
              "    <tr>\n",
              "      <th>critic_score</th>\n",
              "      <td>0.334285</td>\n",
              "      <td>1.000000</td>\n",
              "      <td>0.599920</td>\n",
              "    </tr>\n",
              "    <tr>\n",
              "      <th>user_score</th>\n",
              "      <td>-0.016333</td>\n",
              "      <td>0.599920</td>\n",
              "      <td>1.000000</td>\n",
              "    </tr>\n",
              "  </tbody>\n",
              "</table>\n",
              "</div>"
            ],
            "text/plain": [
              "              all_sales  critic_score  user_score\n",
              "all_sales      1.000000      0.334285   -0.016333\n",
              "critic_score   0.334285      1.000000    0.599920\n",
              "user_score    -0.016333      0.599920    1.000000"
            ]
          },
          "execution_count": 44,
          "metadata": {},
          "output_type": "execute_result"
        }
      ],
      "source": [
        "top_8_platform.query('platform==\"PS3\"')[['all_sales','critic_score','user_score']].corr()"
      ]
    },
    {
      "cell_type": "markdown",
      "id": "9bcc724d",
      "metadata": {
        "id": "9bcc724d"
      },
      "source": [
        "Как видно из представленных выше сравнений, корреляция не превышает необходимого порога, чтобы можно было сказать, что оценки влияют на продаваемость игр.\n",
        "Вывод оценки не влияют на продаваемость игр, но видна корреляция между оценками пользователей и критиков, возможно кто-то опирается при выставлении оценки игре на чужое мнение или общий рейтинг игры."
      ]
    },
    {
      "cell_type": "markdown",
      "id": "8293c3e0",
      "metadata": {
        "id": "8293c3e0"
      },
      "source": [
        "### Общее распределение игр по жанрам"
      ]
    },
    {
      "cell_type": "markdown",
      "id": "87ef1191",
      "metadata": {
        "id": "87ef1191"
      },
      "source": [
        "Просмотрим как игры распределяются по жанрам"
      ]
    },
    {
      "cell_type": "code",
      "execution_count": null,
      "id": "e97b06c9",
      "metadata": {
        "id": "e97b06c9",
        "outputId": "2a0fdb58-babe-4d0b-b525-7fd78dac73a8"
      },
      "outputs": [
        {
          "name": "stdout",
          "output_type": "stream",
          "text": [
            "genre\n",
            "Action          566\n",
            "Role-Playing    231\n",
            "Sports          157\n",
            "Adventure       154\n",
            "Shooter         140\n",
            "Misc            108\n",
            "Fighting         63\n",
            "Racing           61\n",
            "Platform         55\n",
            "Simulation       42\n",
            "Strategy         41\n",
            "Puzzle           16\n",
            "dtype: int64\n"
          ]
        },
        {
          "data": {
            "text/plain": [
              "[Text(0, 0.5, '')]"
            ]
          },
          "execution_count": 45,
          "metadata": {},
          "output_type": "execute_result"
        },
        {
          "data": {
            "image/png": "[encoded data removed]",
            "text/plain": [
              "<Figure size 432x288 with 1 Axes>"
            ]
          },
          "metadata": {},
          "output_type": "display_data"
        }
      ],
      "source": [
        "print(top_8_platform.value_counts('genre'))\n",
        "top_8_platform.value_counts('genre').plot(kind='pie', y='genre',autopct='%.2f%%', title='Распределение игр по жанрам').set(ylabel='')"
      ]
    },
    {
      "cell_type": "markdown",
      "id": "b8b133fa",
      "metadata": {
        "id": "b8b133fa"
      },
      "source": [
        "Чаще всего игры выпускаются в жанрах `Action`(34.64%), `Role-Playing`(14.14%), `Sports`(9.61%). Реже всего игры делают в жанре `Puzzle`(0.98%)."
      ]
    },
    {
      "cell_type": "markdown",
      "id": "04616441",
      "metadata": {
        "id": "04616441"
      },
      "source": [
        "Суммарные продажи по жанрам на основе данных из выборки"
      ]
    },
    {
      "cell_type": "code",
      "execution_count": null,
      "id": "1758fad7",
      "metadata": {
        "id": "1758fad7",
        "outputId": "0c1de256-f15c-408d-93a8-01f036c3be08"
      },
      "outputs": [
        {
          "data": {
            "text/html": [
              "<div>\n",
              "<style scoped>\n",
              "    .dataframe tbody tr th:only-of-type {\n",
              "        vertical-align: middle;\n",
              "    }\n",
              "\n",
              "    .dataframe tbody tr th {\n",
              "        vertical-align: top;\n",
              "    }\n",
              "\n",
              "    .dataframe thead th {\n",
              "        text-align: right;\n",
              "    }\n",
              "</style>\n",
              "<table border=\"1\" class=\"dataframe\">\n",
              "  <thead>\n",
              "    <tr style=\"text-align: right;\">\n",
              "      <th></th>\n",
              "      <th>genre</th>\n",
              "      <th>all_sales</th>\n",
              "    </tr>\n",
              "  </thead>\n",
              "  <tbody>\n",
              "    <tr>\n",
              "      <th>0</th>\n",
              "      <td>Action</td>\n",
              "      <td>287.58</td>\n",
              "    </tr>\n",
              "    <tr>\n",
              "      <th>8</th>\n",
              "      <td>Shooter</td>\n",
              "      <td>194.76</td>\n",
              "    </tr>\n",
              "    <tr>\n",
              "      <th>7</th>\n",
              "      <td>Role-Playing</td>\n",
              "      <td>126.68</td>\n",
              "    </tr>\n",
              "    <tr>\n",
              "      <th>10</th>\n",
              "      <td>Sports</td>\n",
              "      <td>125.49</td>\n",
              "    </tr>\n",
              "    <tr>\n",
              "      <th>3</th>\n",
              "      <td>Misc</td>\n",
              "      <td>53.09</td>\n",
              "    </tr>\n",
              "    <tr>\n",
              "      <th>6</th>\n",
              "      <td>Racing</td>\n",
              "      <td>37.10</td>\n",
              "    </tr>\n",
              "    <tr>\n",
              "      <th>4</th>\n",
              "      <td>Platform</td>\n",
              "      <td>36.46</td>\n",
              "    </tr>\n",
              "    <tr>\n",
              "      <th>2</th>\n",
              "      <td>Fighting</td>\n",
              "      <td>30.82</td>\n",
              "    </tr>\n",
              "    <tr>\n",
              "      <th>9</th>\n",
              "      <td>Simulation</td>\n",
              "      <td>19.52</td>\n",
              "    </tr>\n",
              "    <tr>\n",
              "      <th>1</th>\n",
              "      <td>Adventure</td>\n",
              "      <td>18.90</td>\n",
              "    </tr>\n",
              "    <tr>\n",
              "      <th>11</th>\n",
              "      <td>Strategy</td>\n",
              "      <td>8.67</td>\n",
              "    </tr>\n",
              "    <tr>\n",
              "      <th>5</th>\n",
              "      <td>Puzzle</td>\n",
              "      <td>3.16</td>\n",
              "    </tr>\n",
              "  </tbody>\n",
              "</table>\n",
              "</div>"
            ],
            "text/plain": [
              "           genre  all_sales\n",
              "0         Action     287.58\n",
              "8        Shooter     194.76\n",
              "7   Role-Playing     126.68\n",
              "10        Sports     125.49\n",
              "3           Misc      53.09\n",
              "6         Racing      37.10\n",
              "4       Platform      36.46\n",
              "2       Fighting      30.82\n",
              "9     Simulation      19.52\n",
              "1      Adventure      18.90\n",
              "11      Strategy       8.67\n",
              "5         Puzzle       3.16"
            ]
          },
          "execution_count": 46,
          "metadata": {},
          "output_type": "execute_result"
        }
      ],
      "source": [
        "top_8_platform.groupby('genre')['all_sales'].sum().reset_index().sort_values('all_sales', ascending=False)"
      ]
    },
    {
      "cell_type": "markdown",
      "id": "a122ca01",
      "metadata": {
        "id": "a122ca01"
      },
      "source": [
        "Посмотрим распрделение проданных игр по жанрам"
      ]
    },
    {
      "cell_type": "code",
      "execution_count": null,
      "id": "1d519fc9",
      "metadata": {
        "id": "1d519fc9",
        "outputId": "607b1932-edd1-43cd-d83f-dac1faebe912"
      },
      "outputs": [
        {
          "data": {
            "image/png": "[encoded data removed]",
            "text/plain": [
              "<Figure size 1152x576 with 1 Axes>"
            ]
          },
          "metadata": {
            "needs_background": "light"
          },
          "output_type": "display_data"
        }
      ],
      "source": [
        "def boxplot_sort(data,column,by):\n",
        "    data2 = pd.DataFrame({col:vals[column] for col, vals in data.groupby(by)})\n",
        "    med = data2.median().sort_values(ascending=True)\n",
        "    data2[med.index].boxplot()\n",
        "\n",
        "fig, ax = plt.subplots(figsize=(16,8))\n",
        "boxplot_sort(top_8_platform, column='all_sales', by='genre')\n",
        "ax.set_ylim(0,3)\n",
        "plt.show()"
      ]
    },
    {
      "cell_type": "code",
      "execution_count": null,
      "id": "5665f2cb",
      "metadata": {
        "id": "5665f2cb",
        "outputId": "f7b4fc75-5690-4127-effb-f95ef3fb1791"
      },
      "outputs": [
        {
          "data": {
            "image/png": "[encoded data removed]",
            "text/plain": [
              "<Figure size 1152x576 with 1 Axes>"
            ]
          },
          "metadata": {
            "needs_background": "light"
          },
          "output_type": "display_data"
        }
      ],
      "source": [
        "Q1 =  top_8_platform['all_sales'].quantile(0.25)\n",
        "Q3 = top_8_platform['all_sales'].quantile(0.75)\n",
        "IQR = Q3 - Q1\n",
        "\n",
        "def boxplot_sort(data,column,by):\n",
        "    data2 = pd.DataFrame({col:vals[column] for col, vals in data.groupby(by)})\n",
        "    med = data2.median().sort_values(ascending=True)\n",
        "    data2[med.index].boxplot()\n",
        "\n",
        "fig, ax = plt.subplots(figsize=(16,8))\n",
        "boxplot_sort(top_8_platform[(top_8_platform['all_sales'] > Q1) & (top_8_platform['all_sales'] < Q3)], column='all_sales',\n",
        "             by='genre')\n",
        "ax.set_ylim(0,0.6)\n",
        "plt.show()"
      ]
    },
    {
      "cell_type": "markdown",
      "id": "fd00257d",
      "metadata": {
        "id": "fd00257d"
      },
      "source": [
        "По диаграмме размаха видно, что самыми успешными жанрами по медианным продажам являются жанры `Shooter`, `Simulation`,`Strategy`,`Racing`и `Misc`. Самыми стабильными и успешно продающимися жанрами являются `Shooter`, `Simulation`."
      ]
    },
    {
      "cell_type": "markdown",
      "id": "aae7ddf6",
      "metadata": {
        "id": "aae7ddf6"
      },
      "source": [
        "#### Вывод:"
      ]
    },
    {
      "cell_type": "markdown",
      "id": "d942e55e",
      "metadata": {
        "id": "d942e55e"
      },
      "source": [
        "В ходе проведения исследовательского анализа было выявленно:\n",
        "\n",
        " 1) В среднем в год выходит более 720 игр\n",
        "\n",
        " 2) Новые платформы в течении 2-3 лет входят в пик по проданным играм. В среднем платформы пользуются популярностью около 10 лет.\n",
        "\n",
        " 3) Был выбран актуальный период с 2013-2015гг. и минимальный порог проданных игр(от 15 млн.) на платформу. В результате были отобранны 8 платформ(PS4, PS3, X360, XOne, 3DS, WiiU, PSV) с которым производился дальнейший анализ\n",
        "  \n",
        " 4) В основном игры продаются до 2.5 млн. копий. Большие выбросы наблюдаюся у платформ X360, PS4 и 3DS за установленный период.\n",
        "\n",
        " 5) Также выяснилось, что мнение критиков и игроков не влияет на покупаемость игр.\n",
        "\n",
        " 6) Самыми успешными жанрами по медианным продажам являются жанры `Shooter`, `Simulation`,`Strategy`,`Racing`и `Misc`. Самыми стабильными и успешно продающимися жанрами являются `Shooter`, `Simulation`."
      ]
    },
    {
      "cell_type": "markdown",
      "id": "7d05097e",
      "metadata": {
        "id": "7d05097e"
      },
      "source": [
        "## Портрет пользователя каждого региона"
      ]
    },
    {
      "cell_type": "markdown",
      "id": "ca7fb770",
      "metadata": {
        "id": "ca7fb770"
      },
      "source": [
        "### Самые популярные платформы (топ-5) для пользователя каждого региона (NA, EU, JP)"
      ]
    },
    {
      "cell_type": "code",
      "execution_count": null,
      "id": "978a4532",
      "metadata": {
        "scrolled": true,
        "id": "978a4532"
      },
      "outputs": [],
      "source": [
        "year_sort = data.query('year_of_release>2012 and year_of_release<2016')\n",
        "\n",
        "year_sort_na =year_sort.copy()\n",
        "top_na=year_sort_na.groupby('platform')['na_sales'].sum().reset_index().sort_values('na_sales',\n",
        "                                                                                    ascending=False).head(5)['platform'].tolist()\n",
        "\n",
        "year_sort_na['platform'] = year_sort_na['platform'].where(year_sort_na['platform'].isin(top_na), other='other')\n",
        "year_sort_na = year_sort_na.groupby('platform')['na_sales'].sum().reset_index().sort_values('na_sales', ascending=False)\n",
        "\n",
        "year_sort_eu =year_sort.copy()\n",
        "top_eu=year_sort_eu.groupby('platform')['eu_sales'].sum().reset_index().sort_values('eu_sales',\n",
        "                                                                                    ascending=False).head(5)['platform'].tolist()\n",
        "\n",
        "year_sort_eu['platform'] = year_sort_eu['platform'].where(year_sort_eu['platform'].isin(top_eu), other='other')\n",
        "year_sort_eu = year_sort_eu.groupby('platform')['eu_sales'].sum().reset_index().sort_values('eu_sales', ascending=False)\n",
        "\n",
        "year_sort_jp =year_sort.copy()\n",
        "top_jp=year_sort_jp.groupby('platform')['jp_sales'].sum().reset_index().sort_values('jp_sales',\n",
        "                                                                                    ascending=False).head(5)['platform'].tolist()\n",
        "\n",
        "year_sort_jp['platform'] = year_sort_jp['platform'].where(year_sort_jp['platform'].isin(top_jp), other='other')\n",
        "year_sort_jp = year_sort_jp.groupby('platform')['jp_sales'].sum().reset_index().sort_values('jp_sales', ascending=False)\n",
        "\n"
      ]
    },
    {
      "cell_type": "code",
      "execution_count": null,
      "id": "f1e9c19b",
      "metadata": {
        "id": "f1e9c19b",
        "outputId": "237f99e5-9f9f-4673-e36f-359f892fb12e"
      },
      "outputs": [
        {
          "data": {
            "text/plain": [
              "Text(0.5, 1.0, 'регион JP')"
            ]
          },
          "execution_count": 50,
          "metadata": {},
          "output_type": "execute_result"
        },
        {
          "data": {
            "image/png": "[encoded data removed]",
            "text/plain": [
              "<Figure size 1080x1080 with 3 Axes>"
            ]
          },
          "metadata": {},
          "output_type": "display_data"
        }
      ],
      "source": [
        "\n",
        "    labels_na = [\"PS4\", \"X360\", \"XOne\", \"PS3\", \"other\",\"3DS\"]\n",
        "    labels_eu = [\"PS4\", \"PS3\", \"other\", \"XOne\", \"X360\",\"3DS\"]\n",
        "    labels_jp = [\"3DS\", \"PS3\", \"PSV\", \"PS4\", \"WiiU\",\"other\"]\n",
        "    explode = (0.1, 0.1, 0.15, 0, 0.3, 0.15)\n",
        "    plt.figure(figsize=(15, 15))\n",
        "    plt.rc('font', size=12) #controls default text size\n",
        "    plt.rc('axes', titlesize=20) #fontsize of the title\n",
        "    plt.rc('axes', labelsize=10) #fontsize of the x and y labels\n",
        "    plt.rc('xtick', labelsize=12) #fontsize of the x tick labels\n",
        "    plt.rc('ytick', labelsize=10) #fontsize of the y tick labels\n",
        "    plt.suptitle('Самые популярные платформы (топ-5) для пользователя каждого региона',fontsize = 20,y=0.9)\n",
        "\n",
        "    plt.subplot(2, 3, 1)\n",
        "    plt.pie(year_sort_na['na_sales'], autopct='%.2f%%', labels=labels_na,explode=explode, wedgeprops=dict(width=0.5),\n",
        "            shadow=True)\n",
        "    plt.title(\"регион NA\")\n",
        "\n",
        "    # !!! Текущая ячейка - 2\n",
        "    plt.subplot(2, 3, 2)\n",
        "    plt.pie(year_sort_eu['eu_sales'], autopct='%.2f%%', labels=labels_eu,explode=explode, wedgeprops=dict(width=0.5),\n",
        "            shadow=True)\n",
        "    plt.title(\"регион EU\")\n",
        "\n",
        "    # !!! Текущая ячейка - 3\n",
        "    plt.subplot(2, 3, 3)\n",
        "    plt.pie(year_sort_jp['jp_sales'], autopct='%.2f%%', labels=labels_jp,explode=explode, wedgeprops=dict(width=0.5),\n",
        "            shadow=True)\n",
        "    plt.title(\"регион JP\")"
      ]
    },
    {
      "cell_type": "code",
      "execution_count": null,
      "id": "988779fb",
      "metadata": {
        "id": "988779fb",
        "outputId": "b3d8450b-248f-4572-e54b-86d97c40a3f2"
      },
      "outputs": [
        {
          "data": {
            "text/plain": [
              "Text(0.5, 1.0, 'регион JP')"
            ]
          },
          "execution_count": 51,
          "metadata": {},
          "output_type": "execute_result"
        },
        {
          "data": {
            "image/png": "[encoded data removed]",
            "text/plain": [
              "<Figure size 1080x1080 with 3 Axes>"
            ]
          },
          "metadata": {
            "needs_background": "light"
          },
          "output_type": "display_data"
        }
      ],
      "source": [
        "\n",
        "    labels_na = [\"PS4\", \"X360\", \"XOne\", \"PS3\", \"other\",\"3DS\"]\n",
        "    labels_eu = [\"PS4\", \"PS3\", \"other\", \"XOne\", \"X360\",\"3DS\"]\n",
        "    labels_jp = [\"3DS\", \"PS3\", \"PSV\", \"PS4\", \"WiiU\",\"other\"]\n",
        "    explode = (0.1, 0.1, 0.15, 0, 0.3, 0.15)\n",
        "    plt.figure(figsize=(15, 15))\n",
        "    plt.rc('font', size=12) #controls default text size\n",
        "    plt.rc('axes', titlesize=20) #fontsize of the title\n",
        "    plt.rc('axes', labelsize=10) #fontsize of the x and y labels\n",
        "    plt.rc('xtick', labelsize=12) #fontsize of the x tick labels\n",
        "    plt.rc('ytick', labelsize=10) #fontsize of the y tick labels\n",
        "    plt.suptitle('Самые популярные платформы (топ-5) для пользователя каждого региона',fontsize = 20,y=0.9)\n",
        "\n",
        "    plt.subplot(2, 3, 1)\n",
        "    plt.pie(year_sort_na['na_sales'], autopct='%.2f%%', labels=labels_na,explode=explode, wedgeprops=dict(width=0.5),\n",
        "            shadow=True)\n",
        "    plt.title(\"регион NA\")\n",
        "\n",
        "    # !!! Текущая ячейка - 2\n",
        "    plt.subplot(2, 3, 2)\n",
        "    plt.bar([\"PS4\", \"PS3\", \"other\", \"XOne\", \"X360\",\"3DS\"], year_sort_eu['eu_sales'])\n",
        "    plt.title(\"регион EU\")\n",
        "\n",
        "    # !!! Текущая ячейка - 3\n",
        "    plt.subplot(2, 3, 3)\n",
        "    plt.pie(year_sort_jp['jp_sales'], autopct='%.2f%%', labels=labels_jp,explode=explode, wedgeprops=dict(width=0.5),\n",
        "            shadow=True)\n",
        "    plt.title(\"регион JP\")"
      ]
    },
    {
      "cell_type": "code",
      "execution_count": null,
      "id": "d16ace3a",
      "metadata": {
        "id": "d16ace3a",
        "outputId": "4339e325-eea9-43f5-c918-7aa1c976519d"
      },
      "outputs": [
        {
          "data": {
            "text/html": [
              "<div>\n",
              "<style scoped>\n",
              "    .dataframe tbody tr th:only-of-type {\n",
              "        vertical-align: middle;\n",
              "    }\n",
              "\n",
              "    .dataframe tbody tr th {\n",
              "        vertical-align: top;\n",
              "    }\n",
              "\n",
              "    .dataframe thead th {\n",
              "        text-align: right;\n",
              "    }\n",
              "</style>\n",
              "<table border=\"1\" class=\"dataframe\">\n",
              "  <thead>\n",
              "    <tr style=\"text-align: right;\">\n",
              "      <th></th>\n",
              "      <th>platform</th>\n",
              "      <th>eu_sales</th>\n",
              "    </tr>\n",
              "  </thead>\n",
              "  <tbody>\n",
              "    <tr>\n",
              "      <th>2</th>\n",
              "      <td>PS4</td>\n",
              "      <td>109.31</td>\n",
              "    </tr>\n",
              "    <tr>\n",
              "      <th>1</th>\n",
              "      <td>PS3</td>\n",
              "      <td>66.55</td>\n",
              "    </tr>\n",
              "    <tr>\n",
              "      <th>5</th>\n",
              "      <td>other</td>\n",
              "      <td>52.75</td>\n",
              "    </tr>\n",
              "    <tr>\n",
              "      <th>4</th>\n",
              "      <td>XOne</td>\n",
              "      <td>41.96</td>\n",
              "    </tr>\n",
              "    <tr>\n",
              "      <th>3</th>\n",
              "      <td>X360</td>\n",
              "      <td>41.81</td>\n",
              "    </tr>\n",
              "    <tr>\n",
              "      <th>0</th>\n",
              "      <td>3DS</td>\n",
              "      <td>28.63</td>\n",
              "    </tr>\n",
              "  </tbody>\n",
              "</table>\n",
              "</div>"
            ],
            "text/plain": [
              "  platform  eu_sales\n",
              "2      PS4    109.31\n",
              "1      PS3     66.55\n",
              "5    other     52.75\n",
              "4     XOne     41.96\n",
              "3     X360     41.81\n",
              "0      3DS     28.63"
            ]
          },
          "execution_count": 52,
          "metadata": {},
          "output_type": "execute_result"
        }
      ],
      "source": [
        "# check\n",
        "year_sort_eu"
      ]
    },
    {
      "cell_type": "markdown",
      "id": "9b3a652b",
      "metadata": {
        "id": "9b3a652b"
      },
      "source": [
        "### Самые популярные жанры (топ-5) для пользователя каждого региона (NA, EU, JP)"
      ]
    },
    {
      "cell_type": "code",
      "execution_count": null,
      "id": "a40d9343",
      "metadata": {
        "id": "a40d9343",
        "outputId": "cf277c1c-b3c1-4f6d-c14d-3eb3d124e86b"
      },
      "outputs": [
        {
          "data": {
            "text/html": [
              "<div>\n",
              "<style scoped>\n",
              "    .dataframe tbody tr th:only-of-type {\n",
              "        vertical-align: middle;\n",
              "    }\n",
              "\n",
              "    .dataframe tbody tr th {\n",
              "        vertical-align: top;\n",
              "    }\n",
              "\n",
              "    .dataframe thead th {\n",
              "        text-align: right;\n",
              "    }\n",
              "</style>\n",
              "<table border=\"1\" class=\"dataframe\">\n",
              "  <thead>\n",
              "    <tr style=\"text-align: right;\">\n",
              "      <th></th>\n",
              "      <th>genre</th>\n",
              "      <th>jp_sales</th>\n",
              "    </tr>\n",
              "  </thead>\n",
              "  <tbody>\n",
              "    <tr>\n",
              "      <th>3</th>\n",
              "      <td>Role-Playing</td>\n",
              "      <td>44.43</td>\n",
              "    </tr>\n",
              "    <tr>\n",
              "      <th>0</th>\n",
              "      <td>Action</td>\n",
              "      <td>33.42</td>\n",
              "    </tr>\n",
              "    <tr>\n",
              "      <th>5</th>\n",
              "      <td>other</td>\n",
              "      <td>23.01</td>\n",
              "    </tr>\n",
              "    <tr>\n",
              "      <th>2</th>\n",
              "      <td>Misc</td>\n",
              "      <td>8.16</td>\n",
              "    </tr>\n",
              "    <tr>\n",
              "      <th>1</th>\n",
              "      <td>Fighting</td>\n",
              "      <td>6.90</td>\n",
              "    </tr>\n",
              "    <tr>\n",
              "      <th>4</th>\n",
              "      <td>Shooter</td>\n",
              "      <td>5.55</td>\n",
              "    </tr>\n",
              "  </tbody>\n",
              "</table>\n",
              "</div>"
            ],
            "text/plain": [
              "          genre  jp_sales\n",
              "3  Role-Playing     44.43\n",
              "0        Action     33.42\n",
              "5         other     23.01\n",
              "2          Misc      8.16\n",
              "1      Fighting      6.90\n",
              "4       Shooter      5.55"
            ]
          },
          "execution_count": 53,
          "metadata": {},
          "output_type": "execute_result"
        }
      ],
      "source": [
        "year_sort_na =year_sort.copy()\n",
        "top_na=year_sort_na.groupby('genre')['na_sales'].sum().reset_index().sort_values('na_sales',\n",
        "                                                                                    ascending=False).head(5)['genre'].tolist()\n",
        "\n",
        "year_sort_na['genre'] = year_sort_na['genre'].where(year_sort_na['genre'].isin(top_na), other='other')\n",
        "year_sort_na = year_sort_na.groupby('genre')['na_sales'].sum().reset_index().sort_values('na_sales', ascending=False)\n",
        "\n",
        "year_sort_eu =year_sort.copy()\n",
        "top_eu=year_sort_eu.groupby('genre')['eu_sales'].sum().reset_index().sort_values('eu_sales',\n",
        "                                                                                    ascending=False).head(5)['genre'].tolist()\n",
        "\n",
        "year_sort_eu['genre'] = year_sort_eu['genre'].where(year_sort_eu['genre'].isin(top_eu), other='other')\n",
        "year_sort_eu = year_sort_eu.groupby('genre')['eu_sales'].sum().reset_index().sort_values('eu_sales', ascending=False)\n",
        "\n",
        "year_sort_jp =year_sort.copy()\n",
        "top_jp=year_sort_jp.groupby('genre')['jp_sales'].sum().reset_index().sort_values('jp_sales',\n",
        "                                                                                    ascending=False).head(5)['genre'].tolist()\n",
        "\n",
        "year_sort_jp['genre'] = year_sort_jp['genre'].where(year_sort_jp['genre'].isin(top_jp), other='other')\n",
        "year_sort_jp = year_sort_jp.groupby('genre')['jp_sales'].sum().reset_index().sort_values('jp_sales', ascending=False)\n",
        "year_sort_jp"
      ]
    },
    {
      "cell_type": "code",
      "execution_count": null,
      "id": "0f60e778",
      "metadata": {
        "id": "0f60e778",
        "outputId": "0c9403bf-8fda-4d79-ebdf-d83ae85fb65f"
      },
      "outputs": [
        {
          "data": {
            "text/plain": [
              "Text(0.5, 1.0, 'регион JP')"
            ]
          },
          "execution_count": 54,
          "metadata": {},
          "output_type": "execute_result"
        },
        {
          "data": {
            "image/png": "[encoded data removed]",
            "text/plain": [
              "<Figure size 1080x1080 with 3 Axes>"
            ]
          },
          "metadata": {},
          "output_type": "display_data"
        }
      ],
      "source": [
        "    labels_na = [\"Action\", \"Shooter\", \"Sports\", \"other\", \"Role-Playing\",\"Misc\"]\n",
        "    labels_eu = [\"Action\", \"Shooter\", \"other\", \"Sports\", \"Role-Playing\",\"Misc\"]\n",
        "    labels_jp = [\"Role-Playing\", \"Action\", \"other\", \"Misc\", \"Fighting\",\"Shooter\"]\n",
        "    explode = (0.1, 0.1, 0.15, 0, 0.3, 0.15)\n",
        "    plt.figure(figsize=(15, 15))\n",
        "    plt.rc('font', size=12) #controls default text size\n",
        "    plt.rc('axes', titlesize=20) #fontsize of the title\n",
        "    plt.rc('axes', labelsize=10) #fontsize of the x and y labels\n",
        "    plt.rc('xtick', labelsize=12) #fontsize of the x tick labels\n",
        "    plt.rc('ytick', labelsize=10) #fontsize of the y tick labels\n",
        "    plt.suptitle('Самые популярные жанры (топ-5) для пользователя каждого региона',fontsize = 20,y=0.9)\n",
        "\n",
        "    plt.subplot(2, 3, 1)\n",
        "    plt.pie(year_sort_na['na_sales'], autopct='%.2f%%', labels=labels_na,explode=explode, wedgeprops=dict(width=0.5),\n",
        "            shadow=True)\n",
        "    plt.title(\"регион NA\")\n",
        "\n",
        "    # !!! Текущая ячейка - 2\n",
        "    plt.subplot(2, 3, 2)\n",
        "    plt.pie(year_sort_eu['eu_sales'], autopct='%.2f%%', labels=labels_eu,explode=explode, wedgeprops=dict(width=0.5),\n",
        "            shadow=True)\n",
        "    plt.title(\"регион EU\")\n",
        "\n",
        "    # !!! Текущая ячейка - 3\n",
        "    plt.subplot(2, 3, 3)\n",
        "    plt.pie(year_sort_jp['jp_sales'], autopct='%.2f%%', labels=labels_jp,explode=explode, wedgeprops=dict(width=0.5),\n",
        "            shadow=True)\n",
        "    plt.title(\"регион JP\")"
      ]
    },
    {
      "cell_type": "markdown",
      "id": "eb7ff18e",
      "metadata": {
        "id": "eb7ff18e"
      },
      "source": [
        "Самыми популярными жанрами игр в Северной Америки являются Action, Shooter, Sports, Role-Playing, Misc. Доля других игр составляет 14.65%.\n",
        "\n",
        "Самыми популярными жанрами игр в Европе являются Action, Shooter, Sports, Role-Playing, Misc. Доля других игр составляет 17.89%. У регионов NA и EU, также схоже предпочтения в жанрах игр.\n",
        "\n",
        "Самыми популярными жанрами игр в Японии являются Role-Playing, Action, Misc, Fighting, Shooter. Доля других игр составляет 18.94%."
      ]
    },
    {
      "cell_type": "markdown",
      "id": "5679ceec",
      "metadata": {
        "id": "5679ceec"
      },
      "source": [
        "### Как рейтинг ESRB влияет на продажи в каждом регионе (NA, EU, JP)"
      ]
    },
    {
      "cell_type": "markdown",
      "id": "58481bcd",
      "metadata": {
        "id": "58481bcd"
      },
      "source": [
        "Посмотрим количество выставленных рейтингов играм. В датафрейме у 6676 игр отсутствует рейтинг."
      ]
    },
    {
      "cell_type": "code",
      "execution_count": null,
      "id": "95e16d4d",
      "metadata": {
        "id": "95e16d4d",
        "outputId": "1a2c27c1-bbad-4810-e5f2-f469255f1e54"
      },
      "outputs": [
        {
          "data": {
            "text/plain": [
              "rating\n",
              "no rating    6676\n",
              "E            3931\n",
              "T            2905\n",
              "M            1537\n",
              "E10+         1393\n",
              "RP              1\n",
              "dtype: int64"
            ]
          },
          "execution_count": 55,
          "metadata": {},
          "output_type": "execute_result"
        }
      ],
      "source": [
        "data.value_counts('rating')"
      ]
    },
    {
      "cell_type": "markdown",
      "id": "44a923aa",
      "metadata": {
        "id": "44a923aa"
      },
      "source": [
        "Рейтинги делятся на возврастные категории:\n",
        "\n",
        " * E («Everyone») — «Для всех»\n",
        " * E10+ («Everyone 10 and older») — «Для всех от 10 лет и старше»\n",
        " * T («Teen») — «Подросткам»\n",
        " * M («Mature») — «Для взрослых»\n",
        " * RP («Rating Pending») — «Рейтинг ожидается»\n",
        ""
      ]
    },
    {
      "cell_type": "markdown",
      "id": "98e8a3ac",
      "metadata": {
        "id": "98e8a3ac"
      },
      "source": [
        "Преобразуем рейтиг в числовые переменные для вычисления корреляции."
      ]
    },
    {
      "cell_type": "code",
      "execution_count": null,
      "id": "03193ee8",
      "metadata": {
        "scrolled": false,
        "id": "03193ee8",
        "outputId": "cbb19d01-6f59-4955-8ddc-60c0883c0c4a"
      },
      "outputs": [
        {
          "data": {
            "text/html": [
              "<div>\n",
              "<style scoped>\n",
              "    .dataframe tbody tr th:only-of-type {\n",
              "        vertical-align: middle;\n",
              "    }\n",
              "\n",
              "    .dataframe tbody tr th {\n",
              "        vertical-align: top;\n",
              "    }\n",
              "\n",
              "    .dataframe thead th {\n",
              "        text-align: right;\n",
              "    }\n",
              "</style>\n",
              "<table border=\"1\" class=\"dataframe\">\n",
              "  <thead>\n",
              "    <tr style=\"text-align: right;\">\n",
              "      <th></th>\n",
              "      <th>na_sales</th>\n",
              "      <th>rating</th>\n",
              "    </tr>\n",
              "  </thead>\n",
              "  <tbody>\n",
              "    <tr>\n",
              "      <th>na_sales</th>\n",
              "      <td>1.000000</td>\n",
              "      <td>-0.142572</td>\n",
              "    </tr>\n",
              "    <tr>\n",
              "      <th>rating</th>\n",
              "      <td>-0.142572</td>\n",
              "      <td>1.000000</td>\n",
              "    </tr>\n",
              "  </tbody>\n",
              "</table>\n",
              "</div>"
            ],
            "text/plain": [
              "          na_sales    rating\n",
              "na_sales  1.000000 -0.142572\n",
              "rating   -0.142572  1.000000"
            ]
          },
          "metadata": {},
          "output_type": "display_data"
        },
        {
          "data": {
            "text/plain": [
              "<AxesSubplot:xlabel='rating'>"
            ]
          },
          "execution_count": 56,
          "metadata": {},
          "output_type": "execute_result"
        },
        {
          "data": {
            "image/png": "[encoded data removed]",
            "text/plain": [
              "<Figure size 432x288 with 1 Axes>"
            ]
          },
          "metadata": {
            "needs_background": "light"
          },
          "output_type": "display_data"
        }
      ],
      "source": [
        "t = year_sort.replace({'rating' : { 'E' : 1, 'T' : 2, 'M' : 3, 'E10+' : 4, 'RP' : 5, 'no rating' : 6}})\n",
        "display(t[['na_sales', 'rating']].corr())\n",
        "t_na= t.pivot_table(index='rating', values=('na_sales'), aggfunc='sum').reset_index()\n",
        "t_na.plot(x='rating', y='na_sales', kind='bar')"
      ]
    },
    {
      "cell_type": "markdown",
      "id": "4254472a",
      "metadata": {
        "id": "4254472a"
      },
      "source": [
        "Из графика видно, что в Северной Америке чаще остальных продаются игры с рейтингом  M. Дальше идут без рейтинга и игры с рейтингом `E`. Корреляции между проданными играми в Северной Америки и рейтингом ESRB нет."
      ]
    },
    {
      "cell_type": "code",
      "execution_count": null,
      "id": "513aa51e",
      "metadata": {
        "id": "513aa51e",
        "outputId": "963bbda2-ca60-4a6e-d303-fe821c222184"
      },
      "outputs": [
        {
          "data": {
            "text/html": [
              "<div>\n",
              "<style scoped>\n",
              "    .dataframe tbody tr th:only-of-type {\n",
              "        vertical-align: middle;\n",
              "    }\n",
              "\n",
              "    .dataframe tbody tr th {\n",
              "        vertical-align: top;\n",
              "    }\n",
              "\n",
              "    .dataframe thead th {\n",
              "        text-align: right;\n",
              "    }\n",
              "</style>\n",
              "<table border=\"1\" class=\"dataframe\">\n",
              "  <thead>\n",
              "    <tr style=\"text-align: right;\">\n",
              "      <th></th>\n",
              "      <th>eu_sales</th>\n",
              "      <th>rating</th>\n",
              "    </tr>\n",
              "  </thead>\n",
              "  <tbody>\n",
              "    <tr>\n",
              "      <th>eu_sales</th>\n",
              "      <td>1.000000</td>\n",
              "      <td>-0.144126</td>\n",
              "    </tr>\n",
              "    <tr>\n",
              "      <th>rating</th>\n",
              "      <td>-0.144126</td>\n",
              "      <td>1.000000</td>\n",
              "    </tr>\n",
              "  </tbody>\n",
              "</table>\n",
              "</div>"
            ],
            "text/plain": [
              "          eu_sales    rating\n",
              "eu_sales  1.000000 -0.144126\n",
              "rating   -0.144126  1.000000"
            ]
          },
          "metadata": {},
          "output_type": "display_data"
        },
        {
          "data": {
            "text/plain": [
              "<AxesSubplot:xlabel='rating'>"
            ]
          },
          "execution_count": 57,
          "metadata": {},
          "output_type": "execute_result"
        },
        {
          "data": {
            "image/png": "[encoded data removed]",
            "text/plain": [
              "<Figure size 432x288 with 1 Axes>"
            ]
          },
          "metadata": {
            "needs_background": "light"
          },
          "output_type": "display_data"
        }
      ],
      "source": [
        "display(t[['eu_sales', 'rating']].corr())\n",
        "t_eu= t.pivot_table(index='rating', values=('eu_sales'), aggfunc='sum').reset_index()\n",
        "t_eu.plot(x='rating', y='eu_sales', kind='bar')"
      ]
    },
    {
      "cell_type": "markdown",
      "id": "de52ab38",
      "metadata": {
        "id": "de52ab38"
      },
      "source": [
        "Из графика видно, что в Европе, также чаще остальных продаются игры с рейтингом  M. Почти наравне идут игры без рейтинга и рейтингом `E`. Корреляции между проданными играми в Европе и рейтингом ESRB нет."
      ]
    },
    {
      "cell_type": "code",
      "execution_count": null,
      "id": "2ee14da2",
      "metadata": {
        "id": "2ee14da2",
        "outputId": "8705d65a-9812-4a62-89e2-74a75f9dc2c7"
      },
      "outputs": [
        {
          "data": {
            "text/html": [
              "<div>\n",
              "<style scoped>\n",
              "    .dataframe tbody tr th:only-of-type {\n",
              "        vertical-align: middle;\n",
              "    }\n",
              "\n",
              "    .dataframe tbody tr th {\n",
              "        vertical-align: top;\n",
              "    }\n",
              "\n",
              "    .dataframe thead th {\n",
              "        text-align: right;\n",
              "    }\n",
              "</style>\n",
              "<table border=\"1\" class=\"dataframe\">\n",
              "  <thead>\n",
              "    <tr style=\"text-align: right;\">\n",
              "      <th></th>\n",
              "      <th>jp_sales</th>\n",
              "      <th>rating</th>\n",
              "    </tr>\n",
              "  </thead>\n",
              "  <tbody>\n",
              "    <tr>\n",
              "      <th>jp_sales</th>\n",
              "      <td>1.000000</td>\n",
              "      <td>0.056964</td>\n",
              "    </tr>\n",
              "    <tr>\n",
              "      <th>rating</th>\n",
              "      <td>0.056964</td>\n",
              "      <td>1.000000</td>\n",
              "    </tr>\n",
              "  </tbody>\n",
              "</table>\n",
              "</div>"
            ],
            "text/plain": [
              "          jp_sales    rating\n",
              "jp_sales  1.000000  0.056964\n",
              "rating    0.056964  1.000000"
            ]
          },
          "metadata": {},
          "output_type": "display_data"
        },
        {
          "data": {
            "text/plain": [
              "<AxesSubplot:xlabel='rating'>"
            ]
          },
          "execution_count": 58,
          "metadata": {},
          "output_type": "execute_result"
        },
        {
          "data": {
            "image/png": "[encoded data removed]",
            "text/plain": [
              "<Figure size 432x288 with 1 Axes>"
            ]
          },
          "metadata": {
            "needs_background": "light"
          },
          "output_type": "display_data"
        }
      ],
      "source": [
        "display(t[['jp_sales', 'rating']].corr())\n",
        "t_jp= t.pivot_table(index='rating', values=('jp_sales'), aggfunc='sum').reset_index()\n",
        "t_jp.plot(x='rating', y='jp_sales', kind='bar')"
      ]
    },
    {
      "cell_type": "markdown",
      "id": "3a97dd11",
      "metadata": {
        "id": "3a97dd11"
      },
      "source": [
        "В Японии в основном покупают игры без рейтинга. Корреляции между проданными играми в Японии и рейтингом ESRB нет."
      ]
    },
    {
      "cell_type": "markdown",
      "id": "4b8ad047",
      "metadata": {
        "id": "4b8ad047"
      },
      "source": [
        "### Вывод"
      ]
    },
    {
      "cell_type": "markdown",
      "id": "3090fe93",
      "metadata": {
        "id": "3090fe93"
      },
      "source": [
        "Подводя итог можно составить портреты игроков различных регионов.\n",
        "\n",
        "1) Игрок из Северной Америке ему от 17 лет он любит играть в игры в жанре Action, Shooter и Sport. У него есть приставка PS4, X360 или XOne. На них он играет в игры серии GTA или Call of Duty, либо в спортивные игры серии NFL.\n",
        "\n",
        "2) Игроку из Европы также больше 17 лет. Он любит точно играть в игры в жанре Action, Shooter и другие. Он больше предпочитает приставки PS4 или PS3. Его любимые игры GTA и Call of Duty, а в жанре спортивных он предпочитает FIFA.\n",
        "\n",
        "3) Игрок из Японии в жанре игр больше остальных предпочитает Role-playing, Action и другие. Большее предпочтение он отдает портативной консоли 3DS, где он играет в игры серии Pokemon и Mario. Дома на стационарной платформе PS3, он играет в игры серии Final Fantasy и Dragon Quest."
      ]
    },
    {
      "cell_type": "markdown",
      "id": "794f9394",
      "metadata": {
        "id": "794f9394"
      },
      "source": [
        "## Проверка гипотез"
      ]
    },
    {
      "cell_type": "markdown",
      "id": "6ab4715f",
      "metadata": {
        "id": "6ab4715f"
      },
      "source": [
        "### Средние пользовательские рейтинги платформ Xbox One и PC одинаковые"
      ]
    },
    {
      "cell_type": "markdown",
      "id": "51e6d463",
      "metadata": {
        "id": "51e6d463"
      },
      "source": [
        "Зададим уровень значимости — 5%"
      ]
    },
    {
      "cell_type": "code",
      "execution_count": null,
      "id": "446f390b",
      "metadata": {
        "id": "446f390b"
      },
      "outputs": [],
      "source": [
        "alpha = 0.05"
      ]
    },
    {
      "cell_type": "markdown",
      "id": "19efb7f7",
      "metadata": {
        "id": "19efb7f7"
      },
      "source": [
        "Сформулируем гипотезы:\n",
        "\n",
        "Н<sub>0</sub> X<sup style=\"margin-left:-8px\">&#175;</sup><sub> XOne</sub> = X<sup style=\"margin-left:-7px\">&#175;</sup><sub> PC</sub>\n",
        "\n",
        "Средние пользовательские рейтинги платформ Xbox One и PC одинаковые.\n",
        "\n",
        "Н<sub>1</sub> X<sup style=\"margin-left:-8px\">&#175;</sup><sub> XOne</sub> &#8800; X<sup style=\"margin-left:-7px\">&#175;</sup><sub> PC</sub>\n",
        "\n",
        "Средние пользовательские рейтинги платформ Xbox One и PC не одинаковые.\n",
        "\n",
        "Н<sub>0</sub> всегда формулируется так, чтобы использовать знак равенства. Другими словами, чтобы все данные лежали в районе изначально предполагаемого значения."
      ]
    },
    {
      "cell_type": "markdown",
      "id": "3cfb6fd4",
      "metadata": {
        "id": "3cfb6fd4"
      },
      "source": [
        "Преобразуем данные датафрейма в списки и удалил пустые значения."
      ]
    },
    {
      "cell_type": "code",
      "execution_count": null,
      "id": "b4262d62",
      "metadata": {
        "id": "b4262d62"
      },
      "outputs": [],
      "source": [
        "xone_rating = year_sort.query('platform==\"XOne\"')['user_score'].dropna ().tolist()\n",
        "pc_rating = year_sort.query('platform==\"PC\"')['user_score'].dropna ().tolist()"
      ]
    },
    {
      "cell_type": "markdown",
      "id": "534620a5",
      "metadata": {
        "id": "534620a5"
      },
      "source": [
        "Проверим размер выборок, если размер различаются, то у параметра equal_var (от англ. equal variance — «равная дисперсия») выставляем False"
      ]
    },
    {
      "cell_type": "code",
      "execution_count": null,
      "id": "06ec0dfb",
      "metadata": {
        "scrolled": true,
        "id": "06ec0dfb",
        "outputId": "597cca5f-3897-4d80-cd99-7b0cf08ff8f3"
      },
      "outputs": [
        {
          "name": "stdout",
          "output_type": "stream",
          "text": [
            "116\n"
          ]
        },
        {
          "data": {
            "text/plain": [
              "110"
            ]
          },
          "execution_count": 61,
          "metadata": {},
          "output_type": "execute_result"
        }
      ],
      "source": [
        "print(len(xone_rating))\n",
        "len(pc_rating)"
      ]
    },
    {
      "cell_type": "markdown",
      "id": "2e8592e5",
      "metadata": {
        "id": "2e8592e5"
      },
      "source": [
        "Проверяем гипотезу"
      ]
    },
    {
      "cell_type": "code",
      "execution_count": null,
      "id": "0392da40",
      "metadata": {
        "id": "0392da40",
        "outputId": "bcc255a0-e75b-4113-b96b-ce95ea0370e9"
      },
      "outputs": [
        {
          "name": "stdout",
          "output_type": "stream",
          "text": [
            "p-значение: 0.2867036680187624\n",
            "Не получилось отвергнуть нулевую гипотезу\n"
          ]
        }
      ],
      "source": [
        "results = st.ttest_ind(\n",
        "    xone_rating,\n",
        "    pc_rating,equal_var=False)\n",
        "\n",
        "print('p-значение:',results.pvalue)\n",
        "\n",
        "if results.pvalue < alpha:\n",
        "    print(\"Отвергаем нулевую гипотезу\")\n",
        "else:\n",
        "    print(\"Не получилось отвергнуть нулевую гипотезу\")"
      ]
    },
    {
      "cell_type": "markdown",
      "id": "d5d1b0f8",
      "metadata": {
        "id": "d5d1b0f8"
      },
      "source": [
        "Значение p-value показывает: вероятность случайно получить такое или большее различие примерно равно 28%. Это больше уровня значимости, который мы задали в 5%, следовательно мы не отвергаем нулевую гипотезу. Средние пользовательские рейтинги платформ Xbox One и PC одинаковые, нулевая гипотеза подтвердилась.\n"
      ]
    },
    {
      "cell_type": "markdown",
      "id": "14ca8b5d",
      "metadata": {
        "id": "14ca8b5d"
      },
      "source": [
        "### Средние пользовательские рейтинги жанров Action (англ. «действие», экшен-игры) и Sports (англ. «спортивные соревнования») разные."
      ]
    },
    {
      "cell_type": "markdown",
      "id": "766d5604",
      "metadata": {
        "id": "766d5604"
      },
      "source": [
        "Сформулируем гипотезы:\n",
        "\n",
        "Н<sub>0</sub> X<sup style=\"margin-left:-8px\">&#175;</sup><sub> Action</sub> = X<sup style=\"margin-left:-7px\">&#175;</sup><sub> Sports</sub>\n",
        "\n",
        "Средние пользовательские рейтинги жанров Action и Sports одинаковые.\n",
        "\n",
        "Н<sub>1</sub> X<sup style=\"margin-left:-8px\">&#175;</sup><sub> Action</sub> &#8800; X<sup style=\"margin-left:-7px\">&#175;</sup><sub> Sports</sub>\n",
        "\n",
        "Средние пользовательские рейтинги жанров Action и Sports разные.\n",
        "\n",
        "Н<sub>0</sub> всегда формулируется так, чтобы использовать знак равенства. Другими словами, чтобы все данные лежали в районе изначально предполагаемого значения."
      ]
    },
    {
      "cell_type": "markdown",
      "id": "25395ee0",
      "metadata": {
        "id": "25395ee0"
      },
      "source": [
        "Преобразуем данные датафрейма в списки и удалил пустые значения."
      ]
    },
    {
      "cell_type": "code",
      "execution_count": null,
      "id": "6b4418f4",
      "metadata": {
        "id": "6b4418f4"
      },
      "outputs": [],
      "source": [
        "action_rating = year_sort.query('genre==\"Action\"')['user_score'].dropna ().tolist()\n",
        "sports_rating = year_sort.query('genre==\"Sports\"')['user_score'].dropna ().tolist()\n"
      ]
    },
    {
      "cell_type": "markdown",
      "id": "60ca1a9c",
      "metadata": {
        "id": "60ca1a9c"
      },
      "source": [
        "Проверим размер выборок, если размер различаются, то у параметра equal_var (от англ. equal variance — «равная дисперсия») выставляем False"
      ]
    },
    {
      "cell_type": "code",
      "execution_count": null,
      "id": "c667e082",
      "metadata": {
        "scrolled": true,
        "id": "c667e082",
        "outputId": "99dd7e25-dd42-4f97-e67f-cb68423ffc1c"
      },
      "outputs": [
        {
          "name": "stdout",
          "output_type": "stream",
          "text": [
            "304\n"
          ]
        },
        {
          "data": {
            "text/plain": [
              "123"
            ]
          },
          "execution_count": 64,
          "metadata": {},
          "output_type": "execute_result"
        }
      ],
      "source": [
        "print(len(action_rating))\n",
        "len(sports_rating)"
      ]
    },
    {
      "cell_type": "markdown",
      "id": "388af96f",
      "metadata": {
        "id": "388af96f"
      },
      "source": [
        "Проверяем гипотезу"
      ]
    },
    {
      "cell_type": "code",
      "execution_count": null,
      "id": "a6cd60e6",
      "metadata": {
        "id": "a6cd60e6",
        "outputId": "d2faa533-5b2d-47b8-8ef9-2349e5d7b1c3"
      },
      "outputs": [
        {
          "name": "stdout",
          "output_type": "stream",
          "text": [
            "p-значение: 3.507673706253593e-19\n",
            "Отвергаем нулевую гипотезу\n"
          ]
        }
      ],
      "source": [
        "results = st.ttest_ind(\n",
        "    action_rating,\n",
        "    sports_rating,equal_var=False)\n",
        "\n",
        "print('p-значение:',results.pvalue)\n",
        "\n",
        "if results.pvalue < alpha:\n",
        "    print(\"Отвергаем нулевую гипотезу\")\n",
        "else:\n",
        "    print(\"Не получилось отвергнуть нулевую гипотезу\")"
      ]
    },
    {
      "cell_type": "markdown",
      "id": "0761f28e",
      "metadata": {
        "id": "0761f28e"
      },
      "source": [
        "Значение p-value показывает: вероятность случайно получить такое или большее различие примерно равно 0,00000000000000000035. Это меньше уровня значимости, который мы задали в 5%, следовательно мы отвергаем нулевую гипотезу. Средние пользовательские рейтинги жанров Action и Sports не равны."
      ]
    },
    {
      "cell_type": "markdown",
      "id": "58fa4b9a",
      "metadata": {
        "id": "58fa4b9a"
      },
      "source": [
        "## Общий вывод"
      ]
    },
    {
      "cell_type": "markdown",
      "id": "9ad89ff9",
      "metadata": {
        "id": "9ad89ff9"
      },
      "source": [
        "В ходе проведения исследования о продаже компьютерных игры в интернет-магазине, было выполненно пять этапов:\n",
        "\n",
        "1) Обзор данных.\n",
        "\n",
        "2) Предобработка данных.\n",
        "\n",
        "3) Проведение исследовательского анализа.\n",
        "\n",
        "4) Составление портрета пользователя каждого региона (NA, EU, JP).\n",
        "\n",
        "5) Проверка гипотез."
      ]
    },
    {
      "cell_type": "markdown",
      "id": "d7aee5c2",
      "metadata": {
        "id": "d7aee5c2"
      },
      "source": [
        "<b>На этапе обзора данных мы ознакомились с датафреймом games.csv. Были выяленны:</b>\n",
        "* пропуски в данных\n",
        "* несоответствие типов данных\n",
        "\n",
        "\n",
        "<b>На этапе предобработки были устраненые следущие ошибки:</b>\n",
        "\n",
        "1) Названия столбцов приведены к общему виду (snake_case)\n",
        "\n",
        "2) Удалены неявные дубликаты игр\n",
        "\n",
        "3) Удаленны строки с пропусками в столбцах name(название игры) и year_of_release(дата выхода игры).\n",
        "\n",
        "4) Значения tbd было перезаписано в NaN, так как аббревиатура это и означает.\n",
        "\n",
        "5) Столбцы `user_score`, `year_of_release` преобразованы в подходящие форматы, в столбце `critic_score` оценки были приведены из десяток в единицы.\n",
        "\n",
        "6) Пропуски в столбце `rating` заменены на `no rating` в остальных столбцах были пропущенны, так как не хватает данных для их восстановления, а заполнение средним или медианой сильно исказит информацию и приведет к неверным выводам.\n",
        "\n",
        "7) Создан новый столбец all_sales содержащий информацию о количестве проданных копий игры во всех регионах.\n",
        "\n",
        "8) В столбце `rating` заменили значение `K-A` на `E`, так как оно является устаревшим обозначением. Значение `EC` заменили  на `E`, так как оно подходит под эту категорию. Заменили значение `AO` на `M` так как возврастное ограничение почти одинаковое.\n",
        "\n",
        "\n",
        "<b>В ходе проведения исследовательского анализа было выявленно:</b>\n",
        "\n",
        "1) В среднем в год выходит более 720 игр\n",
        "\n",
        "2) Новые платформы в течении 2-3 лет входят в пик по проданным играм. В среднем платформы пользуются популярностью около 10 лет.\n",
        "\n",
        "3) Был выбран актуальный период с 2013-2015гг. и минимальный порог проданных игр(от 15 млн.) на платформу. В результате были отобранны 8 платформ(PS4, PS3, X360, XOne, 3DS, WiiU, PSV) с которым производился дальнейший анализ\n",
        "  \n",
        "4) В основном игры продаются до 2.5 млн. копий. Большие выбросы наблюдаюся у платформ X360, PS4 и 3DS за установленный период.\n",
        "\n",
        "5) Также выяснилось, что мнение критиков и игроков не влияет на покупаемость игр.\n",
        "\n",
        "6) Самыми успешными жанрами по медианным продажам являются жанры `Shooter`, `Simulation`,`Strategy`,`Racing`и `Misc`. Самыми стабильными и успешно продающимися жанрами являются `Shooter`, `Simulation`.\n",
        "\n",
        "<b>На этапе составление портретов пользователей каждого региона (NA, EU, JP)</b>, были определены самые популярные платформы, жанры и игры в каждом регионе. Также было проверенно как рейтинг ESRB влияет на продажи игр в каждом регионе.\n",
        "\n",
        "Самыми популярными игровыми платформами в Северной Америки являются PS4(22.21%), X360(20.61%), XOne(20.07%), PS3(16%), 3DS(8.67%). Доля других платформ составляет 12.43%.\n",
        "Самыми популярными игровыми платформами в Европе являются PS4(32.05%), PS3(19.52%), XOne(12.3%), X360(12.26%), 3DS(8.40%). Доля других платформ составляет 15.47%.\n",
        "В Японии самой популярной приставкой является 3DS, 49,21% игроков отдают предпочтение ей. Дальше идут PS3(18.15%), PSV(12.37%), PS4(8.41%), WiiU(8.41%). Доля других платформ небольшая и составляет 3.44%.\n",
        "\n",
        "Самыми популярными жанрами игр в Северной Америки являются Action(29.73%), Shooter(23.8%), Sports(14.7%), Role-Playing(10.31%), Misc(6.81%). Доля других игр составляет 14.65%.\n",
        "Самыми популярными жанрами игр в Европе являются Action(31.51%), Shooter(21.1%), Sports(14.23%), Role-Playing(9.59%), Misc(5.68%). Доля других игр составляет 17.89%. У регионов NA и EU, также схоже предпочтения в жанрах игр.\n",
        "Самыми популярными жанрами игр в Японии являются Role-Playing(36.58%), Action(27.51%), Misc(6.72%), Fighting(5.68%), Shooter(4.57%). Доля других игр составляет 18.94%.\n",
        "    \n",
        "В регионе NA популярные платформы PS4, X360 или XOne, жанры игры Action, Shooter и Sport и сами игры серии\n",
        "GTA или Call of Duty, либо в спортивные игры NFL.\n",
        "\n",
        "В регионе EU популярные платформы PS4 или PS3, жанры игры Action, Shooter и другие и сами игры серии GTA, Call of Duty и FIFA.\n",
        "\n",
        "В регионе JP очень популярна платформа 3DS, жанры Role-playing, Action и другие, A, игры серии Mario, Pokemon, Dragon Quest и Final Fantasy.\n",
        "\n",
        "Рейтинг ESRB не влияет на продажи ни в одном из регионов.\n",
        "\n",
        "<b>На последнем проводила проверка гипотез:</b>\n",
        "\n",
        " 1) Средние пользовательские рейтинги платформ Xbox One и PC одинаковые? Данные по этой гипотезе не противрочет ей, мы её не отвергаем.\n",
        "\n",
        " 2) Средние пользовательские рейтинги жанров Action и Sports равны? Полученные резуьтаты противоречат данной гипотезе\n",
        ""
      ]
    },
    {
      "cell_type": "code",
      "execution_count": null,
      "id": "0e6c4527",
      "metadata": {
        "id": "0e6c4527"
      },
      "outputs": [],
      "source": []
    }
  ],
  "metadata": {
    "ExecuteTimeLog": [
      {
        "duration": 49,
        "start_time": "2023-01-21T16:43:49.913Z"
      },
      {
        "duration": 1197,
        "start_time": "2023-01-21T16:43:54.759Z"
      },
      {
        "duration": 0,
        "start_time": "2023-01-21T16:43:55.960Z"
      },
      {
        "duration": 0,
        "start_time": "2023-01-21T16:43:55.961Z"
      },
      {
        "duration": 0,
        "start_time": "2023-01-21T16:43:55.962Z"
      },
      {
        "duration": 0,
        "start_time": "2023-01-21T16:43:55.963Z"
      },
      {
        "duration": 0,
        "start_time": "2023-01-21T16:43:55.965Z"
      },
      {
        "duration": 0,
        "start_time": "2023-01-21T16:43:55.966Z"
      },
      {
        "duration": 0,
        "start_time": "2023-01-21T16:43:55.967Z"
      },
      {
        "duration": 0,
        "start_time": "2023-01-21T16:43:55.969Z"
      },
      {
        "duration": 0,
        "start_time": "2023-01-21T16:43:55.970Z"
      },
      {
        "duration": 0,
        "start_time": "2023-01-21T16:43:55.971Z"
      },
      {
        "duration": 0,
        "start_time": "2023-01-21T16:43:55.973Z"
      },
      {
        "duration": 0,
        "start_time": "2023-01-21T16:43:55.974Z"
      },
      {
        "duration": 0,
        "start_time": "2023-01-21T16:43:55.975Z"
      },
      {
        "duration": 0,
        "start_time": "2023-01-21T16:43:55.977Z"
      },
      {
        "duration": 0,
        "start_time": "2023-01-21T16:43:55.978Z"
      },
      {
        "duration": 0,
        "start_time": "2023-01-21T16:43:55.979Z"
      },
      {
        "duration": 0,
        "start_time": "2023-01-21T16:43:55.980Z"
      },
      {
        "duration": 0,
        "start_time": "2023-01-21T16:43:55.981Z"
      },
      {
        "duration": 0,
        "start_time": "2023-01-21T16:43:55.983Z"
      },
      {
        "duration": 0,
        "start_time": "2023-01-21T16:43:55.984Z"
      },
      {
        "duration": 0,
        "start_time": "2023-01-21T16:43:55.985Z"
      },
      {
        "duration": 0,
        "start_time": "2023-01-21T16:43:55.986Z"
      },
      {
        "duration": 1,
        "start_time": "2023-01-21T16:43:55.987Z"
      },
      {
        "duration": 0,
        "start_time": "2023-01-21T16:43:55.988Z"
      },
      {
        "duration": 0,
        "start_time": "2023-01-21T16:43:55.990Z"
      },
      {
        "duration": 0,
        "start_time": "2023-01-21T16:43:55.991Z"
      },
      {
        "duration": 0,
        "start_time": "2023-01-21T16:43:55.992Z"
      },
      {
        "duration": 0,
        "start_time": "2023-01-21T16:43:55.993Z"
      },
      {
        "duration": 0,
        "start_time": "2023-01-21T16:43:55.995Z"
      },
      {
        "duration": 0,
        "start_time": "2023-01-21T16:43:55.996Z"
      },
      {
        "duration": 0,
        "start_time": "2023-01-21T16:43:55.997Z"
      },
      {
        "duration": 0,
        "start_time": "2023-01-21T16:43:56.048Z"
      },
      {
        "duration": 0,
        "start_time": "2023-01-21T16:43:56.049Z"
      },
      {
        "duration": 0,
        "start_time": "2023-01-21T16:43:56.051Z"
      },
      {
        "duration": 0,
        "start_time": "2023-01-21T16:43:56.052Z"
      },
      {
        "duration": 0,
        "start_time": "2023-01-21T16:43:56.053Z"
      },
      {
        "duration": 0,
        "start_time": "2023-01-21T16:43:56.055Z"
      },
      {
        "duration": 0,
        "start_time": "2023-01-21T16:43:56.056Z"
      },
      {
        "duration": 0,
        "start_time": "2023-01-21T16:43:56.057Z"
      },
      {
        "duration": 0,
        "start_time": "2023-01-21T16:43:56.059Z"
      },
      {
        "duration": 0,
        "start_time": "2023-01-21T16:43:56.060Z"
      },
      {
        "duration": 0,
        "start_time": "2023-01-21T16:43:56.061Z"
      },
      {
        "duration": 0,
        "start_time": "2023-01-21T16:43:56.063Z"
      },
      {
        "duration": 0,
        "start_time": "2023-01-21T16:43:56.064Z"
      },
      {
        "duration": 0,
        "start_time": "2023-01-21T16:43:56.066Z"
      },
      {
        "duration": 0,
        "start_time": "2023-01-21T16:43:56.067Z"
      },
      {
        "duration": 0,
        "start_time": "2023-01-21T16:43:56.068Z"
      },
      {
        "duration": 44,
        "start_time": "2023-01-21T18:39:49.243Z"
      },
      {
        "duration": 50,
        "start_time": "2023-01-21T18:39:54.195Z"
      },
      {
        "duration": 1148,
        "start_time": "2023-01-21T18:39:59.144Z"
      },
      {
        "duration": 14,
        "start_time": "2023-01-21T18:40:00.296Z"
      },
      {
        "duration": 39,
        "start_time": "2023-01-21T18:40:00.312Z"
      },
      {
        "duration": 9,
        "start_time": "2023-01-21T18:40:00.353Z"
      },
      {
        "duration": 16,
        "start_time": "2023-01-21T18:40:00.363Z"
      },
      {
        "duration": 15,
        "start_time": "2023-01-21T18:40:00.381Z"
      },
      {
        "duration": 8,
        "start_time": "2023-01-21T18:40:00.397Z"
      },
      {
        "duration": 11,
        "start_time": "2023-01-21T18:40:00.406Z"
      },
      {
        "duration": 19,
        "start_time": "2023-01-21T18:40:00.420Z"
      },
      {
        "duration": 38,
        "start_time": "2023-01-21T18:40:00.441Z"
      },
      {
        "duration": 19,
        "start_time": "2023-01-21T18:40:00.481Z"
      },
      {
        "duration": 23,
        "start_time": "2023-01-21T18:40:00.502Z"
      },
      {
        "duration": 45,
        "start_time": "2023-01-21T18:40:00.527Z"
      },
      {
        "duration": 347,
        "start_time": "2023-01-21T18:40:00.574Z"
      },
      {
        "duration": 11,
        "start_time": "2023-01-21T18:40:00.922Z"
      },
      {
        "duration": 255,
        "start_time": "2023-01-21T18:40:00.934Z"
      },
      {
        "duration": 18,
        "start_time": "2023-01-21T18:40:01.191Z"
      },
      {
        "duration": 244,
        "start_time": "2023-01-21T18:40:01.210Z"
      },
      {
        "duration": 528,
        "start_time": "2023-01-21T18:40:01.456Z"
      },
      {
        "duration": 564,
        "start_time": "2023-01-21T18:40:01.985Z"
      },
      {
        "duration": 20,
        "start_time": "2023-01-21T18:40:02.551Z"
      },
      {
        "duration": 279,
        "start_time": "2023-01-21T18:40:02.572Z"
      },
      {
        "duration": 158,
        "start_time": "2023-01-21T18:40:02.852Z"
      },
      {
        "duration": 126,
        "start_time": "2023-01-21T18:40:03.011Z"
      },
      {
        "duration": 19,
        "start_time": "2023-01-21T18:40:03.139Z"
      },
      {
        "duration": 12,
        "start_time": "2023-01-21T18:40:03.160Z"
      },
      {
        "duration": 10,
        "start_time": "2023-01-21T18:40:03.175Z"
      },
      {
        "duration": 15,
        "start_time": "2023-01-21T18:40:03.187Z"
      },
      {
        "duration": 179,
        "start_time": "2023-01-21T18:40:03.204Z"
      },
      {
        "duration": 195,
        "start_time": "2023-01-21T18:40:03.385Z"
      },
      {
        "duration": 157,
        "start_time": "2023-01-21T18:40:03.581Z"
      },
      {
        "duration": 238,
        "start_time": "2023-01-21T18:40:03.739Z"
      },
      {
        "duration": 169,
        "start_time": "2023-01-21T18:40:03.979Z"
      },
      {
        "duration": 150,
        "start_time": "2023-01-21T18:40:04.150Z"
      },
      {
        "duration": 156,
        "start_time": "2023-01-21T18:40:04.302Z"
      },
      {
        "duration": 167,
        "start_time": "2023-01-21T18:40:04.459Z"
      },
      {
        "duration": 68,
        "start_time": "2023-01-21T18:40:04.628Z"
      },
      {
        "duration": 6,
        "start_time": "2023-01-21T18:40:04.699Z"
      },
      {
        "duration": 179,
        "start_time": "2023-01-21T18:40:04.707Z"
      },
      {
        "duration": 172,
        "start_time": "2023-01-21T18:40:04.888Z"
      },
      {
        "duration": 166,
        "start_time": "2023-01-21T18:40:05.062Z"
      },
      {
        "duration": 2,
        "start_time": "2023-01-21T18:40:05.230Z"
      },
      {
        "duration": 26,
        "start_time": "2023-01-21T18:40:05.234Z"
      },
      {
        "duration": 9,
        "start_time": "2023-01-21T18:40:05.262Z"
      },
      {
        "duration": 13,
        "start_time": "2023-01-21T18:40:05.273Z"
      },
      {
        "duration": 19,
        "start_time": "2023-01-21T18:40:05.288Z"
      },
      {
        "duration": 5,
        "start_time": "2023-01-21T18:40:05.311Z"
      },
      {
        "duration": 12,
        "start_time": "2023-01-21T18:40:05.319Z"
      },
      {
        "duration": 1121,
        "start_time": "2023-01-21T19:10:57.158Z"
      },
      {
        "duration": 14,
        "start_time": "2023-01-21T19:10:58.280Z"
      },
      {
        "duration": 58,
        "start_time": "2023-01-21T19:10:58.295Z"
      },
      {
        "duration": 38,
        "start_time": "2023-01-21T19:10:58.355Z"
      },
      {
        "duration": 58,
        "start_time": "2023-01-21T19:10:58.395Z"
      },
      {
        "duration": 88,
        "start_time": "2023-01-21T19:10:58.455Z"
      },
      {
        "duration": 28,
        "start_time": "2023-01-21T19:10:58.545Z"
      },
      {
        "duration": 38,
        "start_time": "2023-01-21T19:10:58.575Z"
      },
      {
        "duration": 40,
        "start_time": "2023-01-21T19:10:58.615Z"
      },
      {
        "duration": 35,
        "start_time": "2023-01-21T19:10:58.657Z"
      },
      {
        "duration": 18,
        "start_time": "2023-01-21T19:10:58.694Z"
      },
      {
        "duration": 36,
        "start_time": "2023-01-21T19:10:58.714Z"
      },
      {
        "duration": 48,
        "start_time": "2023-01-21T19:10:58.752Z"
      },
      {
        "duration": 359,
        "start_time": "2023-01-21T19:10:58.802Z"
      },
      {
        "duration": 11,
        "start_time": "2023-01-21T19:10:59.162Z"
      },
      {
        "duration": 242,
        "start_time": "2023-01-21T19:10:59.175Z"
      },
      {
        "duration": 29,
        "start_time": "2023-01-21T19:10:59.419Z"
      },
      {
        "duration": 231,
        "start_time": "2023-01-21T19:10:59.449Z"
      },
      {
        "duration": 507,
        "start_time": "2023-01-21T19:10:59.682Z"
      },
      {
        "duration": 577,
        "start_time": "2023-01-21T19:11:00.190Z"
      },
      {
        "duration": 19,
        "start_time": "2023-01-21T19:11:00.769Z"
      },
      {
        "duration": 287,
        "start_time": "2023-01-21T19:11:00.790Z"
      },
      {
        "duration": 142,
        "start_time": "2023-01-21T19:11:01.079Z"
      },
      {
        "duration": 143,
        "start_time": "2023-01-21T19:11:01.222Z"
      },
      {
        "duration": 15,
        "start_time": "2023-01-21T19:11:01.367Z"
      },
      {
        "duration": 11,
        "start_time": "2023-01-21T19:11:01.384Z"
      },
      {
        "duration": 25,
        "start_time": "2023-01-21T19:11:01.396Z"
      },
      {
        "duration": 26,
        "start_time": "2023-01-21T19:11:01.423Z"
      },
      {
        "duration": 166,
        "start_time": "2023-01-21T19:11:01.451Z"
      },
      {
        "duration": 194,
        "start_time": "2023-01-21T19:11:01.619Z"
      },
      {
        "duration": 169,
        "start_time": "2023-01-21T19:11:01.816Z"
      },
      {
        "duration": 261,
        "start_time": "2023-01-21T19:11:01.987Z"
      },
      {
        "duration": 167,
        "start_time": "2023-01-21T19:11:02.250Z"
      },
      {
        "duration": 152,
        "start_time": "2023-01-21T19:11:02.420Z"
      },
      {
        "duration": 152,
        "start_time": "2023-01-21T19:11:02.574Z"
      },
      {
        "duration": 179,
        "start_time": "2023-01-21T19:11:02.728Z"
      },
      {
        "duration": 66,
        "start_time": "2023-01-21T19:11:02.908Z"
      },
      {
        "duration": 5,
        "start_time": "2023-01-21T19:11:02.975Z"
      },
      {
        "duration": 168,
        "start_time": "2023-01-21T19:11:02.981Z"
      },
      {
        "duration": 158,
        "start_time": "2023-01-21T19:11:03.151Z"
      },
      {
        "duration": 169,
        "start_time": "2023-01-21T19:11:03.313Z"
      },
      {
        "duration": 2,
        "start_time": "2023-01-21T19:11:03.484Z"
      },
      {
        "duration": 15,
        "start_time": "2023-01-21T19:11:03.488Z"
      },
      {
        "duration": 4,
        "start_time": "2023-01-21T19:11:03.504Z"
      },
      {
        "duration": 6,
        "start_time": "2023-01-21T19:11:03.509Z"
      },
      {
        "duration": 34,
        "start_time": "2023-01-21T19:11:03.516Z"
      },
      {
        "duration": 4,
        "start_time": "2023-01-21T19:11:03.552Z"
      },
      {
        "duration": 7,
        "start_time": "2023-01-21T19:11:03.557Z"
      },
      {
        "duration": 1862,
        "start_time": "2023-01-21T19:11:50.542Z"
      },
      {
        "duration": 18,
        "start_time": "2023-01-21T19:11:52.447Z"
      },
      {
        "duration": 91,
        "start_time": "2023-01-21T19:11:52.466Z"
      },
      {
        "duration": 4,
        "start_time": "2023-01-21T19:11:52.558Z"
      },
      {
        "duration": 84,
        "start_time": "2023-01-21T19:11:52.564Z"
      },
      {
        "duration": 6,
        "start_time": "2023-01-21T19:11:52.650Z"
      },
      {
        "duration": 11,
        "start_time": "2023-01-21T19:11:52.658Z"
      },
      {
        "duration": 25,
        "start_time": "2023-01-21T19:11:52.670Z"
      },
      {
        "duration": 54,
        "start_time": "2023-01-21T19:11:52.697Z"
      },
      {
        "duration": 22,
        "start_time": "2023-01-21T19:11:52.752Z"
      },
      {
        "duration": 7,
        "start_time": "2023-01-21T19:11:52.776Z"
      },
      {
        "duration": 70,
        "start_time": "2023-01-21T19:11:52.785Z"
      },
      {
        "duration": 100,
        "start_time": "2023-01-21T19:11:52.858Z"
      },
      {
        "duration": 690,
        "start_time": "2023-01-21T19:11:52.960Z"
      },
      {
        "duration": 11,
        "start_time": "2023-01-21T19:11:53.651Z"
      },
      {
        "duration": 494,
        "start_time": "2023-01-21T19:11:53.664Z"
      },
      {
        "duration": 20,
        "start_time": "2023-01-21T19:11:54.159Z"
      },
      {
        "duration": 512,
        "start_time": "2023-01-21T19:11:54.180Z"
      },
      {
        "duration": 1109,
        "start_time": "2023-01-21T19:11:54.747Z"
      },
      {
        "duration": 1108,
        "start_time": "2023-01-21T19:11:55.857Z"
      },
      {
        "duration": 20,
        "start_time": "2023-01-21T19:11:56.966Z"
      },
      {
        "duration": 594,
        "start_time": "2023-01-21T19:11:56.987Z"
      },
      {
        "duration": 278,
        "start_time": "2023-01-21T19:11:57.582Z"
      },
      {
        "duration": 293,
        "start_time": "2023-01-21T19:11:57.861Z"
      },
      {
        "duration": 13,
        "start_time": "2023-01-21T19:11:58.155Z"
      },
      {
        "duration": 11,
        "start_time": "2023-01-21T19:11:58.169Z"
      },
      {
        "duration": 72,
        "start_time": "2023-01-21T19:11:58.181Z"
      },
      {
        "duration": 14,
        "start_time": "2023-01-21T19:11:58.255Z"
      },
      {
        "duration": 314,
        "start_time": "2023-01-21T19:11:58.271Z"
      },
      {
        "duration": 394,
        "start_time": "2023-01-21T19:11:58.587Z"
      },
      {
        "duration": 308,
        "start_time": "2023-01-21T19:11:58.983Z"
      },
      {
        "duration": 562,
        "start_time": "2023-01-21T19:11:59.293Z"
      },
      {
        "duration": 317,
        "start_time": "2023-01-21T19:11:59.857Z"
      },
      {
        "duration": 312,
        "start_time": "2023-01-21T19:12:00.175Z"
      },
      {
        "duration": 306,
        "start_time": "2023-01-21T19:12:00.489Z"
      },
      {
        "duration": 313,
        "start_time": "2023-01-21T19:12:00.849Z"
      },
      {
        "duration": 112,
        "start_time": "2023-01-21T19:12:01.164Z"
      },
      {
        "duration": 7,
        "start_time": "2023-01-21T19:12:01.278Z"
      },
      {
        "duration": 373,
        "start_time": "2023-01-21T19:12:01.287Z"
      },
      {
        "duration": 314,
        "start_time": "2023-01-21T19:12:01.662Z"
      },
      {
        "duration": 369,
        "start_time": "2023-01-21T19:12:01.979Z"
      },
      {
        "duration": 2,
        "start_time": "2023-01-21T19:12:02.350Z"
      },
      {
        "duration": 22,
        "start_time": "2023-01-21T19:12:02.354Z"
      },
      {
        "duration": 6,
        "start_time": "2023-01-21T19:12:02.378Z"
      },
      {
        "duration": 64,
        "start_time": "2023-01-21T19:12:02.386Z"
      },
      {
        "duration": 15,
        "start_time": "2023-01-21T19:12:02.452Z"
      },
      {
        "duration": 4,
        "start_time": "2023-01-21T19:12:02.468Z"
      },
      {
        "duration": 6,
        "start_time": "2023-01-21T19:12:02.474Z"
      },
      {
        "duration": 1306,
        "start_time": "2023-01-25T17:21:49.506Z"
      },
      {
        "duration": 19,
        "start_time": "2023-01-25T17:21:50.814Z"
      },
      {
        "duration": 42,
        "start_time": "2023-01-25T17:21:50.835Z"
      },
      {
        "duration": 8,
        "start_time": "2023-01-25T17:21:50.892Z"
      },
      {
        "duration": 29,
        "start_time": "2023-01-25T17:21:50.901Z"
      },
      {
        "duration": 31,
        "start_time": "2023-01-25T17:21:50.932Z"
      },
      {
        "duration": 18,
        "start_time": "2023-01-25T17:21:50.964Z"
      },
      {
        "duration": 22,
        "start_time": "2023-01-25T17:21:50.984Z"
      },
      {
        "duration": 41,
        "start_time": "2023-01-25T17:21:51.008Z"
      },
      {
        "duration": 13,
        "start_time": "2023-01-25T17:21:51.053Z"
      },
      {
        "duration": 108,
        "start_time": "2023-01-25T17:21:51.068Z"
      },
      {
        "duration": 32,
        "start_time": "2023-01-25T17:21:51.178Z"
      },
      {
        "duration": 18,
        "start_time": "2023-01-25T17:21:51.212Z"
      },
      {
        "duration": 26,
        "start_time": "2023-01-25T17:21:51.232Z"
      },
      {
        "duration": 36,
        "start_time": "2023-01-25T17:21:51.261Z"
      },
      {
        "duration": 15,
        "start_time": "2023-01-25T17:21:51.300Z"
      },
      {
        "duration": 34,
        "start_time": "2023-01-25T17:21:51.317Z"
      },
      {
        "duration": 34,
        "start_time": "2023-01-25T17:21:51.353Z"
      },
      {
        "duration": 13,
        "start_time": "2023-01-25T17:21:51.388Z"
      },
      {
        "duration": 22,
        "start_time": "2023-01-25T17:21:51.403Z"
      },
      {
        "duration": 7,
        "start_time": "2023-01-25T17:21:51.427Z"
      },
      {
        "duration": 12,
        "start_time": "2023-01-25T17:21:51.436Z"
      },
      {
        "duration": 34,
        "start_time": "2023-01-25T17:21:51.450Z"
      },
      {
        "duration": 52,
        "start_time": "2023-01-25T17:21:51.486Z"
      },
      {
        "duration": 397,
        "start_time": "2023-01-25T17:21:51.540Z"
      },
      {
        "duration": 13,
        "start_time": "2023-01-25T17:21:51.939Z"
      },
      {
        "duration": 267,
        "start_time": "2023-01-25T17:21:51.955Z"
      },
      {
        "duration": 31,
        "start_time": "2023-01-25T17:21:52.228Z"
      },
      {
        "duration": 9,
        "start_time": "2023-01-25T17:21:52.261Z"
      },
      {
        "duration": 275,
        "start_time": "2023-01-25T17:21:52.292Z"
      },
      {
        "duration": 268,
        "start_time": "2023-01-25T17:21:52.568Z"
      },
      {
        "duration": 279,
        "start_time": "2023-01-25T17:21:52.838Z"
      },
      {
        "duration": 25,
        "start_time": "2023-01-25T17:21:53.119Z"
      },
      {
        "duration": 422,
        "start_time": "2023-01-25T17:21:53.146Z"
      },
      {
        "duration": 163,
        "start_time": "2023-01-25T17:21:53.570Z"
      },
      {
        "duration": 162,
        "start_time": "2023-01-25T17:21:53.736Z"
      },
      {
        "duration": 208,
        "start_time": "2023-01-25T17:21:53.900Z"
      },
      {
        "duration": 176,
        "start_time": "2023-01-25T17:21:54.110Z"
      },
      {
        "duration": 167,
        "start_time": "2023-01-25T17:21:54.291Z"
      },
      {
        "duration": 145,
        "start_time": "2023-01-25T17:21:54.461Z"
      },
      {
        "duration": 13,
        "start_time": "2023-01-25T17:21:54.608Z"
      },
      {
        "duration": 17,
        "start_time": "2023-01-25T17:21:54.623Z"
      },
      {
        "duration": 20,
        "start_time": "2023-01-25T17:21:54.643Z"
      },
      {
        "duration": 27,
        "start_time": "2023-01-25T17:21:54.665Z"
      },
      {
        "duration": 188,
        "start_time": "2023-01-25T17:21:54.694Z"
      },
      {
        "duration": 15,
        "start_time": "2023-01-25T17:21:54.884Z"
      },
      {
        "duration": 304,
        "start_time": "2023-01-25T17:21:54.901Z"
      },
      {
        "duration": 398,
        "start_time": "2023-01-25T17:21:55.207Z"
      },
      {
        "duration": 32,
        "start_time": "2023-01-25T17:21:55.608Z"
      },
      {
        "duration": 514,
        "start_time": "2023-01-25T17:21:55.643Z"
      },
      {
        "duration": 53,
        "start_time": "2023-01-25T17:21:56.158Z"
      },
      {
        "duration": 601,
        "start_time": "2023-01-25T17:21:56.213Z"
      },
      {
        "duration": 8,
        "start_time": "2023-01-25T17:21:56.815Z"
      },
      {
        "duration": 175,
        "start_time": "2023-01-25T17:21:56.826Z"
      },
      {
        "duration": 171,
        "start_time": "2023-01-25T17:21:57.004Z"
      },
      {
        "duration": 165,
        "start_time": "2023-01-25T17:21:57.176Z"
      },
      {
        "duration": 5,
        "start_time": "2023-01-25T17:21:57.343Z"
      },
      {
        "duration": 16,
        "start_time": "2023-01-25T17:21:57.349Z"
      },
      {
        "duration": 12,
        "start_time": "2023-01-25T17:21:57.367Z"
      },
      {
        "duration": 17,
        "start_time": "2023-01-25T17:21:57.381Z"
      },
      {
        "duration": 10,
        "start_time": "2023-01-25T17:21:57.400Z"
      },
      {
        "duration": 7,
        "start_time": "2023-01-25T17:21:57.412Z"
      },
      {
        "duration": 15,
        "start_time": "2023-01-25T17:21:57.421Z"
      },
      {
        "duration": 1256,
        "start_time": "2023-01-25T17:54:45.120Z"
      },
      {
        "duration": 17,
        "start_time": "2023-01-25T17:54:46.378Z"
      },
      {
        "duration": 28,
        "start_time": "2023-01-25T17:54:46.397Z"
      },
      {
        "duration": 5,
        "start_time": "2023-01-25T17:54:46.427Z"
      },
      {
        "duration": 15,
        "start_time": "2023-01-25T17:54:46.434Z"
      },
      {
        "duration": 55,
        "start_time": "2023-01-25T17:54:46.451Z"
      },
      {
        "duration": 9,
        "start_time": "2023-01-25T17:54:46.508Z"
      },
      {
        "duration": 13,
        "start_time": "2023-01-25T17:54:46.519Z"
      },
      {
        "duration": 10,
        "start_time": "2023-01-25T17:54:46.534Z"
      },
      {
        "duration": 51,
        "start_time": "2023-01-25T17:54:46.548Z"
      },
      {
        "duration": 125,
        "start_time": "2023-01-25T17:54:46.601Z"
      },
      {
        "duration": 21,
        "start_time": "2023-01-25T17:54:46.729Z"
      },
      {
        "duration": 9,
        "start_time": "2023-01-25T17:54:46.752Z"
      },
      {
        "duration": 30,
        "start_time": "2023-01-25T17:54:46.763Z"
      },
      {
        "duration": 9,
        "start_time": "2023-01-25T17:54:46.795Z"
      },
      {
        "duration": 7,
        "start_time": "2023-01-25T17:54:46.805Z"
      },
      {
        "duration": 6,
        "start_time": "2023-01-25T17:54:46.814Z"
      },
      {
        "duration": 14,
        "start_time": "2023-01-25T17:54:46.822Z"
      },
      {
        "duration": 6,
        "start_time": "2023-01-25T17:54:46.838Z"
      },
      {
        "duration": 17,
        "start_time": "2023-01-25T17:54:46.845Z"
      },
      {
        "duration": 28,
        "start_time": "2023-01-25T17:54:46.864Z"
      },
      {
        "duration": 12,
        "start_time": "2023-01-25T17:54:46.895Z"
      },
      {
        "duration": 18,
        "start_time": "2023-01-25T17:54:46.910Z"
      },
      {
        "duration": 64,
        "start_time": "2023-01-25T17:54:46.930Z"
      },
      {
        "duration": 479,
        "start_time": "2023-01-25T17:54:46.996Z"
      },
      {
        "duration": 17,
        "start_time": "2023-01-25T17:54:47.476Z"
      },
      {
        "duration": 286,
        "start_time": "2023-01-25T17:54:47.494Z"
      },
      {
        "duration": 50,
        "start_time": "2023-01-25T17:54:47.785Z"
      },
      {
        "duration": 11,
        "start_time": "2023-01-25T17:54:47.837Z"
      },
      {
        "duration": 262,
        "start_time": "2023-01-25T17:54:47.855Z"
      },
      {
        "duration": 260,
        "start_time": "2023-01-25T17:54:48.119Z"
      },
      {
        "duration": 294,
        "start_time": "2023-01-25T17:54:48.381Z"
      },
      {
        "duration": 29,
        "start_time": "2023-01-25T17:54:48.677Z"
      },
      {
        "duration": 399,
        "start_time": "2023-01-25T17:54:48.708Z"
      },
      {
        "duration": 154,
        "start_time": "2023-01-25T17:54:49.108Z"
      },
      {
        "duration": 180,
        "start_time": "2023-01-25T17:54:49.264Z"
      },
      {
        "duration": 177,
        "start_time": "2023-01-25T17:54:49.446Z"
      },
      {
        "duration": 172,
        "start_time": "2023-01-25T17:54:49.625Z"
      },
      {
        "duration": 160,
        "start_time": "2023-01-25T17:54:49.799Z"
      },
      {
        "duration": 166,
        "start_time": "2023-01-25T17:54:49.961Z"
      },
      {
        "duration": 12,
        "start_time": "2023-01-25T17:54:50.129Z"
      },
      {
        "duration": 19,
        "start_time": "2023-01-25T17:54:50.143Z"
      },
      {
        "duration": 29,
        "start_time": "2023-01-25T17:54:50.164Z"
      },
      {
        "duration": 13,
        "start_time": "2023-01-25T17:54:50.195Z"
      },
      {
        "duration": 221,
        "start_time": "2023-01-25T17:54:50.209Z"
      },
      {
        "duration": 15,
        "start_time": "2023-01-25T17:54:50.432Z"
      },
      {
        "duration": 309,
        "start_time": "2023-01-25T17:54:50.448Z"
      },
      {
        "duration": 357,
        "start_time": "2023-01-25T17:54:50.759Z"
      },
      {
        "duration": 25,
        "start_time": "2023-01-25T17:54:51.118Z"
      },
      {
        "duration": 497,
        "start_time": "2023-01-25T17:54:51.145Z"
      },
      {
        "duration": 36,
        "start_time": "2023-01-25T17:54:51.644Z"
      },
      {
        "duration": 500,
        "start_time": "2023-01-25T17:54:51.691Z"
      },
      {
        "duration": 7,
        "start_time": "2023-01-25T17:54:52.193Z"
      },
      {
        "duration": 190,
        "start_time": "2023-01-25T17:54:52.202Z"
      },
      {
        "duration": 150,
        "start_time": "2023-01-25T17:54:52.394Z"
      },
      {
        "duration": 155,
        "start_time": "2023-01-25T17:54:52.546Z"
      },
      {
        "duration": 3,
        "start_time": "2023-01-25T17:54:52.702Z"
      },
      {
        "duration": 11,
        "start_time": "2023-01-25T17:54:52.708Z"
      },
      {
        "duration": 20,
        "start_time": "2023-01-25T17:54:52.721Z"
      },
      {
        "duration": 17,
        "start_time": "2023-01-25T17:54:52.743Z"
      },
      {
        "duration": 27,
        "start_time": "2023-01-25T17:54:52.761Z"
      },
      {
        "duration": 22,
        "start_time": "2023-01-25T17:54:52.790Z"
      },
      {
        "duration": 16,
        "start_time": "2023-01-25T17:54:52.813Z"
      },
      {
        "duration": 380,
        "start_time": "2023-01-25T18:38:34.389Z"
      },
      {
        "duration": 5,
        "start_time": "2023-01-25T18:38:47.993Z"
      },
      {
        "duration": 506,
        "start_time": "2023-01-25T18:39:40.957Z"
      },
      {
        "duration": 289,
        "start_time": "2023-01-25T18:40:03.750Z"
      },
      {
        "duration": 424,
        "start_time": "2023-01-25T18:40:20.031Z"
      },
      {
        "duration": 511,
        "start_time": "2023-01-25T18:43:18.161Z"
      },
      {
        "duration": 15,
        "start_time": "2023-01-25T18:44:29.940Z"
      },
      {
        "duration": 8,
        "start_time": "2023-01-25T18:45:18.115Z"
      },
      {
        "duration": 1271,
        "start_time": "2023-01-25T18:45:56.893Z"
      },
      {
        "duration": 22,
        "start_time": "2023-01-25T18:45:58.166Z"
      },
      {
        "duration": 43,
        "start_time": "2023-01-25T18:45:58.190Z"
      },
      {
        "duration": 6,
        "start_time": "2023-01-25T18:45:58.235Z"
      },
      {
        "duration": 26,
        "start_time": "2023-01-25T18:45:58.243Z"
      },
      {
        "duration": 26,
        "start_time": "2023-01-25T18:45:58.271Z"
      },
      {
        "duration": 10,
        "start_time": "2023-01-25T18:45:58.299Z"
      },
      {
        "duration": 18,
        "start_time": "2023-01-25T18:45:58.311Z"
      },
      {
        "duration": 16,
        "start_time": "2023-01-25T18:45:58.331Z"
      },
      {
        "duration": 21,
        "start_time": "2023-01-25T18:45:58.351Z"
      },
      {
        "duration": 122,
        "start_time": "2023-01-25T18:45:58.374Z"
      },
      {
        "duration": 42,
        "start_time": "2023-01-25T18:45:58.519Z"
      },
      {
        "duration": 49,
        "start_time": "2023-01-25T18:45:58.564Z"
      },
      {
        "duration": 14,
        "start_time": "2023-01-25T18:45:58.616Z"
      },
      {
        "duration": 17,
        "start_time": "2023-01-25T18:45:58.632Z"
      },
      {
        "duration": 20,
        "start_time": "2023-01-25T18:45:58.650Z"
      },
      {
        "duration": 13,
        "start_time": "2023-01-25T18:45:58.671Z"
      },
      {
        "duration": 13,
        "start_time": "2023-01-25T18:45:58.685Z"
      },
      {
        "duration": 11,
        "start_time": "2023-01-25T18:45:58.700Z"
      },
      {
        "duration": 14,
        "start_time": "2023-01-25T18:45:58.713Z"
      },
      {
        "duration": 7,
        "start_time": "2023-01-25T18:45:58.729Z"
      },
      {
        "duration": 21,
        "start_time": "2023-01-25T18:45:58.738Z"
      },
      {
        "duration": 43,
        "start_time": "2023-01-25T18:45:58.761Z"
      },
      {
        "duration": 48,
        "start_time": "2023-01-25T18:45:58.806Z"
      },
      {
        "duration": 596,
        "start_time": "2023-01-25T18:45:58.856Z"
      },
      {
        "duration": 49,
        "start_time": "2023-01-25T18:45:59.454Z"
      },
      {
        "duration": 293,
        "start_time": "2023-01-25T18:45:59.505Z"
      },
      {
        "duration": 27,
        "start_time": "2023-01-25T18:45:59.801Z"
      },
      {
        "duration": 8,
        "start_time": "2023-01-25T18:45:59.830Z"
      },
      {
        "duration": 294,
        "start_time": "2023-01-25T18:45:59.841Z"
      },
      {
        "duration": 236,
        "start_time": "2023-01-25T18:46:00.137Z"
      },
      {
        "duration": 260,
        "start_time": "2023-01-25T18:46:00.376Z"
      },
      {
        "duration": 21,
        "start_time": "2023-01-25T18:46:00.638Z"
      },
      {
        "duration": 437,
        "start_time": "2023-01-25T18:46:00.661Z"
      },
      {
        "duration": 184,
        "start_time": "2023-01-25T18:46:01.100Z"
      },
      {
        "duration": 163,
        "start_time": "2023-01-25T18:46:01.290Z"
      },
      {
        "duration": 226,
        "start_time": "2023-01-25T18:46:01.455Z"
      },
      {
        "duration": 170,
        "start_time": "2023-01-25T18:46:01.683Z"
      },
      {
        "duration": 144,
        "start_time": "2023-01-25T18:46:01.855Z"
      },
      {
        "duration": 144,
        "start_time": "2023-01-25T18:46:02.001Z"
      },
      {
        "duration": 17,
        "start_time": "2023-01-25T18:46:02.146Z"
      },
      {
        "duration": 33,
        "start_time": "2023-01-25T18:46:02.165Z"
      },
      {
        "duration": 30,
        "start_time": "2023-01-25T18:46:02.199Z"
      },
      {
        "duration": 15,
        "start_time": "2023-01-25T18:46:02.231Z"
      },
      {
        "duration": 200,
        "start_time": "2023-01-25T18:46:02.248Z"
      },
      {
        "duration": 12,
        "start_time": "2023-01-25T18:46:02.451Z"
      },
      {
        "duration": 306,
        "start_time": "2023-01-25T18:46:02.465Z"
      },
      {
        "duration": 416,
        "start_time": "2023-01-25T18:46:02.773Z"
      },
      {
        "duration": 34,
        "start_time": "2023-01-25T18:46:03.192Z"
      },
      {
        "duration": 573,
        "start_time": "2023-01-25T18:46:03.228Z"
      },
      {
        "duration": 508,
        "start_time": "2023-01-25T18:46:03.804Z"
      },
      {
        "duration": 7,
        "start_time": "2023-01-25T18:46:04.314Z"
      },
      {
        "duration": 34,
        "start_time": "2023-01-25T18:46:04.322Z"
      },
      {
        "duration": 540,
        "start_time": "2023-01-25T18:46:04.358Z"
      },
      {
        "duration": 8,
        "start_time": "2023-01-25T18:46:04.900Z"
      },
      {
        "duration": 197,
        "start_time": "2023-01-25T18:46:04.909Z"
      },
      {
        "duration": 153,
        "start_time": "2023-01-25T18:46:05.107Z"
      },
      {
        "duration": 155,
        "start_time": "2023-01-25T18:46:05.261Z"
      },
      {
        "duration": 3,
        "start_time": "2023-01-25T18:46:05.418Z"
      },
      {
        "duration": 11,
        "start_time": "2023-01-25T18:46:05.422Z"
      },
      {
        "duration": 10,
        "start_time": "2023-01-25T18:46:05.435Z"
      },
      {
        "duration": 7,
        "start_time": "2023-01-25T18:46:05.446Z"
      },
      {
        "duration": 12,
        "start_time": "2023-01-25T18:46:05.455Z"
      },
      {
        "duration": 25,
        "start_time": "2023-01-25T18:46:05.468Z"
      },
      {
        "duration": 14,
        "start_time": "2023-01-25T18:46:05.495Z"
      },
      {
        "duration": 34,
        "start_time": "2023-01-25T18:50:40.248Z"
      },
      {
        "duration": 1224,
        "start_time": "2023-01-25T18:52:20.749Z"
      },
      {
        "duration": 15,
        "start_time": "2023-01-25T18:52:21.975Z"
      },
      {
        "duration": 34,
        "start_time": "2023-01-25T18:52:21.992Z"
      },
      {
        "duration": 5,
        "start_time": "2023-01-25T18:52:22.029Z"
      },
      {
        "duration": 34,
        "start_time": "2023-01-25T18:52:22.036Z"
      },
      {
        "duration": 33,
        "start_time": "2023-01-25T18:52:22.072Z"
      },
      {
        "duration": 9,
        "start_time": "2023-01-25T18:52:22.106Z"
      },
      {
        "duration": 10,
        "start_time": "2023-01-25T18:52:22.116Z"
      },
      {
        "duration": 11,
        "start_time": "2023-01-25T18:52:22.128Z"
      },
      {
        "duration": 14,
        "start_time": "2023-01-25T18:52:22.143Z"
      },
      {
        "duration": 93,
        "start_time": "2023-01-25T18:52:22.159Z"
      },
      {
        "duration": 14,
        "start_time": "2023-01-25T18:52:22.253Z"
      },
      {
        "duration": 26,
        "start_time": "2023-01-25T18:52:22.269Z"
      },
      {
        "duration": 27,
        "start_time": "2023-01-25T18:52:22.297Z"
      },
      {
        "duration": 19,
        "start_time": "2023-01-25T18:52:22.326Z"
      },
      {
        "duration": 15,
        "start_time": "2023-01-25T18:52:22.346Z"
      },
      {
        "duration": 9,
        "start_time": "2023-01-25T18:52:22.363Z"
      },
      {
        "duration": 20,
        "start_time": "2023-01-25T18:52:22.374Z"
      },
      {
        "duration": 10,
        "start_time": "2023-01-25T18:52:22.395Z"
      },
      {
        "duration": 16,
        "start_time": "2023-01-25T18:52:22.407Z"
      },
      {
        "duration": 23,
        "start_time": "2023-01-25T18:52:22.424Z"
      },
      {
        "duration": 41,
        "start_time": "2023-01-25T18:52:22.448Z"
      },
      {
        "duration": 51,
        "start_time": "2023-01-25T18:52:22.491Z"
      },
      {
        "duration": 36,
        "start_time": "2023-01-25T18:52:22.543Z"
      },
      {
        "duration": 358,
        "start_time": "2023-01-25T18:52:22.581Z"
      },
      {
        "duration": 12,
        "start_time": "2023-01-25T18:52:22.940Z"
      },
      {
        "duration": 260,
        "start_time": "2023-01-25T18:52:22.953Z"
      },
      {
        "duration": 22,
        "start_time": "2023-01-25T18:52:23.217Z"
      },
      {
        "duration": 7,
        "start_time": "2023-01-25T18:52:23.241Z"
      },
      {
        "duration": 269,
        "start_time": "2023-01-25T18:52:23.249Z"
      },
      {
        "duration": 222,
        "start_time": "2023-01-25T18:52:23.519Z"
      },
      {
        "duration": 234,
        "start_time": "2023-01-25T18:52:23.743Z"
      },
      {
        "duration": 29,
        "start_time": "2023-01-25T18:52:23.979Z"
      },
      {
        "duration": 375,
        "start_time": "2023-01-25T18:52:24.009Z"
      },
      {
        "duration": 155,
        "start_time": "2023-01-25T18:52:24.392Z"
      },
      {
        "duration": 155,
        "start_time": "2023-01-25T18:52:24.549Z"
      },
      {
        "duration": 156,
        "start_time": "2023-01-25T18:52:24.706Z"
      },
      {
        "duration": 162,
        "start_time": "2023-01-25T18:52:24.864Z"
      },
      {
        "duration": 167,
        "start_time": "2023-01-25T18:52:25.028Z"
      },
      {
        "duration": 135,
        "start_time": "2023-01-25T18:52:25.197Z"
      },
      {
        "duration": 11,
        "start_time": "2023-01-25T18:52:25.334Z"
      },
      {
        "duration": 13,
        "start_time": "2023-01-25T18:52:25.347Z"
      },
      {
        "duration": 9,
        "start_time": "2023-01-25T18:52:25.362Z"
      },
      {
        "duration": 11,
        "start_time": "2023-01-25T18:52:25.391Z"
      },
      {
        "duration": 176,
        "start_time": "2023-01-25T18:52:25.404Z"
      },
      {
        "duration": 17,
        "start_time": "2023-01-25T18:52:25.581Z"
      },
      {
        "duration": 285,
        "start_time": "2023-01-25T18:52:25.599Z"
      },
      {
        "duration": 384,
        "start_time": "2023-01-25T18:52:25.886Z"
      },
      {
        "duration": 37,
        "start_time": "2023-01-25T18:52:26.273Z"
      },
      {
        "duration": 521,
        "start_time": "2023-01-25T18:52:26.313Z"
      },
      {
        "duration": 456,
        "start_time": "2023-01-25T18:52:26.836Z"
      },
      {
        "duration": 10,
        "start_time": "2023-01-25T18:52:27.293Z"
      },
      {
        "duration": 45,
        "start_time": "2023-01-25T18:52:27.305Z"
      },
      {
        "duration": 492,
        "start_time": "2023-01-25T18:52:27.352Z"
      },
      {
        "duration": 7,
        "start_time": "2023-01-25T18:52:27.846Z"
      },
      {
        "duration": 158,
        "start_time": "2023-01-25T18:52:27.855Z"
      },
      {
        "duration": 144,
        "start_time": "2023-01-25T18:52:28.014Z"
      },
      {
        "duration": 156,
        "start_time": "2023-01-25T18:52:28.159Z"
      },
      {
        "duration": 4,
        "start_time": "2023-01-25T18:52:28.316Z"
      },
      {
        "duration": 12,
        "start_time": "2023-01-25T18:52:28.322Z"
      },
      {
        "duration": 12,
        "start_time": "2023-01-25T18:52:28.336Z"
      },
      {
        "duration": 9,
        "start_time": "2023-01-25T18:52:28.349Z"
      },
      {
        "duration": 25,
        "start_time": "2023-01-25T18:52:28.360Z"
      },
      {
        "duration": 13,
        "start_time": "2023-01-25T18:52:28.387Z"
      },
      {
        "duration": 30,
        "start_time": "2023-01-25T18:52:28.402Z"
      },
      {
        "duration": 55,
        "start_time": "2023-01-25T18:52:28.434Z"
      },
      {
        "duration": 4,
        "start_time": "2023-01-25T18:52:28.491Z"
      },
      {
        "duration": 24,
        "start_time": "2023-01-25T18:52:28.497Z"
      },
      {
        "duration": 15,
        "start_time": "2023-01-25T18:52:28.526Z"
      },
      {
        "duration": 17,
        "start_time": "2023-01-25T18:52:28.543Z"
      },
      {
        "duration": 11,
        "start_time": "2023-01-25T18:52:28.561Z"
      },
      {
        "duration": 100,
        "start_time": "2023-01-25T18:52:28.573Z"
      },
      {
        "duration": 607,
        "start_time": "2023-01-25T18:52:28.675Z"
      },
      {
        "duration": 654,
        "start_time": "2023-01-25T18:52:29.284Z"
      },
      {
        "duration": 640,
        "start_time": "2023-01-25T18:52:29.939Z"
      },
      {
        "duration": 669,
        "start_time": "2023-01-25T18:52:30.581Z"
      }
    ],
    "kernelspec": {
      "display_name": "Python 3 (ipykernel)",
      "language": "python",
      "name": "python3"
    },
    "language_info": {
      "codemirror_mode": {
        "name": "ipython",
        "version": 3
      },
      "file_extension": ".py",
      "mimetype": "text/x-python",
      "name": "python",
      "nbconvert_exporter": "python",
      "pygments_lexer": "ipython3",
      "version": "3.9.5"
    },
    "toc": {
      "base_numbering": 1,
      "nav_menu": {},
      "number_sections": true,
      "sideBar": true,
      "skip_h1_title": false,
      "title_cell": "Table of Contents",
      "title_sidebar": "Contents",
      "toc_cell": false,
      "toc_position": {
        "height": "calc(100% - 180px)",
        "left": "10px",
        "top": "150px",
        "width": "316.516px"
      },
      "toc_section_display": true,
      "toc_window_display": true
    },
    "colab": {
      "provenance": []
    }
  },
  "nbformat": 4,
  "nbformat_minor": 5
}