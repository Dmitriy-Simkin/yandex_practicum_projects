{
  "cells": [
    {
      "cell_type": "markdown",
      "id": "c16ab587",
      "metadata": {
        "id": "c16ab587"
      },
      "source": [
        "# Приоритизация гипотез и анализ A/B теста в крупном интернет-магазине."
      ]
    },
    {
      "cell_type": "markdown",
      "id": "3ada1ef5",
      "metadata": {
        "id": "3ada1ef5"
      },
      "source": [
        "Вместе с отделом маркетинга были подготовлен список гипотез для увелечения выручки, **необходимо приотизировать гипотезы, запустить A/B тест и проанализировать результаты.**"
      ]
    },
    {
      "cell_type": "markdown",
      "id": "98d61fd6",
      "metadata": {
        "id": "98d61fd6"
      },
      "source": [
        "Исследование будет проходить в 5 этапов:\n",
        "\n",
        "1) Обзор данных. Данные хранятся в трех датасетах. Файл `hypothesis.csv` содержит информацию о 9 гипотезах по увелечению выручки интернет-магазина. Датасеты `orders.csv` и `visitors.csv` содержат информацию о результатах проведенных А/В тестов.  Необходимо проверить данные в датасетах на наличие пропуском и корректность заполнения.\n",
        "\n",
        "2) Предобработка данных. Выявленные в предыдущем этапе пропуски и ошибки, необходимо по возможности заполнить или удалить.\n",
        "\n",
        "3) Приоритизация гипотез.\n",
        "\n",
        " * Применить фреймворк ICE для приоритизации гипотез. Отсортировать их по убыванию приоритета.\n",
        " * Применить фреймворк RICE для приоритизации гипотез. Отсортировать их по убыванию приоритета.\n",
        " * Указать, как изменилась приоритизация гипотез при применении RICE вместо ICE. Объяснить, почему так произошло.\n",
        "\n",
        "4) Анализ A/B-теста.\n",
        "\n",
        "  1. Построить график кумулятивной выручки по группам. Сделать выводы и предположения.\n",
        "\n",
        "  2. Построить график кумулятивного среднего чека по группам. Сделать выводы и предположения.\n",
        "\n",
        "  3. Построить график относительного изменения кумулятивного среднего чека группы B к группе A. Сделать выводы и предположения.\n",
        "\n",
        "  4. Построить график кумулятивного среднего количества заказов на посетителя по группам. Сделать выводы и предположения.\n",
        "\n",
        "  5. Построить график относительного изменения кумулятивного среднего количества заказов на посетителя группы B к группе A. Сделать выводы и предположения.\n",
        "\n",
        "  6. Построить точечный график количества заказов по пользователям. Сделать выводы и предположения.\n",
        "\n",
        "  7. Посчитать 95-й и 99-й перцентили количества заказов на пользователя. Выбрать границу для определения аномальных пользователей.\n",
        "\n",
        "  8. Построить точечный график стоимостей заказов. Сделать выводы и предположения.\n",
        "\n",
        "  9. Посчитать 95-й и 99-й перцентили стоимости заказов. Выбрать границу для определения аномальных заказов.\n",
        "\n",
        "  10. Посчитать статистическую значимость различий в среднем количестве заказов на посетителя между группами по «сырым» данным. Сделать выводы и предположения.\n",
        "\n",
        "  11. Посчитать статистическую значимость различий в среднем чеке заказа между группами по «сырым» данным. Сделать выводы и предположения.\n",
        "\n",
        "  12. Посчитать статистическую значимость различий в среднем количестве заказов на посетителя между группами по «очищенным» данным. Сделать выводы и предположения.\n",
        "\n",
        "  13. Посчитать статистическую значимость различий в среднем чеке заказа между группами по «очищенным» данным. Сделать выводы и предположения.\n",
        "\n",
        "  14. Принять решение по результатам теста и объясните его.\n",
        "     \n",
        "5)  Общий вывод. Подведение итогов по выполненному исследованию."
      ]
    },
    {
      "cell_type": "markdown",
      "id": "01616bb2",
      "metadata": {
        "id": "01616bb2"
      },
      "source": [
        "# Обзор данных"
      ]
    },
    {
      "cell_type": "markdown",
      "id": "58943009",
      "metadata": {
        "id": "58943009"
      },
      "source": [
        "Подключаем библиотеки и импортируем базы данных `hypothesis.csv`, `orders.csv`, `visitors.csv`"
      ]
    },
    {
      "cell_type": "code",
      "execution_count": null,
      "id": "5583bc62",
      "metadata": {
        "id": "5583bc62"
      },
      "outputs": [],
      "source": [
        "import pandas as pd\n",
        "import matplotlib.pyplot as plt\n",
        "import math\n",
        "import matplotlib\n",
        "import seaborn as sns\n",
        "from scipy import stats as st\n",
        "import numpy as np\n",
        "from datetime import datetime, timedelta\n",
        "import datetime as dt\n",
        "import os"
      ]
    },
    {
      "cell_type": "code",
      "execution_count": null,
      "id": "908a7ee6",
      "metadata": {
        "id": "908a7ee6"
      },
      "outputs": [],
      "source": [
        "pth1 = 'hypothesis.csv'\n",
        "pth2 = '/datasets/hypothesis.csv'\n",
        "\n",
        "if os.path.exists(pth1):\n",
        "    hypothesis = pd.read_csv(pth1)\n",
        "elif os.path.exists(pth2):\n",
        "    hypothesis = pd.read_csv(pth2)\n",
        "else:\n",
        "    print('Something is wrong')\n",
        "\n",
        "pth3 = 'orders.csv'\n",
        "pth4 = '/datasets/orders.csv'\n",
        "\n",
        "if os.path.exists(pth3):\n",
        "    orders = pd.read_csv(pth3)\n",
        "elif os.path.exists(pth4):\n",
        "    orders = pd.read_csv(pth4)\n",
        "else:\n",
        "    print('Something is wrong')\n",
        "\n",
        "pth5 = 'visitors.csv'\n",
        "pth6 = '/datasets/visitors.csv'\n",
        "\n",
        "if os.path.exists(pth5):\n",
        "    visitors = pd.read_csv(pth5)\n",
        "elif os.path.exists(pth6):\n",
        "    visitors = pd.read_csv(pth6)\n",
        "else:\n",
        "    print('Something is wrong')"
      ]
    },
    {
      "cell_type": "markdown",
      "id": "b8075aa0",
      "metadata": {
        "id": "b8075aa0"
      },
      "source": [
        "Выводим общую информацию по таблице hypothesis"
      ]
    },
    {
      "cell_type": "code",
      "execution_count": null,
      "id": "0a9f27df",
      "metadata": {
        "id": "0a9f27df",
        "outputId": "e0637362-43a7-4272-e524-80ceb1f86baa"
      },
      "outputs": [
        {
          "name": "stdout",
          "output_type": "stream",
          "text": [
            "<class 'pandas.core.frame.DataFrame'>\n",
            "RangeIndex: 9 entries, 0 to 8\n",
            "Data columns (total 5 columns):\n",
            " #   Column      Non-Null Count  Dtype \n",
            "---  ------      --------------  ----- \n",
            " 0   Hypothesis  9 non-null      object\n",
            " 1   Reach       9 non-null      int64 \n",
            " 2   Impact      9 non-null      int64 \n",
            " 3   Confidence  9 non-null      int64 \n",
            " 4   Efforts     9 non-null      int64 \n",
            "dtypes: int64(4), object(1)\n",
            "memory usage: 488.0+ bytes\n",
            "\n",
            "Количество пропусков в таблице\n",
            " transactionId    0\n",
            "visitorId        0\n",
            "date             0\n",
            "revenue          0\n",
            "group            0\n",
            "dtype: int64\n"
          ]
        }
      ],
      "source": [
        "hypothesis.info()\n",
        "print('\\nКоличество пропусков в таблице\\n',orders.isna().sum())"
      ]
    },
    {
      "cell_type": "markdown",
      "id": "8ae09725",
      "metadata": {
        "id": "8ae09725"
      },
      "source": [
        "В таблице 5 столбцов с типами данных — int, object\n",
        "\n",
        " * Hypothesis — краткое описание гипотезы,\n",
        " * Reach — охват пользователей по 10-балльной шкале,\n",
        " * Impact — влияние на пользователей по 10-балльной шкале,\n",
        " * Confidence — уверенность в гипотезе по 10-балльной шкале,\n",
        " * Efforts — затраты ресурсов на проверку гипотезы по 10-балльной шкале. Чем больше значение Efforts, тем дороже проверка гипотезы.\n",
        "\n",
        " Количество значений в столбцах не различаются, следовательно **нет пропущенных значений**"
      ]
    },
    {
      "cell_type": "markdown",
      "id": "258acd16",
      "metadata": {
        "id": "258acd16"
      },
      "source": [
        "Выведем всю таблицу `hypothesis`"
      ]
    },
    {
      "cell_type": "code",
      "execution_count": null,
      "id": "c2f6edf5",
      "metadata": {
        "id": "c2f6edf5",
        "outputId": "1c93f8f7-ef89-4fe2-ee48-bafc3678a1d1"
      },
      "outputs": [
        {
          "data": {
            "text/html": [
              "<div>\n",
              "<style scoped>\n",
              "    .dataframe tbody tr th:only-of-type {\n",
              "        vertical-align: middle;\n",
              "    }\n",
              "\n",
              "    .dataframe tbody tr th {\n",
              "        vertical-align: top;\n",
              "    }\n",
              "\n",
              "    .dataframe thead th {\n",
              "        text-align: right;\n",
              "    }\n",
              "</style>\n",
              "<table border=\"1\" class=\"dataframe\">\n",
              "  <thead>\n",
              "    <tr style=\"text-align: right;\">\n",
              "      <th></th>\n",
              "      <th>Hypothesis</th>\n",
              "      <th>Reach</th>\n",
              "      <th>Impact</th>\n",
              "      <th>Confidence</th>\n",
              "      <th>Efforts</th>\n",
              "    </tr>\n",
              "  </thead>\n",
              "  <tbody>\n",
              "    <tr>\n",
              "      <th>0</th>\n",
              "      <td>Добавить два новых канала привлечения трафика,...</td>\n",
              "      <td>3</td>\n",
              "      <td>10</td>\n",
              "      <td>8</td>\n",
              "      <td>6</td>\n",
              "    </tr>\n",
              "    <tr>\n",
              "      <th>1</th>\n",
              "      <td>Запустить собственную службу доставки, что сок...</td>\n",
              "      <td>2</td>\n",
              "      <td>5</td>\n",
              "      <td>4</td>\n",
              "      <td>10</td>\n",
              "    </tr>\n",
              "    <tr>\n",
              "      <th>2</th>\n",
              "      <td>Добавить блоки рекомендаций товаров на сайт ин...</td>\n",
              "      <td>8</td>\n",
              "      <td>3</td>\n",
              "      <td>7</td>\n",
              "      <td>3</td>\n",
              "    </tr>\n",
              "    <tr>\n",
              "      <th>3</th>\n",
              "      <td>Изменить структура категорий, что увеличит кон...</td>\n",
              "      <td>8</td>\n",
              "      <td>3</td>\n",
              "      <td>3</td>\n",
              "      <td>8</td>\n",
              "    </tr>\n",
              "    <tr>\n",
              "      <th>4</th>\n",
              "      <td>Изменить цвет фона главной страницы, чтобы уве...</td>\n",
              "      <td>3</td>\n",
              "      <td>1</td>\n",
              "      <td>1</td>\n",
              "      <td>1</td>\n",
              "    </tr>\n",
              "    <tr>\n",
              "      <th>5</th>\n",
              "      <td>Добавить страницу отзывов клиентов о магазине,...</td>\n",
              "      <td>3</td>\n",
              "      <td>2</td>\n",
              "      <td>2</td>\n",
              "      <td>3</td>\n",
              "    </tr>\n",
              "    <tr>\n",
              "      <th>6</th>\n",
              "      <td>Показать на главной странице баннеры с актуаль...</td>\n",
              "      <td>5</td>\n",
              "      <td>3</td>\n",
              "      <td>8</td>\n",
              "      <td>3</td>\n",
              "    </tr>\n",
              "    <tr>\n",
              "      <th>7</th>\n",
              "      <td>Добавить форму подписки на все основные страни...</td>\n",
              "      <td>10</td>\n",
              "      <td>7</td>\n",
              "      <td>8</td>\n",
              "      <td>5</td>\n",
              "    </tr>\n",
              "    <tr>\n",
              "      <th>8</th>\n",
              "      <td>Запустить акцию, дающую скидку на товар в день...</td>\n",
              "      <td>1</td>\n",
              "      <td>9</td>\n",
              "      <td>9</td>\n",
              "      <td>5</td>\n",
              "    </tr>\n",
              "  </tbody>\n",
              "</table>\n",
              "</div>"
            ],
            "text/plain": [
              "                                          Hypothesis  Reach  Impact  \\\n",
              "0  Добавить два новых канала привлечения трафика,...      3      10   \n",
              "1  Запустить собственную службу доставки, что сок...      2       5   \n",
              "2  Добавить блоки рекомендаций товаров на сайт ин...      8       3   \n",
              "3  Изменить структура категорий, что увеличит кон...      8       3   \n",
              "4  Изменить цвет фона главной страницы, чтобы уве...      3       1   \n",
              "5  Добавить страницу отзывов клиентов о магазине,...      3       2   \n",
              "6  Показать на главной странице баннеры с актуаль...      5       3   \n",
              "7  Добавить форму подписки на все основные страни...     10       7   \n",
              "8  Запустить акцию, дающую скидку на товар в день...      1       9   \n",
              "\n",
              "   Confidence  Efforts  \n",
              "0           8        6  \n",
              "1           4       10  \n",
              "2           7        3  \n",
              "3           3        8  \n",
              "4           1        1  \n",
              "5           2        3  \n",
              "6           8        3  \n",
              "7           8        5  \n",
              "8           9        5  "
            ]
          },
          "execution_count": 4,
          "metadata": {},
          "output_type": "execute_result"
        }
      ],
      "source": [
        "hypothesis.head(9)"
      ]
    },
    {
      "cell_type": "code",
      "execution_count": null,
      "id": "9110c565",
      "metadata": {
        "id": "9110c565",
        "outputId": "af6172dc-27c0-46f5-feca-d4fa4b40fa0a"
      },
      "outputs": [
        {
          "data": {
            "text/plain": [
              "['Добавить два новых канала привлечения трафика, что позволит привлекать на 30% больше пользователей',\n",
              " 'Запустить собственную службу доставки, что сократит срок доставки заказов',\n",
              " 'Добавить блоки рекомендаций товаров на сайт интернет магазина, чтобы повысить конверсию и средний чек заказа',\n",
              " 'Изменить структура категорий, что увеличит конверсию, т.к. пользователи быстрее найдут нужный товар',\n",
              " 'Изменить цвет фона главной страницы, чтобы увеличить вовлеченность пользователей',\n",
              " 'Добавить страницу отзывов клиентов о магазине, что позволит увеличить количество заказов',\n",
              " 'Показать на главной странице баннеры с актуальными акциями и распродажами, чтобы увеличить конверсию',\n",
              " 'Добавить форму подписки на все основные страницы, чтобы собрать базу клиентов для email-рассылок',\n",
              " 'Запустить акцию, дающую скидку на товар в день рождения']"
            ]
          },
          "execution_count": 5,
          "metadata": {},
          "output_type": "execute_result"
        }
      ],
      "source": [
        "hypothesis['Hypothesis'].tolist()"
      ]
    },
    {
      "cell_type": "markdown",
      "id": "e3fce301",
      "metadata": {
        "id": "e3fce301"
      },
      "source": [
        "Выводим общую информацию по таблице orders"
      ]
    },
    {
      "cell_type": "code",
      "execution_count": null,
      "id": "75be1dfd",
      "metadata": {
        "id": "75be1dfd",
        "outputId": "acaac9f5-8eb9-4e3c-fb65-4a60814abd5e"
      },
      "outputs": [
        {
          "name": "stdout",
          "output_type": "stream",
          "text": [
            "<class 'pandas.core.frame.DataFrame'>\n",
            "RangeIndex: 1197 entries, 0 to 1196\n",
            "Data columns (total 5 columns):\n",
            " #   Column         Non-Null Count  Dtype \n",
            "---  ------         --------------  ----- \n",
            " 0   transactionId  1197 non-null   int64 \n",
            " 1   visitorId      1197 non-null   int64 \n",
            " 2   date           1197 non-null   object\n",
            " 3   revenue        1197 non-null   int64 \n",
            " 4   group          1197 non-null   object\n",
            "dtypes: int64(3), object(2)\n",
            "memory usage: 46.9+ KB\n",
            "\n",
            "Количество пропусков в таблице\n",
            " transactionId    0\n",
            "visitorId        0\n",
            "date             0\n",
            "revenue          0\n",
            "group            0\n",
            "dtype: int64\n"
          ]
        }
      ],
      "source": [
        "orders.info()\n",
        "print('\\nКоличество пропусков в таблице\\n',orders.isna().sum())"
      ]
    },
    {
      "cell_type": "markdown",
      "id": "d1b33608",
      "metadata": {
        "id": "d1b33608"
      },
      "source": [
        "В таблице 5 столбцов с типами данных — int, object\n",
        "\n",
        " * transactionId — идентификатор заказа,\n",
        " * visitorId — идентификатор пользователя, совершившего заказ,\n",
        " * date — дата, когда был совершён заказ,\n",
        " * revenue — выручка заказа,\n",
        " * group — группа A/B-теста, в которую попал заказ.\n",
        "\n",
        "Количество значений в столбцах не различаются, следовательно **нет пропущенных значений**"
      ]
    },
    {
      "cell_type": "code",
      "execution_count": null,
      "id": "f444e20c",
      "metadata": {
        "id": "f444e20c",
        "outputId": "c4adc160-c495-41a2-cf2a-9a41b3112492"
      },
      "outputs": [
        {
          "data": {
            "text/html": [
              "<div>\n",
              "<style scoped>\n",
              "    .dataframe tbody tr th:only-of-type {\n",
              "        vertical-align: middle;\n",
              "    }\n",
              "\n",
              "    .dataframe tbody tr th {\n",
              "        vertical-align: top;\n",
              "    }\n",
              "\n",
              "    .dataframe thead th {\n",
              "        text-align: right;\n",
              "    }\n",
              "</style>\n",
              "<table border=\"1\" class=\"dataframe\">\n",
              "  <thead>\n",
              "    <tr style=\"text-align: right;\">\n",
              "      <th></th>\n",
              "      <th>transactionId</th>\n",
              "      <th>visitorId</th>\n",
              "      <th>date</th>\n",
              "      <th>revenue</th>\n",
              "      <th>group</th>\n",
              "    </tr>\n",
              "  </thead>\n",
              "  <tbody>\n",
              "    <tr>\n",
              "      <th>0</th>\n",
              "      <td>3667963787</td>\n",
              "      <td>3312258926</td>\n",
              "      <td>2019-08-15</td>\n",
              "      <td>1650</td>\n",
              "      <td>B</td>\n",
              "    </tr>\n",
              "    <tr>\n",
              "      <th>1</th>\n",
              "      <td>2804400009</td>\n",
              "      <td>3642806036</td>\n",
              "      <td>2019-08-15</td>\n",
              "      <td>730</td>\n",
              "      <td>B</td>\n",
              "    </tr>\n",
              "    <tr>\n",
              "      <th>2</th>\n",
              "      <td>2961555356</td>\n",
              "      <td>4069496402</td>\n",
              "      <td>2019-08-15</td>\n",
              "      <td>400</td>\n",
              "      <td>A</td>\n",
              "    </tr>\n",
              "    <tr>\n",
              "      <th>3</th>\n",
              "      <td>3797467345</td>\n",
              "      <td>1196621759</td>\n",
              "      <td>2019-08-15</td>\n",
              "      <td>9759</td>\n",
              "      <td>B</td>\n",
              "    </tr>\n",
              "    <tr>\n",
              "      <th>4</th>\n",
              "      <td>2282983706</td>\n",
              "      <td>2322279887</td>\n",
              "      <td>2019-08-15</td>\n",
              "      <td>2308</td>\n",
              "      <td>B</td>\n",
              "    </tr>\n",
              "    <tr>\n",
              "      <th>5</th>\n",
              "      <td>182168103</td>\n",
              "      <td>935554773</td>\n",
              "      <td>2019-08-15</td>\n",
              "      <td>2210</td>\n",
              "      <td>B</td>\n",
              "    </tr>\n",
              "    <tr>\n",
              "      <th>6</th>\n",
              "      <td>398296753</td>\n",
              "      <td>2900797465</td>\n",
              "      <td>2019-08-15</td>\n",
              "      <td>1860</td>\n",
              "      <td>B</td>\n",
              "    </tr>\n",
              "    <tr>\n",
              "      <th>7</th>\n",
              "      <td>2626614568</td>\n",
              "      <td>78758296</td>\n",
              "      <td>2019-08-15</td>\n",
              "      <td>1044</td>\n",
              "      <td>A</td>\n",
              "    </tr>\n",
              "    <tr>\n",
              "      <th>8</th>\n",
              "      <td>1576988021</td>\n",
              "      <td>295230930</td>\n",
              "      <td>2019-08-15</td>\n",
              "      <td>13710</td>\n",
              "      <td>A</td>\n",
              "    </tr>\n",
              "    <tr>\n",
              "      <th>9</th>\n",
              "      <td>1506739906</td>\n",
              "      <td>1882260405</td>\n",
              "      <td>2019-08-15</td>\n",
              "      <td>1855</td>\n",
              "      <td>B</td>\n",
              "    </tr>\n",
              "  </tbody>\n",
              "</table>\n",
              "</div>"
            ],
            "text/plain": [
              "   transactionId   visitorId        date  revenue group\n",
              "0     3667963787  3312258926  2019-08-15     1650     B\n",
              "1     2804400009  3642806036  2019-08-15      730     B\n",
              "2     2961555356  4069496402  2019-08-15      400     A\n",
              "3     3797467345  1196621759  2019-08-15     9759     B\n",
              "4     2282983706  2322279887  2019-08-15     2308     B\n",
              "5      182168103   935554773  2019-08-15     2210     B\n",
              "6      398296753  2900797465  2019-08-15     1860     B\n",
              "7     2626614568    78758296  2019-08-15     1044     A\n",
              "8     1576988021   295230930  2019-08-15    13710     A\n",
              "9     1506739906  1882260405  2019-08-15     1855     B"
            ]
          },
          "execution_count": 7,
          "metadata": {},
          "output_type": "execute_result"
        }
      ],
      "source": [
        "orders.head(10)"
      ]
    },
    {
      "cell_type": "markdown",
      "id": "214b3812",
      "metadata": {
        "id": "214b3812"
      },
      "source": [
        "Выводим общую информацию по таблице visitors"
      ]
    },
    {
      "cell_type": "code",
      "execution_count": null,
      "id": "8f52e65a",
      "metadata": {
        "id": "8f52e65a",
        "outputId": "10bbbf57-9066-4e93-ee6f-f6e79eeaadae"
      },
      "outputs": [
        {
          "name": "stdout",
          "output_type": "stream",
          "text": [
            "<class 'pandas.core.frame.DataFrame'>\n",
            "RangeIndex: 62 entries, 0 to 61\n",
            "Data columns (total 3 columns):\n",
            " #   Column    Non-Null Count  Dtype \n",
            "---  ------    --------------  ----- \n",
            " 0   date      62 non-null     object\n",
            " 1   group     62 non-null     object\n",
            " 2   visitors  62 non-null     int64 \n",
            "dtypes: int64(1), object(2)\n",
            "memory usage: 1.6+ KB\n",
            "\n",
            "Количество пропусков в таблице\n",
            " date        0\n",
            "group       0\n",
            "visitors    0\n",
            "dtype: int64\n"
          ]
        }
      ],
      "source": [
        "visitors.info()\n",
        "print('\\nКоличество пропусков в таблице\\n',visitors.isna().sum())"
      ]
    },
    {
      "cell_type": "markdown",
      "id": "9dc9cf29",
      "metadata": {
        "id": "9dc9cf29"
      },
      "source": [
        "В таблице 3 столбца с типами данных — int, object\n",
        "\n",
        " * date — дата,\n",
        " * group — группа A/B-теста,\n",
        " * visitors — количество пользователей в указанную дату в указанной группе A/B-теста.\n",
        "\n",
        "Количество значений в столбцах не различаются, следовательно **нет пропущенных значений**"
      ]
    },
    {
      "cell_type": "code",
      "execution_count": null,
      "id": "ce3600f7",
      "metadata": {
        "id": "ce3600f7",
        "outputId": "b053e737-e0f9-47e2-e9a6-cd49d9403e94"
      },
      "outputs": [
        {
          "data": {
            "text/html": [
              "<div>\n",
              "<style scoped>\n",
              "    .dataframe tbody tr th:only-of-type {\n",
              "        vertical-align: middle;\n",
              "    }\n",
              "\n",
              "    .dataframe tbody tr th {\n",
              "        vertical-align: top;\n",
              "    }\n",
              "\n",
              "    .dataframe thead th {\n",
              "        text-align: right;\n",
              "    }\n",
              "</style>\n",
              "<table border=\"1\" class=\"dataframe\">\n",
              "  <thead>\n",
              "    <tr style=\"text-align: right;\">\n",
              "      <th></th>\n",
              "      <th>date</th>\n",
              "      <th>group</th>\n",
              "      <th>visitors</th>\n",
              "    </tr>\n",
              "  </thead>\n",
              "  <tbody>\n",
              "    <tr>\n",
              "      <th>0</th>\n",
              "      <td>2019-08-01</td>\n",
              "      <td>A</td>\n",
              "      <td>719</td>\n",
              "    </tr>\n",
              "    <tr>\n",
              "      <th>1</th>\n",
              "      <td>2019-08-02</td>\n",
              "      <td>A</td>\n",
              "      <td>619</td>\n",
              "    </tr>\n",
              "    <tr>\n",
              "      <th>2</th>\n",
              "      <td>2019-08-03</td>\n",
              "      <td>A</td>\n",
              "      <td>507</td>\n",
              "    </tr>\n",
              "    <tr>\n",
              "      <th>3</th>\n",
              "      <td>2019-08-04</td>\n",
              "      <td>A</td>\n",
              "      <td>717</td>\n",
              "    </tr>\n",
              "    <tr>\n",
              "      <th>4</th>\n",
              "      <td>2019-08-05</td>\n",
              "      <td>A</td>\n",
              "      <td>756</td>\n",
              "    </tr>\n",
              "    <tr>\n",
              "      <th>5</th>\n",
              "      <td>2019-08-06</td>\n",
              "      <td>A</td>\n",
              "      <td>667</td>\n",
              "    </tr>\n",
              "    <tr>\n",
              "      <th>6</th>\n",
              "      <td>2019-08-07</td>\n",
              "      <td>A</td>\n",
              "      <td>644</td>\n",
              "    </tr>\n",
              "    <tr>\n",
              "      <th>7</th>\n",
              "      <td>2019-08-08</td>\n",
              "      <td>A</td>\n",
              "      <td>610</td>\n",
              "    </tr>\n",
              "    <tr>\n",
              "      <th>8</th>\n",
              "      <td>2019-08-09</td>\n",
              "      <td>A</td>\n",
              "      <td>617</td>\n",
              "    </tr>\n",
              "    <tr>\n",
              "      <th>9</th>\n",
              "      <td>2019-08-10</td>\n",
              "      <td>A</td>\n",
              "      <td>406</td>\n",
              "    </tr>\n",
              "  </tbody>\n",
              "</table>\n",
              "</div>"
            ],
            "text/plain": [
              "         date group  visitors\n",
              "0  2019-08-01     A       719\n",
              "1  2019-08-02     A       619\n",
              "2  2019-08-03     A       507\n",
              "3  2019-08-04     A       717\n",
              "4  2019-08-05     A       756\n",
              "5  2019-08-06     A       667\n",
              "6  2019-08-07     A       644\n",
              "7  2019-08-08     A       610\n",
              "8  2019-08-09     A       617\n",
              "9  2019-08-10     A       406"
            ]
          },
          "execution_count": 9,
          "metadata": {},
          "output_type": "execute_result"
        }
      ],
      "source": [
        "visitors.head(10)"
      ]
    },
    {
      "cell_type": "markdown",
      "id": "97691727",
      "metadata": {
        "id": "97691727"
      },
      "source": [
        "## Вывод"
      ]
    },
    {
      "cell_type": "markdown",
      "id": "582eddc4",
      "metadata": {
        "id": "582eddc4"
      },
      "source": [
        "При ознакомлении с датафреймами было установленно, что `hypothesis.csv` хранит информацию о гипотезах их их оценки по охвату пользователей, влиянию на пользователей, уверености в гипотезе и затратам на проверку, все оценивается по 10-балльной шкале.\n",
        "\n",
        "Датафрейм `orders.csv` содержит информацию о совершенных заказах, пользовательские iD и деление заказов на группы A и B.\n",
        "\n",
        "Датафрейм `visitors.csv` содержит информацию о том сколько человек и в какую дату попали в определенную группу тестирования(A и B).\n",
        "\n",
        "Во всех датафреймах отсутствуют пропуски, это говорит нам о том, что сбоев в сборе данных нет. На стадии предобработки необходимо:\n",
        "\n",
        "1. Выявить явные и неявные дубликаты, исправить либо удалить их, если они есть\n",
        "2. Выявить аномальные значения, исправить либо удалить, если они есть\n",
        "3. Привести названия столбцов к единому стилю"
      ]
    },
    {
      "cell_type": "markdown",
      "id": "8d5ab605",
      "metadata": {
        "id": "8d5ab605"
      },
      "source": [
        "# Предобработка данных"
      ]
    },
    {
      "cell_type": "markdown",
      "id": "2319ac50",
      "metadata": {
        "id": "2319ac50"
      },
      "source": [
        "Создадим новый столбец с названия гипотезы для дальнейшего удобства в анализе"
      ]
    },
    {
      "cell_type": "code",
      "execution_count": null,
      "id": "4f3dc577",
      "metadata": {
        "id": "4f3dc577"
      },
      "outputs": [],
      "source": [
        "hypothesis['name'] = ['hypothesis1','hypothesis2','hypothesis3',\n",
        "                      'hypothesis4','hypothesis5','hypothesis6','hypothesis7','hypothesis8','hypothesis9']\n",
        "hypothesis = hypothesis[['name'] + [x for x in hypothesis.columns if x != 'name']]"
      ]
    },
    {
      "cell_type": "code",
      "execution_count": null,
      "id": "a58590ba",
      "metadata": {
        "scrolled": true,
        "id": "a58590ba",
        "outputId": "a077fed7-48bb-49e0-f208-e51296af223a"
      },
      "outputs": [
        {
          "data": {
            "text/html": [
              "<div>\n",
              "<style scoped>\n",
              "    .dataframe tbody tr th:only-of-type {\n",
              "        vertical-align: middle;\n",
              "    }\n",
              "\n",
              "    .dataframe tbody tr th {\n",
              "        vertical-align: top;\n",
              "    }\n",
              "\n",
              "    .dataframe thead th {\n",
              "        text-align: right;\n",
              "    }\n",
              "</style>\n",
              "<table border=\"1\" class=\"dataframe\">\n",
              "  <thead>\n",
              "    <tr style=\"text-align: right;\">\n",
              "      <th></th>\n",
              "      <th>name</th>\n",
              "      <th>Hypothesis</th>\n",
              "      <th>Reach</th>\n",
              "      <th>Impact</th>\n",
              "      <th>Confidence</th>\n",
              "      <th>Efforts</th>\n",
              "    </tr>\n",
              "  </thead>\n",
              "  <tbody>\n",
              "    <tr>\n",
              "      <th>0</th>\n",
              "      <td>hypothesis1</td>\n",
              "      <td>Добавить два новых канала привлечения трафика,...</td>\n",
              "      <td>3</td>\n",
              "      <td>10</td>\n",
              "      <td>8</td>\n",
              "      <td>6</td>\n",
              "    </tr>\n",
              "    <tr>\n",
              "      <th>1</th>\n",
              "      <td>hypothesis2</td>\n",
              "      <td>Запустить собственную службу доставки, что сок...</td>\n",
              "      <td>2</td>\n",
              "      <td>5</td>\n",
              "      <td>4</td>\n",
              "      <td>10</td>\n",
              "    </tr>\n",
              "    <tr>\n",
              "      <th>2</th>\n",
              "      <td>hypothesis3</td>\n",
              "      <td>Добавить блоки рекомендаций товаров на сайт ин...</td>\n",
              "      <td>8</td>\n",
              "      <td>3</td>\n",
              "      <td>7</td>\n",
              "      <td>3</td>\n",
              "    </tr>\n",
              "    <tr>\n",
              "      <th>3</th>\n",
              "      <td>hypothesis4</td>\n",
              "      <td>Изменить структура категорий, что увеличит кон...</td>\n",
              "      <td>8</td>\n",
              "      <td>3</td>\n",
              "      <td>3</td>\n",
              "      <td>8</td>\n",
              "    </tr>\n",
              "    <tr>\n",
              "      <th>4</th>\n",
              "      <td>hypothesis5</td>\n",
              "      <td>Изменить цвет фона главной страницы, чтобы уве...</td>\n",
              "      <td>3</td>\n",
              "      <td>1</td>\n",
              "      <td>1</td>\n",
              "      <td>1</td>\n",
              "    </tr>\n",
              "  </tbody>\n",
              "</table>\n",
              "</div>"
            ],
            "text/plain": [
              "          name                                         Hypothesis  Reach  \\\n",
              "0  hypothesis1  Добавить два новых канала привлечения трафика,...      3   \n",
              "1  hypothesis2  Запустить собственную службу доставки, что сок...      2   \n",
              "2  hypothesis3  Добавить блоки рекомендаций товаров на сайт ин...      8   \n",
              "3  hypothesis4  Изменить структура категорий, что увеличит кон...      8   \n",
              "4  hypothesis5  Изменить цвет фона главной страницы, чтобы уве...      3   \n",
              "\n",
              "   Impact  Confidence  Efforts  \n",
              "0      10           8        6  \n",
              "1       5           4       10  \n",
              "2       3           7        3  \n",
              "3       3           3        8  \n",
              "4       1           1        1  "
            ]
          },
          "execution_count": 11,
          "metadata": {},
          "output_type": "execute_result"
        }
      ],
      "source": [
        "hypothesis.head()"
      ]
    },
    {
      "cell_type": "markdown",
      "id": "ebe18044",
      "metadata": {
        "id": "ebe18044"
      },
      "source": [
        "Приведем к единому стилю названия столбцов в датафреймах"
      ]
    },
    {
      "cell_type": "code",
      "execution_count": null,
      "id": "cec595d1",
      "metadata": {
        "scrolled": true,
        "id": "cec595d1",
        "outputId": "35c9ff89-c5d2-44ae-c9e7-d6770f47b559"
      },
      "outputs": [
        {
          "name": "stdout",
          "output_type": "stream",
          "text": [
            "Index(['name', 'hypothesis', 'reach', 'impact', 'confidence', 'efforts'], dtype='object')\n",
            "\n",
            "Index(['transaction_id', 'visitor_id', 'date', 'revenue', 'group'], dtype='object')\n"
          ]
        }
      ],
      "source": [
        "hypothesis.columns = map(str.lower, hypothesis.columns)\n",
        "orders.rename(columns = {'transactionId':'transaction_id', 'visitorId':'visitor_id'}, inplace = True )\n",
        "\n",
        "print(hypothesis.columns)\n",
        "print()\n",
        "print(orders.columns)"
      ]
    },
    {
      "cell_type": "markdown",
      "id": "6ddb183d",
      "metadata": {
        "id": "6ddb183d"
      },
      "source": [
        "Проверим наличие явных дубликатов"
      ]
    },
    {
      "cell_type": "code",
      "execution_count": null,
      "id": "0d219df3",
      "metadata": {
        "id": "0d219df3",
        "outputId": "3f53bc66-674d-4db5-8d53-93048be5c347"
      },
      "outputs": [
        {
          "name": "stdout",
          "output_type": "stream",
          "text": [
            "Дубликаты в hypothesis 0\n",
            "Дубликаты в orders 0\n",
            "Дубликаты в visitors 0\n"
          ]
        }
      ],
      "source": [
        "print('Дубликаты в hypothesis',hypothesis.duplicated().sum())\n",
        "print('Дубликаты в orders',orders.duplicated().sum())\n",
        "print('Дубликаты в visitors',visitors.duplicated().sum())"
      ]
    },
    {
      "cell_type": "markdown",
      "id": "ecf6d5c5",
      "metadata": {
        "id": "ecf6d5c5"
      },
      "source": [
        "Посмотрим даты начала А/В теста"
      ]
    },
    {
      "cell_type": "code",
      "execution_count": null,
      "id": "2d190a91",
      "metadata": {
        "id": "2d190a91",
        "outputId": "f8ee66a5-9d51-43b3-9633-21a63bb5c77e"
      },
      "outputs": [
        {
          "name": "stdout",
          "output_type": "stream",
          "text": [
            "Начало А/В теста 2019-08-01\n",
            "Последня дата А/В теста 2019-08-31\n"
          ]
        }
      ],
      "source": [
        "print('Начало А/В теста',visitors['date'].min())\n",
        "print('Последня дата А/В теста',visitors['date'].max())"
      ]
    },
    {
      "cell_type": "code",
      "execution_count": null,
      "id": "8d478ae4",
      "metadata": {
        "id": "8d478ae4",
        "outputId": "4cb8ab4b-ea85-414b-ed36-fa55fec723af"
      },
      "outputs": [
        {
          "name": "stdout",
          "output_type": "stream",
          "text": [
            "Первая покупка в датафрейме совершена 2019-08-01\n",
            "Последня покупка в датафрейме совершена 2019-08-31\n"
          ]
        }
      ],
      "source": [
        "print('Первая покупка в датафрейме совершена',orders['date'].min())\n",
        "print('Последня покупка в датафрейме совершена',orders['date'].max())"
      ]
    },
    {
      "cell_type": "markdown",
      "id": "3f75aa84",
      "metadata": {
        "id": "3f75aa84"
      },
      "source": [
        "Лишние даты не попали в датафрейм"
      ]
    },
    {
      "cell_type": "markdown",
      "id": "f5fd6691",
      "metadata": {
        "id": "f5fd6691"
      },
      "source": [
        "Посмотрим распределение по группам в датафрейме `visitors`"
      ]
    },
    {
      "cell_type": "code",
      "execution_count": null,
      "id": "917a12c9",
      "metadata": {
        "scrolled": true,
        "id": "917a12c9",
        "outputId": "874c2d47-e01c-4579-8343-c4436978e792"
      },
      "outputs": [
        {
          "name": "stdout",
          "output_type": "stream",
          "text": [
            "group\n",
            "A    31\n",
            "B    31\n",
            "dtype: int64\n"
          ]
        },
        {
          "data": {
            "text/plain": [
              "date\n",
              "2019-08-01    2\n",
              "2019-08-17    2\n",
              "2019-08-30    2\n",
              "2019-08-29    2\n",
              "2019-08-28    2\n",
              "2019-08-27    2\n",
              "2019-08-26    2\n",
              "2019-08-25    2\n",
              "2019-08-24    2\n",
              "2019-08-23    2\n",
              "2019-08-22    2\n",
              "2019-08-21    2\n",
              "2019-08-20    2\n",
              "2019-08-19    2\n",
              "2019-08-18    2\n",
              "2019-08-16    2\n",
              "2019-08-02    2\n",
              "2019-08-15    2\n",
              "2019-08-14    2\n",
              "2019-08-13    2\n",
              "2019-08-12    2\n",
              "2019-08-11    2\n",
              "2019-08-10    2\n",
              "2019-08-09    2\n",
              "2019-08-08    2\n",
              "2019-08-07    2\n",
              "2019-08-06    2\n",
              "2019-08-05    2\n",
              "2019-08-04    2\n",
              "2019-08-03    2\n",
              "2019-08-31    2\n",
              "dtype: int64"
            ]
          },
          "execution_count": 16,
          "metadata": {},
          "output_type": "execute_result"
        }
      ],
      "source": [
        "print(visitors.value_counts('group'))\n",
        "visitors.value_counts('date')"
      ]
    },
    {
      "cell_type": "markdown",
      "id": "7f9be8e4",
      "metadata": {
        "id": "7f9be8e4"
      },
      "source": [
        "С делением на группы тестируемых все нормально"
      ]
    },
    {
      "cell_type": "markdown",
      "id": "6e41b7db",
      "metadata": {
        "id": "6e41b7db"
      },
      "source": [
        "Посмотрим как распределилось количество пользователей по группам и посчитаем разницу"
      ]
    },
    {
      "cell_type": "code",
      "execution_count": null,
      "id": "5598c3b9",
      "metadata": {
        "id": "5598c3b9",
        "outputId": "cefc4430-94e8-40e0-af73-b25a5ce0d97c"
      },
      "outputs": [
        {
          "data": {
            "text/html": [
              "<div>\n",
              "<style scoped>\n",
              "    .dataframe tbody tr th:only-of-type {\n",
              "        vertical-align: middle;\n",
              "    }\n",
              "\n",
              "    .dataframe tbody tr th {\n",
              "        vertical-align: top;\n",
              "    }\n",
              "\n",
              "    .dataframe thead th {\n",
              "        text-align: right;\n",
              "    }\n",
              "</style>\n",
              "<table border=\"1\" class=\"dataframe\">\n",
              "  <thead>\n",
              "    <tr style=\"text-align: right;\">\n",
              "      <th></th>\n",
              "      <th>group</th>\n",
              "      <th>visitor_id</th>\n",
              "    </tr>\n",
              "  </thead>\n",
              "  <tbody>\n",
              "    <tr>\n",
              "      <th>0</th>\n",
              "      <td>A</td>\n",
              "      <td>503</td>\n",
              "    </tr>\n",
              "    <tr>\n",
              "      <th>1</th>\n",
              "      <td>B</td>\n",
              "      <td>586</td>\n",
              "    </tr>\n",
              "  </tbody>\n",
              "</table>\n",
              "</div>"
            ],
            "text/plain": [
              "  group  visitor_id\n",
              "0     A         503\n",
              "1     B         586"
            ]
          },
          "metadata": {},
          "output_type": "display_data"
        },
        {
          "name": "stdout",
          "output_type": "stream",
          "text": [
            "Разница между группами 83 человек\n",
            "Разница между группами 16.5 %\n"
          ]
        }
      ],
      "source": [
        "users_group = orders.groupby('group').agg({'visitor_id':'nunique'}).reset_index()\n",
        "display(users_group)\n",
        "print('Разница между группами',int(users_group.loc[users_group['group']=='B']['visitor_id']) \\\n",
        "      - int(users_group.loc[users_group['group']=='A']['visitor_id']),'человек')\n",
        "print('Разница между группами',round(int(users_group.loc[users_group['group']=='B']['visitor_id']) \\\n",
        "      / int(users_group.loc[users_group['group']=='A']['visitor_id'])*100-100,2),'%')"
      ]
    },
    {
      "cell_type": "markdown",
      "id": "a46eff30",
      "metadata": {
        "id": "a46eff30"
      },
      "source": [
        "Посмотрим выручку с заказов"
      ]
    },
    {
      "cell_type": "code",
      "execution_count": null,
      "id": "70ecffed",
      "metadata": {
        "id": "70ecffed",
        "outputId": "c56df457-a15c-4c73-b32a-de75c80a6e69"
      },
      "outputs": [
        {
          "data": {
            "text/plain": [
              "count    1.197000e+03\n",
              "mean     8.348006e+03\n",
              "std      3.919113e+04\n",
              "min      5.000000e+01\n",
              "25%      1.220000e+03\n",
              "50%      2.978000e+03\n",
              "75%      8.290000e+03\n",
              "max      1.294500e+06\n",
              "Name: revenue, dtype: float64"
            ]
          },
          "execution_count": 18,
          "metadata": {},
          "output_type": "execute_result"
        }
      ],
      "source": [
        "orders['revenue'].describe()"
      ]
    },
    {
      "cell_type": "markdown",
      "id": "d6261e2f",
      "metadata": {
        "id": "d6261e2f"
      },
      "source": [
        "Медианное значения выручки c одного заказа 2978, минимальное 50, максимальное 1294500, вследствии чего происходит сильное искажение среднего значения 8348."
      ]
    },
    {
      "cell_type": "markdown",
      "id": "c906809d",
      "metadata": {
        "id": "c906809d"
      },
      "source": [
        "Посмотрим, есть ли пользователи, которые попали в две группы теста, если да то их необходимо удалить"
      ]
    },
    {
      "cell_type": "code",
      "execution_count": null,
      "id": "94fc50cf",
      "metadata": {
        "id": "94fc50cf",
        "outputId": "c9b3a609-2f38-4ec0-834f-1ba4f52cccc8"
      },
      "outputs": [
        {
          "name": "stdout",
          "output_type": "stream",
          "text": [
            "58\n"
          ]
        }
      ],
      "source": [
        "orders.groupby('visitor_id').agg({'group' : 'nunique'}).query('group>1').count()\n",
        "double_users = orders.groupby('visitor_id').agg({'group' : 'nunique'}).reset_index().query('group>1')['visitor_id'].unique()\n",
        "print(len(double_users))\n",
        "orders = orders.query('visitor_id not in @double_users')"
      ]
    },
    {
      "cell_type": "markdown",
      "id": "2c465752",
      "metadata": {
        "id": "2c465752"
      },
      "source": [
        "Посчитаем разницу между группами после удаления пользователей попавших в обе группы теста"
      ]
    },
    {
      "cell_type": "code",
      "execution_count": null,
      "id": "b090bf56",
      "metadata": {
        "id": "b090bf56",
        "outputId": "ed3576af-c4c8-455f-c8d2-b34f475a5c22"
      },
      "outputs": [
        {
          "data": {
            "text/html": [
              "<div>\n",
              "<style scoped>\n",
              "    .dataframe tbody tr th:only-of-type {\n",
              "        vertical-align: middle;\n",
              "    }\n",
              "\n",
              "    .dataframe tbody tr th {\n",
              "        vertical-align: top;\n",
              "    }\n",
              "\n",
              "    .dataframe thead th {\n",
              "        text-align: right;\n",
              "    }\n",
              "</style>\n",
              "<table border=\"1\" class=\"dataframe\">\n",
              "  <thead>\n",
              "    <tr style=\"text-align: right;\">\n",
              "      <th></th>\n",
              "      <th>group</th>\n",
              "      <th>visitor_id</th>\n",
              "    </tr>\n",
              "  </thead>\n",
              "  <tbody>\n",
              "    <tr>\n",
              "      <th>0</th>\n",
              "      <td>A</td>\n",
              "      <td>468</td>\n",
              "    </tr>\n",
              "    <tr>\n",
              "      <th>1</th>\n",
              "      <td>B</td>\n",
              "      <td>548</td>\n",
              "    </tr>\n",
              "  </tbody>\n",
              "</table>\n",
              "</div>"
            ],
            "text/plain": [
              "  group  visitor_id\n",
              "0     A         468\n",
              "1     B         548"
            ]
          },
          "metadata": {},
          "output_type": "display_data"
        },
        {
          "name": "stdout",
          "output_type": "stream",
          "text": [
            "Разница между группами 80 человек\n",
            "Разница между группами 17.09 %\n"
          ]
        }
      ],
      "source": [
        "users_group = orders.groupby('group').agg({'visitor_id':'unique', 'visitor_id':'count'}).reset_index()\n",
        "display(users_group)\n",
        "print('Разница между группами',int(users_group.loc[users_group['group']=='B']['visitor_id']) \\\n",
        "      - int(users_group.loc[users_group['group']=='A']['visitor_id']),'человек')\n",
        "print('Разница между группами',round(int(users_group.loc[users_group['group']=='B']['visitor_id']) \\\n",
        "      / int(users_group.loc[users_group['group']=='A']['visitor_id'])*100-100,2),'%')"
      ]
    },
    {
      "cell_type": "markdown",
      "id": "320dc465",
      "metadata": {
        "id": "320dc465"
      },
      "source": [
        "## Вывод"
      ]
    },
    {
      "cell_type": "markdown",
      "id": "52af5777",
      "metadata": {
        "id": "52af5777"
      },
      "source": [
        "При проведении предобработки данных были изменены названия столбцов и приведены к общему виду (snake_case).\n",
        "Пропусков и дубликатов в данных не обнаруженно, что говорит о том что данные собираются корректно. Была обнаруженна аномально большая покупка на сумму 1294500. Так же выявленно, что пользователи для проведения А/В теста неправильно распределялись по группам и могли оказаться одновременно в двух группах, что не допустимо."
      ]
    },
    {
      "cell_type": "markdown",
      "id": "5f4a9ab3",
      "metadata": {
        "id": "5f4a9ab3"
      },
      "source": [
        "# Приоритизация гипотез"
      ]
    },
    {
      "cell_type": "markdown",
      "id": "341ebf26",
      "metadata": {
        "id": "341ebf26"
      },
      "source": [
        "Приоритизация гипотез будем проводить по методу ICE(от англ. impact, confidence, effort / ease «влияние, уверенность, усилия / простота») и его модификации RICE(где R от англ. reach, «охват») по формуле:\n",
        "\n",
        "ICE = (Impact x Confidence) / Efforts\n",
        "\n",
        "RICE = (Reach x Impact x Confidence) / Efforts"
      ]
    },
    {
      "cell_type": "code",
      "execution_count": null,
      "id": "893f53f1",
      "metadata": {
        "id": "893f53f1"
      },
      "outputs": [],
      "source": [
        "hypothesis['ice'] = round((hypothesis['impact'] * hypothesis['confidence']) / hypothesis['efforts'],2)"
      ]
    },
    {
      "cell_type": "code",
      "execution_count": null,
      "id": "b074de5d",
      "metadata": {
        "id": "b074de5d",
        "outputId": "ff7afc42-de71-4ab6-9b9c-851d60156c58"
      },
      "outputs": [
        {
          "data": {
            "text/html": [
              "<div>\n",
              "<style scoped>\n",
              "    .dataframe tbody tr th:only-of-type {\n",
              "        vertical-align: middle;\n",
              "    }\n",
              "\n",
              "    .dataframe tbody tr th {\n",
              "        vertical-align: top;\n",
              "    }\n",
              "\n",
              "    .dataframe thead th {\n",
              "        text-align: right;\n",
              "    }\n",
              "</style>\n",
              "<table border=\"1\" class=\"dataframe\">\n",
              "  <thead>\n",
              "    <tr style=\"text-align: right;\">\n",
              "      <th></th>\n",
              "      <th>name</th>\n",
              "      <th>hypothesis</th>\n",
              "      <th>reach</th>\n",
              "      <th>impact</th>\n",
              "      <th>confidence</th>\n",
              "      <th>efforts</th>\n",
              "      <th>ice</th>\n",
              "    </tr>\n",
              "  </thead>\n",
              "  <tbody>\n",
              "    <tr>\n",
              "      <th>8</th>\n",
              "      <td>hypothesis9</td>\n",
              "      <td>Запустить акцию, дающую скидку на товар в день...</td>\n",
              "      <td>1</td>\n",
              "      <td>9</td>\n",
              "      <td>9</td>\n",
              "      <td>5</td>\n",
              "      <td>16.20</td>\n",
              "    </tr>\n",
              "    <tr>\n",
              "      <th>0</th>\n",
              "      <td>hypothesis1</td>\n",
              "      <td>Добавить два новых канала привлечения трафика,...</td>\n",
              "      <td>3</td>\n",
              "      <td>10</td>\n",
              "      <td>8</td>\n",
              "      <td>6</td>\n",
              "      <td>13.33</td>\n",
              "    </tr>\n",
              "    <tr>\n",
              "      <th>7</th>\n",
              "      <td>hypothesis8</td>\n",
              "      <td>Добавить форму подписки на все основные страни...</td>\n",
              "      <td>10</td>\n",
              "      <td>7</td>\n",
              "      <td>8</td>\n",
              "      <td>5</td>\n",
              "      <td>11.20</td>\n",
              "    </tr>\n",
              "    <tr>\n",
              "      <th>6</th>\n",
              "      <td>hypothesis7</td>\n",
              "      <td>Показать на главной странице баннеры с актуаль...</td>\n",
              "      <td>5</td>\n",
              "      <td>3</td>\n",
              "      <td>8</td>\n",
              "      <td>3</td>\n",
              "      <td>8.00</td>\n",
              "    </tr>\n",
              "    <tr>\n",
              "      <th>2</th>\n",
              "      <td>hypothesis3</td>\n",
              "      <td>Добавить блоки рекомендаций товаров на сайт ин...</td>\n",
              "      <td>8</td>\n",
              "      <td>3</td>\n",
              "      <td>7</td>\n",
              "      <td>3</td>\n",
              "      <td>7.00</td>\n",
              "    </tr>\n",
              "  </tbody>\n",
              "</table>\n",
              "</div>"
            ],
            "text/plain": [
              "          name                                         hypothesis  reach  \\\n",
              "8  hypothesis9  Запустить акцию, дающую скидку на товар в день...      1   \n",
              "0  hypothesis1  Добавить два новых канала привлечения трафика,...      3   \n",
              "7  hypothesis8  Добавить форму подписки на все основные страни...     10   \n",
              "6  hypothesis7  Показать на главной странице баннеры с актуаль...      5   \n",
              "2  hypothesis3  Добавить блоки рекомендаций товаров на сайт ин...      8   \n",
              "\n",
              "   impact  confidence  efforts    ice  \n",
              "8       9           9        5  16.20  \n",
              "0      10           8        6  13.33  \n",
              "7       7           8        5  11.20  \n",
              "6       3           8        3   8.00  \n",
              "2       3           7        3   7.00  "
            ]
          },
          "execution_count": 22,
          "metadata": {},
          "output_type": "execute_result"
        }
      ],
      "source": [
        "hypothesis.sort_values('ice', ascending=False).head()"
      ]
    },
    {
      "cell_type": "markdown",
      "id": "0418d41f",
      "metadata": {
        "id": "0418d41f"
      },
      "source": [
        "При приоритизации гипотез фреймворком ICE гипотеза **\"Запустить акцию, дающую скидку на товар в день рождения\"** показывает самую высокую оценку, за ней идут гипотезы **\"Добавить два новых канала привлечения трафика, что позволит привлекать на 30% больше пользователей\"** и **\"Добавить форму подписки на все основные страницы, чтобы собрать базу клиентов для email-рассылок\"**."
      ]
    },
    {
      "cell_type": "code",
      "execution_count": null,
      "id": "b2065690",
      "metadata": {
        "id": "b2065690"
      },
      "outputs": [],
      "source": [
        "hypothesis['rice'] = (hypothesis['reach'] * hypothesis['impact'] * hypothesis['confidence']) / hypothesis['efforts']"
      ]
    },
    {
      "cell_type": "code",
      "execution_count": null,
      "id": "f7110580",
      "metadata": {
        "scrolled": true,
        "id": "f7110580",
        "outputId": "7fee5c20-1bd7-4f05-edf3-58a8d9ce2fe1"
      },
      "outputs": [
        {
          "data": {
            "text/html": [
              "<div>\n",
              "<style scoped>\n",
              "    .dataframe tbody tr th:only-of-type {\n",
              "        vertical-align: middle;\n",
              "    }\n",
              "\n",
              "    .dataframe tbody tr th {\n",
              "        vertical-align: top;\n",
              "    }\n",
              "\n",
              "    .dataframe thead th {\n",
              "        text-align: right;\n",
              "    }\n",
              "</style>\n",
              "<table border=\"1\" class=\"dataframe\">\n",
              "  <thead>\n",
              "    <tr style=\"text-align: right;\">\n",
              "      <th></th>\n",
              "      <th>name</th>\n",
              "      <th>hypothesis</th>\n",
              "      <th>reach</th>\n",
              "      <th>impact</th>\n",
              "      <th>confidence</th>\n",
              "      <th>efforts</th>\n",
              "      <th>ice</th>\n",
              "      <th>rice</th>\n",
              "    </tr>\n",
              "  </thead>\n",
              "  <tbody>\n",
              "    <tr>\n",
              "      <th>7</th>\n",
              "      <td>hypothesis8</td>\n",
              "      <td>Добавить форму подписки на все основные страни...</td>\n",
              "      <td>10</td>\n",
              "      <td>7</td>\n",
              "      <td>8</td>\n",
              "      <td>5</td>\n",
              "      <td>11.20</td>\n",
              "      <td>112.0</td>\n",
              "    </tr>\n",
              "    <tr>\n",
              "      <th>2</th>\n",
              "      <td>hypothesis3</td>\n",
              "      <td>Добавить блоки рекомендаций товаров на сайт ин...</td>\n",
              "      <td>8</td>\n",
              "      <td>3</td>\n",
              "      <td>7</td>\n",
              "      <td>3</td>\n",
              "      <td>7.00</td>\n",
              "      <td>56.0</td>\n",
              "    </tr>\n",
              "    <tr>\n",
              "      <th>0</th>\n",
              "      <td>hypothesis1</td>\n",
              "      <td>Добавить два новых канала привлечения трафика,...</td>\n",
              "      <td>3</td>\n",
              "      <td>10</td>\n",
              "      <td>8</td>\n",
              "      <td>6</td>\n",
              "      <td>13.33</td>\n",
              "      <td>40.0</td>\n",
              "    </tr>\n",
              "    <tr>\n",
              "      <th>6</th>\n",
              "      <td>hypothesis7</td>\n",
              "      <td>Показать на главной странице баннеры с актуаль...</td>\n",
              "      <td>5</td>\n",
              "      <td>3</td>\n",
              "      <td>8</td>\n",
              "      <td>3</td>\n",
              "      <td>8.00</td>\n",
              "      <td>40.0</td>\n",
              "    </tr>\n",
              "    <tr>\n",
              "      <th>8</th>\n",
              "      <td>hypothesis9</td>\n",
              "      <td>Запустить акцию, дающую скидку на товар в день...</td>\n",
              "      <td>1</td>\n",
              "      <td>9</td>\n",
              "      <td>9</td>\n",
              "      <td>5</td>\n",
              "      <td>16.20</td>\n",
              "      <td>16.2</td>\n",
              "    </tr>\n",
              "  </tbody>\n",
              "</table>\n",
              "</div>"
            ],
            "text/plain": [
              "          name                                         hypothesis  reach  \\\n",
              "7  hypothesis8  Добавить форму подписки на все основные страни...     10   \n",
              "2  hypothesis3  Добавить блоки рекомендаций товаров на сайт ин...      8   \n",
              "0  hypothesis1  Добавить два новых канала привлечения трафика,...      3   \n",
              "6  hypothesis7  Показать на главной странице баннеры с актуаль...      5   \n",
              "8  hypothesis9  Запустить акцию, дающую скидку на товар в день...      1   \n",
              "\n",
              "   impact  confidence  efforts    ice   rice  \n",
              "7       7           8        5  11.20  112.0  \n",
              "2       3           7        3   7.00   56.0  \n",
              "0      10           8        6  13.33   40.0  \n",
              "6       3           8        3   8.00   40.0  \n",
              "8       9           9        5  16.20   16.2  "
            ]
          },
          "execution_count": 24,
          "metadata": {},
          "output_type": "execute_result"
        }
      ],
      "source": [
        "hypothesis.sort_values('rice', ascending=False).head()"
      ]
    },
    {
      "cell_type": "markdown",
      "id": "ef8aaad9",
      "metadata": {
        "id": "ef8aaad9"
      },
      "source": [
        "При подсчете приоритизации гипотез фреймворком RICE, места распределилсь по другому с большим отрывом вышла гипотеза **\"Добавить форму подписки на все основные страницы, чтобы собрать базу клиентов для email-рассылок\"**, так как у неё самый большой охват аудитории, который не считался в фреймворке ICE."
      ]
    },
    {
      "cell_type": "markdown",
      "id": "723e2c05",
      "metadata": {
        "id": "723e2c05"
      },
      "source": [
        "Следующими по приоритету идут гипотезы **\"Добавить блоки рекомендаций товаров на сайт интернет магазина, чтобы повысить конверсию и средний чек заказа\"**, и с равным приоритетом **\"Добавить два новых канала привлечения трафика, что позволит привлекать на 30% больше пользователей\"** и **\"Показать на главной странице баннеры с актуальными акциями и распродажами, чтобы увеличить конверсию\"**."
      ]
    },
    {
      "cell_type": "markdown",
      "id": "7565f33b",
      "metadata": {
        "id": "7565f33b"
      },
      "source": [
        "## Вывод"
      ]
    },
    {
      "cell_type": "markdown",
      "id": "9520cc9e",
      "metadata": {
        "id": "9520cc9e"
      },
      "source": [
        "Для дальнейшего проведения А/В теста, с помощью фреймворков ICE и RICE необходимо было выбрать гипотезу. Предпочтение было отдано гипотезе **\"Добавить форму подписки на все основные страницы, чтобы собрать базу клиентов для email-рассылок\"**, так как у неё самый высокий приоритет по фреймворку RICE, который учитывал оценку охвата аудитории."
      ]
    },
    {
      "cell_type": "markdown",
      "id": "63874a60",
      "metadata": {
        "id": "63874a60"
      },
      "source": [
        "# Анализ A/B-теста"
      ]
    },
    {
      "cell_type": "markdown",
      "id": "6474a083",
      "metadata": {
        "id": "6474a083"
      },
      "source": [
        "Чтобы исключить проблему подсматривания построим и посмотрим графики кумулятивных данных. Для этого создадим отдельный датафрейм `cumulativeData `, куда соберем все кумулятивные данные и построим графики."
      ]
    },
    {
      "cell_type": "markdown",
      "id": "55a5a80c",
      "metadata": {
        "id": "55a5a80c"
      },
      "source": [
        "Объявим датафрейм `cumulativeData` со столбцами:\n",
        "\n",
        "* date — дата;\n",
        "\n",
        "* group — группа A/B-теста (A или B);\n",
        "\n",
        "* orders — кумулятивное количество заказов на указанную дату в указанной группе;\n",
        "\n",
        "* buyers — кумулятивное количество пользователей, совершивших хотя бы один заказ, на указанную дату в указанной группе;\n",
        "\n",
        "* revenue — кумулятивная выручка на указанную дату в указанной группе (средний чек);\n",
        "\n",
        "* visitors — кумулятивное количество посетителей интернет-магазина на указанную дату в определённой группе."
      ]
    },
    {
      "cell_type": "code",
      "execution_count": null,
      "id": "f2a03344",
      "metadata": {
        "id": "f2a03344"
      },
      "outputs": [],
      "source": [
        "cumulativeData = pd.DataFrame(columns=['date', 'group', 'orders', 'buyers', 'revenue', 'visitors'])"
      ]
    },
    {
      "cell_type": "markdown",
      "id": "1632640d",
      "metadata": {
        "id": "1632640d"
      },
      "source": [
        "Преобразуем строковые значения в даты"
      ]
    },
    {
      "cell_type": "code",
      "execution_count": null,
      "id": "8f312150",
      "metadata": {
        "id": "8f312150"
      },
      "outputs": [],
      "source": [
        "orders['date'] = orders['date'].map(\n",
        "    lambda x: dt.datetime.strptime(x, '%Y-%m-%d')\n",
        ")\n",
        "visitors['date'] = visitors['date'].map(\n",
        "    lambda x: dt.datetime.strptime(x, '%Y-%m-%d')\n",
        ")"
      ]
    },
    {
      "cell_type": "markdown",
      "id": "5bf075b1",
      "metadata": {
        "id": "5bf075b1"
      },
      "source": [
        "Создадим массив уникальных пар значений дат и групп"
      ]
    },
    {
      "cell_type": "code",
      "execution_count": null,
      "id": "5535414f",
      "metadata": {
        "id": "5535414f"
      },
      "outputs": [],
      "source": [
        "datesGroups = visitors[['date', 'group']]"
      ]
    },
    {
      "cell_type": "markdown",
      "id": "4d89860f",
      "metadata": {
        "id": "4d89860f"
      },
      "source": [
        "Посчитаем кумулятивные данные по заказам и поситителях интернет-магазина. Объединим все в один датафрейм"
      ]
    },
    {
      "cell_type": "code",
      "execution_count": null,
      "id": "8855dd24",
      "metadata": {
        "id": "8855dd24",
        "outputId": "6484d168-82b3-4826-90ac-feb6ccc8c322"
      },
      "outputs": [
        {
          "name": "stdout",
          "output_type": "stream",
          "text": [
            "        date group  orders  buyers  revenue  visitors\n",
            "0 2019-08-01     A      23      19   142779       719\n",
            "1 2019-08-01     B      17      17    59758       713\n",
            "2 2019-08-02     A      42      36   234381      1338\n",
            "3 2019-08-02     B      40      39   221801      1294\n",
            "4 2019-08-03     A      66      60   346854      1845\n"
          ]
        }
      ],
      "source": [
        "ordersAggregated = datesGroups.apply(lambda x: orders[np.logical_and(orders['date'] <= x['date'], orders['group'] == x['group'])].agg({'date' : 'max', 'group' : 'max', 'transaction_id' : 'nunique', 'visitor_id' : 'nunique', 'revenue' : 'sum'}), axis=1).sort_values(by=['date','group'])\n",
        "\n",
        "visitorsAggregated = datesGroups.apply(lambda x: visitors[np.logical_and(visitors['date'] <= x['date'], visitors['group'] == x['group'])].agg({'date' : 'max', 'group' : 'max', 'visitors' : 'sum'}), axis=1).sort_values(by=['date','group'])\n",
        "\n",
        "cumulativeData = ordersAggregated.merge(visitorsAggregated, left_on=['date', 'group'], right_on=['date', 'group'])\n",
        "cumulativeData.columns = ['date', 'group', 'orders', 'buyers', 'revenue', 'visitors']\n",
        "\n",
        "print(cumulativeData.head(5))"
      ]
    },
    {
      "cell_type": "markdown",
      "id": "617f4592",
      "metadata": {
        "id": "617f4592"
      },
      "source": [
        "## График кумулятивной выручки по группам"
      ]
    },
    {
      "cell_type": "markdown",
      "id": "5a6d25f8",
      "metadata": {
        "id": "5a6d25f8"
      },
      "source": [
        "Построим график с кумулятивной выручкой по дням и группам"
      ]
    },
    {
      "cell_type": "code",
      "execution_count": null,
      "id": "a8e4b987",
      "metadata": {
        "id": "a8e4b987",
        "outputId": "2dbb7867-409e-4f59-e9af-5cca345ca177"
      },
      "outputs": [
        {
          "data": {
            "image/png": "[encoded data removed]",
            "text/plain": [
              "<Figure size 720x360 with 1 Axes>"
            ]
          },
          "metadata": {
            "needs_background": "light"
          },
          "output_type": "display_data"
        }
      ],
      "source": [
        "# датафрейм с кумулятивным количеством заказов и кумулятивной выручкой по дням в группе А\n",
        "cumulativeRevenueA = cumulativeData[cumulativeData['group']=='A'][['date','revenue', 'orders']]\n",
        "\n",
        "# датафрейм с кумулятивным количеством заказов и кумулятивной выручкой по дням в группе B\n",
        "cumulativeRevenueB = cumulativeData[cumulativeData['group']=='B'][['date','revenue', 'orders']]\n",
        "\n",
        "plt.figure(figsize=(10, 5))\n",
        "\n",
        "# Строим график выручки группы А\n",
        "plt.plot(cumulativeRevenueA['date'], cumulativeRevenueA['revenue'], label='A')\n",
        "\n",
        "# Строим график выручки группы B\n",
        "plt.plot(cumulativeRevenueB['date'], cumulativeRevenueB['revenue'], label='B')\n",
        "\n",
        "plt.title(\"Кумулятивная выручка по дням и группам A/B-тестирования\")\n",
        "plt.xlabel(\"Дата\")\n",
        "plt.ylabel(\"Кумулятивная выручка\")\n",
        "plt.grid()\n",
        "plt.legend()\n",
        "plt.show()"
      ]
    },
    {
      "cell_type": "markdown",
      "id": "33175a48",
      "metadata": {
        "id": "33175a48"
      },
      "source": [
        "Выручка почти равномерно увеличивается в течении всего теста до 2019-08-18, в эту дату было совершена покупка на сумму 1294500, что повлекло за собой резкий скачок в кумулятивной выручки у группы В."
      ]
    },
    {
      "cell_type": "markdown",
      "id": "b95b3f9d",
      "metadata": {
        "id": "b95b3f9d"
      },
      "source": [
        "## График кумулятивного среднего чека по группам"
      ]
    },
    {
      "cell_type": "code",
      "execution_count": null,
      "id": "db3dd939",
      "metadata": {
        "id": "db3dd939",
        "outputId": "442683a4-ff25-49d6-bee6-2f172327bce2"
      },
      "outputs": [
        {
          "data": {
            "image/png": "[encoded data removed]",
            "text/plain": [
              "<Figure size 720x360 with 1 Axes>"
            ]
          },
          "metadata": {
            "needs_background": "light"
          },
          "output_type": "display_data"
        }
      ],
      "source": [
        "plt.figure(figsize=(10, 5))\n",
        "plt.plot(cumulativeRevenueA['date'], cumulativeRevenueA['revenue']/cumulativeRevenueA['orders'], label='A')\n",
        "plt.plot(cumulativeRevenueB['date'], cumulativeRevenueB['revenue']/cumulativeRevenueB['orders'], label='B')\n",
        "plt.title(\"Кумулятивный средний чек по дням и группам A/B-тестирования\")\n",
        "plt.xlabel(\"Дата\")\n",
        "plt.ylabel(\"Кумулятивный средний чек\")\n",
        "plt.grid()\n",
        "plt.legend()\n",
        "plt.show()"
      ]
    },
    {
      "cell_type": "markdown",
      "id": "60b30ce3",
      "metadata": {
        "id": "60b30ce3"
      },
      "source": [
        "На графике видно, что средний чек в группе А установился, в то время как для В после резкого скочка он начал падать. Группе В нужно больше данных, чтобы прийти к реальному среднему чеку и установиться на его уровне."
      ]
    },
    {
      "cell_type": "markdown",
      "id": "66e9dbd3",
      "metadata": {
        "id": "66e9dbd3"
      },
      "source": [
        "## График относительного изменения кумулятивного среднего чека группы B к группе A"
      ]
    },
    {
      "cell_type": "markdown",
      "id": "f54e7b1b",
      "metadata": {
        "id": "f54e7b1b"
      },
      "source": [
        "Построим график относительного различия для среднего чека."
      ]
    },
    {
      "cell_type": "code",
      "execution_count": null,
      "id": "ed5bc898",
      "metadata": {
        "id": "ed5bc898",
        "outputId": "42003985-6959-449a-bedd-da2bdb891dbf"
      },
      "outputs": [
        {
          "data": {
            "image/png": "[encoded data removed]",
            "text/plain": [
              "<Figure size 720x360 with 1 Axes>"
            ]
          },
          "metadata": {
            "needs_background": "light"
          },
          "output_type": "display_data"
        }
      ],
      "source": [
        "# собираем данные в одном датафрейме\n",
        "mergedCumulativeRevenue = cumulativeRevenueA.merge(cumulativeRevenueB, left_on='date', right_on='date', how='left', suffixes=['A', 'B'])\n",
        "\n",
        "plt.figure(figsize=(10, 5))\n",
        "# cтроим отношение средних чеков\n",
        "plt.plot(mergedCumulativeRevenue['date'], (mergedCumulativeRevenue['revenueB']/mergedCumulativeRevenue['ordersB'])/(mergedCumulativeRevenue['revenueA']/mergedCumulativeRevenue['ordersA'])-1)\n",
        "\n",
        "\n",
        "plt.axhline(y=0, color='black', linestyle='--')\n",
        "plt.title(\"Изменения кумулятивного среднего чека группы B к группе A\")\n",
        "plt.xlabel(\"Дата\")\n",
        "plt.ylabel(\"Относительное изменение среднего чек группы B к группе A\")\n",
        "plt.grid()\n",
        "plt.show()"
      ]
    },
    {
      "cell_type": "markdown",
      "id": "17e46b51",
      "metadata": {
        "id": "17e46b51"
      },
      "source": [
        "В нескольких точках графика заметны большие скачки. Это значит что в данные дни оформлялось большое количество заказов или были крупные покупки. Средний чек группы В сильно превышает чек группы А, но в последние дни наблюдается спад."
      ]
    },
    {
      "cell_type": "markdown",
      "id": "2b8a8bd9",
      "metadata": {
        "id": "2b8a8bd9"
      },
      "source": [
        "## График кумулятивного среднего количества заказов на посетителя по группам"
      ]
    },
    {
      "cell_type": "markdown",
      "id": "6e29d99f",
      "metadata": {
        "id": "6e29d99f"
      },
      "source": [
        "Построим график кумулятивного среднего количества заказов на посетителя по группам"
      ]
    },
    {
      "cell_type": "code",
      "execution_count": null,
      "id": "bb6d185c",
      "metadata": {
        "id": "bb6d185c",
        "outputId": "c35a7f67-7ede-44bf-f635-ec5566992d67"
      },
      "outputs": [
        {
          "data": {
            "image/png": "[encoded data removed]",
            "text/plain": [
              "<Figure size 720x360 with 1 Axes>"
            ]
          },
          "metadata": {
            "needs_background": "light"
          },
          "output_type": "display_data"
        }
      ],
      "source": [
        "cumulativeVisitorsA = cumulativeData[cumulativeData['group']=='A'][['date','visitors', 'orders']]\n",
        "\n",
        "\n",
        "cumulativeVisitorsB = cumulativeData[cumulativeData['group']=='B'][['date','visitors', 'orders']]\n",
        "\n",
        "plt.figure(figsize=(10, 5))\n",
        "plt.plot(cumulativeVisitorsA['date'], cumulativeVisitorsA['orders']/cumulativeVisitorsA['visitors'], label='A')\n",
        "plt.plot(cumulativeVisitorsB['date'], cumulativeVisitorsB['orders']/cumulativeVisitorsB['visitors'], label='B')\n",
        "plt.title(\"График кумулятивного среднего количества заказов на посетителя по группам\")\n",
        "plt.xlabel(\"Дата\")\n",
        "plt.ylabel(\"Среднее количество заказов на посетителя\")\n",
        "plt.grid()\n",
        "plt.legend()\n",
        "plt.show()"
      ]
    },
    {
      "cell_type": "markdown",
      "id": "9ec4290e",
      "metadata": {
        "id": "9ec4290e"
      },
      "source": [
        "На графике видно, что среднее количество заказов в группе А составляет 0.026, у B оно больше составляет около 0.030. Среднее количество в группе А начало падать после 2019-08-05."
      ]
    },
    {
      "cell_type": "markdown",
      "id": "b7640ab7",
      "metadata": {
        "id": "b7640ab7"
      },
      "source": [
        "## График относительного изменения кумулятивного среднего количества заказов на посетителя группы B к группе A"
      ]
    },
    {
      "cell_type": "markdown",
      "id": "5329b770",
      "metadata": {
        "id": "5329b770"
      },
      "source": [
        "Построим график относительного изменения кумулятивного среднего количества заказов на посетителя группы B к группе A"
      ]
    },
    {
      "cell_type": "code",
      "execution_count": null,
      "id": "f4322902",
      "metadata": {
        "id": "f4322902",
        "outputId": "e3835f9c-ccb2-4bc5-9e5d-1e73b0d8e935"
      },
      "outputs": [
        {
          "data": {
            "image/png": "[encoded data removed]",
            "text/plain": [
              "<Figure size 720x360 with 1 Axes>"
            ]
          },
          "metadata": {
            "needs_background": "light"
          },
          "output_type": "display_data"
        }
      ],
      "source": [
        "# собираем данные в одном датафрейме\n",
        "mergedCumulativeVisitors = cumulativeVisitorsA.merge(cumulativeVisitorsB, left_on='date', right_on='date', how='left', suffixes=['A', 'B'])\n",
        "\n",
        "plt.figure(figsize=(10, 5))\n",
        "# cтроим отношение средних чеков\n",
        "plt.plot(mergedCumulativeVisitors['date'], (mergedCumulativeVisitors['visitorsB']/mergedCumulativeVisitors['ordersB'])/(mergedCumulativeVisitors['visitorsA']/mergedCumulativeVisitors['ordersA'])-1)\n",
        "\n",
        "\n",
        "plt.axhline(y=0, color='black', linestyle='--')\n",
        "plt.title(\"Изменения кумулятивного среднего количества заказов группы B к группе A\")\n",
        "plt.xlabel(\"Дата\")\n",
        "plt.ylabel(\"Относительное изменение среднего количества заказов B к группе A\")\n",
        "plt.grid()\n",
        "plt.show()"
      ]
    },
    {
      "cell_type": "markdown",
      "id": "d42fd0d5",
      "metadata": {
        "id": "d42fd0d5"
      },
      "source": [
        "Группа B стабильно хуже группы A в относительнои изменении среднего количества заказов, только в самом начале теста был скачок, в дальнейшем он установился и не поднимается."
      ]
    },
    {
      "cell_type": "markdown",
      "id": "5d9a7c47",
      "metadata": {
        "id": "5d9a7c47"
      },
      "source": [
        "## Точечный график количества заказов по пользователям"
      ]
    },
    {
      "cell_type": "markdown",
      "id": "fe3a2371",
      "metadata": {
        "id": "fe3a2371"
      },
      "source": [
        "Подсчитаем количество заказов по пользователям"
      ]
    },
    {
      "cell_type": "code",
      "execution_count": null,
      "id": "64e890dc",
      "metadata": {
        "scrolled": false,
        "id": "64e890dc"
      },
      "outputs": [],
      "source": [
        "ordersByUsers = (\n",
        "    orders.groupby('visitor_id', as_index=False)\n",
        "    .agg({'transaction_id': 'nunique'})\n",
        ")\n",
        "\n",
        "ordersByUsers.columns = ['user_id', 'orders']"
      ]
    },
    {
      "cell_type": "code",
      "execution_count": null,
      "id": "865b0593",
      "metadata": {
        "id": "865b0593",
        "outputId": "b085148a-9dab-4c76-fd2b-e7ef3cec8e9d"
      },
      "outputs": [
        {
          "data": {
            "image/png": "[encoded data removed]",
            "text/plain": [
              "<Figure size 720x360 with 1 Axes>"
            ]
          },
          "metadata": {
            "needs_background": "light"
          },
          "output_type": "display_data"
        }
      ],
      "source": [
        "plt.figure(figsize=(10, 5))\n",
        "plt.hist(ordersByUsers['orders'])\n",
        "plt.title(\"Количества заказов по пользователям\")\n",
        "plt.xlabel(\"Количество заказов на одного пользователя\")\n",
        "plt.ylabel(\"Количество заказов\")\n",
        "plt.grid()\n",
        "plt.show()"
      ]
    },
    {
      "cell_type": "code",
      "execution_count": null,
      "id": "46561359",
      "metadata": {
        "id": "46561359",
        "outputId": "161c4d39-e2f6-43eb-e578-afd67ccb3efd"
      },
      "outputs": [
        {
          "data": {
            "text/plain": [
              "1    937\n",
              "2     29\n",
              "3      7\n",
              "Name: orders, dtype: int64"
            ]
          },
          "metadata": {},
          "output_type": "display_data"
        },
        {
          "data": {
            "image/png": "[encoded data removed]",
            "text/plain": [
              "<Figure size 720x360 with 1 Axes>"
            ]
          },
          "metadata": {
            "needs_background": "light"
          },
          "output_type": "display_data"
        }
      ],
      "source": [
        "display(ordersByUsers['orders'].value_counts())\n",
        "plt.figure(figsize=(10, 5))\n",
        "x_values = pd.Series(range(0,len(ordersByUsers['orders'])))\n",
        "plt.scatter(x_values,ordersByUsers['orders'])\n",
        "plt.title(\"Количества заказов по пользователям\")\n",
        "plt.xlabel(\"Пользователи\")\n",
        "plt.ylabel(\"Количество заказов\")\n",
        "plt.show()"
      ]
    },
    {
      "cell_type": "markdown",
      "id": "3984cf7b",
      "metadata": {
        "id": "3984cf7b"
      },
      "source": [
        "В основном пользователи совершали одну покупку (937 человек), всего 29 человека совершли две покупки. Можно сделать вывод, что люди редко совершают более одной покупки в месяц."
      ]
    },
    {
      "cell_type": "markdown",
      "id": "fbd5e880",
      "metadata": {
        "id": "fbd5e880"
      },
      "source": [
        "## 95-й и 99-й перцентили количества заказов на пользователя"
      ]
    },
    {
      "cell_type": "markdown",
      "id": "eb5b3b14",
      "metadata": {
        "id": "eb5b3b14"
      },
      "source": [
        "Посчитаем 95-й и 99-й перцентили количества заказов на пользователя. Выберим границу для определения аномальных пользователей."
      ]
    },
    {
      "cell_type": "code",
      "execution_count": null,
      "id": "9b691bf7",
      "metadata": {
        "id": "9b691bf7",
        "outputId": "d8d6b5ce-e7c8-4e3f-af7c-c842c2ec611d"
      },
      "outputs": [
        {
          "name": "stdout",
          "output_type": "stream",
          "text": [
            "[1. 1. 2.]\n"
          ]
        }
      ],
      "source": [
        "print(np.percentile(ordersByUsers['orders'], [90, 95, 99]))"
      ]
    },
    {
      "cell_type": "markdown",
      "id": "ed58775a",
      "metadata": {
        "id": "ed58775a"
      },
      "source": [
        "Не более 5% пользователей оформляли больше 1 заказов. За верхнюю границу числа заказов выбираем 1 заказ, это позволит нам отсеять аномальных пользователей."
      ]
    },
    {
      "cell_type": "markdown",
      "id": "9b3ccd45",
      "metadata": {
        "id": "9b3ccd45"
      },
      "source": [
        "## Точечный график стоимостей заказов"
      ]
    },
    {
      "cell_type": "markdown",
      "id": "90a95a9b",
      "metadata": {
        "id": "90a95a9b"
      },
      "source": [
        "Построим точечный график стоимостей заказов"
      ]
    },
    {
      "cell_type": "code",
      "execution_count": null,
      "id": "453aaf96",
      "metadata": {
        "id": "453aaf96",
        "outputId": "a346c68b-1d2b-4c1d-e15b-27d564555249"
      },
      "outputs": [
        {
          "data": {
            "image/png": "[encoded data removed]",
            "text/plain": [
              "<Figure size 720x360 with 1 Axes>"
            ]
          },
          "metadata": {
            "needs_background": "light"
          },
          "output_type": "display_data"
        }
      ],
      "source": [
        "plt.figure(figsize=(10, 5))\n",
        "plt.hist(orders['revenue'])\n",
        "plt.title(\"График стоимостей заказов\")\n",
        "plt.xlabel(\"Стоимость заказа\")\n",
        "plt.ylabel(\"Количество заказов с данной стоимостью\")\n",
        "plt.grid()\n",
        "plt.show()"
      ]
    },
    {
      "cell_type": "markdown",
      "id": "14141828",
      "metadata": {
        "id": "14141828"
      },
      "source": [
        "Заказ стоимостью 1294500, не позволяет построить график исключим его и построим новый новый"
      ]
    },
    {
      "cell_type": "code",
      "execution_count": null,
      "id": "5e26b7be",
      "metadata": {
        "id": "5e26b7be",
        "outputId": "35ae8a60-b2b5-448c-c663-f0b54344356f"
      },
      "outputs": [
        {
          "data": {
            "image/png": "[encoded data removed]",
            "text/plain": [
              "<Figure size 720x360 with 1 Axes>"
            ]
          },
          "metadata": {
            "needs_background": "light"
          },
          "output_type": "display_data"
        }
      ],
      "source": [
        "plt.figure(figsize=(10, 5))\n",
        "plt.hist(orders.query('revenue!=1294500')['revenue'])\n",
        "plt.title(\"График стоимостей заказов\")\n",
        "plt.xlabel(\"Стоимость заказа\")\n",
        "plt.ylabel(\"Количество заказов с данной стоимостью\")\n",
        "plt.grid()\n",
        "plt.show()"
      ]
    },
    {
      "cell_type": "markdown",
      "id": "22814d33",
      "metadata": {
        "id": "22814d33"
      },
      "source": [
        "Большинство заказов стоит меньше 25000, но бывают и исключения в 50000, 75000 и даже 190000"
      ]
    },
    {
      "cell_type": "code",
      "execution_count": null,
      "id": "ad5260ff",
      "metadata": {
        "id": "ad5260ff",
        "outputId": "ccb64976-1ded-48fe-949e-52f7c97c4230"
      },
      "outputs": [
        {
          "data": {
            "image/png": "[encoded data removed]",
            "text/plain": [
              "<Figure size 720x360 with 1 Axes>"
            ]
          },
          "metadata": {
            "needs_background": "light"
          },
          "output_type": "display_data"
        }
      ],
      "source": [
        "x_values = pd.Series(range(0,len(orders.query('revenue!=1294500')['revenue'])))\n",
        "plt.figure(figsize=(10, 5))\n",
        "plt.scatter(x_values, orders.query('revenue!=1294500')['revenue'])\n",
        "plt.title(\"Точечный график стоимости заказов\")\n",
        "plt.xlabel(\"Пользователи\")\n",
        "plt.ylabel(\"Стоимость заказов\")\n",
        "plt.show()"
      ]
    },
    {
      "cell_type": "markdown",
      "id": "27ae48f0",
      "metadata": {
        "id": "27ae48f0"
      },
      "source": [
        "По графику видно, что большая часть стоимости заказов распологается до 25000, но бывают и аномально крупные заказы."
      ]
    },
    {
      "cell_type": "markdown",
      "id": "3e15d36e",
      "metadata": {
        "id": "3e15d36e"
      },
      "source": [
        "## Посчитать 95-й и 99-й перцентили стоимости заказов"
      ]
    },
    {
      "cell_type": "markdown",
      "id": "43615ee8",
      "metadata": {
        "id": "43615ee8"
      },
      "source": [
        "Посчитаем 95-й и 99-й перцентили стоимости заказов. Выберим границу для определения аномальных пользователей."
      ]
    },
    {
      "cell_type": "code",
      "execution_count": null,
      "id": "0b11cc1b",
      "metadata": {
        "id": "0b11cc1b",
        "outputId": "e10c82d0-d59b-454d-bf78-4063032ba472"
      },
      "outputs": [
        {
          "name": "stdout",
          "output_type": "stream",
          "text": [
            "[17990. 26785. 53904.]\n"
          ]
        }
      ],
      "source": [
        "print(np.percentile(orders['revenue'], [90, 95, 99]))"
      ]
    },
    {
      "cell_type": "markdown",
      "id": "c7d46bb2",
      "metadata": {
        "id": "c7d46bb2"
      },
      "source": [
        "Не более 5% заказов дороже 26785 и не более 1% 53904. За верхнюю границу стоимости заказов выбираем 26785, это позволит нам отсеять аномальных пользователей."
      ]
    },
    {
      "cell_type": "markdown",
      "id": "954c11c4",
      "metadata": {
        "id": "954c11c4"
      },
      "source": [
        "## Cтатистическая значимость различий в среднем количестве заказов на посетителя между группами по «сырым» данным"
      ]
    },
    {
      "cell_type": "markdown",
      "id": "ae5088b9",
      "metadata": {
        "id": "ae5088b9"
      },
      "source": [
        "Для проверки гипотез будет выбран U-критерий Манна-Уитни, так как в данных имеются большие выбросы (сумма заказов)."
      ]
    },
    {
      "cell_type": "markdown",
      "id": "144acdb9",
      "metadata": {
        "id": "144acdb9"
      },
      "source": [
        "Сформулируем гипотезы. Нулевая: различий в среднем количестве заказов на посетителя между группами нет. Альтернативная: различия в среднем заказе на посетителя между группами есть."
      ]
    },
    {
      "cell_type": "markdown",
      "id": "f2f952b0",
      "metadata": {
        "id": "f2f952b0"
      },
      "source": [
        "Посчитаем количество заказов, суммарную выручку, суммарное число заказов, кумулятивную выручку, кумулятивное количество заказов, количество пользователей и кумулятивное количество пользователей по группам и в разрезе даты."
      ]
    },
    {
      "cell_type": "code",
      "execution_count": null,
      "id": "60ecce70",
      "metadata": {
        "scrolled": true,
        "id": "60ecce70"
      },
      "outputs": [],
      "source": [
        "visitorsADaily = visitors[visitors['group'] == 'A'][['date', 'visitors']]\n",
        "visitorsADaily.columns = ['date', 'visitorsPerDateA']\n",
        "\n",
        "visitorsACummulative = visitorsADaily.apply(\n",
        "    lambda x: visitorsADaily[visitorsADaily['date'] <= x['date']].agg(\n",
        "        {'date': 'max', 'visitorsPerDateA': 'sum'}\n",
        "    ),\n",
        "    axis=1,\n",
        ")\n",
        "visitorsACummulative.columns = ['date', 'visitorsCummulativeA']\n",
        "\n",
        "visitorsBDaily = visitors[visitors['group'] == 'B'][['date', 'visitors']]\n",
        "visitorsBDaily.columns = ['date', 'visitorsPerDateB']\n",
        "\n",
        "visitorsBCummulative = visitorsBDaily.apply(\n",
        "    lambda x: visitorsBDaily[visitorsBDaily['date'] <= x['date']].agg(\n",
        "        {'date': 'max', 'visitorsPerDateB': 'sum'}\n",
        "    ),\n",
        "    axis=1,\n",
        ")\n",
        "visitorsBCummulative.columns = ['date', 'visitorsCummulativeB']\n",
        "\n",
        "ordersADaily = (\n",
        "    orders[orders['group'] == 'A'][['date', 'transaction_id', 'visitor_id', 'revenue']]\n",
        "    .groupby('date', as_index=False)\n",
        "    .agg({'transaction_id': pd.Series.nunique, 'revenue': 'sum'})\n",
        ")\n",
        "ordersADaily.columns = ['date', 'ordersPerDateA', 'revenuePerDateA']\n",
        "\n",
        "ordersACummulative = ordersADaily.apply(\n",
        "    lambda x: ordersADaily[ordersADaily['date'] <= x['date']].agg(\n",
        "        {'date': 'max', 'ordersPerDateA': 'sum', 'revenuePerDateA': 'sum'}\n",
        "    ),\n",
        "    axis=1,\n",
        ").sort_values(by=['date'])\n",
        "ordersACummulative.columns = [\n",
        "    'date',\n",
        "    'ordersCummulativeA',\n",
        "    'revenueCummulativeA',\n",
        "]\n",
        "\n",
        "ordersBDaily = (\n",
        "    orders[orders['group'] == 'B'][['date', 'transaction_id', 'visitor_id', 'revenue']]\n",
        "    .groupby('date', as_index=False)\n",
        "    .agg({'transaction_id': pd.Series.nunique, 'revenue': 'sum'})\n",
        ")\n",
        "ordersBDaily.columns = ['date', 'ordersPerDateB', 'revenuePerDateB']\n",
        "\n",
        "ordersBCummulative = ordersBDaily.apply(\n",
        "    lambda x: ordersBDaily[ordersBDaily['date'] <= x['date']].agg(\n",
        "        {'date': 'max', 'ordersPerDateB': 'sum', 'revenuePerDateB': 'sum'}\n",
        "    ),\n",
        "    axis=1,\n",
        ").sort_values(by=['date'])\n",
        "ordersBCummulative.columns = [\n",
        "    'date',\n",
        "    'ordersCummulativeB',\n",
        "    'revenueCummulativeB',\n",
        "]"
      ]
    },
    {
      "cell_type": "markdown",
      "id": "3457a514",
      "metadata": {
        "id": "3457a514"
      },
      "source": [
        "Создадим переменные ordersByUsersA и ordersByUsersB со столбцами visitor_id и transaction_id. В них для пользователей, которые заказывали хотя бы 1 раз, укажем число совершённых заказов."
      ]
    },
    {
      "cell_type": "code",
      "execution_count": null,
      "id": "be8969d3",
      "metadata": {
        "scrolled": true,
        "id": "be8969d3",
        "outputId": "72808a77-1b21-4bf5-f585-4fce179dcfd9"
      },
      "outputs": [
        {
          "data": {
            "text/html": [
              "<div>\n",
              "<style scoped>\n",
              "    .dataframe tbody tr th:only-of-type {\n",
              "        vertical-align: middle;\n",
              "    }\n",
              "\n",
              "    .dataframe tbody tr th {\n",
              "        vertical-align: top;\n",
              "    }\n",
              "\n",
              "    .dataframe thead th {\n",
              "        text-align: right;\n",
              "    }\n",
              "</style>\n",
              "<table border=\"1\" class=\"dataframe\">\n",
              "  <thead>\n",
              "    <tr style=\"text-align: right;\">\n",
              "      <th></th>\n",
              "      <th>visitor_id</th>\n",
              "      <th>orders</th>\n",
              "    </tr>\n",
              "  </thead>\n",
              "  <tbody>\n",
              "    <tr>\n",
              "      <th>0</th>\n",
              "      <td>11685486</td>\n",
              "      <td>1</td>\n",
              "    </tr>\n",
              "    <tr>\n",
              "      <th>1</th>\n",
              "      <td>54447517</td>\n",
              "      <td>1</td>\n",
              "    </tr>\n",
              "    <tr>\n",
              "      <th>2</th>\n",
              "      <td>66685450</td>\n",
              "      <td>1</td>\n",
              "    </tr>\n",
              "    <tr>\n",
              "      <th>3</th>\n",
              "      <td>78758296</td>\n",
              "      <td>1</td>\n",
              "    </tr>\n",
              "    <tr>\n",
              "      <th>4</th>\n",
              "      <td>85103373</td>\n",
              "      <td>1</td>\n",
              "    </tr>\n",
              "  </tbody>\n",
              "</table>\n",
              "</div>"
            ],
            "text/plain": [
              "   visitor_id  orders\n",
              "0    11685486       1\n",
              "1    54447517       1\n",
              "2    66685450       1\n",
              "3    78758296       1\n",
              "4    85103373       1"
            ]
          },
          "metadata": {},
          "output_type": "display_data"
        },
        {
          "name": "stdout",
          "output_type": "stream",
          "text": [
            "\n"
          ]
        },
        {
          "data": {
            "text/html": [
              "<div>\n",
              "<style scoped>\n",
              "    .dataframe tbody tr th:only-of-type {\n",
              "        vertical-align: middle;\n",
              "    }\n",
              "\n",
              "    .dataframe tbody tr th {\n",
              "        vertical-align: top;\n",
              "    }\n",
              "\n",
              "    .dataframe thead th {\n",
              "        text-align: right;\n",
              "    }\n",
              "</style>\n",
              "<table border=\"1\" class=\"dataframe\">\n",
              "  <thead>\n",
              "    <tr style=\"text-align: right;\">\n",
              "      <th></th>\n",
              "      <th>visitor_id</th>\n",
              "      <th>orders</th>\n",
              "    </tr>\n",
              "  </thead>\n",
              "  <tbody>\n",
              "    <tr>\n",
              "      <th>0</th>\n",
              "      <td>5114589</td>\n",
              "      <td>1</td>\n",
              "    </tr>\n",
              "    <tr>\n",
              "      <th>1</th>\n",
              "      <td>6958315</td>\n",
              "      <td>1</td>\n",
              "    </tr>\n",
              "    <tr>\n",
              "      <th>2</th>\n",
              "      <td>39475350</td>\n",
              "      <td>1</td>\n",
              "    </tr>\n",
              "    <tr>\n",
              "      <th>3</th>\n",
              "      <td>47206413</td>\n",
              "      <td>1</td>\n",
              "    </tr>\n",
              "    <tr>\n",
              "      <th>4</th>\n",
              "      <td>48147722</td>\n",
              "      <td>1</td>\n",
              "    </tr>\n",
              "  </tbody>\n",
              "</table>\n",
              "</div>"
            ],
            "text/plain": [
              "   visitor_id  orders\n",
              "0     5114589       1\n",
              "1     6958315       1\n",
              "2    39475350       1\n",
              "3    47206413       1\n",
              "4    48147722       1"
            ]
          },
          "metadata": {},
          "output_type": "display_data"
        }
      ],
      "source": [
        "ordersByUsersA = (\n",
        "    orders[orders['group'] == 'A']\n",
        "    .groupby('visitor_id', as_index=False)\n",
        "    .agg({'transaction_id': pd.Series.nunique})\n",
        ")\n",
        "ordersByUsersA.columns = ['visitor_id', 'orders']\n",
        "\n",
        "ordersByUsersB = (\n",
        "    orders[orders['group'] == 'B']\n",
        "    .groupby('visitor_id', as_index=False)\n",
        "    .agg({'transaction_id': pd.Series.nunique})\n",
        ")\n",
        "ordersByUsersB.columns = ['visitor_id', 'orders']\n",
        "\n",
        "display(ordersByUsersA.head())\n",
        "print()\n",
        "display(ordersByUsersB.head())"
      ]
    },
    {
      "cell_type": "markdown",
      "id": "4ebd2ce2",
      "metadata": {
        "id": "4ebd2ce2"
      },
      "source": [
        "Объявим переменные sampleA и sampleB, в которых пользователям из разных групп будет соответствовать количество заказов. Тем, кто ничего не заказал, будут соответствовать нули. Проверим кретерием Манна-Уитни"
      ]
    },
    {
      "cell_type": "code",
      "execution_count": null,
      "id": "d24d797f",
      "metadata": {
        "id": "d24d797f",
        "outputId": "13deb5f2-6824-4861-fa88-493bae83587b"
      },
      "outputs": [
        {
          "name": "stdout",
          "output_type": "stream",
          "text": [
            "p-value: 0.011\n",
            "Разница между группами по среднему количеству заказов: 0.160\n"
          ]
        }
      ],
      "source": [
        "sampleA = pd.concat(\n",
        "    [\n",
        "        ordersByUsersA['orders'],\n",
        "        pd.Series(\n",
        "            0,\n",
        "            index=np.arange(\n",
        "                visitors.loc[visitors['group']=='A']['visitors'].sum() - len(ordersByUsersA['orders'])\n",
        "            ),\n",
        "            name='orders',\n",
        "        ),\n",
        "    ],\n",
        "    axis=0,\n",
        ")\n",
        "\n",
        "sampleB = pd.concat(\n",
        "    [\n",
        "        ordersByUsersB['orders'],\n",
        "        pd.Series(\n",
        "            0,\n",
        "            index=np.arange(\n",
        "                visitors.loc[visitors['group']=='B']['visitors'].sum() - len(ordersByUsersB['orders'])\n",
        "            ),\n",
        "            name='orders',\n",
        "        ),\n",
        "    ],\n",
        "    axis=0,\n",
        ")\n",
        "\n",
        "print('p-value:',\"{0:.3f}\".format(st.mannwhitneyu(sampleA, sampleB)[1]))\n",
        "\n",
        "print('Разница между группами по среднему количеству заказов:',\"{0:.3f}\".format(sampleB.mean() / sampleA.mean() - 1))"
      ]
    },
    {
      "cell_type": "markdown",
      "id": "addc89ac",
      "metadata": {
        "id": "addc89ac"
      },
      "source": [
        "Первое число p-value= 0.011, оно меньше 0.05. Значит, нулевую гипотезу о том, что статистически значимых различий в среднем числе заказов между группами нет, отвергаем. Относительный прирост среднего числа заказов на посетителя группы B равен 16%"
      ]
    },
    {
      "cell_type": "markdown",
      "id": "485ffe99",
      "metadata": {
        "id": "485ffe99"
      },
      "source": [
        "## Cтатистическая значимость различий в среднем чеке заказа между группами по «сырым» данным"
      ]
    },
    {
      "cell_type": "markdown",
      "id": "b15f3d37",
      "metadata": {
        "id": "b15f3d37"
      },
      "source": [
        "Нулевая гипотеза: различий в среднем чеке между группами нет. Альтернативная гипотеза: различия в среднем чеке между группами есть."
      ]
    },
    {
      "cell_type": "code",
      "execution_count": null,
      "id": "f3ce25bf",
      "metadata": {
        "id": "f3ce25bf",
        "outputId": "b5822c2c-b64d-4dac-cdd6-eb71713d4926"
      },
      "outputs": [
        {
          "name": "stdout",
          "output_type": "stream",
          "text": [
            "p-value: 0.829\n",
            "Разница между группами по среднему чеку заказа: 0.287\n"
          ]
        }
      ],
      "source": [
        "print('p-value:','{0:.3f}'.format(st.mannwhitneyu(orders[orders['group']=='A']['revenue'], orders[orders['group']=='B']['revenue'])[1]))\n",
        "print('Разница между группами по среднему чеку заказа:','{0:.3f}'.format(orders[orders['group']=='B']['revenue'].mean()/orders[orders['group']=='A']['revenue'].mean()-1))"
      ]
    },
    {
      "cell_type": "markdown",
      "id": "e84d8f29",
      "metadata": {
        "id": "e84d8f29"
      },
      "source": [
        "P-value больше 0.05. Значит, нет причин отвергать нулевую гипотезу. Средний чек группы В значительно выше среднего чека группы А."
      ]
    },
    {
      "cell_type": "markdown",
      "id": "a0d233b0",
      "metadata": {
        "id": "a0d233b0"
      },
      "source": [
        "## Статистическая значимость различий в среднем количестве заказов на посетителя между группами по «очищенным» данным"
      ]
    },
    {
      "cell_type": "markdown",
      "id": "8085077f",
      "metadata": {
        "id": "8085077f"
      },
      "source": [
        "На основании ранее проведенного анализа примем за аномальных пользователей тех, кто совершил больше 1 заказа  или совершил заказ дороже 26785. Сделаем срезы пользователей и объединим их в таблице abnormalUsers."
      ]
    },
    {
      "cell_type": "code",
      "execution_count": null,
      "id": "52dd4dc5",
      "metadata": {
        "id": "52dd4dc5",
        "outputId": "77d665c9-14d5-4b7e-f306-b7ef609019d1"
      },
      "outputs": [
        {
          "name": "stdout",
          "output_type": "stream",
          "text": [
            "568     113298937\n",
            "1099    148427295\n",
            "928     204675465\n",
            "33      249864742\n",
            "684     358944393\n",
            "Name: visitor_id, dtype: int64\n",
            "Количество аномальных пользователей: 86\n",
            "Количество аномальных в процентах от общего числа уникальных пользователей: 8.8%\n"
          ]
        }
      ],
      "source": [
        "usersWithManyOrders = pd.concat(\n",
        "    [\n",
        "        ordersByUsersA[ordersByUsersA['orders'] > np.percentile(ordersByUsers['orders'], 95)]['visitor_id'],\n",
        "        ordersByUsersB[ordersByUsersB['orders'] > np.percentile(ordersByUsers['orders'], 95)]['visitor_id'],\n",
        "    ],\n",
        "    axis=0,\n",
        ")\n",
        "usersWithExpensiveOrders = orders[orders['revenue'] > np.percentile(orders['revenue'], 95)]['visitor_id']\n",
        "abnormalUsers = (\n",
        "    pd.concat([usersWithManyOrders, usersWithExpensiveOrders], axis=0)\n",
        "    .drop_duplicates()\n",
        "    .sort_values()\n",
        ")\n",
        "print(abnormalUsers.head(5))\n",
        "print('Количество аномальных пользователей:',abnormalUsers.shape[0])\n",
        "print('Количество аномальных в процентах от общего числа уникальных пользователей:',f\"{abnormalUsers.shape[0] / orders['visitor_id'].nunique():.1%}\")"
      ]
    },
    {
      "cell_type": "markdown",
      "id": "2c6e5624",
      "metadata": {
        "id": "2c6e5624"
      },
      "source": [
        "Всего 86 аномальных пользователей, что составляет 8.8% от общего количества уникальных пользователей. Посчитаем статистическую значимость различий в среднем количестве заказов между группами теста по очищенным данным"
      ]
    },
    {
      "cell_type": "code",
      "execution_count": null,
      "id": "412ed107",
      "metadata": {
        "id": "412ed107",
        "outputId": "4e79b50c-a3aa-46d4-aee9-b0caa00a4430"
      },
      "outputs": [
        {
          "name": "stdout",
          "output_type": "stream",
          "text": [
            "p-value: 0.016\n",
            "Разница между группами по среднему количеству заказов: 0.174\n"
          ]
        }
      ],
      "source": [
        "sampleAFiltered = pd.concat(\n",
        "    [\n",
        "        ordersByUsersA[\n",
        "            np.logical_not(ordersByUsersA['visitor_id'].isin(abnormalUsers))\n",
        "        ]['orders'],\n",
        "        pd.Series(\n",
        "            0,\n",
        "            index=np.arange(\n",
        "                visitors.loc[visitors['group']=='A']['visitors'].sum() - len(ordersByUsersA['orders'])\n",
        "            ),\n",
        "            name='orders',\n",
        "        ),\n",
        "    ],\n",
        "    axis=0,\n",
        ")\n",
        "\n",
        "sampleBFiltered = pd.concat(\n",
        "    [\n",
        "        ordersByUsersB[\n",
        "            np.logical_not(ordersByUsersB['visitor_id'].isin(abnormalUsers))\n",
        "        ]['orders'],\n",
        "        pd.Series(\n",
        "            0,\n",
        "            index=np.arange(\n",
        "                visitors.loc[visitors['group']=='B']['visitors'].sum() - len(ordersByUsersB['orders'])\n",
        "            ),\n",
        "            name='orders',\n",
        "        ),\n",
        "    ],\n",
        "    axis=0,\n",
        ")\n",
        "\n",
        "print('p-value:','{0:.3f}'.format(st.mannwhitneyu(sampleAFiltered, sampleBFiltered)[1]))\n",
        "print('Разница между группами по среднему количеству заказов:','{0:.3f}'.format(sampleBFiltered.mean()/sampleAFiltered.mean()-1))"
      ]
    },
    {
      "cell_type": "markdown",
      "id": "875dc2a0",
      "metadata": {
        "id": "875dc2a0"
      },
      "source": [
        "Результаты по среднему количеству заказов практически не изменились. P-value= 0.016, Относительный прирост числа заказов на посетителя группы B увеличился и стал 17.4%"
      ]
    },
    {
      "cell_type": "markdown",
      "id": "cea89690",
      "metadata": {
        "id": "cea89690"
      },
      "source": [
        "## Статистическая значимость различий в среднем чеке заказа между группами по «очищенным» данным"
      ]
    },
    {
      "cell_type": "code",
      "execution_count": null,
      "id": "988ad5ee",
      "metadata": {
        "scrolled": true,
        "id": "988ad5ee",
        "outputId": "932f20bf-3e16-4f69-ebbf-ccd5ca1d22ab"
      },
      "outputs": [
        {
          "name": "stdout",
          "output_type": "stream",
          "text": [
            "p-value: 0.727\n",
            "Разница между группами по среднему чеку заказа: -0.034\n"
          ]
        }
      ],
      "source": [
        "print('p-value:',\n",
        "    '{0:.3f}'.format(\n",
        "        st.mannwhitneyu(\n",
        "            orders[\n",
        "                np.logical_and(\n",
        "                    orders['group'] == 'A',\n",
        "                    np.logical_not(orders['visitor_id'].isin(abnormalUsers)),\n",
        "                )\n",
        "            ]['revenue'],\n",
        "            orders[\n",
        "                np.logical_and(\n",
        "                    orders['group'] == 'B',\n",
        "                    np.logical_not(orders['visitor_id'].isin(abnormalUsers)),\n",
        "                )\n",
        "            ]['revenue'],\n",
        "        )[1]\n",
        "    )\n",
        ")\n",
        "\n",
        "print('Разница между группами по среднему чеку заказа:',\n",
        "    \"{0:.3f}\".format(\n",
        "        orders[\n",
        "            np.logical_and(\n",
        "                orders['group'] == 'B',\n",
        "                np.logical_not(orders['visitor_id'].isin(abnormalUsers)),\n",
        "            )\n",
        "        ]['revenue'].mean()\n",
        "        / orders[\n",
        "            np.logical_and(\n",
        "                orders['group'] == 'A',\n",
        "                np.logical_not(orders['visitor_id'].isin(abnormalUsers)),\n",
        "            )\n",
        "        ]['revenue'].mean()\n",
        "        - 1\n",
        "    )\n",
        ")"
      ]
    },
    {
      "cell_type": "markdown",
      "id": "5821d54f",
      "metadata": {
        "id": "5821d54f"
      },
      "source": [
        "P-value уменьшился, разница между сегментами значительно сократилась с 28% до -0.3%. То есть средний чек группы В стал меньше среднего чека группы А."
      ]
    },
    {
      "cell_type": "markdown",
      "id": "e2a551ff",
      "metadata": {
        "id": "e2a551ff"
      },
      "source": [
        "# Вывод"
      ]
    },
    {
      "cell_type": "markdown",
      "id": "a7dfb8cd",
      "metadata": {
        "id": "a7dfb8cd"
      },
      "source": [
        "В ходе проведения работы была приоритизирована гипотеза \"Добавить форму подписки на все основные страницы, чтобы собрать базу клиентов для email-рассылок\", так как у неё самый высокий приоритет по фреймворку RICE, который учитывал оценку охвата аудитории.\n",
        "\n",
        "Для неё был проведен А/В тест, в ходе которого было выявленно что, группа В имеет прирост в количестве заказов на посетителя на 17.4% больше группы А, но средний чек заказа у группы А больше на 0.3%, группа В пренисла суммарной выручке 2345477, что на  296602(~14.4%) больше группы А.\n",
        "\n",
        "Исходя из эти данных можно сказать, что можно остановить тест, и внедрять новый функционал по добавлению формы подписки на все основные страницы, чтобы собрать базу клиентов для email-рассылок, так как он показал хорошие результаты.\n",
        "\n",
        "В качестве рекомендации, нужно попытаться увеличить средний чек группы В, что позволит получать больше прибыли."
      ]
    }
  ],
  "metadata": {
    "ExecuteTimeLog": [
      {
        "duration": 1267,
        "start_time": "2023-03-22T07:09:28.765Z"
      },
      {
        "duration": 358,
        "start_time": "2023-03-22T07:09:30.034Z"
      },
      {
        "duration": 17,
        "start_time": "2023-03-22T07:09:30.395Z"
      },
      {
        "duration": 66,
        "start_time": "2023-03-22T07:09:30.415Z"
      },
      {
        "duration": 44,
        "start_time": "2023-03-22T07:09:30.484Z"
      },
      {
        "duration": 43,
        "start_time": "2023-03-22T07:09:30.530Z"
      },
      {
        "duration": 51,
        "start_time": "2023-03-22T07:09:30.575Z"
      },
      {
        "duration": 62,
        "start_time": "2023-03-22T07:09:30.628Z"
      },
      {
        "duration": 54,
        "start_time": "2023-03-22T07:09:30.691Z"
      },
      {
        "duration": 38,
        "start_time": "2023-03-22T07:09:30.749Z"
      },
      {
        "duration": 51,
        "start_time": "2023-03-22T07:09:30.789Z"
      },
      {
        "duration": 51,
        "start_time": "2023-03-22T07:09:30.841Z"
      },
      {
        "duration": 36,
        "start_time": "2023-03-22T07:09:30.894Z"
      },
      {
        "duration": 38,
        "start_time": "2023-03-22T07:09:30.932Z"
      },
      {
        "duration": 36,
        "start_time": "2023-03-22T07:09:30.971Z"
      },
      {
        "duration": 48,
        "start_time": "2023-03-22T07:09:31.009Z"
      },
      {
        "duration": 39,
        "start_time": "2023-03-22T07:09:31.059Z"
      },
      {
        "duration": 41,
        "start_time": "2023-03-22T07:09:31.100Z"
      },
      {
        "duration": 16,
        "start_time": "2023-03-22T07:09:31.143Z"
      },
      {
        "duration": 28,
        "start_time": "2023-03-22T07:09:31.161Z"
      },
      {
        "duration": 35,
        "start_time": "2023-03-22T07:09:31.190Z"
      },
      {
        "duration": 23,
        "start_time": "2023-03-22T07:09:31.227Z"
      },
      {
        "duration": 33,
        "start_time": "2023-03-22T07:09:31.251Z"
      },
      {
        "duration": 34,
        "start_time": "2023-03-22T07:09:31.286Z"
      },
      {
        "duration": 24,
        "start_time": "2023-03-22T07:09:31.322Z"
      },
      {
        "duration": 280,
        "start_time": "2023-03-22T07:09:31.347Z"
      },
      {
        "duration": 281,
        "start_time": "2023-03-22T07:09:31.629Z"
      },
      {
        "duration": 220,
        "start_time": "2023-03-22T07:09:31.913Z"
      },
      {
        "duration": 335,
        "start_time": "2023-03-22T07:09:32.135Z"
      },
      {
        "duration": 103,
        "start_time": "2023-03-22T07:09:32.471Z"
      },
      {
        "duration": 0,
        "start_time": "2023-03-22T07:09:32.575Z"
      },
      {
        "duration": 0,
        "start_time": "2023-03-22T07:09:32.576Z"
      },
      {
        "duration": 0,
        "start_time": "2023-03-22T07:09:32.577Z"
      },
      {
        "duration": 0,
        "start_time": "2023-03-22T07:09:32.578Z"
      },
      {
        "duration": 0,
        "start_time": "2023-03-22T07:09:32.579Z"
      },
      {
        "duration": 0,
        "start_time": "2023-03-22T07:09:32.580Z"
      },
      {
        "duration": 0,
        "start_time": "2023-03-22T07:09:32.582Z"
      },
      {
        "duration": 0,
        "start_time": "2023-03-22T07:09:32.583Z"
      },
      {
        "duration": 0,
        "start_time": "2023-03-22T07:09:32.584Z"
      },
      {
        "duration": 0,
        "start_time": "2023-03-22T07:09:32.585Z"
      },
      {
        "duration": 0,
        "start_time": "2023-03-22T07:09:32.586Z"
      },
      {
        "duration": 0,
        "start_time": "2023-03-22T07:09:32.587Z"
      },
      {
        "duration": 0,
        "start_time": "2023-03-22T07:09:32.588Z"
      },
      {
        "duration": 0,
        "start_time": "2023-03-22T07:09:32.589Z"
      },
      {
        "duration": 0,
        "start_time": "2023-03-22T07:09:32.590Z"
      },
      {
        "duration": 0,
        "start_time": "2023-03-22T07:09:32.591Z"
      },
      {
        "duration": 0,
        "start_time": "2023-03-22T07:09:32.624Z"
      },
      {
        "duration": 226,
        "start_time": "2023-03-22T07:09:49.895Z"
      },
      {
        "duration": 1104,
        "start_time": "2023-03-22T07:09:58.631Z"
      },
      {
        "duration": 180,
        "start_time": "2023-03-22T07:09:59.737Z"
      },
      {
        "duration": 10,
        "start_time": "2023-03-22T07:09:59.919Z"
      },
      {
        "duration": 11,
        "start_time": "2023-03-22T07:09:59.931Z"
      },
      {
        "duration": 4,
        "start_time": "2023-03-22T07:09:59.944Z"
      },
      {
        "duration": 11,
        "start_time": "2023-03-22T07:09:59.949Z"
      },
      {
        "duration": 9,
        "start_time": "2023-03-22T07:09:59.961Z"
      },
      {
        "duration": 10,
        "start_time": "2023-03-22T07:09:59.971Z"
      },
      {
        "duration": 45,
        "start_time": "2023-03-22T07:09:59.982Z"
      },
      {
        "duration": 19,
        "start_time": "2023-03-22T07:10:00.029Z"
      },
      {
        "duration": 39,
        "start_time": "2023-03-22T07:10:00.049Z"
      },
      {
        "duration": 13,
        "start_time": "2023-03-22T07:10:00.090Z"
      },
      {
        "duration": 17,
        "start_time": "2023-03-22T07:10:00.105Z"
      },
      {
        "duration": 5,
        "start_time": "2023-03-22T07:10:00.124Z"
      },
      {
        "duration": 8,
        "start_time": "2023-03-22T07:10:00.131Z"
      },
      {
        "duration": 16,
        "start_time": "2023-03-22T07:10:00.140Z"
      },
      {
        "duration": 32,
        "start_time": "2023-03-22T07:10:00.158Z"
      },
      {
        "duration": 31,
        "start_time": "2023-03-22T07:10:00.192Z"
      },
      {
        "duration": 4,
        "start_time": "2023-03-22T07:10:00.225Z"
      },
      {
        "duration": 30,
        "start_time": "2023-03-22T07:10:00.230Z"
      },
      {
        "duration": 23,
        "start_time": "2023-03-22T07:10:00.262Z"
      },
      {
        "duration": 38,
        "start_time": "2023-03-22T07:10:00.287Z"
      },
      {
        "duration": 77,
        "start_time": "2023-03-22T07:10:00.327Z"
      },
      {
        "duration": 80,
        "start_time": "2023-03-22T07:10:00.407Z"
      },
      {
        "duration": 66,
        "start_time": "2023-03-22T07:10:00.490Z"
      },
      {
        "duration": 338,
        "start_time": "2023-03-22T07:10:00.559Z"
      },
      {
        "duration": 306,
        "start_time": "2023-03-22T07:10:00.899Z"
      },
      {
        "duration": 235,
        "start_time": "2023-03-22T07:10:01.210Z"
      },
      {
        "duration": 294,
        "start_time": "2023-03-22T07:10:01.447Z"
      },
      {
        "duration": 241,
        "start_time": "2023-03-22T07:10:01.743Z"
      },
      {
        "duration": 305,
        "start_time": "2023-03-22T07:10:01.985Z"
      },
      {
        "duration": 7,
        "start_time": "2023-03-22T07:10:02.291Z"
      },
      {
        "duration": 184,
        "start_time": "2023-03-22T07:10:02.299Z"
      },
      {
        "duration": 153,
        "start_time": "2023-03-22T07:10:02.485Z"
      },
      {
        "duration": 4,
        "start_time": "2023-03-22T07:10:02.640Z"
      },
      {
        "duration": 242,
        "start_time": "2023-03-22T07:10:02.646Z"
      },
      {
        "duration": 160,
        "start_time": "2023-03-22T07:10:02.889Z"
      },
      {
        "duration": 155,
        "start_time": "2023-03-22T07:10:03.051Z"
      },
      {
        "duration": 4,
        "start_time": "2023-03-22T07:10:03.208Z"
      },
      {
        "duration": 233,
        "start_time": "2023-03-22T07:10:03.213Z"
      },
      {
        "duration": 127,
        "start_time": "2023-03-22T07:10:03.448Z"
      },
      {
        "duration": 22,
        "start_time": "2023-03-22T07:10:03.577Z"
      },
      {
        "duration": 28,
        "start_time": "2023-03-22T07:10:03.601Z"
      },
      {
        "duration": 8,
        "start_time": "2023-03-22T07:10:03.630Z"
      },
      {
        "duration": 32,
        "start_time": "2023-03-22T07:10:03.640Z"
      },
      {
        "duration": 13,
        "start_time": "2023-03-22T07:10:03.673Z"
      },
      {
        "duration": 73,
        "start_time": "2023-03-23T10:20:08.918Z"
      },
      {
        "duration": 6,
        "start_time": "2023-03-23T10:20:23.649Z"
      },
      {
        "duration": 1500,
        "start_time": "2023-03-23T10:20:49.079Z"
      },
      {
        "duration": 411,
        "start_time": "2023-03-23T10:20:50.581Z"
      },
      {
        "duration": 14,
        "start_time": "2023-03-23T10:20:50.993Z"
      },
      {
        "duration": 24,
        "start_time": "2023-03-23T10:20:51.010Z"
      },
      {
        "duration": 4,
        "start_time": "2023-03-23T10:20:51.036Z"
      },
      {
        "duration": 19,
        "start_time": "2023-03-23T10:20:51.042Z"
      },
      {
        "duration": 33,
        "start_time": "2023-03-23T10:20:51.063Z"
      },
      {
        "duration": 23,
        "start_time": "2023-03-23T10:20:51.097Z"
      },
      {
        "duration": 9,
        "start_time": "2023-03-23T10:20:51.122Z"
      },
      {
        "duration": 12,
        "start_time": "2023-03-23T10:20:51.134Z"
      },
      {
        "duration": 10,
        "start_time": "2023-03-23T10:20:51.148Z"
      },
      {
        "duration": 5,
        "start_time": "2023-03-23T10:20:51.160Z"
      },
      {
        "duration": 32,
        "start_time": "2023-03-23T10:20:51.166Z"
      },
      {
        "duration": 6,
        "start_time": "2023-03-23T10:20:51.200Z"
      },
      {
        "duration": 16,
        "start_time": "2023-03-23T10:20:51.207Z"
      },
      {
        "duration": 10,
        "start_time": "2023-03-23T10:20:51.225Z"
      },
      {
        "duration": 15,
        "start_time": "2023-03-23T10:20:51.236Z"
      },
      {
        "duration": 40,
        "start_time": "2023-03-23T10:20:51.252Z"
      },
      {
        "duration": 6,
        "start_time": "2023-03-23T10:20:51.294Z"
      },
      {
        "duration": 30,
        "start_time": "2023-03-23T10:20:51.302Z"
      },
      {
        "duration": 16,
        "start_time": "2023-03-23T10:20:51.334Z"
      },
      {
        "duration": 26,
        "start_time": "2023-03-23T10:20:51.352Z"
      },
      {
        "duration": 8,
        "start_time": "2023-03-23T10:20:51.380Z"
      },
      {
        "duration": 22,
        "start_time": "2023-03-23T10:20:51.391Z"
      },
      {
        "duration": 5,
        "start_time": "2023-03-23T10:20:51.415Z"
      },
      {
        "duration": 325,
        "start_time": "2023-03-23T10:20:51.422Z"
      },
      {
        "duration": 315,
        "start_time": "2023-03-23T10:20:51.749Z"
      },
      {
        "duration": 240,
        "start_time": "2023-03-23T10:20:52.067Z"
      },
      {
        "duration": 336,
        "start_time": "2023-03-23T10:20:52.309Z"
      },
      {
        "duration": 277,
        "start_time": "2023-03-23T10:20:52.647Z"
      },
      {
        "duration": 577,
        "start_time": "2023-03-23T10:20:52.928Z"
      },
      {
        "duration": 9,
        "start_time": "2023-03-23T10:20:53.507Z"
      },
      {
        "duration": 389,
        "start_time": "2023-03-23T10:20:53.518Z"
      },
      {
        "duration": 325,
        "start_time": "2023-03-23T10:20:53.909Z"
      },
      {
        "duration": 58,
        "start_time": "2023-03-23T10:20:54.236Z"
      },
      {
        "duration": 537,
        "start_time": "2023-03-23T10:20:54.297Z"
      },
      {
        "duration": 339,
        "start_time": "2023-03-23T10:20:54.836Z"
      },
      {
        "duration": 180,
        "start_time": "2023-03-23T10:20:55.178Z"
      },
      {
        "duration": 4,
        "start_time": "2023-03-23T10:20:55.360Z"
      },
      {
        "duration": 254,
        "start_time": "2023-03-23T10:20:55.366Z"
      },
      {
        "duration": 155,
        "start_time": "2023-03-23T10:20:55.622Z"
      },
      {
        "duration": 32,
        "start_time": "2023-03-23T10:20:55.790Z"
      },
      {
        "duration": 13,
        "start_time": "2023-03-23T10:20:55.824Z"
      },
      {
        "duration": 9,
        "start_time": "2023-03-23T10:20:55.840Z"
      },
      {
        "duration": 62,
        "start_time": "2023-03-23T10:20:55.851Z"
      },
      {
        "duration": 20,
        "start_time": "2023-03-23T10:20:55.915Z"
      },
      {
        "duration": 14,
        "start_time": "2023-03-23T10:21:07.212Z"
      },
      {
        "duration": 13,
        "start_time": "2023-03-23T10:21:23.820Z"
      },
      {
        "duration": 125,
        "start_time": "2023-03-23T10:21:34.299Z"
      },
      {
        "duration": 133,
        "start_time": "2023-03-23T10:21:42.476Z"
      },
      {
        "duration": 106,
        "start_time": "2023-03-23T10:21:49.283Z"
      },
      {
        "duration": 107,
        "start_time": "2023-03-23T10:22:26.884Z"
      },
      {
        "duration": 12,
        "start_time": "2023-03-23T10:22:34.283Z"
      },
      {
        "duration": 15,
        "start_time": "2023-03-23T10:22:46.060Z"
      },
      {
        "duration": 16,
        "start_time": "2023-03-23T10:22:57.668Z"
      },
      {
        "duration": 7,
        "start_time": "2023-03-23T10:23:17.444Z"
      },
      {
        "duration": 12,
        "start_time": "2023-03-23T10:23:27.379Z"
      },
      {
        "duration": 13,
        "start_time": "2023-03-23T10:23:31.187Z"
      },
      {
        "duration": 14,
        "start_time": "2023-03-23T10:23:38.540Z"
      },
      {
        "duration": 13,
        "start_time": "2023-03-23T10:25:15.920Z"
      },
      {
        "duration": 10,
        "start_time": "2023-03-23T10:26:03.674Z"
      },
      {
        "duration": 14,
        "start_time": "2023-03-23T10:26:14.668Z"
      },
      {
        "duration": 9,
        "start_time": "2023-03-23T10:26:39.619Z"
      },
      {
        "duration": 15,
        "start_time": "2023-03-23T10:26:47.572Z"
      },
      {
        "duration": 11,
        "start_time": "2023-03-23T10:27:18.148Z"
      },
      {
        "duration": 1296,
        "start_time": "2023-03-23T10:27:23.666Z"
      },
      {
        "duration": 245,
        "start_time": "2023-03-23T10:27:24.964Z"
      },
      {
        "duration": 15,
        "start_time": "2023-03-23T10:27:25.211Z"
      },
      {
        "duration": 37,
        "start_time": "2023-03-23T10:27:25.228Z"
      },
      {
        "duration": 39,
        "start_time": "2023-03-23T10:27:25.267Z"
      },
      {
        "duration": 28,
        "start_time": "2023-03-23T10:27:25.308Z"
      },
      {
        "duration": 41,
        "start_time": "2023-03-23T10:27:25.338Z"
      },
      {
        "duration": 74,
        "start_time": "2023-03-23T10:27:25.381Z"
      },
      {
        "duration": 37,
        "start_time": "2023-03-23T10:27:25.457Z"
      },
      {
        "duration": 71,
        "start_time": "2023-03-23T10:27:25.497Z"
      },
      {
        "duration": 47,
        "start_time": "2023-03-23T10:27:25.570Z"
      },
      {
        "duration": 77,
        "start_time": "2023-03-23T10:27:25.619Z"
      },
      {
        "duration": 54,
        "start_time": "2023-03-23T10:27:25.699Z"
      },
      {
        "duration": 32,
        "start_time": "2023-03-23T10:27:25.755Z"
      },
      {
        "duration": 41,
        "start_time": "2023-03-23T10:27:25.789Z"
      },
      {
        "duration": 42,
        "start_time": "2023-03-23T10:27:25.832Z"
      },
      {
        "duration": 49,
        "start_time": "2023-03-23T10:27:25.876Z"
      },
      {
        "duration": 38,
        "start_time": "2023-03-23T10:27:25.927Z"
      },
      {
        "duration": 18,
        "start_time": "2023-03-23T10:27:25.967Z"
      },
      {
        "duration": 34,
        "start_time": "2023-03-23T10:27:25.987Z"
      },
      {
        "duration": 51,
        "start_time": "2023-03-23T10:27:26.023Z"
      },
      {
        "duration": 42,
        "start_time": "2023-03-23T10:27:26.076Z"
      },
      {
        "duration": 31,
        "start_time": "2023-03-23T10:27:26.120Z"
      },
      {
        "duration": 39,
        "start_time": "2023-03-23T10:27:26.153Z"
      },
      {
        "duration": 75,
        "start_time": "2023-03-23T10:27:26.194Z"
      },
      {
        "duration": 46,
        "start_time": "2023-03-23T10:27:26.272Z"
      },
      {
        "duration": 31,
        "start_time": "2023-03-23T10:27:26.319Z"
      },
      {
        "duration": 335,
        "start_time": "2023-03-23T10:27:26.354Z"
      },
      {
        "duration": 403,
        "start_time": "2023-03-23T10:27:26.692Z"
      },
      {
        "duration": 615,
        "start_time": "2023-03-23T10:27:27.097Z"
      },
      {
        "duration": 616,
        "start_time": "2023-03-23T10:27:27.715Z"
      },
      {
        "duration": 681,
        "start_time": "2023-03-23T10:27:28.333Z"
      },
      {
        "duration": 674,
        "start_time": "2023-03-23T10:27:29.016Z"
      },
      {
        "duration": 16,
        "start_time": "2023-03-23T10:27:29.693Z"
      },
      {
        "duration": 360,
        "start_time": "2023-03-23T10:27:29.714Z"
      },
      {
        "duration": 209,
        "start_time": "2023-03-23T10:27:30.076Z"
      },
      {
        "duration": 10,
        "start_time": "2023-03-23T10:27:30.287Z"
      },
      {
        "duration": 335,
        "start_time": "2023-03-23T10:27:30.301Z"
      },
      {
        "duration": 205,
        "start_time": "2023-03-23T10:27:30.638Z"
      },
      {
        "duration": 197,
        "start_time": "2023-03-23T10:27:30.845Z"
      },
      {
        "duration": 5,
        "start_time": "2023-03-23T10:27:31.044Z"
      },
      {
        "duration": 316,
        "start_time": "2023-03-23T10:27:31.051Z"
      },
      {
        "duration": 165,
        "start_time": "2023-03-23T10:27:31.369Z"
      },
      {
        "duration": 28,
        "start_time": "2023-03-23T10:27:31.536Z"
      },
      {
        "duration": 47,
        "start_time": "2023-03-23T10:27:31.566Z"
      },
      {
        "duration": 21,
        "start_time": "2023-03-23T10:27:31.615Z"
      },
      {
        "duration": 64,
        "start_time": "2023-03-23T10:27:31.638Z"
      },
      {
        "duration": 21,
        "start_time": "2023-03-23T10:27:31.704Z"
      },
      {
        "duration": 12,
        "start_time": "2023-03-23T10:47:14.018Z"
      },
      {
        "duration": 14,
        "start_time": "2023-03-23T10:47:42.330Z"
      },
      {
        "duration": 13,
        "start_time": "2023-03-23T10:48:00.844Z"
      },
      {
        "duration": 9,
        "start_time": "2023-03-23T10:48:19.130Z"
      },
      {
        "duration": 16,
        "start_time": "2023-03-23T10:48:31.122Z"
      },
      {
        "duration": 9,
        "start_time": "2023-03-23T10:49:10.882Z"
      },
      {
        "duration": 9,
        "start_time": "2023-03-23T10:49:48.151Z"
      },
      {
        "duration": 116,
        "start_time": "2023-03-23T10:50:28.257Z"
      },
      {
        "duration": 8,
        "start_time": "2023-03-23T10:51:01.057Z"
      },
      {
        "duration": 8,
        "start_time": "2023-03-23T10:51:07.079Z"
      },
      {
        "duration": 808,
        "start_time": "2023-03-23T10:51:46.728Z"
      },
      {
        "duration": 8,
        "start_time": "2023-03-23T10:51:55.888Z"
      },
      {
        "duration": 1430,
        "start_time": "2023-03-23T10:52:10.644Z"
      },
      {
        "duration": 8,
        "start_time": "2023-03-23T10:52:17.568Z"
      },
      {
        "duration": 15,
        "start_time": "2023-03-23T10:54:49.743Z"
      },
      {
        "duration": 9,
        "start_time": "2023-03-23T10:55:00.854Z"
      },
      {
        "duration": 8,
        "start_time": "2023-03-23T10:55:19.704Z"
      },
      {
        "duration": 9,
        "start_time": "2023-03-23T10:55:25.527Z"
      },
      {
        "duration": 19,
        "start_time": "2023-03-23T10:55:47.446Z"
      },
      {
        "duration": 14,
        "start_time": "2023-03-23T10:56:05.081Z"
      },
      {
        "duration": 14,
        "start_time": "2023-03-23T10:56:14.330Z"
      },
      {
        "duration": 12,
        "start_time": "2023-03-23T10:57:01.983Z"
      },
      {
        "duration": 15,
        "start_time": "2023-03-23T10:57:47.278Z"
      },
      {
        "duration": 19,
        "start_time": "2023-03-23T10:57:57.469Z"
      },
      {
        "duration": 14,
        "start_time": "2023-03-23T10:58:17.351Z"
      },
      {
        "duration": 10,
        "start_time": "2023-03-23T11:10:37.681Z"
      },
      {
        "duration": 1182,
        "start_time": "2023-03-23T11:10:43.931Z"
      },
      {
        "duration": 219,
        "start_time": "2023-03-23T11:10:45.115Z"
      },
      {
        "duration": 13,
        "start_time": "2023-03-23T11:10:45.336Z"
      },
      {
        "duration": 28,
        "start_time": "2023-03-23T11:10:45.351Z"
      },
      {
        "duration": 20,
        "start_time": "2023-03-23T11:10:45.381Z"
      },
      {
        "duration": 37,
        "start_time": "2023-03-23T11:10:45.403Z"
      },
      {
        "duration": 28,
        "start_time": "2023-03-23T11:10:45.441Z"
      },
      {
        "duration": 35,
        "start_time": "2023-03-23T11:10:45.470Z"
      },
      {
        "duration": 28,
        "start_time": "2023-03-23T11:10:45.507Z"
      },
      {
        "duration": 17,
        "start_time": "2023-03-23T11:10:45.537Z"
      },
      {
        "duration": 15,
        "start_time": "2023-03-23T11:10:45.556Z"
      },
      {
        "duration": 24,
        "start_time": "2023-03-23T11:10:45.572Z"
      },
      {
        "duration": 20,
        "start_time": "2023-03-23T11:10:45.597Z"
      },
      {
        "duration": 21,
        "start_time": "2023-03-23T11:10:45.619Z"
      },
      {
        "duration": 22,
        "start_time": "2023-03-23T11:10:45.642Z"
      },
      {
        "duration": 18,
        "start_time": "2023-03-23T11:10:45.666Z"
      },
      {
        "duration": 36,
        "start_time": "2023-03-23T11:10:45.686Z"
      },
      {
        "duration": 16,
        "start_time": "2023-03-23T11:10:45.723Z"
      },
      {
        "duration": 19,
        "start_time": "2023-03-23T11:10:45.740Z"
      },
      {
        "duration": 19,
        "start_time": "2023-03-23T11:10:45.761Z"
      },
      {
        "duration": 15,
        "start_time": "2023-03-23T11:10:45.782Z"
      },
      {
        "duration": 26,
        "start_time": "2023-03-23T11:10:45.799Z"
      },
      {
        "duration": 18,
        "start_time": "2023-03-23T11:10:45.826Z"
      },
      {
        "duration": 22,
        "start_time": "2023-03-23T11:10:45.846Z"
      },
      {
        "duration": 21,
        "start_time": "2023-03-23T11:10:45.870Z"
      },
      {
        "duration": 33,
        "start_time": "2023-03-23T11:10:45.893Z"
      },
      {
        "duration": 16,
        "start_time": "2023-03-23T11:10:45.928Z"
      },
      {
        "duration": 284,
        "start_time": "2023-03-23T11:10:45.948Z"
      },
      {
        "duration": 300,
        "start_time": "2023-03-23T11:10:46.235Z"
      },
      {
        "duration": 231,
        "start_time": "2023-03-23T11:10:46.537Z"
      },
      {
        "duration": 339,
        "start_time": "2023-03-23T11:10:46.770Z"
      },
      {
        "duration": 220,
        "start_time": "2023-03-23T11:10:47.111Z"
      },
      {
        "duration": 347,
        "start_time": "2023-03-23T11:10:47.333Z"
      },
      {
        "duration": 9,
        "start_time": "2023-03-23T11:10:47.689Z"
      },
      {
        "duration": 216,
        "start_time": "2023-03-23T11:10:47.700Z"
      },
      {
        "duration": 385,
        "start_time": "2023-03-23T11:10:47.918Z"
      },
      {
        "duration": 5,
        "start_time": "2023-03-23T11:10:48.305Z"
      },
      {
        "duration": 492,
        "start_time": "2023-03-23T11:10:48.312Z"
      },
      {
        "duration": 394,
        "start_time": "2023-03-23T11:10:48.806Z"
      },
      {
        "duration": 317,
        "start_time": "2023-03-23T11:10:49.202Z"
      },
      {
        "duration": 4,
        "start_time": "2023-03-23T11:10:49.521Z"
      },
      {
        "duration": 476,
        "start_time": "2023-03-23T11:10:49.527Z"
      },
      {
        "duration": 286,
        "start_time": "2023-03-23T11:10:50.004Z"
      },
      {
        "duration": 27,
        "start_time": "2023-03-23T11:10:50.292Z"
      },
      {
        "duration": 11,
        "start_time": "2023-03-23T11:10:50.321Z"
      },
      {
        "duration": 10,
        "start_time": "2023-03-23T11:10:50.389Z"
      },
      {
        "duration": 36,
        "start_time": "2023-03-23T11:10:50.401Z"
      },
      {
        "duration": 13,
        "start_time": "2023-03-23T11:10:50.490Z"
      },
      {
        "duration": 10,
        "start_time": "2023-03-23T11:11:35.345Z"
      },
      {
        "duration": 1227,
        "start_time": "2023-03-23T11:11:55.468Z"
      },
      {
        "duration": 218,
        "start_time": "2023-03-23T11:11:56.697Z"
      },
      {
        "duration": 14,
        "start_time": "2023-03-23T11:11:56.917Z"
      },
      {
        "duration": 11,
        "start_time": "2023-03-23T11:11:56.934Z"
      },
      {
        "duration": 4,
        "start_time": "2023-03-23T11:11:56.947Z"
      },
      {
        "duration": 13,
        "start_time": "2023-03-23T11:11:56.953Z"
      },
      {
        "duration": 11,
        "start_time": "2023-03-23T11:11:56.967Z"
      },
      {
        "duration": 21,
        "start_time": "2023-03-23T11:11:56.980Z"
      },
      {
        "duration": 8,
        "start_time": "2023-03-23T11:11:57.002Z"
      },
      {
        "duration": 6,
        "start_time": "2023-03-23T11:11:57.013Z"
      },
      {
        "duration": 9,
        "start_time": "2023-03-23T11:11:57.021Z"
      },
      {
        "duration": 5,
        "start_time": "2023-03-23T11:11:57.033Z"
      },
      {
        "duration": 10,
        "start_time": "2023-03-23T11:11:57.040Z"
      },
      {
        "duration": 39,
        "start_time": "2023-03-23T11:11:57.052Z"
      },
      {
        "duration": 5,
        "start_time": "2023-03-23T11:11:57.093Z"
      },
      {
        "duration": 10,
        "start_time": "2023-03-23T11:11:57.100Z"
      },
      {
        "duration": 14,
        "start_time": "2023-03-23T11:11:57.113Z"
      },
      {
        "duration": 9,
        "start_time": "2023-03-23T11:11:57.129Z"
      },
      {
        "duration": 56,
        "start_time": "2023-03-23T11:11:57.140Z"
      },
      {
        "duration": 11,
        "start_time": "2023-03-23T11:11:57.198Z"
      },
      {
        "duration": 10,
        "start_time": "2023-03-23T11:11:57.211Z"
      },
      {
        "duration": 36,
        "start_time": "2023-03-23T11:11:57.222Z"
      },
      {
        "duration": 6,
        "start_time": "2023-03-23T11:11:57.260Z"
      },
      {
        "duration": 22,
        "start_time": "2023-03-23T11:11:57.267Z"
      },
      {
        "duration": 5,
        "start_time": "2023-03-23T11:11:57.291Z"
      },
      {
        "duration": 22,
        "start_time": "2023-03-23T11:11:57.297Z"
      },
      {
        "duration": 10,
        "start_time": "2023-03-23T11:11:57.321Z"
      },
      {
        "duration": 375,
        "start_time": "2023-03-23T11:11:57.335Z"
      },
      {
        "duration": 311,
        "start_time": "2023-03-23T11:11:57.712Z"
      },
      {
        "duration": 236,
        "start_time": "2023-03-23T11:11:58.025Z"
      },
      {
        "duration": 332,
        "start_time": "2023-03-23T11:11:58.262Z"
      },
      {
        "duration": 248,
        "start_time": "2023-03-23T11:11:58.596Z"
      },
      {
        "duration": 321,
        "start_time": "2023-03-23T11:11:58.846Z"
      },
      {
        "duration": 8,
        "start_time": "2023-03-23T11:11:59.169Z"
      },
      {
        "duration": 176,
        "start_time": "2023-03-23T11:11:59.190Z"
      },
      {
        "duration": 174,
        "start_time": "2023-03-23T11:11:59.368Z"
      },
      {
        "duration": 4,
        "start_time": "2023-03-23T11:11:59.544Z"
      },
      {
        "duration": 351,
        "start_time": "2023-03-23T11:11:59.549Z"
      },
      {
        "duration": 325,
        "start_time": "2023-03-23T11:11:59.902Z"
      },
      {
        "duration": 363,
        "start_time": "2023-03-23T11:12:00.229Z"
      },
      {
        "duration": 5,
        "start_time": "2023-03-23T11:12:00.593Z"
      },
      {
        "duration": 497,
        "start_time": "2023-03-23T11:12:00.600Z"
      },
      {
        "duration": 323,
        "start_time": "2023-03-23T11:12:01.099Z"
      },
      {
        "duration": 81,
        "start_time": "2023-03-23T11:12:01.424Z"
      },
      {
        "duration": 12,
        "start_time": "2023-03-23T11:12:01.507Z"
      },
      {
        "duration": 74,
        "start_time": "2023-03-23T11:12:01.521Z"
      },
      {
        "duration": 60,
        "start_time": "2023-03-23T11:12:01.598Z"
      },
      {
        "duration": 31,
        "start_time": "2023-03-23T11:12:01.660Z"
      },
      {
        "duration": 16,
        "start_time": "2023-03-23T11:12:27.055Z"
      },
      {
        "duration": 101,
        "start_time": "2023-03-23T11:21:53.003Z"
      },
      {
        "duration": 4,
        "start_time": "2023-03-23T11:26:23.072Z"
      },
      {
        "duration": 12,
        "start_time": "2023-03-23T11:26:24.489Z"
      },
      {
        "duration": 320,
        "start_time": "2023-03-23T11:41:18.714Z"
      },
      {
        "duration": 245,
        "start_time": "2023-03-23T11:42:27.667Z"
      },
      {
        "duration": 337,
        "start_time": "2023-03-23T11:50:17.895Z"
      },
      {
        "duration": 234,
        "start_time": "2023-03-23T11:54:16.438Z"
      },
      {
        "duration": 173,
        "start_time": "2023-03-23T11:56:19.141Z"
      },
      {
        "duration": 164,
        "start_time": "2023-03-23T11:56:41.420Z"
      },
      {
        "duration": 180,
        "start_time": "2023-03-23T11:56:52.629Z"
      },
      {
        "duration": 168,
        "start_time": "2023-03-23T11:57:05.692Z"
      },
      {
        "duration": 233,
        "start_time": "2023-03-23T11:57:33.924Z"
      },
      {
        "duration": 6,
        "start_time": "2023-03-23T12:43:51.735Z"
      },
      {
        "duration": 11,
        "start_time": "2023-03-23T12:44:04.335Z"
      },
      {
        "duration": 112,
        "start_time": "2023-03-23T12:47:21.254Z"
      },
      {
        "duration": 15,
        "start_time": "2023-03-23T12:47:29.141Z"
      },
      {
        "duration": 8,
        "start_time": "2023-03-23T12:47:43.507Z"
      },
      {
        "duration": 13,
        "start_time": "2023-03-23T12:47:55.172Z"
      },
      {
        "duration": 17,
        "start_time": "2023-03-23T12:48:08.124Z"
      },
      {
        "duration": 7,
        "start_time": "2023-03-23T12:48:22.549Z"
      },
      {
        "duration": 24,
        "start_time": "2023-03-23T12:49:27.580Z"
      },
      {
        "duration": 12,
        "start_time": "2023-03-23T12:49:44.173Z"
      },
      {
        "duration": 12,
        "start_time": "2023-03-23T12:50:04.766Z"
      },
      {
        "duration": 15,
        "start_time": "2023-03-23T12:51:25.704Z"
      },
      {
        "duration": 13,
        "start_time": "2023-03-23T12:51:56.179Z"
      },
      {
        "duration": 15,
        "start_time": "2023-03-23T12:52:16.970Z"
      },
      {
        "duration": 13,
        "start_time": "2023-03-23T12:53:06.018Z"
      },
      {
        "duration": 12,
        "start_time": "2023-03-23T12:54:05.758Z"
      },
      {
        "duration": 17,
        "start_time": "2023-03-23T12:54:11.658Z"
      },
      {
        "duration": 14,
        "start_time": "2023-03-23T12:54:58.669Z"
      },
      {
        "duration": 7,
        "start_time": "2023-03-23T12:55:22.057Z"
      },
      {
        "duration": 9,
        "start_time": "2023-03-23T12:57:50.704Z"
      },
      {
        "duration": 9,
        "start_time": "2023-03-23T12:58:06.268Z"
      },
      {
        "duration": 9,
        "start_time": "2023-03-23T12:58:12.942Z"
      },
      {
        "duration": 10,
        "start_time": "2023-03-23T12:58:20.299Z"
      },
      {
        "duration": 7,
        "start_time": "2023-03-23T12:58:32.872Z"
      },
      {
        "duration": 6,
        "start_time": "2023-03-23T12:58:41.402Z"
      },
      {
        "duration": 5,
        "start_time": "2023-03-23T12:58:52.215Z"
      },
      {
        "duration": 14,
        "start_time": "2023-03-23T12:59:09.594Z"
      },
      {
        "duration": 5,
        "start_time": "2023-03-23T13:21:25.845Z"
      },
      {
        "duration": 9,
        "start_time": "2023-03-23T13:22:07.873Z"
      },
      {
        "duration": 19,
        "start_time": "2023-03-23T13:22:26.401Z"
      },
      {
        "duration": 9,
        "start_time": "2023-03-23T13:22:42.124Z"
      },
      {
        "duration": 17,
        "start_time": "2023-03-23T13:23:03.381Z"
      },
      {
        "duration": 15,
        "start_time": "2023-03-23T13:23:17.665Z"
      },
      {
        "duration": 19,
        "start_time": "2023-03-23T13:23:22.692Z"
      },
      {
        "duration": 1700,
        "start_time": "2023-03-23T13:24:28.235Z"
      },
      {
        "duration": 858,
        "start_time": "2023-03-23T13:24:44.420Z"
      },
      {
        "duration": 888,
        "start_time": "2023-03-23T13:24:51.804Z"
      },
      {
        "duration": 13,
        "start_time": "2023-03-23T13:25:16.292Z"
      },
      {
        "duration": 3,
        "start_time": "2023-03-23T13:25:37.259Z"
      },
      {
        "duration": 104,
        "start_time": "2023-03-23T13:27:05.858Z"
      },
      {
        "duration": 107,
        "start_time": "2023-03-23T13:27:11.354Z"
      },
      {
        "duration": 1643,
        "start_time": "2023-03-23T13:27:16.059Z"
      },
      {
        "duration": 1633,
        "start_time": "2023-03-23T13:27:29.531Z"
      },
      {
        "duration": 10,
        "start_time": "2023-03-23T13:27:32.922Z"
      },
      {
        "duration": 12,
        "start_time": "2023-03-23T13:27:40.562Z"
      },
      {
        "duration": 7,
        "start_time": "2023-03-23T13:27:47.626Z"
      },
      {
        "duration": 8,
        "start_time": "2023-03-23T13:27:52.410Z"
      },
      {
        "duration": 9,
        "start_time": "2023-03-23T13:27:58.499Z"
      },
      {
        "duration": 29,
        "start_time": "2023-03-23T13:36:38.390Z"
      },
      {
        "duration": 28,
        "start_time": "2023-03-23T13:36:42.268Z"
      },
      {
        "duration": 33,
        "start_time": "2023-03-23T13:37:09.773Z"
      },
      {
        "duration": 27,
        "start_time": "2023-03-23T13:40:19.660Z"
      },
      {
        "duration": 29,
        "start_time": "2023-03-23T13:40:23.836Z"
      },
      {
        "duration": 28,
        "start_time": "2023-03-23T13:40:31.732Z"
      },
      {
        "duration": 11,
        "start_time": "2023-03-23T13:41:53.403Z"
      },
      {
        "duration": 29,
        "start_time": "2023-03-23T13:42:24.107Z"
      },
      {
        "duration": 13,
        "start_time": "2023-03-23T13:42:27.891Z"
      },
      {
        "duration": 7,
        "start_time": "2023-03-23T13:45:13.459Z"
      },
      {
        "duration": 10,
        "start_time": "2023-03-23T13:47:05.688Z"
      },
      {
        "duration": 217,
        "start_time": "2023-03-23T13:47:54.572Z"
      },
      {
        "duration": 11,
        "start_time": "2023-03-23T13:48:30.691Z"
      },
      {
        "duration": 108,
        "start_time": "2023-03-23T14:03:10.426Z"
      },
      {
        "duration": 11,
        "start_time": "2023-03-23T14:03:15.711Z"
      },
      {
        "duration": 8,
        "start_time": "2023-03-23T14:08:41.977Z"
      },
      {
        "duration": 6,
        "start_time": "2023-03-23T14:08:54.493Z"
      },
      {
        "duration": 8,
        "start_time": "2023-03-23T14:08:59.405Z"
      },
      {
        "duration": 9,
        "start_time": "2023-03-23T14:10:03.724Z"
      },
      {
        "duration": 8,
        "start_time": "2023-03-23T14:10:10.877Z"
      },
      {
        "duration": 5,
        "start_time": "2023-03-23T14:10:22.724Z"
      },
      {
        "duration": 11,
        "start_time": "2023-03-23T14:10:39.605Z"
      },
      {
        "duration": 13,
        "start_time": "2023-03-23T14:14:17.802Z"
      },
      {
        "duration": 101,
        "start_time": "2023-03-23T14:14:36.637Z"
      },
      {
        "duration": 11,
        "start_time": "2023-03-23T14:14:44.906Z"
      },
      {
        "duration": 102,
        "start_time": "2023-03-23T14:15:31.616Z"
      },
      {
        "duration": 15,
        "start_time": "2023-03-23T14:15:41.499Z"
      },
      {
        "duration": 36,
        "start_time": "2023-03-23T14:18:39.567Z"
      },
      {
        "duration": 29,
        "start_time": "2023-03-23T14:19:27.878Z"
      },
      {
        "duration": 1207,
        "start_time": "2023-03-23T14:20:45.225Z"
      },
      {
        "duration": 261,
        "start_time": "2023-03-23T14:20:46.433Z"
      },
      {
        "duration": 18,
        "start_time": "2023-03-23T14:20:46.695Z"
      },
      {
        "duration": 15,
        "start_time": "2023-03-23T14:20:46.715Z"
      },
      {
        "duration": 4,
        "start_time": "2023-03-23T14:20:46.731Z"
      },
      {
        "duration": 19,
        "start_time": "2023-03-23T14:20:46.737Z"
      },
      {
        "duration": 9,
        "start_time": "2023-03-23T14:20:46.759Z"
      },
      {
        "duration": 35,
        "start_time": "2023-03-23T14:20:46.769Z"
      },
      {
        "duration": 15,
        "start_time": "2023-03-23T14:20:46.806Z"
      },
      {
        "duration": 7,
        "start_time": "2023-03-23T14:20:46.825Z"
      },
      {
        "duration": 14,
        "start_time": "2023-03-23T14:20:46.834Z"
      },
      {
        "duration": 6,
        "start_time": "2023-03-23T14:20:46.850Z"
      },
      {
        "duration": 21,
        "start_time": "2023-03-23T14:20:46.857Z"
      },
      {
        "duration": 16,
        "start_time": "2023-03-23T14:20:46.880Z"
      },
      {
        "duration": 10,
        "start_time": "2023-03-23T14:20:46.898Z"
      },
      {
        "duration": 26,
        "start_time": "2023-03-23T14:20:46.911Z"
      },
      {
        "duration": 30,
        "start_time": "2023-03-23T14:20:46.939Z"
      },
      {
        "duration": 10,
        "start_time": "2023-03-23T14:20:46.971Z"
      },
      {
        "duration": 23,
        "start_time": "2023-03-23T14:20:46.982Z"
      },
      {
        "duration": 16,
        "start_time": "2023-03-23T14:20:47.007Z"
      },
      {
        "duration": 25,
        "start_time": "2023-03-23T14:20:47.024Z"
      },
      {
        "duration": 17,
        "start_time": "2023-03-23T14:20:47.051Z"
      },
      {
        "duration": 7,
        "start_time": "2023-03-23T14:20:47.070Z"
      },
      {
        "duration": 32,
        "start_time": "2023-03-23T14:20:47.079Z"
      },
      {
        "duration": 7,
        "start_time": "2023-03-23T14:20:47.114Z"
      },
      {
        "duration": 25,
        "start_time": "2023-03-23T14:20:47.123Z"
      },
      {
        "duration": 8,
        "start_time": "2023-03-23T14:20:47.150Z"
      },
      {
        "duration": 304,
        "start_time": "2023-03-23T14:20:47.162Z"
      },
      {
        "duration": 340,
        "start_time": "2023-03-23T14:20:47.468Z"
      },
      {
        "duration": 271,
        "start_time": "2023-03-23T14:20:47.809Z"
      },
      {
        "duration": 350,
        "start_time": "2023-03-23T14:20:48.081Z"
      },
      {
        "duration": 245,
        "start_time": "2023-03-23T14:20:48.433Z"
      },
      {
        "duration": 348,
        "start_time": "2023-03-23T14:20:48.680Z"
      },
      {
        "duration": 6,
        "start_time": "2023-03-23T14:20:49.030Z"
      },
      {
        "duration": 191,
        "start_time": "2023-03-23T14:20:49.038Z"
      },
      {
        "duration": 184,
        "start_time": "2023-03-23T14:20:49.231Z"
      },
      {
        "duration": 5,
        "start_time": "2023-03-23T14:20:49.417Z"
      },
      {
        "duration": 265,
        "start_time": "2023-03-23T14:20:49.423Z"
      },
      {
        "duration": 173,
        "start_time": "2023-03-23T14:20:49.692Z"
      },
      {
        "duration": 202,
        "start_time": "2023-03-23T14:20:49.867Z"
      },
      {
        "duration": 5,
        "start_time": "2023-03-23T14:20:50.071Z"
      },
      {
        "duration": 252,
        "start_time": "2023-03-23T14:20:50.078Z"
      },
      {
        "duration": 164,
        "start_time": "2023-03-23T14:20:50.332Z"
      },
      {
        "duration": 34,
        "start_time": "2023-03-23T14:20:50.498Z"
      },
      {
        "duration": 12,
        "start_time": "2023-03-23T14:20:50.534Z"
      },
      {
        "duration": 42,
        "start_time": "2023-03-23T14:20:50.548Z"
      },
      {
        "duration": 37,
        "start_time": "2023-03-23T14:20:50.592Z"
      },
      {
        "duration": 18,
        "start_time": "2023-03-23T14:20:50.631Z"
      },
      {
        "duration": 14,
        "start_time": "2023-03-23T14:22:06.143Z"
      },
      {
        "duration": 1084,
        "start_time": "2023-03-24T12:27:50.749Z"
      },
      {
        "duration": 182,
        "start_time": "2023-03-24T12:27:51.835Z"
      },
      {
        "duration": 12,
        "start_time": "2023-03-24T12:27:52.018Z"
      },
      {
        "duration": 10,
        "start_time": "2023-03-24T12:27:52.031Z"
      },
      {
        "duration": 3,
        "start_time": "2023-03-24T12:27:52.044Z"
      },
      {
        "duration": 12,
        "start_time": "2023-03-24T12:27:52.049Z"
      },
      {
        "duration": 9,
        "start_time": "2023-03-24T12:27:52.062Z"
      },
      {
        "duration": 11,
        "start_time": "2023-03-24T12:27:52.073Z"
      },
      {
        "duration": 8,
        "start_time": "2023-03-24T12:27:52.085Z"
      },
      {
        "duration": 5,
        "start_time": "2023-03-24T12:27:52.095Z"
      },
      {
        "duration": 9,
        "start_time": "2023-03-24T12:27:52.101Z"
      },
      {
        "duration": 5,
        "start_time": "2023-03-24T12:27:52.111Z"
      },
      {
        "duration": 17,
        "start_time": "2023-03-24T12:27:52.117Z"
      },
      {
        "duration": 3,
        "start_time": "2023-03-24T12:27:52.137Z"
      },
      {
        "duration": 5,
        "start_time": "2023-03-24T12:27:52.141Z"
      },
      {
        "duration": 29,
        "start_time": "2023-03-24T12:27:52.147Z"
      },
      {
        "duration": 18,
        "start_time": "2023-03-24T12:27:52.178Z"
      },
      {
        "duration": 8,
        "start_time": "2023-03-24T12:27:52.198Z"
      },
      {
        "duration": 21,
        "start_time": "2023-03-24T12:27:52.208Z"
      },
      {
        "duration": 46,
        "start_time": "2023-03-24T12:27:52.230Z"
      },
      {
        "duration": 5,
        "start_time": "2023-03-24T12:27:52.278Z"
      },
      {
        "duration": 13,
        "start_time": "2023-03-24T12:27:52.284Z"
      },
      {
        "duration": 4,
        "start_time": "2023-03-24T12:27:52.299Z"
      },
      {
        "duration": 11,
        "start_time": "2023-03-24T12:27:52.305Z"
      },
      {
        "duration": 8,
        "start_time": "2023-03-24T12:27:52.317Z"
      },
      {
        "duration": 49,
        "start_time": "2023-03-24T12:27:52.326Z"
      },
      {
        "duration": 4,
        "start_time": "2023-03-24T12:27:52.377Z"
      },
      {
        "duration": 357,
        "start_time": "2023-03-24T12:27:52.382Z"
      },
      {
        "duration": 263,
        "start_time": "2023-03-24T12:27:52.740Z"
      },
      {
        "duration": 201,
        "start_time": "2023-03-24T12:27:53.005Z"
      },
      {
        "duration": 268,
        "start_time": "2023-03-24T12:27:53.207Z"
      },
      {
        "duration": 203,
        "start_time": "2023-03-24T12:27:53.477Z"
      },
      {
        "duration": 288,
        "start_time": "2023-03-24T12:27:53.682Z"
      },
      {
        "duration": 7,
        "start_time": "2023-03-24T12:27:53.972Z"
      },
      {
        "duration": 161,
        "start_time": "2023-03-24T12:27:53.980Z"
      },
      {
        "duration": 164,
        "start_time": "2023-03-24T12:27:54.143Z"
      },
      {
        "duration": 4,
        "start_time": "2023-03-24T12:27:54.309Z"
      },
      {
        "duration": 245,
        "start_time": "2023-03-24T12:27:54.315Z"
      },
      {
        "duration": 144,
        "start_time": "2023-03-24T12:27:54.568Z"
      },
      {
        "duration": 148,
        "start_time": "2023-03-24T12:27:54.714Z"
      },
      {
        "duration": 4,
        "start_time": "2023-03-24T12:27:54.868Z"
      },
      {
        "duration": 198,
        "start_time": "2023-03-24T12:27:54.874Z"
      },
      {
        "duration": 141,
        "start_time": "2023-03-24T12:27:55.074Z"
      },
      {
        "duration": 24,
        "start_time": "2023-03-24T12:27:55.217Z"
      },
      {
        "duration": 33,
        "start_time": "2023-03-24T12:27:55.243Z"
      },
      {
        "duration": 11,
        "start_time": "2023-03-24T12:27:55.278Z"
      },
      {
        "duration": 26,
        "start_time": "2023-03-24T12:27:55.291Z"
      },
      {
        "duration": 13,
        "start_time": "2023-03-24T12:27:55.318Z"
      },
      {
        "duration": 8,
        "start_time": "2023-03-24T12:28:14.091Z"
      },
      {
        "duration": 7,
        "start_time": "2023-03-24T12:28:20.153Z"
      },
      {
        "duration": 13,
        "start_time": "2023-03-24T13:50:54.229Z"
      },
      {
        "duration": 47,
        "start_time": "2023-03-24T13:52:20.067Z"
      },
      {
        "duration": 7,
        "start_time": "2023-03-24T13:52:31.440Z"
      },
      {
        "duration": 6,
        "start_time": "2023-03-24T13:52:51.995Z"
      },
      {
        "duration": 1290,
        "start_time": "2023-03-24T13:52:58.241Z"
      },
      {
        "duration": 403,
        "start_time": "2023-03-24T13:52:59.533Z"
      },
      {
        "duration": 13,
        "start_time": "2023-03-24T13:52:59.937Z"
      },
      {
        "duration": 30,
        "start_time": "2023-03-24T13:52:59.952Z"
      },
      {
        "duration": 12,
        "start_time": "2023-03-24T13:52:59.983Z"
      },
      {
        "duration": 40,
        "start_time": "2023-03-24T13:52:59.997Z"
      },
      {
        "duration": 29,
        "start_time": "2023-03-24T13:53:00.039Z"
      },
      {
        "duration": 41,
        "start_time": "2023-03-24T13:53:00.070Z"
      },
      {
        "duration": 29,
        "start_time": "2023-03-24T13:53:00.113Z"
      },
      {
        "duration": 19,
        "start_time": "2023-03-24T13:53:00.146Z"
      },
      {
        "duration": 47,
        "start_time": "2023-03-24T13:53:00.167Z"
      },
      {
        "duration": 25,
        "start_time": "2023-03-24T13:53:00.216Z"
      },
      {
        "duration": 44,
        "start_time": "2023-03-24T13:53:00.243Z"
      },
      {
        "duration": 58,
        "start_time": "2023-03-24T13:53:00.289Z"
      },
      {
        "duration": 39,
        "start_time": "2023-03-24T13:53:00.349Z"
      },
      {
        "duration": 29,
        "start_time": "2023-03-24T13:53:00.390Z"
      },
      {
        "duration": 26,
        "start_time": "2023-03-24T13:53:00.421Z"
      },
      {
        "duration": 26,
        "start_time": "2023-03-24T13:53:00.449Z"
      },
      {
        "duration": 35,
        "start_time": "2023-03-24T13:53:00.476Z"
      },
      {
        "duration": 33,
        "start_time": "2023-03-24T13:53:00.513Z"
      },
      {
        "duration": 29,
        "start_time": "2023-03-24T13:53:00.547Z"
      },
      {
        "duration": 47,
        "start_time": "2023-03-24T13:53:00.577Z"
      },
      {
        "duration": 34,
        "start_time": "2023-03-24T13:53:00.626Z"
      },
      {
        "duration": 43,
        "start_time": "2023-03-24T13:53:00.661Z"
      },
      {
        "duration": 26,
        "start_time": "2023-03-24T13:53:00.706Z"
      },
      {
        "duration": 61,
        "start_time": "2023-03-24T13:53:00.734Z"
      },
      {
        "duration": 32,
        "start_time": "2023-03-24T13:53:00.796Z"
      },
      {
        "duration": 287,
        "start_time": "2023-03-24T13:53:00.832Z"
      },
      {
        "duration": 284,
        "start_time": "2023-03-24T13:53:01.121Z"
      },
      {
        "duration": 211,
        "start_time": "2023-03-24T13:53:01.406Z"
      },
      {
        "duration": 354,
        "start_time": "2023-03-24T13:53:01.619Z"
      },
      {
        "duration": 213,
        "start_time": "2023-03-24T13:53:01.974Z"
      },
      {
        "duration": 299,
        "start_time": "2023-03-24T13:53:02.189Z"
      },
      {
        "duration": 6,
        "start_time": "2023-03-24T13:53:02.490Z"
      },
      {
        "duration": 161,
        "start_time": "2023-03-24T13:53:02.497Z"
      },
      {
        "duration": 156,
        "start_time": "2023-03-24T13:53:02.659Z"
      },
      {
        "duration": 4,
        "start_time": "2023-03-24T13:53:02.816Z"
      },
      {
        "duration": 207,
        "start_time": "2023-03-24T13:53:02.822Z"
      },
      {
        "duration": 163,
        "start_time": "2023-03-24T13:53:03.030Z"
      },
      {
        "duration": 156,
        "start_time": "2023-03-24T13:53:03.194Z"
      },
      {
        "duration": 4,
        "start_time": "2023-03-24T13:53:03.351Z"
      },
      {
        "duration": 200,
        "start_time": "2023-03-24T13:53:03.357Z"
      },
      {
        "duration": 146,
        "start_time": "2023-03-24T13:53:03.559Z"
      },
      {
        "duration": 37,
        "start_time": "2023-03-24T13:53:03.706Z"
      },
      {
        "duration": 11,
        "start_time": "2023-03-24T13:53:03.744Z"
      },
      {
        "duration": 11,
        "start_time": "2023-03-24T13:53:03.757Z"
      },
      {
        "duration": 28,
        "start_time": "2023-03-24T13:53:03.770Z"
      },
      {
        "duration": 40,
        "start_time": "2023-03-24T13:53:03.800Z"
      },
      {
        "duration": 6,
        "start_time": "2023-03-24T13:53:03.842Z"
      },
      {
        "duration": 26,
        "start_time": "2023-03-24T13:53:03.850Z"
      },
      {
        "duration": 6,
        "start_time": "2023-03-24T13:53:03.878Z"
      },
      {
        "duration": 4,
        "start_time": "2023-03-24T13:53:03.886Z"
      },
      {
        "duration": 6,
        "start_time": "2023-03-24T13:53:23.392Z"
      },
      {
        "duration": 4,
        "start_time": "2023-03-24T13:53:38.232Z"
      },
      {
        "duration": 7,
        "start_time": "2023-03-24T13:56:56.208Z"
      },
      {
        "duration": 5,
        "start_time": "2023-03-24T13:57:00.116Z"
      },
      {
        "duration": 6,
        "start_time": "2023-03-24T14:07:29.716Z"
      },
      {
        "duration": 7,
        "start_time": "2023-03-24T14:07:33.411Z"
      },
      {
        "duration": 120,
        "start_time": "2023-03-24T14:08:29.111Z"
      },
      {
        "duration": 4,
        "start_time": "2023-03-24T14:08:44.080Z"
      },
      {
        "duration": 4,
        "start_time": "2023-03-24T14:08:50.915Z"
      },
      {
        "duration": 4,
        "start_time": "2023-03-24T14:08:58.995Z"
      },
      {
        "duration": 7,
        "start_time": "2023-03-24T14:10:05.548Z"
      },
      {
        "duration": 7,
        "start_time": "2023-03-24T14:10:07.401Z"
      },
      {
        "duration": 3,
        "start_time": "2023-03-24T14:10:17.781Z"
      },
      {
        "duration": 3,
        "start_time": "2023-03-24T14:13:14.099Z"
      }
    ],
    "kernelspec": {
      "display_name": "Python 3 (ipykernel)",
      "language": "python",
      "name": "python3"
    },
    "language_info": {
      "codemirror_mode": {
        "name": "ipython",
        "version": 3
      },
      "file_extension": ".py",
      "mimetype": "text/x-python",
      "name": "python",
      "nbconvert_exporter": "python",
      "pygments_lexer": "ipython3",
      "version": "3.9.5"
    },
    "toc": {
      "base_numbering": 1,
      "nav_menu": {},
      "number_sections": true,
      "sideBar": true,
      "skip_h1_title": false,
      "title_cell": "Table of Contents",
      "title_sidebar": "Contents",
      "toc_cell": false,
      "toc_position": {
        "height": "calc(100% - 180px)",
        "left": "10px",
        "top": "150px",
        "width": "723px"
      },
      "toc_section_display": true,
      "toc_window_display": true
    },
    "colab": {
      "provenance": []
    }
  },
  "nbformat": 4,
  "nbformat_minor": 5
}