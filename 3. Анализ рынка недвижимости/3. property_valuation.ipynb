{
  "cells": [
    {
      "cell_type": "markdown",
      "metadata": {
        "id": "HEZ-qZXJXWW1"
      },
      "source": [
        "# Исследование объявлений о продаже квартир\n",
        "\n",
        "В вашем распоряжении данные сервиса Яндекс.Недвижимость — архив объявлений о продаже квартир в Санкт-Петербурге и соседних населённых пунктов за несколько лет. Нужно научиться определять рыночную стоимость объектов недвижимости. Ваша задача — установить параметры. Это позволит построить автоматизированную систему: она отследит аномалии и мошенническую деятельность.\n",
        "\n",
        "По каждой квартире на продажу доступны два вида данных. Первые вписаны пользователем, вторые — получены автоматически на основе картографических данных. Например, расстояние до центра, аэропорта, ближайшего парка и водоёма."
      ]
    },
    {
      "cell_type": "markdown",
      "metadata": {
        "id": "hGevOsMvXWW1"
      },
      "source": [
        "**Цель исследования — установить параметры, позволяющие построить автоматизированную систему для отслеживания аномалий и мошеннической деятельности:**\n",
        " * общая площадь;\n",
        " * жилая площадь;\n",
        " * площадь кухни;\n",
        " * цена объекта;\n",
        " * количество комнат;\n",
        " * высота потолков;\n",
        " * этаж квартиры;\n",
        " * тип этажа квартиры («первый», «последний», «другой»);\n",
        " * общее количество этажей в доме;\n",
        " * расстояние до центра города в метрах;\n",
        " * расстояние до ближайшего аэропорта;\n",
        " * расстояние до ближайшего парка;\n",
        " * день и месяц публикации объявления\n",
        "\n",
        "**Так же необходимо ответить на четыре вопроса:**\n",
        "- Как быстро продаются квартиры, сколько дней размещается объявление\n",
        "- Какие факторы влияют на общую стоимость объекта\n",
        "        - общей площади;\n",
        "        - жилой площади;\n",
        "        - площади кухни;\n",
        "        - количество комнат;\n",
        "        - типа этажа, на котором расположена квартира (первый, последний, другой);\n",
        "        - даты размещения (день недели, месяц, год);\n",
        "- Какая средняя цена одного квардратного метра в 10 населённых пунктах с наибольшим числом объявлений\n",
        "- Какая средняя цена каждого километра до центра в Санкт-Петербурге"
      ]
    },
    {
      "cell_type": "markdown",
      "metadata": {
        "id": "BHHfk4RlXWW1"
      },
      "source": [
        "Данные о недвижимости  содержатся в файле `real_estate_data.csv`. Перед установлением параметров и ответов на вопросы необходимо ознакомиться с данными.\n",
        "\n",
        "При налачии ошибок оценить их влияние на исследование. На этапе предобработки необходимо исправить самые критичные ошибки.\n",
        "\n",
        "Исследование будет проходить в четыре этапа:\n",
        " 1. Обзор данных\n",
        " 2. Преобработка данных.\n",
        " 3. Проверка гипотез\n",
        " 4. Общий вывод"
      ]
    },
    {
      "cell_type": "markdown",
      "metadata": {
        "id": "Cppw7qOIXWW1"
      },
      "source": [
        "## Обзор данных"
      ]
    },
    {
      "cell_type": "markdown",
      "metadata": {
        "id": "0WNTiyeyXWW2"
      },
      "source": [
        "Подключаем библиотеку `pandas` и импортируем базу данных `real_estate_data.csv` с разделение строки `sep='\\t'`"
      ]
    },
    {
      "cell_type": "code",
      "execution_count": null,
      "metadata": {
        "id": "7a1opT5LXWW2"
      },
      "outputs": [],
      "source": [
        "import pandas as pd\n",
        "import matplotlib.pyplot as plt\n",
        "import math\n",
        "import matplotlib\n",
        "data = pd.read_csv('/datasets/real_estate_data.csv', sep='\\t') #для яндекса\n",
        "#data = pd.read_csv('real_estate_data.csv', sep='\\t') # локально"
      ]
    },
    {
      "cell_type": "markdown",
      "metadata": {
        "id": "ZdTe0VM0XWW2"
      },
      "source": [
        "Выводим общую информацию по таблице"
      ]
    },
    {
      "cell_type": "code",
      "execution_count": null,
      "metadata": {
        "id": "RTEPj12KXWW3",
        "outputId": "1718753f-4447-49ba-e4c6-3292dd517338"
      },
      "outputs": [
        {
          "name": "stdout",
          "output_type": "stream",
          "text": [
            "<class 'pandas.core.frame.DataFrame'>\n",
            "RangeIndex: 23699 entries, 0 to 23698\n",
            "Data columns (total 22 columns):\n",
            " #   Column                Non-Null Count  Dtype  \n",
            "---  ------                --------------  -----  \n",
            " 0   total_images          23699 non-null  int64  \n",
            " 1   last_price            23699 non-null  float64\n",
            " 2   total_area            23699 non-null  float64\n",
            " 3   first_day_exposition  23699 non-null  object \n",
            " 4   rooms                 23699 non-null  int64  \n",
            " 5   ceiling_height        14504 non-null  float64\n",
            " 6   floors_total          23613 non-null  float64\n",
            " 7   living_area           21796 non-null  float64\n",
            " 8   floor                 23699 non-null  int64  \n",
            " 9   is_apartment          2775 non-null   object \n",
            " 10  studio                23699 non-null  bool   \n",
            " 11  open_plan             23699 non-null  bool   \n",
            " 12  kitchen_area          21421 non-null  float64\n",
            " 13  balcony               12180 non-null  float64\n",
            " 14  locality_name         23650 non-null  object \n",
            " 15  airports_nearest      18157 non-null  float64\n",
            " 16  cityCenters_nearest   18180 non-null  float64\n",
            " 17  parks_around3000      18181 non-null  float64\n",
            " 18  parks_nearest         8079 non-null   float64\n",
            " 19  ponds_around3000      18181 non-null  float64\n",
            " 20  ponds_nearest         9110 non-null   float64\n",
            " 21  days_exposition       20518 non-null  float64\n",
            "dtypes: bool(2), float64(14), int64(3), object(3)\n",
            "memory usage: 3.7+ MB\n"
          ]
        }
      ],
      "source": [
        "data.info()"
      ]
    },
    {
      "cell_type": "markdown",
      "metadata": {
        "id": "ww7qB_qHXWW3"
      },
      "source": [
        "В таблице 22 столбца с типами данных — `int`, `float`, `object`, `bool`\n",
        "\n",
        " * `airports_nearest` — расстояние до ближайшего аэропорта в метрах (м)\n",
        " * `balcony` — число балконов\n",
        " * `ceiling_height` — высота потолков (м)\n",
        " * `cityCenters_nearest` — расстояние до центра города (м)\n",
        " * `days_exposition` — сколько дней было размещено объявление (от публикации до снятия)\n",
        " * `first_day_exposition` — дата публикации\n",
        " * `floor` — этаж\n",
        " * `floors_total` — всего этажей в доме\n",
        " * `is_apartment` — апартаменты (булев тип)\n",
        " * `kitchen_area` — площадь кухни в квадратных метрах (м²)\n",
        " * `last_price` — цена на момент снятия с публикации\n",
        " * `living_area` — жилая площадь в квадратных метрах (м²)\n",
        " * `locality_name` — название населённого пункта\n",
        " * `open_plan` — свободная планировка (булев тип)\n",
        " * `parks_around3000` — число парков в радиусе 3 км\n",
        " * `parks_nearest` — расстояние до ближайшего парка (м)\n",
        " * `ponds_around3000` — число водоёмов в радиусе 3 км\n",
        " * `ponds_nearest` — расстояние до ближайшего водоёма (м)\n",
        " * `rooms` — число комнат\n",
        " * `studio` — квартира-студия (булев тип)\n",
        " * `total_area` — общая площадь квартиры в квадратных метрах (м²)\n",
        " * `total_images` — число фотографий квартиры в объявлении\n",
        "\n",
        "Количество значений в столбцах различаются, следовательно **есть пропущенные значения**"
      ]
    },
    {
      "cell_type": "markdown",
      "metadata": {
        "id": "mXaFunmfXWW3"
      },
      "source": [
        "Выведем первые 20 строк таблицы"
      ]
    },
    {
      "cell_type": "code",
      "execution_count": null,
      "metadata": {
        "scrolled": true,
        "id": "Twe0pZ0PXWW3",
        "outputId": "1b634051-76b1-4acb-91a8-287a5b81bf6b"
      },
      "outputs": [
        {
          "data": {
            "text/html": [
              "<div>\n",
              "<style scoped>\n",
              "    .dataframe tbody tr th:only-of-type {\n",
              "        vertical-align: middle;\n",
              "    }\n",
              "\n",
              "    .dataframe tbody tr th {\n",
              "        vertical-align: top;\n",
              "    }\n",
              "\n",
              "    .dataframe thead th {\n",
              "        text-align: right;\n",
              "    }\n",
              "</style>\n",
              "<table border=\"1\" class=\"dataframe\">\n",
              "  <thead>\n",
              "    <tr style=\"text-align: right;\">\n",
              "      <th></th>\n",
              "      <th>total_images</th>\n",
              "      <th>last_price</th>\n",
              "      <th>total_area</th>\n",
              "      <th>first_day_exposition</th>\n",
              "      <th>rooms</th>\n",
              "      <th>ceiling_height</th>\n",
              "      <th>floors_total</th>\n",
              "      <th>living_area</th>\n",
              "      <th>floor</th>\n",
              "      <th>is_apartment</th>\n",
              "      <th>...</th>\n",
              "      <th>kitchen_area</th>\n",
              "      <th>balcony</th>\n",
              "      <th>locality_name</th>\n",
              "      <th>airports_nearest</th>\n",
              "      <th>cityCenters_nearest</th>\n",
              "      <th>parks_around3000</th>\n",
              "      <th>parks_nearest</th>\n",
              "      <th>ponds_around3000</th>\n",
              "      <th>ponds_nearest</th>\n",
              "      <th>days_exposition</th>\n",
              "    </tr>\n",
              "  </thead>\n",
              "  <tbody>\n",
              "    <tr>\n",
              "      <th>0</th>\n",
              "      <td>20</td>\n",
              "      <td>13000000.0</td>\n",
              "      <td>108.00</td>\n",
              "      <td>2019-03-07T00:00:00</td>\n",
              "      <td>3</td>\n",
              "      <td>2.70</td>\n",
              "      <td>16.0</td>\n",
              "      <td>51.00</td>\n",
              "      <td>8</td>\n",
              "      <td>NaN</td>\n",
              "      <td>...</td>\n",
              "      <td>25.00</td>\n",
              "      <td>NaN</td>\n",
              "      <td>Санкт-Петербург</td>\n",
              "      <td>18863.0</td>\n",
              "      <td>16028.0</td>\n",
              "      <td>1.0</td>\n",
              "      <td>482.0</td>\n",
              "      <td>2.0</td>\n",
              "      <td>755.0</td>\n",
              "      <td>NaN</td>\n",
              "    </tr>\n",
              "    <tr>\n",
              "      <th>1</th>\n",
              "      <td>7</td>\n",
              "      <td>3350000.0</td>\n",
              "      <td>40.40</td>\n",
              "      <td>2018-12-04T00:00:00</td>\n",
              "      <td>1</td>\n",
              "      <td>NaN</td>\n",
              "      <td>11.0</td>\n",
              "      <td>18.60</td>\n",
              "      <td>1</td>\n",
              "      <td>NaN</td>\n",
              "      <td>...</td>\n",
              "      <td>11.00</td>\n",
              "      <td>2.0</td>\n",
              "      <td>посёлок Шушары</td>\n",
              "      <td>12817.0</td>\n",
              "      <td>18603.0</td>\n",
              "      <td>0.0</td>\n",
              "      <td>NaN</td>\n",
              "      <td>0.0</td>\n",
              "      <td>NaN</td>\n",
              "      <td>81.0</td>\n",
              "    </tr>\n",
              "    <tr>\n",
              "      <th>2</th>\n",
              "      <td>10</td>\n",
              "      <td>5196000.0</td>\n",
              "      <td>56.00</td>\n",
              "      <td>2015-08-20T00:00:00</td>\n",
              "      <td>2</td>\n",
              "      <td>NaN</td>\n",
              "      <td>5.0</td>\n",
              "      <td>34.30</td>\n",
              "      <td>4</td>\n",
              "      <td>NaN</td>\n",
              "      <td>...</td>\n",
              "      <td>8.30</td>\n",
              "      <td>0.0</td>\n",
              "      <td>Санкт-Петербург</td>\n",
              "      <td>21741.0</td>\n",
              "      <td>13933.0</td>\n",
              "      <td>1.0</td>\n",
              "      <td>90.0</td>\n",
              "      <td>2.0</td>\n",
              "      <td>574.0</td>\n",
              "      <td>558.0</td>\n",
              "    </tr>\n",
              "    <tr>\n",
              "      <th>3</th>\n",
              "      <td>0</td>\n",
              "      <td>64900000.0</td>\n",
              "      <td>159.00</td>\n",
              "      <td>2015-07-24T00:00:00</td>\n",
              "      <td>3</td>\n",
              "      <td>NaN</td>\n",
              "      <td>14.0</td>\n",
              "      <td>NaN</td>\n",
              "      <td>9</td>\n",
              "      <td>NaN</td>\n",
              "      <td>...</td>\n",
              "      <td>NaN</td>\n",
              "      <td>0.0</td>\n",
              "      <td>Санкт-Петербург</td>\n",
              "      <td>28098.0</td>\n",
              "      <td>6800.0</td>\n",
              "      <td>2.0</td>\n",
              "      <td>84.0</td>\n",
              "      <td>3.0</td>\n",
              "      <td>234.0</td>\n",
              "      <td>424.0</td>\n",
              "    </tr>\n",
              "    <tr>\n",
              "      <th>4</th>\n",
              "      <td>2</td>\n",
              "      <td>10000000.0</td>\n",
              "      <td>100.00</td>\n",
              "      <td>2018-06-19T00:00:00</td>\n",
              "      <td>2</td>\n",
              "      <td>3.03</td>\n",
              "      <td>14.0</td>\n",
              "      <td>32.00</td>\n",
              "      <td>13</td>\n",
              "      <td>NaN</td>\n",
              "      <td>...</td>\n",
              "      <td>41.00</td>\n",
              "      <td>NaN</td>\n",
              "      <td>Санкт-Петербург</td>\n",
              "      <td>31856.0</td>\n",
              "      <td>8098.0</td>\n",
              "      <td>2.0</td>\n",
              "      <td>112.0</td>\n",
              "      <td>1.0</td>\n",
              "      <td>48.0</td>\n",
              "      <td>121.0</td>\n",
              "    </tr>\n",
              "    <tr>\n",
              "      <th>5</th>\n",
              "      <td>10</td>\n",
              "      <td>2890000.0</td>\n",
              "      <td>30.40</td>\n",
              "      <td>2018-09-10T00:00:00</td>\n",
              "      <td>1</td>\n",
              "      <td>NaN</td>\n",
              "      <td>12.0</td>\n",
              "      <td>14.40</td>\n",
              "      <td>5</td>\n",
              "      <td>NaN</td>\n",
              "      <td>...</td>\n",
              "      <td>9.10</td>\n",
              "      <td>NaN</td>\n",
              "      <td>городской посёлок Янино-1</td>\n",
              "      <td>NaN</td>\n",
              "      <td>NaN</td>\n",
              "      <td>NaN</td>\n",
              "      <td>NaN</td>\n",
              "      <td>NaN</td>\n",
              "      <td>NaN</td>\n",
              "      <td>55.0</td>\n",
              "    </tr>\n",
              "    <tr>\n",
              "      <th>6</th>\n",
              "      <td>6</td>\n",
              "      <td>3700000.0</td>\n",
              "      <td>37.30</td>\n",
              "      <td>2017-11-02T00:00:00</td>\n",
              "      <td>1</td>\n",
              "      <td>NaN</td>\n",
              "      <td>26.0</td>\n",
              "      <td>10.60</td>\n",
              "      <td>6</td>\n",
              "      <td>NaN</td>\n",
              "      <td>...</td>\n",
              "      <td>14.40</td>\n",
              "      <td>1.0</td>\n",
              "      <td>посёлок Парголово</td>\n",
              "      <td>52996.0</td>\n",
              "      <td>19143.0</td>\n",
              "      <td>0.0</td>\n",
              "      <td>NaN</td>\n",
              "      <td>0.0</td>\n",
              "      <td>NaN</td>\n",
              "      <td>155.0</td>\n",
              "    </tr>\n",
              "    <tr>\n",
              "      <th>7</th>\n",
              "      <td>5</td>\n",
              "      <td>7915000.0</td>\n",
              "      <td>71.60</td>\n",
              "      <td>2019-04-18T00:00:00</td>\n",
              "      <td>2</td>\n",
              "      <td>NaN</td>\n",
              "      <td>24.0</td>\n",
              "      <td>NaN</td>\n",
              "      <td>22</td>\n",
              "      <td>NaN</td>\n",
              "      <td>...</td>\n",
              "      <td>18.90</td>\n",
              "      <td>2.0</td>\n",
              "      <td>Санкт-Петербург</td>\n",
              "      <td>23982.0</td>\n",
              "      <td>11634.0</td>\n",
              "      <td>0.0</td>\n",
              "      <td>NaN</td>\n",
              "      <td>0.0</td>\n",
              "      <td>NaN</td>\n",
              "      <td>NaN</td>\n",
              "    </tr>\n",
              "    <tr>\n",
              "      <th>8</th>\n",
              "      <td>20</td>\n",
              "      <td>2900000.0</td>\n",
              "      <td>33.16</td>\n",
              "      <td>2018-05-23T00:00:00</td>\n",
              "      <td>1</td>\n",
              "      <td>NaN</td>\n",
              "      <td>27.0</td>\n",
              "      <td>15.43</td>\n",
              "      <td>26</td>\n",
              "      <td>NaN</td>\n",
              "      <td>...</td>\n",
              "      <td>8.81</td>\n",
              "      <td>NaN</td>\n",
              "      <td>посёлок Мурино</td>\n",
              "      <td>NaN</td>\n",
              "      <td>NaN</td>\n",
              "      <td>NaN</td>\n",
              "      <td>NaN</td>\n",
              "      <td>NaN</td>\n",
              "      <td>NaN</td>\n",
              "      <td>189.0</td>\n",
              "    </tr>\n",
              "    <tr>\n",
              "      <th>9</th>\n",
              "      <td>18</td>\n",
              "      <td>5400000.0</td>\n",
              "      <td>61.00</td>\n",
              "      <td>2017-02-26T00:00:00</td>\n",
              "      <td>3</td>\n",
              "      <td>2.50</td>\n",
              "      <td>9.0</td>\n",
              "      <td>43.60</td>\n",
              "      <td>7</td>\n",
              "      <td>NaN</td>\n",
              "      <td>...</td>\n",
              "      <td>6.50</td>\n",
              "      <td>2.0</td>\n",
              "      <td>Санкт-Петербург</td>\n",
              "      <td>50898.0</td>\n",
              "      <td>15008.0</td>\n",
              "      <td>0.0</td>\n",
              "      <td>NaN</td>\n",
              "      <td>0.0</td>\n",
              "      <td>NaN</td>\n",
              "      <td>289.0</td>\n",
              "    </tr>\n",
              "    <tr>\n",
              "      <th>10</th>\n",
              "      <td>5</td>\n",
              "      <td>5050000.0</td>\n",
              "      <td>39.60</td>\n",
              "      <td>2017-11-16T00:00:00</td>\n",
              "      <td>1</td>\n",
              "      <td>2.67</td>\n",
              "      <td>12.0</td>\n",
              "      <td>20.30</td>\n",
              "      <td>3</td>\n",
              "      <td>NaN</td>\n",
              "      <td>...</td>\n",
              "      <td>8.50</td>\n",
              "      <td>NaN</td>\n",
              "      <td>Санкт-Петербург</td>\n",
              "      <td>38357.0</td>\n",
              "      <td>13878.0</td>\n",
              "      <td>1.0</td>\n",
              "      <td>310.0</td>\n",
              "      <td>2.0</td>\n",
              "      <td>553.0</td>\n",
              "      <td>137.0</td>\n",
              "    </tr>\n",
              "    <tr>\n",
              "      <th>11</th>\n",
              "      <td>9</td>\n",
              "      <td>3300000.0</td>\n",
              "      <td>44.00</td>\n",
              "      <td>2018-08-27T00:00:00</td>\n",
              "      <td>2</td>\n",
              "      <td>NaN</td>\n",
              "      <td>5.0</td>\n",
              "      <td>31.00</td>\n",
              "      <td>4</td>\n",
              "      <td>False</td>\n",
              "      <td>...</td>\n",
              "      <td>6.00</td>\n",
              "      <td>1.0</td>\n",
              "      <td>Ломоносов</td>\n",
              "      <td>48252.0</td>\n",
              "      <td>51677.0</td>\n",
              "      <td>0.0</td>\n",
              "      <td>NaN</td>\n",
              "      <td>0.0</td>\n",
              "      <td>NaN</td>\n",
              "      <td>7.0</td>\n",
              "    </tr>\n",
              "    <tr>\n",
              "      <th>12</th>\n",
              "      <td>10</td>\n",
              "      <td>3890000.0</td>\n",
              "      <td>54.00</td>\n",
              "      <td>2016-06-30T00:00:00</td>\n",
              "      <td>2</td>\n",
              "      <td>NaN</td>\n",
              "      <td>5.0</td>\n",
              "      <td>30.00</td>\n",
              "      <td>5</td>\n",
              "      <td>NaN</td>\n",
              "      <td>...</td>\n",
              "      <td>9.00</td>\n",
              "      <td>0.0</td>\n",
              "      <td>Сертолово</td>\n",
              "      <td>NaN</td>\n",
              "      <td>NaN</td>\n",
              "      <td>NaN</td>\n",
              "      <td>NaN</td>\n",
              "      <td>NaN</td>\n",
              "      <td>NaN</td>\n",
              "      <td>90.0</td>\n",
              "    </tr>\n",
              "    <tr>\n",
              "      <th>13</th>\n",
              "      <td>20</td>\n",
              "      <td>3550000.0</td>\n",
              "      <td>42.80</td>\n",
              "      <td>2017-07-01T00:00:00</td>\n",
              "      <td>2</td>\n",
              "      <td>2.56</td>\n",
              "      <td>5.0</td>\n",
              "      <td>27.00</td>\n",
              "      <td>5</td>\n",
              "      <td>NaN</td>\n",
              "      <td>...</td>\n",
              "      <td>5.20</td>\n",
              "      <td>1.0</td>\n",
              "      <td>Петергоф</td>\n",
              "      <td>37868.0</td>\n",
              "      <td>33058.0</td>\n",
              "      <td>1.0</td>\n",
              "      <td>294.0</td>\n",
              "      <td>3.0</td>\n",
              "      <td>298.0</td>\n",
              "      <td>366.0</td>\n",
              "    </tr>\n",
              "    <tr>\n",
              "      <th>14</th>\n",
              "      <td>1</td>\n",
              "      <td>4400000.0</td>\n",
              "      <td>36.00</td>\n",
              "      <td>2016-06-23T00:00:00</td>\n",
              "      <td>1</td>\n",
              "      <td>NaN</td>\n",
              "      <td>6.0</td>\n",
              "      <td>17.00</td>\n",
              "      <td>1</td>\n",
              "      <td>NaN</td>\n",
              "      <td>...</td>\n",
              "      <td>8.00</td>\n",
              "      <td>0.0</td>\n",
              "      <td>Пушкин</td>\n",
              "      <td>20782.0</td>\n",
              "      <td>30759.0</td>\n",
              "      <td>0.0</td>\n",
              "      <td>NaN</td>\n",
              "      <td>1.0</td>\n",
              "      <td>96.0</td>\n",
              "      <td>203.0</td>\n",
              "    </tr>\n",
              "    <tr>\n",
              "      <th>15</th>\n",
              "      <td>16</td>\n",
              "      <td>4650000.0</td>\n",
              "      <td>39.00</td>\n",
              "      <td>2017-11-18T00:00:00</td>\n",
              "      <td>1</td>\n",
              "      <td>NaN</td>\n",
              "      <td>14.0</td>\n",
              "      <td>20.50</td>\n",
              "      <td>5</td>\n",
              "      <td>NaN</td>\n",
              "      <td>...</td>\n",
              "      <td>7.60</td>\n",
              "      <td>1.0</td>\n",
              "      <td>Санкт-Петербург</td>\n",
              "      <td>12900.0</td>\n",
              "      <td>14259.0</td>\n",
              "      <td>1.0</td>\n",
              "      <td>590.0</td>\n",
              "      <td>1.0</td>\n",
              "      <td>296.0</td>\n",
              "      <td>19.0</td>\n",
              "    </tr>\n",
              "    <tr>\n",
              "      <th>16</th>\n",
              "      <td>11</td>\n",
              "      <td>6700000.0</td>\n",
              "      <td>82.00</td>\n",
              "      <td>2017-11-23T00:00:00</td>\n",
              "      <td>3</td>\n",
              "      <td>3.05</td>\n",
              "      <td>5.0</td>\n",
              "      <td>55.60</td>\n",
              "      <td>1</td>\n",
              "      <td>NaN</td>\n",
              "      <td>...</td>\n",
              "      <td>9.00</td>\n",
              "      <td>NaN</td>\n",
              "      <td>Санкт-Петербург</td>\n",
              "      <td>22108.0</td>\n",
              "      <td>10698.0</td>\n",
              "      <td>3.0</td>\n",
              "      <td>420.0</td>\n",
              "      <td>0.0</td>\n",
              "      <td>NaN</td>\n",
              "      <td>397.0</td>\n",
              "    </tr>\n",
              "    <tr>\n",
              "      <th>17</th>\n",
              "      <td>6</td>\n",
              "      <td>4180000.0</td>\n",
              "      <td>36.00</td>\n",
              "      <td>2016-09-09T00:00:00</td>\n",
              "      <td>1</td>\n",
              "      <td>NaN</td>\n",
              "      <td>17.0</td>\n",
              "      <td>16.50</td>\n",
              "      <td>7</td>\n",
              "      <td>NaN</td>\n",
              "      <td>...</td>\n",
              "      <td>11.00</td>\n",
              "      <td>1.0</td>\n",
              "      <td>Санкт-Петербург</td>\n",
              "      <td>33564.0</td>\n",
              "      <td>14616.0</td>\n",
              "      <td>0.0</td>\n",
              "      <td>NaN</td>\n",
              "      <td>1.0</td>\n",
              "      <td>859.0</td>\n",
              "      <td>571.0</td>\n",
              "    </tr>\n",
              "    <tr>\n",
              "      <th>18</th>\n",
              "      <td>8</td>\n",
              "      <td>3250000.0</td>\n",
              "      <td>31.00</td>\n",
              "      <td>2017-01-27T00:00:00</td>\n",
              "      <td>1</td>\n",
              "      <td>2.50</td>\n",
              "      <td>5.0</td>\n",
              "      <td>19.40</td>\n",
              "      <td>2</td>\n",
              "      <td>NaN</td>\n",
              "      <td>...</td>\n",
              "      <td>5.60</td>\n",
              "      <td>1.0</td>\n",
              "      <td>Санкт-Петербург</td>\n",
              "      <td>44060.0</td>\n",
              "      <td>10842.0</td>\n",
              "      <td>1.0</td>\n",
              "      <td>759.0</td>\n",
              "      <td>0.0</td>\n",
              "      <td>NaN</td>\n",
              "      <td>168.0</td>\n",
              "    </tr>\n",
              "    <tr>\n",
              "      <th>19</th>\n",
              "      <td>16</td>\n",
              "      <td>14200000.0</td>\n",
              "      <td>121.00</td>\n",
              "      <td>2019-01-09T00:00:00</td>\n",
              "      <td>3</td>\n",
              "      <td>2.75</td>\n",
              "      <td>16.0</td>\n",
              "      <td>76.00</td>\n",
              "      <td>8</td>\n",
              "      <td>NaN</td>\n",
              "      <td>...</td>\n",
              "      <td>12.00</td>\n",
              "      <td>NaN</td>\n",
              "      <td>Санкт-Петербург</td>\n",
              "      <td>38900.0</td>\n",
              "      <td>12843.0</td>\n",
              "      <td>0.0</td>\n",
              "      <td>NaN</td>\n",
              "      <td>0.0</td>\n",
              "      <td>NaN</td>\n",
              "      <td>97.0</td>\n",
              "    </tr>\n",
              "  </tbody>\n",
              "</table>\n",
              "<p>20 rows × 22 columns</p>\n",
              "</div>"
            ],
            "text/plain": [
              "    total_images  last_price  total_area first_day_exposition  rooms  \\\n",
              "0             20  13000000.0      108.00  2019-03-07T00:00:00      3   \n",
              "1              7   3350000.0       40.40  2018-12-04T00:00:00      1   \n",
              "2             10   5196000.0       56.00  2015-08-20T00:00:00      2   \n",
              "3              0  64900000.0      159.00  2015-07-24T00:00:00      3   \n",
              "4              2  10000000.0      100.00  2018-06-19T00:00:00      2   \n",
              "5             10   2890000.0       30.40  2018-09-10T00:00:00      1   \n",
              "6              6   3700000.0       37.30  2017-11-02T00:00:00      1   \n",
              "7              5   7915000.0       71.60  2019-04-18T00:00:00      2   \n",
              "8             20   2900000.0       33.16  2018-05-23T00:00:00      1   \n",
              "9             18   5400000.0       61.00  2017-02-26T00:00:00      3   \n",
              "10             5   5050000.0       39.60  2017-11-16T00:00:00      1   \n",
              "11             9   3300000.0       44.00  2018-08-27T00:00:00      2   \n",
              "12            10   3890000.0       54.00  2016-06-30T00:00:00      2   \n",
              "13            20   3550000.0       42.80  2017-07-01T00:00:00      2   \n",
              "14             1   4400000.0       36.00  2016-06-23T00:00:00      1   \n",
              "15            16   4650000.0       39.00  2017-11-18T00:00:00      1   \n",
              "16            11   6700000.0       82.00  2017-11-23T00:00:00      3   \n",
              "17             6   4180000.0       36.00  2016-09-09T00:00:00      1   \n",
              "18             8   3250000.0       31.00  2017-01-27T00:00:00      1   \n",
              "19            16  14200000.0      121.00  2019-01-09T00:00:00      3   \n",
              "\n",
              "    ceiling_height  floors_total  living_area  floor is_apartment  ...  \\\n",
              "0             2.70          16.0        51.00      8          NaN  ...   \n",
              "1              NaN          11.0        18.60      1          NaN  ...   \n",
              "2              NaN           5.0        34.30      4          NaN  ...   \n",
              "3              NaN          14.0          NaN      9          NaN  ...   \n",
              "4             3.03          14.0        32.00     13          NaN  ...   \n",
              "5              NaN          12.0        14.40      5          NaN  ...   \n",
              "6              NaN          26.0        10.60      6          NaN  ...   \n",
              "7              NaN          24.0          NaN     22          NaN  ...   \n",
              "8              NaN          27.0        15.43     26          NaN  ...   \n",
              "9             2.50           9.0        43.60      7          NaN  ...   \n",
              "10            2.67          12.0        20.30      3          NaN  ...   \n",
              "11             NaN           5.0        31.00      4        False  ...   \n",
              "12             NaN           5.0        30.00      5          NaN  ...   \n",
              "13            2.56           5.0        27.00      5          NaN  ...   \n",
              "14             NaN           6.0        17.00      1          NaN  ...   \n",
              "15             NaN          14.0        20.50      5          NaN  ...   \n",
              "16            3.05           5.0        55.60      1          NaN  ...   \n",
              "17             NaN          17.0        16.50      7          NaN  ...   \n",
              "18            2.50           5.0        19.40      2          NaN  ...   \n",
              "19            2.75          16.0        76.00      8          NaN  ...   \n",
              "\n",
              "    kitchen_area  balcony              locality_name  airports_nearest  \\\n",
              "0          25.00      NaN            Санкт-Петербург           18863.0   \n",
              "1          11.00      2.0             посёлок Шушары           12817.0   \n",
              "2           8.30      0.0            Санкт-Петербург           21741.0   \n",
              "3            NaN      0.0            Санкт-Петербург           28098.0   \n",
              "4          41.00      NaN            Санкт-Петербург           31856.0   \n",
              "5           9.10      NaN  городской посёлок Янино-1               NaN   \n",
              "6          14.40      1.0          посёлок Парголово           52996.0   \n",
              "7          18.90      2.0            Санкт-Петербург           23982.0   \n",
              "8           8.81      NaN             посёлок Мурино               NaN   \n",
              "9           6.50      2.0            Санкт-Петербург           50898.0   \n",
              "10          8.50      NaN            Санкт-Петербург           38357.0   \n",
              "11          6.00      1.0                  Ломоносов           48252.0   \n",
              "12          9.00      0.0                  Сертолово               NaN   \n",
              "13          5.20      1.0                   Петергоф           37868.0   \n",
              "14          8.00      0.0                     Пушкин           20782.0   \n",
              "15          7.60      1.0            Санкт-Петербург           12900.0   \n",
              "16          9.00      NaN            Санкт-Петербург           22108.0   \n",
              "17         11.00      1.0            Санкт-Петербург           33564.0   \n",
              "18          5.60      1.0            Санкт-Петербург           44060.0   \n",
              "19         12.00      NaN            Санкт-Петербург           38900.0   \n",
              "\n",
              "   cityCenters_nearest  parks_around3000  parks_nearest  ponds_around3000  \\\n",
              "0              16028.0               1.0          482.0               2.0   \n",
              "1              18603.0               0.0            NaN               0.0   \n",
              "2              13933.0               1.0           90.0               2.0   \n",
              "3               6800.0               2.0           84.0               3.0   \n",
              "4               8098.0               2.0          112.0               1.0   \n",
              "5                  NaN               NaN            NaN               NaN   \n",
              "6              19143.0               0.0            NaN               0.0   \n",
              "7              11634.0               0.0            NaN               0.0   \n",
              "8                  NaN               NaN            NaN               NaN   \n",
              "9              15008.0               0.0            NaN               0.0   \n",
              "10             13878.0               1.0          310.0               2.0   \n",
              "11             51677.0               0.0            NaN               0.0   \n",
              "12                 NaN               NaN            NaN               NaN   \n",
              "13             33058.0               1.0          294.0               3.0   \n",
              "14             30759.0               0.0            NaN               1.0   \n",
              "15             14259.0               1.0          590.0               1.0   \n",
              "16             10698.0               3.0          420.0               0.0   \n",
              "17             14616.0               0.0            NaN               1.0   \n",
              "18             10842.0               1.0          759.0               0.0   \n",
              "19             12843.0               0.0            NaN               0.0   \n",
              "\n",
              "    ponds_nearest  days_exposition  \n",
              "0           755.0              NaN  \n",
              "1             NaN             81.0  \n",
              "2           574.0            558.0  \n",
              "3           234.0            424.0  \n",
              "4            48.0            121.0  \n",
              "5             NaN             55.0  \n",
              "6             NaN            155.0  \n",
              "7             NaN              NaN  \n",
              "8             NaN            189.0  \n",
              "9             NaN            289.0  \n",
              "10          553.0            137.0  \n",
              "11            NaN              7.0  \n",
              "12            NaN             90.0  \n",
              "13          298.0            366.0  \n",
              "14           96.0            203.0  \n",
              "15          296.0             19.0  \n",
              "16            NaN            397.0  \n",
              "17          859.0            571.0  \n",
              "18            NaN            168.0  \n",
              "19            NaN             97.0  \n",
              "\n",
              "[20 rows x 22 columns]"
            ]
          },
          "execution_count": 3,
          "metadata": {},
          "output_type": "execute_result"
        }
      ],
      "source": [
        "data.head(20)"
      ]
    },
    {
      "cell_type": "markdown",
      "metadata": {
        "id": "6pHBgLOAXWW4"
      },
      "source": [
        "По представленным 20 строкам датафрейма можно сказать, что:\n",
        " * Имеется большое количество пропуском, почти во всех столбцах, к примеру `ceiling_height`, `is_apartment`, `balcony` и т.д., которые необходимо будет заполнить или пропустить\n",
        " * Не соответствие типа данных и заполненой информации в столбцах, к примеру `first_day_exposition` необходимо перевести в формат datetime"
      ]
    },
    {
      "cell_type": "markdown",
      "metadata": {
        "id": "tPGu4gx5XWW4"
      },
      "source": [
        "Построим гистограммы по все столбцам датафрейма, для общего представления рынка недвижимости в разрезе каждого параметра"
      ]
    },
    {
      "cell_type": "code",
      "execution_count": null,
      "metadata": {
        "scrolled": true,
        "id": "mkmxJlZDXWW4",
        "outputId": "039f86b8-5098-4e73-eac0-c5e43c780e39"
      },
      "outputs": [
        {
          "data": {
            "text/plain": [
              "array([[<AxesSubplot:title={'center':'total_images'}>,\n",
              "        <AxesSubplot:title={'center':'last_price'}>,\n",
              "        <AxesSubplot:title={'center':'total_area'}>,\n",
              "        <AxesSubplot:title={'center':'rooms'}>],\n",
              "       [<AxesSubplot:title={'center':'ceiling_height'}>,\n",
              "        <AxesSubplot:title={'center':'floors_total'}>,\n",
              "        <AxesSubplot:title={'center':'living_area'}>,\n",
              "        <AxesSubplot:title={'center':'floor'}>],\n",
              "       [<AxesSubplot:title={'center':'kitchen_area'}>,\n",
              "        <AxesSubplot:title={'center':'balcony'}>,\n",
              "        <AxesSubplot:title={'center':'airports_nearest'}>,\n",
              "        <AxesSubplot:title={'center':'cityCenters_nearest'}>],\n",
              "       [<AxesSubplot:title={'center':'parks_around3000'}>,\n",
              "        <AxesSubplot:title={'center':'parks_nearest'}>,\n",
              "        <AxesSubplot:title={'center':'ponds_around3000'}>,\n",
              "        <AxesSubplot:title={'center':'ponds_nearest'}>],\n",
              "       [<AxesSubplot:title={'center':'days_exposition'}>, <AxesSubplot:>,\n",
              "        <AxesSubplot:>, <AxesSubplot:>]], dtype=object)"
            ]
          },
          "execution_count": 4,
          "metadata": {},
          "output_type": "execute_result"
        },
        {
          "data": {
            "image/png": "[encoded data removed]",
            "text/plain": [
              "<Figure size 1080x1440 with 20 Axes>"
            ]
          },
          "metadata": {
            "needs_background": "light"
          },
          "output_type": "display_data"
        }
      ],
      "source": [
        "data.hist(figsize=(15, 20))"
      ]
    },
    {
      "cell_type": "markdown",
      "metadata": {
        "id": "QTE2E7gXXWW4"
      },
      "source": [
        "### **Вывод:**"
      ]
    },
    {
      "cell_type": "markdown",
      "metadata": {
        "id": "Ck8x5zKAXWW4"
      },
      "source": [
        "При ознакомленлении с датафреймом `real_estate_data.csv`, было установленно что он содержит информацию о объявлениях квартир, размещённых на Яндекс.Недвижимость.\n",
        "Имеется большое количество пропусков в ряде столбцов и не соответствие типов информации.\n",
        "На стадии предобработки необходимо:\n",
        " 1. Заполнить отсутсвующую информацию, либо оставить пропуски\n",
        " 2. Выявить явные и неявные дубликаты, исправить либо удалить их\n",
        " 3. Привести к необходимому типу данных информацию в некоторых столбцах\n",
        " 4. Выявить аномальные значения, исправить либо удалить"
      ]
    },
    {
      "cell_type": "markdown",
      "metadata": {
        "id": "la9vvcuTXWW4"
      },
      "source": [
        "## Предобработка данных"
      ]
    },
    {
      "cell_type": "markdown",
      "metadata": {
        "id": "VhBH4IhdXWW4"
      },
      "source": [
        "Подсчитаем количество пропусков по каждому столбцу"
      ]
    },
    {
      "cell_type": "code",
      "execution_count": null,
      "metadata": {
        "id": "MPXrzXlvXWW4",
        "outputId": "e04f8095-3fdc-4467-e38c-0a5b67e137b5"
      },
      "outputs": [
        {
          "data": {
            "text/plain": [
              "total_images                0\n",
              "last_price                  0\n",
              "total_area                  0\n",
              "first_day_exposition        0\n",
              "rooms                       0\n",
              "ceiling_height           9195\n",
              "floors_total               86\n",
              "living_area              1903\n",
              "floor                       0\n",
              "is_apartment            20924\n",
              "studio                      0\n",
              "open_plan                   0\n",
              "kitchen_area             2278\n",
              "balcony                 11519\n",
              "locality_name              49\n",
              "airports_nearest         5542\n",
              "cityCenters_nearest      5519\n",
              "parks_around3000         5518\n",
              "parks_nearest           15620\n",
              "ponds_around3000         5518\n",
              "ponds_nearest           14589\n",
              "days_exposition          3181\n",
              "dtype: int64"
            ]
          },
          "execution_count": 5,
          "metadata": {},
          "output_type": "execute_result"
        }
      ],
      "source": [
        "data.isna().sum()"
      ]
    },
    {
      "cell_type": "markdown",
      "metadata": {
        "id": "LeW2jdPqXWW5"
      },
      "source": [
        "### Анализ данных столбца `total_images` (количество фотографий в объявлении)"
      ]
    },
    {
      "cell_type": "markdown",
      "metadata": {
        "id": "zip90vx2XWW5"
      },
      "source": [
        "Просмотрим уникальные значения столбца `total_images`, содержащего инофрмацию о количестве фотографий в объявлении"
      ]
    },
    {
      "cell_type": "code",
      "execution_count": null,
      "metadata": {
        "id": "4grcGlzPXWW5",
        "outputId": "b8b5b6ca-c9f1-4beb-f8b9-250c9838d79d"
      },
      "outputs": [
        {
          "data": {
            "text/plain": [
              "array([20,  7, 10,  0,  2,  6,  5, 18,  9,  1, 16, 11,  8, 12, 13,  3, 15,\n",
              "       17, 14, 19, 32,  4, 35, 39, 23, 21, 27, 30, 24, 25, 28, 31, 22, 29,\n",
              "       26, 50, 42, 37])"
            ]
          },
          "execution_count": 6,
          "metadata": {},
          "output_type": "execute_result"
        }
      ],
      "source": [
        "data['total_images'].unique()"
      ]
    },
    {
      "cell_type": "markdown",
      "metadata": {
        "id": "A-qCuUPsXWW5"
      },
      "source": [
        "Построим гистограмму по столбцу `total_images`"
      ]
    },
    {
      "cell_type": "code",
      "execution_count": null,
      "metadata": {
        "id": "NWZy_Fl7XWW5",
        "outputId": "d8cef252-5c7e-45f1-d523-dd91148b8d62"
      },
      "outputs": [
        {
          "data": {
            "text/plain": [
              "count    23699.000000\n",
              "mean         9.858475\n",
              "std          5.682529\n",
              "min          0.000000\n",
              "25%          6.000000\n",
              "50%          9.000000\n",
              "75%         14.000000\n",
              "max         50.000000\n",
              "Name: total_images, dtype: float64"
            ]
          },
          "execution_count": 7,
          "metadata": {},
          "output_type": "execute_result"
        },
        {
          "data": {
            "image/png": "[encoded data removed]",
            "text/plain": [
              "<Figure size 432x288 with 1 Axes>"
            ]
          },
          "metadata": {
            "needs_background": "light"
          },
          "output_type": "display_data"
        }
      ],
      "source": [
        "data.hist('total_images', bins=35)\n",
        "data['total_images'].describe()"
      ]
    },
    {
      "cell_type": "markdown",
      "metadata": {
        "id": "kTGyx1dmXWW5"
      },
      "source": [
        "Диапазон количества размещаемых фотографий в объявлении от 0 до 50, в среднеем люди размещают 9 фотографий в объявлении"
      ]
    },
    {
      "cell_type": "markdown",
      "metadata": {
        "id": "WedVDVsmXWW5"
      },
      "source": [
        "### Анализ данных столбца `last_price` (цена на момент снятия с публикации)"
      ]
    },
    {
      "cell_type": "markdown",
      "metadata": {
        "id": "Ho0kmnsXXWW5"
      },
      "source": [
        "Преобразуем формат данных столбца `last_price` в `int`, так как в цене не отображаются копейки"
      ]
    },
    {
      "cell_type": "code",
      "execution_count": null,
      "metadata": {
        "id": "WVzsrJVCXWW5"
      },
      "outputs": [],
      "source": [
        "data['last_price'] = data['last_price'].astype(int)"
      ]
    },
    {
      "cell_type": "markdown",
      "metadata": {
        "id": "sOFTKxK2XWW6"
      },
      "source": [
        "Просмотрим уникальные значения столбца `last_price`, цена квартиры на момент снятия с публикации"
      ]
    },
    {
      "cell_type": "code",
      "execution_count": null,
      "metadata": {
        "scrolled": true,
        "id": "mLtC6Ct0XWW6",
        "outputId": "76e06b23-f7ec-43e4-abcf-979718300bbe"
      },
      "outputs": [
        {
          "data": {
            "text/plain": [
              "last_price\n",
              "4500000      342\n",
              "3500000      291\n",
              "4300000      260\n",
              "4000000      260\n",
              "4200000      259\n",
              "            ... \n",
              "5898000        1\n",
              "5894000        1\n",
              "5886750        1\n",
              "5885900        1\n",
              "763000000      1\n",
              "Length: 2978, dtype: int64"
            ]
          },
          "execution_count": 9,
          "metadata": {},
          "output_type": "execute_result"
        }
      ],
      "source": [
        "data.value_counts('last_price')"
      ]
    },
    {
      "cell_type": "markdown",
      "metadata": {
        "id": "nkedNHT0XWW6"
      },
      "source": [
        "Удалим объявление с аномально низкой стоимостью квартиры 12190 (возможно пользователь перепутал и сдаёт квартиру, а не продает)"
      ]
    },
    {
      "cell_type": "code",
      "execution_count": null,
      "metadata": {
        "id": "ynpGiZgFXWW6"
      },
      "outputs": [],
      "source": [
        "data = data[data['last_price']!=12190]"
      ]
    },
    {
      "cell_type": "markdown",
      "metadata": {
        "id": "DEsbz2CmXWW6"
      },
      "source": [
        "Построим график и отобразим общую информацию по столбцу `last_price`"
      ]
    },
    {
      "cell_type": "code",
      "execution_count": null,
      "metadata": {
        "id": "7EKdDl31XWW6",
        "outputId": "59f327e3-658d-49f3-cc0a-42fa5d661c55"
      },
      "outputs": [
        {
          "data": {
            "text/plain": [
              "count    2.369800e+04\n",
              "mean     6.541824e+06\n",
              "std      1.088716e+07\n",
              "min      4.300000e+05\n",
              "25%      3.400000e+06\n",
              "50%      4.650000e+06\n",
              "75%      6.800000e+06\n",
              "max      7.630000e+08\n",
              "Name: last_price, dtype: float64"
            ]
          },
          "execution_count": 11,
          "metadata": {},
          "output_type": "execute_result"
        },
        {
          "data": {
            "image/png": "[encoded data removed]",
            "text/plain": [
              "<Figure size 648x288 with 1 Axes>"
            ]
          },
          "metadata": {
            "needs_background": "light"
          },
          "output_type": "display_data"
        }
      ],
      "source": [
        "t=  data.query('last_price>last_price.quantile(q=0.01) and last_price<last_price.quantile(q=0.95)')\n",
        "t.plot(y='last_price', kind='hist',bins=100, grid=True, figsize=(9,4), range=(1000000,10000000)).set(xlabel='Стоимость квартир', ylabel='кол-во квартир')\n",
        "data['last_price'].describe()"
      ]
    },
    {
      "cell_type": "markdown",
      "metadata": {
        "id": "dIWJNLzrXWW6"
      },
      "source": [
        "Минимальная стоимость квартиры 430000, максимальная стоимость 763000000. На графике видно что в среднем люди продают квартиры от 3.4 млн до 6.8, самая часто встречающаяся стоимость квартиры 4.6 млн. Так же около 170 квартир находятся в диапазоне от 10 млн до 763 млн."
      ]
    },
    {
      "cell_type": "markdown",
      "metadata": {
        "id": "WiN1T2awXWW7"
      },
      "source": [
        "### Анализ данных столбца `total_area` (общая площадь квартиры)"
      ]
    },
    {
      "cell_type": "markdown",
      "metadata": {
        "id": "-PyTSYKaXWW7"
      },
      "source": [
        "Изучим общую информацию по столбцу `total_area`, общая площадь квартиры"
      ]
    },
    {
      "cell_type": "code",
      "execution_count": null,
      "metadata": {
        "id": "Br0PmBVqXWW8",
        "outputId": "fdd5ac96-b8c3-439c-9901-8b4437cb35be"
      },
      "outputs": [
        {
          "data": {
            "text/plain": [
              "count    23698.000000\n",
              "mean        60.346598\n",
              "std         35.653434\n",
              "min         12.000000\n",
              "25%         40.000000\n",
              "50%         52.000000\n",
              "75%         69.875000\n",
              "max        900.000000\n",
              "Name: total_area, dtype: float64"
            ]
          },
          "execution_count": 12,
          "metadata": {},
          "output_type": "execute_result"
        },
        {
          "data": {
            "image/png": "[encoded data removed]",
            "text/plain": [
              "<Figure size 504x360 with 1 Axes>"
            ]
          },
          "metadata": {
            "needs_background": "light"
          },
          "output_type": "display_data"
        }
      ],
      "source": [
        "data.plot(y='total_area', kind='hist',bins=100, grid=True, figsize=(7,5), range=(0,400)).set(xlabel='площадь в м²', ylabel='кол-во квартир')\n",
        "data['total_area'].describe()"
      ]
    },
    {
      "cell_type": "markdown",
      "metadata": {
        "id": "tM30zu__XWW8"
      },
      "source": [
        "Площадь квартир находится в диапазоне от 12 кв.м. до 900 кв.м. Пик графика находится между 35-50 кв.м. Так же около 1500 объявление приходятся на квартиры с 50-60 кв. м."
      ]
    },
    {
      "cell_type": "markdown",
      "metadata": {
        "id": "fI8xjA_6XWW8"
      },
      "source": [
        "### Анализ данных столбца `first_day_exposition` (дата последней публикации объявления)"
      ]
    },
    {
      "cell_type": "markdown",
      "metadata": {
        "id": "_AmRWkdZXWW8"
      },
      "source": [
        "Преобразуем столбец `first_day_exposition`(дата последней публикации объявления) в формат даты и отбросим время публикации, так как оно не заполнялось"
      ]
    },
    {
      "cell_type": "code",
      "execution_count": null,
      "metadata": {
        "scrolled": true,
        "id": "BaIjfoWHXWW8",
        "outputId": "94c95fe6-b573-446d-fe1a-49d390c8492b"
      },
      "outputs": [
        {
          "data": {
            "text/html": [
              "<div>\n",
              "<style scoped>\n",
              "    .dataframe tbody tr th:only-of-type {\n",
              "        vertical-align: middle;\n",
              "    }\n",
              "\n",
              "    .dataframe tbody tr th {\n",
              "        vertical-align: top;\n",
              "    }\n",
              "\n",
              "    .dataframe thead th {\n",
              "        text-align: right;\n",
              "    }\n",
              "</style>\n",
              "<table border=\"1\" class=\"dataframe\">\n",
              "  <thead>\n",
              "    <tr style=\"text-align: right;\">\n",
              "      <th></th>\n",
              "      <th>total_images</th>\n",
              "      <th>last_price</th>\n",
              "      <th>total_area</th>\n",
              "      <th>first_day_exposition</th>\n",
              "      <th>rooms</th>\n",
              "      <th>ceiling_height</th>\n",
              "      <th>floors_total</th>\n",
              "      <th>living_area</th>\n",
              "      <th>floor</th>\n",
              "      <th>is_apartment</th>\n",
              "      <th>...</th>\n",
              "      <th>kitchen_area</th>\n",
              "      <th>balcony</th>\n",
              "      <th>locality_name</th>\n",
              "      <th>airports_nearest</th>\n",
              "      <th>cityCenters_nearest</th>\n",
              "      <th>parks_around3000</th>\n",
              "      <th>parks_nearest</th>\n",
              "      <th>ponds_around3000</th>\n",
              "      <th>ponds_nearest</th>\n",
              "      <th>days_exposition</th>\n",
              "    </tr>\n",
              "  </thead>\n",
              "  <tbody>\n",
              "    <tr>\n",
              "      <th>0</th>\n",
              "      <td>20</td>\n",
              "      <td>13000000</td>\n",
              "      <td>108.0</td>\n",
              "      <td>2019-03-07</td>\n",
              "      <td>3</td>\n",
              "      <td>2.7</td>\n",
              "      <td>16.0</td>\n",
              "      <td>51.0</td>\n",
              "      <td>8</td>\n",
              "      <td>NaN</td>\n",
              "      <td>...</td>\n",
              "      <td>25.0</td>\n",
              "      <td>NaN</td>\n",
              "      <td>Санкт-Петербург</td>\n",
              "      <td>18863.0</td>\n",
              "      <td>16028.0</td>\n",
              "      <td>1.0</td>\n",
              "      <td>482.0</td>\n",
              "      <td>2.0</td>\n",
              "      <td>755.0</td>\n",
              "      <td>NaN</td>\n",
              "    </tr>\n",
              "    <tr>\n",
              "      <th>1</th>\n",
              "      <td>7</td>\n",
              "      <td>3350000</td>\n",
              "      <td>40.4</td>\n",
              "      <td>2018-12-04</td>\n",
              "      <td>1</td>\n",
              "      <td>NaN</td>\n",
              "      <td>11.0</td>\n",
              "      <td>18.6</td>\n",
              "      <td>1</td>\n",
              "      <td>NaN</td>\n",
              "      <td>...</td>\n",
              "      <td>11.0</td>\n",
              "      <td>2.0</td>\n",
              "      <td>посёлок Шушары</td>\n",
              "      <td>12817.0</td>\n",
              "      <td>18603.0</td>\n",
              "      <td>0.0</td>\n",
              "      <td>NaN</td>\n",
              "      <td>0.0</td>\n",
              "      <td>NaN</td>\n",
              "      <td>81.0</td>\n",
              "    </tr>\n",
              "    <tr>\n",
              "      <th>2</th>\n",
              "      <td>10</td>\n",
              "      <td>5196000</td>\n",
              "      <td>56.0</td>\n",
              "      <td>2015-08-20</td>\n",
              "      <td>2</td>\n",
              "      <td>NaN</td>\n",
              "      <td>5.0</td>\n",
              "      <td>34.3</td>\n",
              "      <td>4</td>\n",
              "      <td>NaN</td>\n",
              "      <td>...</td>\n",
              "      <td>8.3</td>\n",
              "      <td>0.0</td>\n",
              "      <td>Санкт-Петербург</td>\n",
              "      <td>21741.0</td>\n",
              "      <td>13933.0</td>\n",
              "      <td>1.0</td>\n",
              "      <td>90.0</td>\n",
              "      <td>2.0</td>\n",
              "      <td>574.0</td>\n",
              "      <td>558.0</td>\n",
              "    </tr>\n",
              "  </tbody>\n",
              "</table>\n",
              "<p>3 rows × 22 columns</p>\n",
              "</div>"
            ],
            "text/plain": [
              "   total_images  last_price  total_area first_day_exposition  rooms  \\\n",
              "0            20    13000000       108.0           2019-03-07      3   \n",
              "1             7     3350000        40.4           2018-12-04      1   \n",
              "2            10     5196000        56.0           2015-08-20      2   \n",
              "\n",
              "   ceiling_height  floors_total  living_area  floor is_apartment  ...  \\\n",
              "0             2.7          16.0         51.0      8          NaN  ...   \n",
              "1             NaN          11.0         18.6      1          NaN  ...   \n",
              "2             NaN           5.0         34.3      4          NaN  ...   \n",
              "\n",
              "   kitchen_area  balcony    locality_name  airports_nearest  \\\n",
              "0          25.0      NaN  Санкт-Петербург           18863.0   \n",
              "1          11.0      2.0   посёлок Шушары           12817.0   \n",
              "2           8.3      0.0  Санкт-Петербург           21741.0   \n",
              "\n",
              "  cityCenters_nearest  parks_around3000  parks_nearest  ponds_around3000  \\\n",
              "0             16028.0               1.0          482.0               2.0   \n",
              "1             18603.0               0.0            NaN               0.0   \n",
              "2             13933.0               1.0           90.0               2.0   \n",
              "\n",
              "   ponds_nearest  days_exposition  \n",
              "0          755.0              NaN  \n",
              "1            NaN             81.0  \n",
              "2          574.0            558.0  \n",
              "\n",
              "[3 rows x 22 columns]"
            ]
          },
          "execution_count": 13,
          "metadata": {},
          "output_type": "execute_result"
        }
      ],
      "source": [
        "data['first_day_exposition']= pd.to_datetime(data['first_day_exposition'], format=\"%Y-%m-%d\")\n",
        "data.head(3)"
      ]
    },
    {
      "cell_type": "markdown",
      "metadata": {
        "id": "6F-QPOT4XWW8"
      },
      "source": [
        "Построим график по 10 самым популярным дня размещения объявлений"
      ]
    },
    {
      "cell_type": "code",
      "execution_count": null,
      "metadata": {
        "scrolled": false,
        "id": "mWnZmTGsXWW9",
        "outputId": "8bcdc815-4b42-41b7-9a52-30a7b0d5e9f1"
      },
      "outputs": [
        {
          "data": {
            "text/html": [
              "<div>\n",
              "<style scoped>\n",
              "    .dataframe tbody tr th:only-of-type {\n",
              "        vertical-align: middle;\n",
              "    }\n",
              "\n",
              "    .dataframe tbody tr th {\n",
              "        vertical-align: top;\n",
              "    }\n",
              "\n",
              "    .dataframe thead th {\n",
              "        text-align: right;\n",
              "    }\n",
              "</style>\n",
              "<table border=\"1\" class=\"dataframe\">\n",
              "  <thead>\n",
              "    <tr style=\"text-align: right;\">\n",
              "      <th></th>\n",
              "      <th>total_images</th>\n",
              "    </tr>\n",
              "  </thead>\n",
              "  <tbody>\n",
              "    <tr>\n",
              "      <th>count</th>\n",
              "      <td>1491.000000</td>\n",
              "    </tr>\n",
              "    <tr>\n",
              "      <th>mean</th>\n",
              "      <td>15.894031</td>\n",
              "    </tr>\n",
              "    <tr>\n",
              "      <th>std</th>\n",
              "      <td>18.314722</td>\n",
              "    </tr>\n",
              "    <tr>\n",
              "      <th>min</th>\n",
              "      <td>1.000000</td>\n",
              "    </tr>\n",
              "    <tr>\n",
              "      <th>25%</th>\n",
              "      <td>4.000000</td>\n",
              "    </tr>\n",
              "    <tr>\n",
              "      <th>50%</th>\n",
              "      <td>10.000000</td>\n",
              "    </tr>\n",
              "    <tr>\n",
              "      <th>75%</th>\n",
              "      <td>25.000000</td>\n",
              "    </tr>\n",
              "    <tr>\n",
              "      <th>max</th>\n",
              "      <td>368.000000</td>\n",
              "    </tr>\n",
              "  </tbody>\n",
              "</table>\n",
              "</div>"
            ],
            "text/plain": [
              "       total_images\n",
              "count   1491.000000\n",
              "mean      15.894031\n",
              "std       18.314722\n",
              "min        1.000000\n",
              "25%        4.000000\n",
              "50%       10.000000\n",
              "75%       25.000000\n",
              "max      368.000000"
            ]
          },
          "execution_count": 14,
          "metadata": {},
          "output_type": "execute_result"
        },
        {
          "data": {
            "image/png": "[encoded data removed]",
            "text/plain": [
              "<Figure size 504x360 with 1 Axes>"
            ]
          },
          "metadata": {
            "needs_background": "light"
          },
          "output_type": "display_data"
        }
      ],
      "source": [
        "data.groupby('first_day_exposition').count().reset_index().sort_values('total_images', ascending=False).head(10).plot(y='total_images', x ='first_day_exposition', kind='barh', grid=True, figsize=(7,5), title='10 дней с набольшей подачей объявлений').set(xlabel='количество объявлений', ylabel='дата подачи объявления')\n",
        "data.groupby('first_day_exposition')['total_images'].count().reset_index().describe()"
      ]
    },
    {
      "cell_type": "markdown",
      "metadata": {
        "id": "jKdoIEs0XWW9"
      },
      "source": [
        "Просмотрев данные столбца можно сказать, что сервисом пользуются ежедневно, так как минимальное значаение объявлений в день равно 1, самое большое количество объявлений в день 368, в среднем в день выкладывается 15 объявлений."
      ]
    },
    {
      "cell_type": "markdown",
      "metadata": {
        "id": "5n3TKv-nXWW9"
      },
      "source": [
        "### Анализ данных столбца `floors_total` (всего этажей в доме)"
      ]
    },
    {
      "cell_type": "markdown",
      "metadata": {
        "id": "HpfYxQPoXWW9"
      },
      "source": [
        "Построим график этажности домов в обявлениях по продаже недвижимости"
      ]
    },
    {
      "cell_type": "code",
      "execution_count": null,
      "metadata": {
        "id": "k6JpLqYqXWW9",
        "outputId": "0bbc6563-ac72-44dc-e834-c63ddd93d6ee"
      },
      "outputs": [
        {
          "data": {
            "text/plain": [
              "count    23612.000000\n",
              "mean        10.673217\n",
              "std          6.596654\n",
              "min          1.000000\n",
              "25%          5.000000\n",
              "50%          9.000000\n",
              "75%         16.000000\n",
              "max         60.000000\n",
              "Name: floors_total, dtype: float64"
            ]
          },
          "execution_count": 15,
          "metadata": {},
          "output_type": "execute_result"
        },
        {
          "data": {
            "image/png": "[encoded data removed]",
            "text/plain": [
              "<Figure size 432x288 with 1 Axes>"
            ]
          },
          "metadata": {
            "needs_background": "light"
          },
          "output_type": "display_data"
        }
      ],
      "source": [
        "data.hist('floors_total', bins=40)\n",
        "data['floors_total'].describe()"
      ]
    },
    {
      "cell_type": "markdown",
      "metadata": {
        "id": "tEsUVb7RXWW9"
      },
      "source": [
        "В объявлениях имеется диапазон высоты зданий от 1 до 60 этажей. Большего всего продается квартир в 5 этажках. Потом идут девяти этажные здания."
      ]
    },
    {
      "cell_type": "markdown",
      "metadata": {
        "id": "gBRCBoT4XWW9"
      },
      "source": [
        "### Анализ данных столбца `is_apartment` (является ли недвижимость аппартаметами)"
      ]
    },
    {
      "cell_type": "markdown",
      "metadata": {
        "id": "6roJrLVfXWW-"
      },
      "source": [
        "Посмотрим уникальные значения столбца `is_apartment`(этот столбец типа булево, если недвижимость это аппартаменты, то будет True, иначе False)"
      ]
    },
    {
      "cell_type": "code",
      "execution_count": null,
      "metadata": {
        "id": "pRmY82KMXWW-",
        "outputId": "2004c738-6afd-4823-d880-6ba4e2bb5bf1"
      },
      "outputs": [
        {
          "name": "stdout",
          "output_type": "stream",
          "text": [
            "[nan False True]\n",
            "Количество значений NaN столбца is_apartment 20923\n"
          ]
        }
      ],
      "source": [
        "print(data['is_apartment'].unique())\n",
        "print('Количество значений NaN столбца is_apartment',data['is_apartment'].isna().sum())"
      ]
    },
    {
      "cell_type": "markdown",
      "metadata": {
        "id": "N07RteABXWW-"
      },
      "source": [
        "Преобразуем незаполненные строки столбца `is_apartment` в False, если их не заполнили соответственно это не аппартаменты.\n",
        "Преобразуем в тип булеан данные столбца.\n",
        "И построим диаграмму по проценту аппартаментов в объявлениях."
      ]
    },
    {
      "cell_type": "code",
      "execution_count": null,
      "metadata": {
        "id": "Ca7AIs5NXWW-",
        "outputId": "725f97b1-6ba4-41e2-8531-a351f4ee590d"
      },
      "outputs": [
        {
          "data": {
            "text/plain": [
              "[Text(0, 0.5, '')]"
            ]
          },
          "execution_count": 17,
          "metadata": {},
          "output_type": "execute_result"
        },
        {
          "data": {
            "image/png": "[encoded data removed]",
            "text/plain": [
              "<Figure size 432x288 with 1 Axes>"
            ]
          },
          "metadata": {},
          "output_type": "display_data"
        }
      ],
      "source": [
        "data['is_apartment'] = data['is_apartment'].fillna(False).astype(bool)\n",
        "data.groupby(['is_apartment']).count().plot(kind='pie', y='rooms',autopct='%.2f%%', title='Процент аппартаментов в объявлениях').set(ylabel='')"
      ]
    },
    {
      "cell_type": "markdown",
      "metadata": {
        "id": "ivzT7a1OXWW-"
      },
      "source": [
        "Из диаграммы видно, что  процент аппартаментов в объявлениях равен 0.2% от 23698"
      ]
    },
    {
      "cell_type": "markdown",
      "metadata": {
        "id": "QYGDUKaLXWW-"
      },
      "source": [
        "### Анализ данных столбца `studio` (является ли недвижимость студией)"
      ]
    },
    {
      "cell_type": "markdown",
      "metadata": {
        "id": "K16SgrWzXWW_"
      },
      "source": [
        "Построим диаграмму по проценту студий в объявлениях"
      ]
    },
    {
      "cell_type": "code",
      "execution_count": null,
      "metadata": {
        "id": "REr62dJPXWW_",
        "outputId": "917ff605-8fef-4a52-dafd-c63246e9323d"
      },
      "outputs": [
        {
          "data": {
            "text/plain": [
              "[Text(0, 0.5, '')]"
            ]
          },
          "execution_count": 18,
          "metadata": {},
          "output_type": "execute_result"
        },
        {
          "data": {
            "image/png": "[encoded data removed]",
            "text/plain": [
              "<Figure size 432x288 with 1 Axes>"
            ]
          },
          "metadata": {},
          "output_type": "display_data"
        }
      ],
      "source": [
        "data.groupby(['studio']).count().plot(kind='pie', y='rooms',autopct='%.2f%%',colors = ['pink', 'blue'], title='Процент студий в объявлениях').set(ylabel='')"
      ]
    },
    {
      "cell_type": "markdown",
      "metadata": {
        "id": "4pwuwzpfXWW_"
      },
      "source": [
        "Из диаграммы видно, что процент студий в объявлениях очень мал и равен 0.63% от 23698"
      ]
    },
    {
      "cell_type": "markdown",
      "metadata": {
        "id": "JbLwybeGXWW_"
      },
      "source": [
        "### Анализ данных столбца `balcony` (количество балконов)"
      ]
    },
    {
      "cell_type": "markdown",
      "metadata": {
        "id": "r6ldpYvEXWW_"
      },
      "source": [
        "Посмотрим количество уникальных значений в столбце `balcony`(количество балконов), значения NaN перезапишем 0, и преобразуем в тип `int`, так как невозможно иметь половину балкона."
      ]
    },
    {
      "cell_type": "code",
      "execution_count": null,
      "metadata": {
        "id": "c1rIE-8zXWW_",
        "outputId": "4729d63c-75a9-4360-e003-eacc8b958b69"
      },
      "outputs": [
        {
          "name": "stdout",
          "output_type": "stream",
          "text": [
            "[nan  2.  0.  1.  5.  4.  3.]\n"
          ]
        },
        {
          "data": {
            "text/plain": [
              "array([0, 2, 1, 5, 4, 3])"
            ]
          },
          "execution_count": 19,
          "metadata": {},
          "output_type": "execute_result"
        }
      ],
      "source": [
        "print(data['balcony'].unique())\n",
        "data['balcony']  = data['balcony'].fillna('0')\n",
        "data['balcony'] = data['balcony'].astype(int)\n",
        "data['balcony'].unique()"
      ]
    },
    {
      "cell_type": "markdown",
      "metadata": {
        "id": "IHkCUQAhXWW_"
      },
      "source": [
        "Построим график по столбцу `balcony`"
      ]
    },
    {
      "cell_type": "code",
      "execution_count": null,
      "metadata": {
        "id": "esPd6C68XWW_",
        "outputId": "4e2ddca7-2a50-4e5e-dc4c-ce1393f7cd69"
      },
      "outputs": [
        {
          "data": {
            "text/plain": [
              "count    23698.000000\n",
              "mean         0.591105\n",
              "std          0.959311\n",
              "min          0.000000\n",
              "25%          0.000000\n",
              "50%          0.000000\n",
              "75%          1.000000\n",
              "max          5.000000\n",
              "Name: balcony, dtype: float64"
            ]
          },
          "execution_count": 20,
          "metadata": {},
          "output_type": "execute_result"
        },
        {
          "data": {
            "image/png": "[encoded data removed]",
            "text/plain": [
              "<Figure size 432x288 with 1 Axes>"
            ]
          },
          "metadata": {
            "needs_background": "light"
          },
          "output_type": "display_data"
        }
      ],
      "source": [
        "data.hist('balcony')\n",
        "data['balcony'].describe()"
      ]
    },
    {
      "cell_type": "markdown",
      "metadata": {
        "id": "WD4xMmGeXWXA"
      },
      "source": [
        "Из графика видно, что более чем в половине объявлений отсутсвует балкон в помещении. В большинстве остальных обявлениях указан 1-2 балкона."
      ]
    },
    {
      "cell_type": "markdown",
      "metadata": {
        "id": "ufo88l90XWXA"
      },
      "source": [
        "### Анализ данных столбца `open_plan` (свободная планировка)"
      ]
    },
    {
      "cell_type": "markdown",
      "metadata": {
        "id": "tmFx5YEDXWXA"
      },
      "source": [
        "Построим диаграмму столбца `open_plan`(свободная планировка, содержит булевые значения True и False)"
      ]
    },
    {
      "cell_type": "code",
      "execution_count": null,
      "metadata": {
        "id": "yK4d6ApRXWXA",
        "outputId": "15c92fc1-619f-4503-c058-9fd88090a469"
      },
      "outputs": [
        {
          "data": {
            "text/plain": [
              "[Text(0, 0.5, '')]"
            ]
          },
          "execution_count": 21,
          "metadata": {},
          "output_type": "execute_result"
        },
        {
          "data": {
            "image/png": "[encoded data removed]",
            "text/plain": [
              "<Figure size 432x288 with 1 Axes>"
            ]
          },
          "metadata": {},
          "output_type": "display_data"
        }
      ],
      "source": [
        "data.groupby(['open_plan']).count().plot(kind='pie', y='rooms',autopct='%.2f%%',colors = ['green', 'grey'], title='Процент помещений со свободной планировкой в объявлениях').set(ylabel='')"
      ]
    },
    {
      "cell_type": "markdown",
      "metadata": {
        "id": "WHkpIuVvXWXA"
      },
      "source": [
        "На диаграмме видно, что процент квартир со свободной планировкой, мал и равен 0.28% от всего количества объявлений."
      ]
    },
    {
      "cell_type": "markdown",
      "metadata": {
        "id": "-NgN9tyRXWXA"
      },
      "source": [
        "### Анализ данных столбца `locality_name` (названия населённых пунктов)"
      ]
    },
    {
      "cell_type": "markdown",
      "metadata": {
        "id": "z5veUv1DXWXB"
      },
      "source": [
        "Проверим столбец `locality_name`(названия населённых пунктов) на наличиие неявных дубликатов"
      ]
    },
    {
      "cell_type": "code",
      "execution_count": null,
      "metadata": {
        "scrolled": true,
        "id": "PcS1OAPIXWXB",
        "outputId": "17a13756-d5c9-4f0f-f523-376b1683cdeb"
      },
      "outputs": [
        {
          "name": "stdout",
          "output_type": "stream",
          "text": [
            "Количество оригинальных названий населённых пунктов 364\n"
          ]
        },
        {
          "data": {
            "text/plain": [
              "array(['Санкт-Петербург', 'посёлок Шушары', 'городской посёлок Янино-1',\n",
              "       'посёлок Парголово', 'посёлок Мурино', 'Ломоносов', 'Сертолово',\n",
              "       'Петергоф', 'Пушкин', 'деревня Кудрово', 'Коммунар', 'Колпино',\n",
              "       'поселок городского типа Красный Бор', 'Гатчина', 'поселок Мурино',\n",
              "       'деревня Фёдоровское', 'Выборг', 'Кронштадт', 'Кировск',\n",
              "       'деревня Новое Девяткино', 'посёлок Металлострой',\n",
              "       'посёлок городского типа Лебяжье',\n",
              "       'посёлок городского типа Сиверский', 'поселок Молодцово',\n",
              "       'поселок городского типа Кузьмоловский',\n",
              "       'садовое товарищество Новая Ропша', 'Павловск',\n",
              "       'деревня Пикколово', 'Всеволожск', 'Волхов', 'Кингисепп',\n",
              "       'Приозерск', 'Сестрорецк', 'деревня Куттузи', 'посёлок Аннино',\n",
              "       'поселок городского типа Ефимовский', 'посёлок Плодовое',\n",
              "       'деревня Заклинье', 'поселок Торковичи', 'поселок Первомайское',\n",
              "       'Красное Село', 'посёлок Понтонный', 'Сясьстрой', 'деревня Старая',\n",
              "       'деревня Лесколово', 'посёлок Новый Свет', 'Сланцы',\n",
              "       'село Путилово', 'Ивангород', 'Мурино', 'Шлиссельбург',\n",
              "       'Никольское', 'Зеленогорск', 'Сосновый Бор', 'поселок Новый Свет',\n",
              "       'деревня Оржицы', 'деревня Кальтино', 'Кудрово',\n",
              "       'поселок Романовка', 'посёлок Бугры', 'поселок Бугры',\n",
              "       'поселок городского типа Рощино', 'Кириши', 'Луга', 'Волосово',\n",
              "       'Отрадное', 'село Павлово', 'поселок Оредеж', 'село Копорье',\n",
              "       'посёлок городского типа Красный Бор', 'посёлок Молодёжное',\n",
              "       'Тихвин', 'посёлок Победа', 'деревня Нурма',\n",
              "       'поселок городского типа Синявино', 'Тосно',\n",
              "       'посёлок городского типа Кузьмоловский', 'посёлок Стрельна',\n",
              "       'Бокситогорск', 'посёлок Александровская', 'деревня Лопухинка',\n",
              "       'Пикалёво', 'поселок Терволово',\n",
              "       'поселок городского типа Советский', 'Подпорожье',\n",
              "       'посёлок Петровское', 'посёлок городского типа Токсово',\n",
              "       'поселок Сельцо', 'посёлок городского типа Вырица',\n",
              "       'деревня Кипень', 'деревня Келози', 'деревня Вартемяги',\n",
              "       'посёлок Тельмана', 'поселок Севастьяново',\n",
              "       'городской поселок Большая Ижора', nan,\n",
              "       'городской посёлок Павлово', 'деревня Агалатово',\n",
              "       'посёлок Новогорелово', 'городской посёлок Лесогорский',\n",
              "       'деревня Лаголово', 'поселок Цвелодубово',\n",
              "       'поселок городского типа Рахья', 'поселок городского типа Вырица',\n",
              "       'деревня Белогорка', 'поселок Заводской',\n",
              "       'городской посёлок Новоселье', 'деревня Большие Колпаны',\n",
              "       'деревня Горбунки', 'деревня Батово', 'деревня Заневка',\n",
              "       'деревня Иссад', 'Приморск', 'городской посёлок Фёдоровское',\n",
              "       'деревня Мистолово', 'Новая Ладога', 'поселок Зимитицы',\n",
              "       'поселок Барышево', 'деревня Разметелево',\n",
              "       'поселок городского типа имени Свердлова', 'деревня Пеники',\n",
              "       'поселок Рябово', 'деревня Пудомяги', 'поселок станции Корнево',\n",
              "       'деревня Низино', 'деревня Бегуницы', 'посёлок Поляны',\n",
              "       'городской посёлок Мга', 'поселок Елизаветино',\n",
              "       'посёлок городского типа Кузнечное', 'деревня Колтуши',\n",
              "       'поселок Запорожское', 'посёлок городского типа Рощино',\n",
              "       'деревня Гостилицы', 'деревня Малое Карлино',\n",
              "       'посёлок Мичуринское', 'посёлок городского типа имени Морозова',\n",
              "       'посёлок Песочный', 'посёлок Сосново', 'деревня Аро',\n",
              "       'поселок Ильичёво', 'посёлок городского типа Тайцы',\n",
              "       'деревня Малое Верево', 'деревня Извара', 'поселок станции Вещево',\n",
              "       'село Паша', 'деревня Калитино',\n",
              "       'посёлок городского типа Ульяновка', 'деревня Чудской Бор',\n",
              "       'поселок городского типа Дубровка', 'деревня Мины',\n",
              "       'поселок Войсковицы', 'посёлок городского типа имени Свердлова',\n",
              "       'деревня Коркино', 'посёлок Ропша',\n",
              "       'поселок городского типа Приладожский', 'посёлок Щеглово',\n",
              "       'посёлок Гаврилово', 'Лодейное Поле', 'деревня Рабитицы',\n",
              "       'поселок городского типа Никольский', 'деревня Кузьмолово',\n",
              "       'деревня Малые Колпаны', 'поселок Тельмана',\n",
              "       'посёлок Петро-Славянка', 'городской посёлок Назия',\n",
              "       'посёлок Репино', 'посёлок Ильичёво', 'поселок Углово',\n",
              "       'поселок Старая Малукса', 'садовое товарищество Рахья',\n",
              "       'поселок Аннино', 'поселок Победа', 'деревня Меньково',\n",
              "       'деревня Старые Бегуницы', 'посёлок Сапёрный', 'поселок Семрино',\n",
              "       'поселок Гаврилово', 'поселок Глажево', 'поселок Кобринское',\n",
              "       'деревня Гарболово', 'деревня Юкки',\n",
              "       'поселок станции Приветнинское', 'деревня Мануйлово',\n",
              "       'деревня Пчева', 'поселок Поляны', 'поселок Цвылёво',\n",
              "       'поселок Мельниково', 'посёлок Пудость', 'посёлок Усть-Луга',\n",
              "       'Светогорск', 'Любань', 'поселок Селезнёво',\n",
              "       'поселок городского типа Рябово', 'Каменногорск', 'деревня Кривко',\n",
              "       'поселок Глебычево', 'деревня Парицы', 'поселок Жилпосёлок',\n",
              "       'посёлок городского типа Мга', 'городской поселок Янино-1',\n",
              "       'посёлок Войскорово', 'село Никольское', 'посёлок Терволово',\n",
              "       'поселок Стеклянный', 'посёлок городского типа Важины',\n",
              "       'посёлок Мыза-Ивановка', 'село Русско-Высоцкое',\n",
              "       'поселок городского типа Лебяжье',\n",
              "       'поселок городского типа Форносово', 'село Старая Ладога',\n",
              "       'поселок Житково', 'городской посёлок Виллози', 'деревня Лампово',\n",
              "       'деревня Шпаньково', 'деревня Лаврики', 'посёлок Сумино',\n",
              "       'посёлок Возрождение', 'деревня Старосиверская',\n",
              "       'посёлок Кикерино', 'поселок Возрождение',\n",
              "       'деревня Старое Хинколово', 'посёлок Пригородный',\n",
              "       'посёлок Торфяное', 'городской посёлок Будогощь',\n",
              "       'поселок Суходолье', 'поселок Красная Долина', 'деревня Хапо-Ое',\n",
              "       'поселок городского типа Дружная Горка', 'поселок Лисий Нос',\n",
              "       'деревня Яльгелево', 'посёлок Стеклянный', 'село Рождествено',\n",
              "       'деревня Старополье', 'посёлок Левашово', 'деревня Сяськелево',\n",
              "       'деревня Камышовка',\n",
              "       'садоводческое некоммерческое товарищество Лесная Поляна',\n",
              "       'деревня Хязельки', 'поселок Жилгородок',\n",
              "       'посёлок городского типа Павлово', 'деревня Ялгино',\n",
              "       'поселок Новый Учхоз', 'городской посёлок Рощино',\n",
              "       'поселок Гончарово', 'поселок Почап', 'посёлок Сапёрное',\n",
              "       'посёлок Платформа 69-й километр', 'поселок Каложицы',\n",
              "       'деревня Фалилеево', 'деревня Пельгора',\n",
              "       'поселок городского типа Лесогорский', 'деревня Торошковичи',\n",
              "       'посёлок Белоостров', 'посёлок Алексеевка', 'поселок Серебрянский',\n",
              "       'поселок Лукаши', 'поселок Петровское', 'деревня Щеглово',\n",
              "       'поселок Мичуринское', 'деревня Тарасово', 'поселок Кингисеппский',\n",
              "       'посёлок при железнодорожной станции Вещево', 'поселок Ушаки',\n",
              "       'деревня Котлы', 'деревня Сижно', 'деревня Торосово',\n",
              "       'посёлок Форт Красная Горка', 'поселок городского типа Токсово',\n",
              "       'деревня Новолисино', 'посёлок станции Громово', 'деревня Глинка',\n",
              "       'посёлок Мельниково', 'поселок городского типа Назия',\n",
              "       'деревня Старая Пустошь', 'поселок Коммунары', 'поселок Починок',\n",
              "       'посёлок городского типа Вознесенье', 'деревня Разбегаево',\n",
              "       'посёлок городского типа Рябово', 'поселок Гладкое',\n",
              "       'посёлок при железнодорожной станции Приветнинское',\n",
              "       'поселок Тёсово-4', 'посёлок Жилгородок', 'деревня Бор',\n",
              "       'посёлок Коробицыно', 'деревня Большая Вруда', 'деревня Курковицы',\n",
              "       'посёлок Лисий Нос', 'городской посёлок Советский',\n",
              "       'посёлок Кобралово', 'деревня Суоранда', 'поселок Кобралово',\n",
              "       'поселок городского типа Кондратьево',\n",
              "       'коттеджный поселок Счастье', 'поселок Любань', 'деревня Реброво',\n",
              "       'деревня Зимитицы', 'деревня Тойворово', 'поселок Семиозерье',\n",
              "       'поселок Лесное', 'поселок Совхозный', 'поселок Усть-Луга',\n",
              "       'посёлок Ленинское', 'посёлок Суйда',\n",
              "       'посёлок городского типа Форносово', 'деревня Нижние Осельки',\n",
              "       'посёлок станции Свирь', 'поселок Перово', 'Высоцк',\n",
              "       'поселок Гарболово', 'село Шум', 'поселок Котельский',\n",
              "       'поселок станции Лужайка', 'деревня Большая Пустомержа',\n",
              "       'поселок Красносельское', 'деревня Вахнова Кара', 'деревня Пижма',\n",
              "       'коттеджный поселок Кивеннапа Север', 'поселок Коробицыно',\n",
              "       'поселок Ромашки', 'посёлок Перово', 'деревня Каськово',\n",
              "       'деревня Куровицы', 'посёлок Плоское', 'поселок Сумино',\n",
              "       'поселок городского типа Большая Ижора', 'поселок Кирпичное',\n",
              "       'деревня Ям-Тесово', 'деревня Раздолье', 'деревня Терпилицы',\n",
              "       'посёлок Шугозеро', 'деревня Ваганово', 'поселок Пушное',\n",
              "       'садовое товарищество Садко', 'посёлок Усть-Ижора',\n",
              "       'деревня Выскатка', 'городской посёлок Свирьстрой',\n",
              "       'поселок Громово', 'деревня Кисельня', 'посёлок Старая Малукса',\n",
              "       'деревня Трубников Бор', 'поселок Калитино',\n",
              "       'посёлок Высокоключевой', 'садовое товарищество Приладожский',\n",
              "       'посёлок Пансионат Зелёный Бор', 'деревня Ненимяки',\n",
              "       'поселок Пансионат Зелёный Бор', 'деревня Снегирёвка',\n",
              "       'деревня Рапполово', 'деревня Пустынка', 'поселок Рабитицы',\n",
              "       'деревня Большой Сабск', 'деревня Русско', 'деревня Лупполово',\n",
              "       'деревня Большое Рейзино', 'деревня Малая Романовка',\n",
              "       'поселок Дружноселье', 'поселок Пчевжа', 'поселок Володарское',\n",
              "       'деревня Нижняя', 'коттеджный посёлок Лесное', 'деревня Тихковицы',\n",
              "       'деревня Борисова Грива', 'посёлок Дзержинского'], dtype=object)"
            ]
          },
          "execution_count": 22,
          "metadata": {},
          "output_type": "execute_result"
        }
      ],
      "source": [
        "print('Количество оригинальных названий населённых пунктов', len(data.groupby('locality_name')))\n",
        "data['locality_name'].unique()"
      ]
    },
    {
      "cell_type": "markdown",
      "metadata": {
        "id": "BJ_1jQNwXWXB"
      },
      "source": [
        "Убираем неявные дубликаты и проверяем изменения"
      ]
    },
    {
      "cell_type": "code",
      "execution_count": null,
      "metadata": {
        "scrolled": true,
        "id": "Ii5aApmoXWXB",
        "outputId": "6dbfda40-cdc8-4fe0-da81-529edcac517a"
      },
      "outputs": [
        {
          "name": "stdout",
          "output_type": "stream",
          "text": [
            "Количество оригинальных названий населённых пунктов 319\n"
          ]
        },
        {
          "data": {
            "text/plain": [
              "array(['Санкт-Петербург', 'посёлок Шушары',\n",
              "       'посёлок городского типа Янино-1', 'посёлок Парголово', 'Мурино',\n",
              "       'Ломоносов', 'Сертолово', 'Петергоф', 'Пушкин', 'Кудрово',\n",
              "       'Коммунар', 'Колпино', 'посёлок городского типа Красный Бор',\n",
              "       'Гатчина', 'деревня Фёдоровское', 'Выборг', 'Кронштадт', 'Кировск',\n",
              "       'деревня Новое Девяткино', 'посёлок Металлострой',\n",
              "       'посёлок городского типа Лебяжье',\n",
              "       'посёлок городского типа Сиверский', 'посёлок Молодцово',\n",
              "       'посёлок городского типа Кузьмоловский',\n",
              "       'садовое товарищество Новая Ропша', 'Павловск',\n",
              "       'деревня Пикколово', 'Всеволожск', 'Волхов', 'Кингисепп',\n",
              "       'Приозерск', 'Сестрорецк', 'деревня Куттузи', 'посёлок Аннино',\n",
              "       'посёлок городского типа Ефимовский', 'посёлок Плодовое',\n",
              "       'деревня Заклинье', 'посёлок Торковичи', 'посёлок Первомайское',\n",
              "       'Красное Село', 'посёлок Понтонный', 'Сясьстрой', 'деревня Старая',\n",
              "       'деревня Лесколово', 'посёлок Новый Свет', 'Сланцы',\n",
              "       'село Путилово', 'Ивангород', 'Шлиссельбург', 'Никольское',\n",
              "       'Зеленогорск', 'Сосновый Бор', 'деревня Оржицы',\n",
              "       'деревня Кальтино', 'посёлок Романовка', 'посёлок Бугры',\n",
              "       'посёлок городского типа Рощино', 'Кириши', 'Луга', 'Волосово',\n",
              "       'Отрадное', 'село Павлово', 'посёлок Оредеж', 'село Копорье',\n",
              "       'посёлок Молодёжное', 'Тихвин', 'посёлок Победа', 'деревня Нурма',\n",
              "       'посёлок городского типа Синявино', 'Тосно', 'посёлок Стрельна',\n",
              "       'Бокситогорск', 'посёлок Александровская', 'деревня Лопухинка',\n",
              "       'Пикалёво', 'посёлок Терволово',\n",
              "       'посёлок городского типа Советский', 'Подпорожье',\n",
              "       'посёлок Петровское', 'посёлок городского типа Токсово',\n",
              "       'посёлок Сельцо', 'посёлок городского типа Вырица',\n",
              "       'деревня Кипень', 'деревня Келози', 'деревня Вартемяги',\n",
              "       'посёлок Тельмана', 'посёлок Севастьяново',\n",
              "       'посёлок городского типа Большая Ижора', nan,\n",
              "       'посёлок городского типа Павлово', 'деревня Агалатово',\n",
              "       'посёлок Новогорелово', 'посёлок городского типа Лесогорский',\n",
              "       'деревня Лаголово', 'посёлок Цвелодубово',\n",
              "       'посёлок городского типа Рахья', 'деревня Белогорка',\n",
              "       'посёлок Заводской', 'посёлок городского типа Новоселье',\n",
              "       'деревня Большие Колпаны', 'деревня Горбунки', 'деревня Батово',\n",
              "       'деревня Заневка', 'деревня Иссад', 'Приморск',\n",
              "       'посёлок городского типа Фёдоровское', 'деревня Мистолово',\n",
              "       'Новая Ладога', 'посёлок Зимитицы', 'посёлок Барышево',\n",
              "       'деревня Разметелево', 'посёлок городского типа имени Свердлова',\n",
              "       'деревня Пеники', 'посёлок Рябово', 'деревня Пудомяги',\n",
              "       'посёлок станции Корнево', 'деревня Низино', 'деревня Бегуницы',\n",
              "       'посёлок Поляны', 'посёлок городского типа Мга',\n",
              "       'посёлок Елизаветино', 'посёлок городского типа Кузнечное',\n",
              "       'деревня Колтуши', 'посёлок Запорожское', 'деревня Гостилицы',\n",
              "       'деревня Малое Карлино', 'посёлок Мичуринское',\n",
              "       'посёлок городского типа имени Морозова', 'посёлок Песочный',\n",
              "       'посёлок Сосново', 'деревня Аро', 'посёлок Ильичёво',\n",
              "       'посёлок городского типа Тайцы', 'деревня Малое Верево',\n",
              "       'деревня Извара', 'посёлок станции Вещево', 'село Паша',\n",
              "       'деревня Калитино', 'посёлок городского типа Ульяновка',\n",
              "       'деревня Чудской Бор', 'посёлок городского типа Дубровка',\n",
              "       'деревня Мины', 'посёлок Войсковицы', 'деревня Коркино',\n",
              "       'посёлок Ропша', 'посёлок городского типа Приладожский',\n",
              "       'посёлок Щеглово', 'посёлок Гаврилово', 'Лодейное Поле',\n",
              "       'деревня Рабитицы', 'посёлок городского типа Никольский',\n",
              "       'деревня Кузьмолово', 'деревня Малые Колпаны',\n",
              "       'посёлок Петро-Славянка', 'посёлок городского типа Назия',\n",
              "       'посёлок Репино', 'посёлок Углово', 'посёлок Старая Малукса',\n",
              "       'садовое товарищество Рахья', 'деревня Меньково',\n",
              "       'деревня Старые Бегуницы', 'посёлок Сапёрный', 'посёлок Семрино',\n",
              "       'посёлок Глажево', 'посёлок Кобринское', 'деревня Гарболово',\n",
              "       'деревня Юкки', 'посёлок станции Приветнинское',\n",
              "       'деревня Мануйлово', 'деревня Пчева', 'посёлок Цвылёво',\n",
              "       'посёлок Мельниково', 'посёлок Пудость', 'посёлок Усть-Луга',\n",
              "       'Светогорск', 'Любань', 'посёлок Селезнёво',\n",
              "       'посёлок городского типа Рябово', 'Каменногорск', 'деревня Кривко',\n",
              "       'посёлок Глебычево', 'деревня Парицы', 'посёлок Жилпосёлок',\n",
              "       'посёлок Войскорово', 'посёлок Стеклянный',\n",
              "       'посёлок городского типа Важины', 'посёлок Мыза-Ивановка',\n",
              "       'село Русско-Высоцкое', 'посёлок городского типа Форносово',\n",
              "       'село Старая Ладога', 'посёлок Житково',\n",
              "       'посёлок городского типа Виллози', 'деревня Лампово',\n",
              "       'деревня Шпаньково', 'деревня Лаврики', 'посёлок Сумино',\n",
              "       'посёлок Возрождение', 'деревня Старосиверская',\n",
              "       'посёлок Кикерино', 'деревня Старое Хинколово',\n",
              "       'посёлок Пригородный', 'посёлок Торфяное',\n",
              "       'посёлок городского типа Будогощь', 'посёлок Суходолье',\n",
              "       'посёлок Красная Долина', 'деревня Хапо-Ое',\n",
              "       'посёлок городского типа Дружная Горка', 'посёлок Лисий Нос',\n",
              "       'деревня Яльгелево', 'село Рождествено', 'деревня Старополье',\n",
              "       'посёлок Левашово', 'деревня Сяськелево', 'деревня Камышовка',\n",
              "       'садоводческое некоммерческое товарищество Лесная Поляна',\n",
              "       'деревня Хязельки', 'посёлок Жилгородок', 'деревня Ялгино',\n",
              "       'посёлок Новый Учхоз', 'посёлок Гончарово', 'посёлок Почап',\n",
              "       'посёлок Сапёрное', 'посёлок Платформа 69-й километр',\n",
              "       'посёлок Каложицы', 'деревня Фалилеево', 'деревня Пельгора',\n",
              "       'деревня Торошковичи', 'посёлок Белоостров', 'посёлок Алексеевка',\n",
              "       'посёлок Серебрянский', 'посёлок Лукаши', 'деревня Щеглово',\n",
              "       'деревня Тарасово', 'посёлок Кингисеппский',\n",
              "       'посёлок при железнодорожной станции Вещево', 'посёлок Ушаки',\n",
              "       'деревня Котлы', 'деревня Сижно', 'деревня Торосово',\n",
              "       'посёлок Форт Красная Горка', 'деревня Новолисино',\n",
              "       'посёлок станции Громово', 'деревня Глинка',\n",
              "       'деревня Старая Пустошь', 'посёлок Коммунары', 'посёлок Починок',\n",
              "       'посёлок городского типа Вознесенье', 'деревня Разбегаево',\n",
              "       'посёлок Гладкое',\n",
              "       'посёлок при железнодорожной станции Приветнинское',\n",
              "       'посёлок Тёсово-4', 'деревня Бор', 'посёлок Коробицыно',\n",
              "       'деревня Большая Вруда', 'деревня Курковицы', 'посёлок Кобралово',\n",
              "       'деревня Суоранда', 'посёлок городского типа Кондратьево',\n",
              "       'коттеджный посёлок Счастье', 'деревня Реброво',\n",
              "       'деревня Зимитицы', 'деревня Тойворово', 'посёлок Семиозерье',\n",
              "       'посёлок Лесное', 'посёлок Совхозный', 'посёлок Ленинское',\n",
              "       'посёлок Суйда', 'деревня Нижние Осельки', 'посёлок станции Свирь',\n",
              "       'посёлок Перово', 'Высоцк', 'посёлок Гарболово', 'село Шум',\n",
              "       'посёлок Котельский', 'посёлок станции Лужайка',\n",
              "       'деревня Большая Пустомержа', 'посёлок Красносельское',\n",
              "       'деревня Вахнова Кара', 'деревня Пижма',\n",
              "       'коттеджный посёлок Кивеннапа Север', 'посёлок Ромашки',\n",
              "       'деревня Каськово', 'деревня Куровицы', 'посёлок Плоское',\n",
              "       'посёлок Кирпичное', 'деревня Ям-Тесово', 'деревня Раздолье',\n",
              "       'деревня Терпилицы', 'посёлок Шугозеро', 'деревня Ваганово',\n",
              "       'посёлок Пушное', 'садовое товарищество Садко',\n",
              "       'посёлок Усть-Ижора', 'деревня Выскатка',\n",
              "       'посёлок городского типа Свирьстрой', 'посёлок Громово',\n",
              "       'деревня Кисельня', 'деревня Трубников Бор', 'посёлок Калитино',\n",
              "       'посёлок Высокоключевой', 'садовое товарищество Приладожский',\n",
              "       'посёлок Пансионат Зелёный Бор', 'деревня Ненимяки',\n",
              "       'деревня Снегирёвка', 'деревня Рапполово', 'деревня Пустынка',\n",
              "       'посёлок Рабитицы', 'деревня Большой Сабск', 'деревня Русско',\n",
              "       'деревня Лупполово', 'деревня Большое Рейзино',\n",
              "       'деревня Малая Романовка', 'посёлок Дружноселье', 'посёлок Пчевжа',\n",
              "       'посёлок Володарское', 'деревня Нижняя',\n",
              "       'коттеджный посёлок Лесное', 'деревня Тихковицы',\n",
              "       'деревня Борисова Грива', 'посёлок Дзержинского'], dtype=object)"
            ]
          },
          "execution_count": 23,
          "metadata": {},
          "output_type": "execute_result"
        }
      ],
      "source": [
        "data['locality_name'] = data['locality_name'].str.replace('поселок','посёлок')\n",
        "data['locality_name'] = data['locality_name'].str.replace('городской посёлок','посёлок городского типа')\n",
        "data['locality_name'] = data['locality_name'].str.replace('посёлок Мурино','Мурино')\n",
        "data['locality_name'] = data['locality_name'].str.replace('деревня Кудрово','Кудрово')\n",
        "data['locality_name'] = data['locality_name'].str.replace('посёлок Любань','Любань')\n",
        "data['locality_name'] = data['locality_name'].str.replace('село Никольское','Никольское')\n",
        "print('Количество оригинальных названий населённых пунктов', len(data.groupby('locality_name')))\n",
        "data['locality_name'].unique()"
      ]
    },
    {
      "cell_type": "markdown",
      "metadata": {
        "id": "-XnPI1rRXWXB"
      },
      "source": [
        "Построим график по 10 самым популярным населённым пунктам по подаче объявлений"
      ]
    },
    {
      "cell_type": "code",
      "execution_count": null,
      "metadata": {
        "scrolled": false,
        "id": "LSDt9p3cXWXB",
        "outputId": "e3cb1e64-7331-4725-d0b1-9d3254c7a1d7"
      },
      "outputs": [
        {
          "data": {
            "text/plain": [
              "[Text(0, 0.5, '')]"
            ]
          },
          "execution_count": 24,
          "metadata": {},
          "output_type": "execute_result"
        },
        {
          "data": {
            "image/png": "[encoded data removed]",
            "text/plain": [
              "<Figure size 432x648 with 1 Axes>"
            ]
          },
          "metadata": {},
          "output_type": "display_data"
        }
      ],
      "source": [
        "data.groupby('locality_name').count().sort_values('total_images',ascending=False).head(10).plot(kind='pie', y='total_images',autopct='%.2f%%',colors = ['orange', 'grey','green','yellow','red','blue','pink','brown','purple','white'], title='Рейтинг 10 насёленных пунктов по подаче объявлений',figsize=(6,9)).set(ylabel='')"
      ]
    },
    {
      "cell_type": "markdown",
      "metadata": {
        "id": "S4Nit3K2XWXB"
      },
      "source": [
        "Из графика видно, что лидером по размещению объявлений о продаже квартир является Санкт-Петербург, на него приходится более 81% обявлений, далее идут Мурино на него приходится более 3% объявлений"
      ]
    },
    {
      "cell_type": "markdown",
      "metadata": {
        "id": "ETp9-TCgXWXC"
      },
      "source": [
        "### Анализ данных столбца `ceiling_height` (высота потолков)"
      ]
    },
    {
      "cell_type": "markdown",
      "metadata": {
        "id": "F_ONBlyRXWXC"
      },
      "source": [
        "Посмотрим на уникальные значения столбца `ceiling_height`(высота потолков)"
      ]
    },
    {
      "cell_type": "code",
      "execution_count": null,
      "metadata": {
        "id": "asAagi5HXWXC",
        "outputId": "7824fa7f-e617-41d4-fe07-0159368db702"
      },
      "outputs": [
        {
          "name": "stdout",
          "output_type": "stream",
          "text": [
            "count    14503.000000\n",
            "mean         2.771500\n",
            "std          1.261099\n",
            "min          1.000000\n",
            "25%          2.520000\n",
            "50%          2.650000\n",
            "75%          2.800000\n",
            "max        100.000000\n",
            "Name: ceiling_height, dtype: float64\n"
          ]
        },
        {
          "data": {
            "text/plain": [
              "array([  2.7 ,    nan,   3.03,   2.5 ,   2.67,   2.56,   3.05,   2.75,\n",
              "         2.6 ,   2.9 ,   2.8 ,   2.55,   3.  ,   2.65,   3.2 ,   2.61,\n",
              "         3.25,   3.45,   2.77,   2.85,   2.64,   2.57,   4.15,   3.5 ,\n",
              "         3.3 ,   2.71,   4.  ,   2.47,   2.73,   2.84,   3.1 ,   2.34,\n",
              "         3.4 ,   3.06,   2.72,   2.54,   2.51,   2.78,   2.76,  25.  ,\n",
              "         2.58,   3.7 ,   2.52,   5.2 ,   2.87,   2.66,   2.59,   2.  ,\n",
              "         2.45,   3.6 ,   2.92,   3.11,   3.13,   3.8 ,   3.15,   3.55,\n",
              "         3.16,   3.62,   3.12,   2.53,   2.74,   2.96,   2.46,   5.3 ,\n",
              "         5.  ,   2.79,   2.95,   4.06,   2.94,   3.82,   3.54,   3.53,\n",
              "         2.83,   4.7 ,   2.4 ,   3.38,   3.01,   5.6 ,   3.65,   3.9 ,\n",
              "         3.18,   3.35,   2.3 ,   3.57,   2.48,   2.62,   2.82,   3.98,\n",
              "         2.63,   3.83,   3.52,   3.95,   3.75,   2.88,   3.67,   3.87,\n",
              "         3.66,   3.85,   3.86,   4.19,   3.24,   4.8 ,   4.5 ,   4.2 ,\n",
              "         3.36,  32.  ,   3.08,   3.68,   3.07,   3.37,   3.09,   8.  ,\n",
              "         3.26,   3.34,   2.81,   3.44,   2.97,   3.14,   4.37,   2.68,\n",
              "         3.22,   3.27,  27.  ,   4.1 ,   2.93,   3.46,  24.  ,   3.47,\n",
              "         3.33,   3.63,   3.32,  26.  ,   1.2 ,   8.3 ,   2.98,   2.86,\n",
              "         3.17,   4.4 ,   3.28,   3.04,   4.45,   5.5 ,   3.84,   3.23,\n",
              "         3.02,   3.21,   3.43,   3.78,   4.3 ,   3.39,   2.69,   3.31,\n",
              "         4.65,   3.56,   2.2 ,   3.51,   3.93,   3.42,   2.99,   3.49,\n",
              "        14.  ,   4.14,   2.91,   3.88,   1.75,   4.25,   3.29,  20.  ,\n",
              "         2.25,   3.76,   3.69,   6.  ,  22.6 ,   2.89,   3.58,   5.8 ,\n",
              "        27.5 ,   2.49,   4.9 ,   3.48,  10.3 ,   1.  , 100.  ,   3.59])"
            ]
          },
          "execution_count": 25,
          "metadata": {},
          "output_type": "execute_result"
        }
      ],
      "source": [
        "print(data['ceiling_height'].describe())\n",
        "data['ceiling_height'].unique()"
      ]
    },
    {
      "cell_type": "markdown",
      "metadata": {
        "id": "vzLP_MoiXWXC"
      },
      "source": [
        "В рельтатах имеется как аномально низкая (меньше 2.40 м) , так и большая высота потолков (от 20 метров).\n",
        "Уберем объявлений с высотой меньше 2.40 м, высоту более 20 метров, разделим на 10, скорее всего пользователи, некорректно заполнили инофрмацию."
      ]
    },
    {
      "cell_type": "code",
      "execution_count": null,
      "metadata": {
        "id": "jA8G6K8sXWXC"
      },
      "outputs": [],
      "source": [
        "data['ceiling_height'] = data['ceiling_height'].apply(lambda x: x if x < 20 else x/10)\n",
        "data = data[(data['ceiling_height']>2.39)]"
      ]
    },
    {
      "cell_type": "code",
      "execution_count": null,
      "metadata": {
        "id": "CMUVjXsAXWXC",
        "outputId": "17202d86-05d9-4adf-ab95-1c7e8cea9051"
      },
      "outputs": [
        {
          "data": {
            "text/plain": [
              "array([ 2.7 ,  3.03,  2.5 ,  2.67,  2.56,  3.05,  2.75,  2.6 ,  2.9 ,\n",
              "        2.8 ,  2.55,  3.  ,  2.65,  3.2 ,  2.61,  3.25,  3.45,  2.77,\n",
              "        2.85,  2.64,  2.57,  4.15,  3.5 ,  3.3 ,  2.71,  4.  ,  2.47,\n",
              "        2.73,  2.84,  3.1 ,  3.4 ,  3.06,  2.72,  2.54,  2.51,  2.78,\n",
              "        2.76,  2.58,  3.7 ,  2.52,  5.2 ,  2.87,  2.66,  2.59,  2.45,\n",
              "        3.6 ,  2.92,  3.11,  3.13,  3.8 ,  3.15,  3.55,  3.16,  3.62,\n",
              "        3.12,  2.53,  2.74,  2.96,  2.46,  5.3 ,  5.  ,  2.79,  2.95,\n",
              "        4.06,  2.94,  3.82,  3.54,  3.53,  2.83,  4.7 ,  2.4 ,  3.38,\n",
              "        3.01,  5.6 ,  3.65,  3.9 ,  3.18,  3.35,  3.57,  2.48,  2.62,\n",
              "        2.82,  3.98,  2.63,  3.83,  3.52,  3.95,  3.75,  2.88,  3.67,\n",
              "        3.87,  3.66,  3.85,  3.86,  4.19,  3.24,  4.8 ,  4.5 ,  4.2 ,\n",
              "        3.36,  3.08,  3.68,  3.07,  3.37,  3.09,  8.  ,  3.26,  3.34,\n",
              "        2.81,  3.44,  2.97,  3.14,  4.37,  2.68,  3.22,  3.27,  4.1 ,\n",
              "        2.93,  3.46,  3.47,  3.33,  3.63,  3.32,  8.3 ,  2.98,  2.86,\n",
              "        3.17,  4.4 ,  3.28,  3.04,  4.45,  5.5 ,  3.84,  3.23,  3.02,\n",
              "        3.21,  3.43,  3.78,  4.3 ,  3.39,  2.69,  3.31,  4.65,  3.56,\n",
              "        3.51,  3.93,  3.42,  2.99,  3.49, 14.  ,  4.14,  2.91,  3.88,\n",
              "        4.25,  3.29,  3.76,  3.69,  6.  ,  2.89,  3.58,  5.8 ,  2.49,\n",
              "        4.9 ,  3.48, 10.3 , 10.  ,  3.59])"
            ]
          },
          "execution_count": 27,
          "metadata": {},
          "output_type": "execute_result"
        }
      ],
      "source": [
        "data['ceiling_height'].unique()"
      ]
    },
    {
      "cell_type": "markdown",
      "metadata": {
        "id": "9ZhEwQPoXWXD"
      },
      "source": [
        "Построим график по высоте потолков в объявлениях"
      ]
    },
    {
      "cell_type": "code",
      "execution_count": null,
      "metadata": {
        "scrolled": false,
        "id": "zejGUr3PXWXD",
        "outputId": "0bbc5511-8947-49ad-e606-c37e93222568"
      },
      "outputs": [
        {
          "data": {
            "text/plain": [
              "count    14480.000000\n",
              "mean         2.730751\n",
              "std          0.318566\n",
              "min          2.400000\n",
              "25%          2.520000\n",
              "50%          2.650000\n",
              "75%          2.800000\n",
              "max         14.000000\n",
              "Name: ceiling_height, dtype: float64"
            ]
          },
          "execution_count": 28,
          "metadata": {},
          "output_type": "execute_result"
        },
        {
          "data": {
            "image/png": "[encoded data removed]",
            "text/plain": [
              "<Figure size 432x288 with 1 Axes>"
            ]
          },
          "metadata": {
            "needs_background": "light"
          },
          "output_type": "display_data"
        }
      ],
      "source": [
        "data['ceiling_height'].hist(range=(2,10), bins=40)\n",
        "data['ceiling_height'].describe()"
      ]
    },
    {
      "cell_type": "markdown",
      "metadata": {
        "id": "S2Gl_j8nXWXD"
      },
      "source": [
        "Минимальная высота потолков составляет 2.4 м, максимальная 14м, возможно это двухэтажная квартира.\n",
        "В среднем высота потолков составляет 2.7 м."
      ]
    },
    {
      "cell_type": "markdown",
      "metadata": {
        "id": "x4KhjBk-XWXD"
      },
      "source": [
        "### Анализ данных столбца `days_exposition` (сколько дней было размещенно объявление)"
      ]
    },
    {
      "cell_type": "markdown",
      "metadata": {
        "id": "sKfYAap9XWXD"
      },
      "source": [
        "Построим график по тому сколько дней было размещенно объявление"
      ]
    },
    {
      "cell_type": "code",
      "execution_count": null,
      "metadata": {
        "scrolled": false,
        "id": "ovZZdnf4XWXE",
        "outputId": "87139f67-5990-4131-a205-212505a0fae0"
      },
      "outputs": [
        {
          "data": {
            "text/plain": [
              "count    12031.000000\n",
              "mean       190.559222\n",
              "std        228.821999\n",
              "min          1.000000\n",
              "25%         45.000000\n",
              "50%        103.000000\n",
              "75%        248.000000\n",
              "max       1580.000000\n",
              "Name: days_exposition, dtype: float64"
            ]
          },
          "execution_count": 29,
          "metadata": {},
          "output_type": "execute_result"
        },
        {
          "data": {
            "image/png": "[encoded data removed]",
            "text/plain": [
              "<Figure size 432x288 with 1 Axes>"
            ]
          },
          "metadata": {
            "needs_background": "light"
          },
          "output_type": "display_data"
        }
      ],
      "source": [
        "data['days_exposition'].hist( bins=100)\n",
        "data['days_exposition'].describe()"
      ]
    },
    {
      "cell_type": "markdown",
      "metadata": {
        "id": "n0xHetFAXWXE"
      },
      "source": [
        "Из графика видно, что в основном люди размещают объявления от 45 до 100 дней, минимальное количество дней размещения объявления 1, максимально 1580 дней."
      ]
    },
    {
      "cell_type": "markdown",
      "metadata": {
        "id": "cGTMkt2ZXWXE"
      },
      "source": [
        "### Анализ данных столбца `rooms` (число комнат)"
      ]
    },
    {
      "cell_type": "markdown",
      "metadata": {
        "id": "GHWdUTBcXWXE"
      },
      "source": [
        "Просмотрим уникальные значения столбца `rooms`"
      ]
    },
    {
      "cell_type": "code",
      "execution_count": null,
      "metadata": {
        "id": "WgAWufGaXWXE",
        "outputId": "7133abb0-6634-4e85-badf-04dfbf8fa971"
      },
      "outputs": [
        {
          "name": "stdout",
          "output_type": "stream",
          "text": [
            "[ 3  2  1  4  6  5  7 11  0 14 10  8 15  9 16 12]\n"
          ]
        },
        {
          "data": {
            "text/plain": [
              "rooms\n",
              "2     4841\n",
              "1     4605\n",
              "3     3782\n",
              "4      800\n",
              "5      231\n",
              "0       82\n",
              "6       74\n",
              "7       43\n",
              "9        7\n",
              "8        6\n",
              "10       3\n",
              "11       2\n",
              "12       1\n",
              "14       1\n",
              "15       1\n",
              "16       1\n",
              "dtype: int64"
            ]
          },
          "execution_count": 30,
          "metadata": {},
          "output_type": "execute_result"
        }
      ],
      "source": [
        "print(data['rooms'].unique())\n",
        "data.value_counts('rooms')"
      ]
    },
    {
      "cell_type": "markdown",
      "metadata": {
        "id": "DArQwn6FXWXE"
      },
      "source": [
        "Проверим принадлежат ли нулевые значения комнат к типу квартир студия или свободная планировка"
      ]
    },
    {
      "cell_type": "code",
      "execution_count": null,
      "metadata": {
        "scrolled": true,
        "id": "lX_73AQzXWXE",
        "outputId": "823d01b3-898b-4159-87e0-1e0beaf86dd4"
      },
      "outputs": [
        {
          "data": {
            "text/html": [
              "<div>\n",
              "<style scoped>\n",
              "    .dataframe tbody tr th:only-of-type {\n",
              "        vertical-align: middle;\n",
              "    }\n",
              "\n",
              "    .dataframe tbody tr th {\n",
              "        vertical-align: top;\n",
              "    }\n",
              "\n",
              "    .dataframe thead th {\n",
              "        text-align: right;\n",
              "    }\n",
              "</style>\n",
              "<table border=\"1\" class=\"dataframe\">\n",
              "  <thead>\n",
              "    <tr style=\"text-align: right;\">\n",
              "      <th></th>\n",
              "      <th>total_images</th>\n",
              "      <th>last_price</th>\n",
              "      <th>total_area</th>\n",
              "      <th>first_day_exposition</th>\n",
              "      <th>rooms</th>\n",
              "      <th>ceiling_height</th>\n",
              "      <th>floors_total</th>\n",
              "      <th>living_area</th>\n",
              "      <th>floor</th>\n",
              "      <th>is_apartment</th>\n",
              "      <th>...</th>\n",
              "      <th>kitchen_area</th>\n",
              "      <th>balcony</th>\n",
              "      <th>locality_name</th>\n",
              "      <th>airports_nearest</th>\n",
              "      <th>cityCenters_nearest</th>\n",
              "      <th>parks_around3000</th>\n",
              "      <th>parks_nearest</th>\n",
              "      <th>ponds_around3000</th>\n",
              "      <th>ponds_nearest</th>\n",
              "      <th>days_exposition</th>\n",
              "    </tr>\n",
              "  </thead>\n",
              "  <tbody>\n",
              "    <tr>\n",
              "      <th>716</th>\n",
              "      <td>5</td>\n",
              "      <td>1500000</td>\n",
              "      <td>17.0</td>\n",
              "      <td>2017-06-07</td>\n",
              "      <td>0</td>\n",
              "      <td>2.70</td>\n",
              "      <td>9.0</td>\n",
              "      <td>12.0</td>\n",
              "      <td>1</td>\n",
              "      <td>False</td>\n",
              "      <td>...</td>\n",
              "      <td>NaN</td>\n",
              "      <td>0</td>\n",
              "      <td>посёлок Шушары</td>\n",
              "      <td>18654.0</td>\n",
              "      <td>29846.0</td>\n",
              "      <td>0.0</td>\n",
              "      <td>NaN</td>\n",
              "      <td>0.0</td>\n",
              "      <td>NaN</td>\n",
              "      <td>40.0</td>\n",
              "    </tr>\n",
              "    <tr>\n",
              "      <th>12996</th>\n",
              "      <td>8</td>\n",
              "      <td>1900000</td>\n",
              "      <td>18.0</td>\n",
              "      <td>2019-01-25</td>\n",
              "      <td>0</td>\n",
              "      <td>2.60</td>\n",
              "      <td>5.0</td>\n",
              "      <td>16.0</td>\n",
              "      <td>3</td>\n",
              "      <td>False</td>\n",
              "      <td>...</td>\n",
              "      <td>NaN</td>\n",
              "      <td>0</td>\n",
              "      <td>Санкт-Петербург</td>\n",
              "      <td>19573.0</td>\n",
              "      <td>15772.0</td>\n",
              "      <td>2.0</td>\n",
              "      <td>149.0</td>\n",
              "      <td>2.0</td>\n",
              "      <td>496.0</td>\n",
              "      <td>10.0</td>\n",
              "    </tr>\n",
              "    <tr>\n",
              "      <th>8755</th>\n",
              "      <td>1</td>\n",
              "      <td>1350000</td>\n",
              "      <td>18.8</td>\n",
              "      <td>2017-11-22</td>\n",
              "      <td>0</td>\n",
              "      <td>2.75</td>\n",
              "      <td>19.0</td>\n",
              "      <td>15.8</td>\n",
              "      <td>1</td>\n",
              "      <td>False</td>\n",
              "      <td>...</td>\n",
              "      <td>NaN</td>\n",
              "      <td>0</td>\n",
              "      <td>Санкт-Петербург</td>\n",
              "      <td>37636.0</td>\n",
              "      <td>14479.0</td>\n",
              "      <td>0.0</td>\n",
              "      <td>NaN</td>\n",
              "      <td>1.0</td>\n",
              "      <td>1127.0</td>\n",
              "      <td>128.0</td>\n",
              "    </tr>\n",
              "    <tr>\n",
              "      <th>8454</th>\n",
              "      <td>7</td>\n",
              "      <td>2250000</td>\n",
              "      <td>19.0</td>\n",
              "      <td>2019-03-12</td>\n",
              "      <td>0</td>\n",
              "      <td>3.00</td>\n",
              "      <td>6.0</td>\n",
              "      <td>NaN</td>\n",
              "      <td>2</td>\n",
              "      <td>False</td>\n",
              "      <td>...</td>\n",
              "      <td>NaN</td>\n",
              "      <td>0</td>\n",
              "      <td>Санкт-Петербург</td>\n",
              "      <td>12430.0</td>\n",
              "      <td>7316.0</td>\n",
              "      <td>1.0</td>\n",
              "      <td>238.0</td>\n",
              "      <td>3.0</td>\n",
              "      <td>374.0</td>\n",
              "      <td>44.0</td>\n",
              "    </tr>\n",
              "    <tr>\n",
              "      <th>9817</th>\n",
              "      <td>8</td>\n",
              "      <td>2190000</td>\n",
              "      <td>19.0</td>\n",
              "      <td>2018-10-12</td>\n",
              "      <td>0</td>\n",
              "      <td>3.50</td>\n",
              "      <td>5.0</td>\n",
              "      <td>15.0</td>\n",
              "      <td>1</td>\n",
              "      <td>False</td>\n",
              "      <td>...</td>\n",
              "      <td>NaN</td>\n",
              "      <td>0</td>\n",
              "      <td>Санкт-Петербург</td>\n",
              "      <td>29561.0</td>\n",
              "      <td>8264.0</td>\n",
              "      <td>2.0</td>\n",
              "      <td>383.0</td>\n",
              "      <td>1.0</td>\n",
              "      <td>781.0</td>\n",
              "      <td>89.0</td>\n",
              "    </tr>\n",
              "    <tr>\n",
              "      <th>...</th>\n",
              "      <td>...</td>\n",
              "      <td>...</td>\n",
              "      <td>...</td>\n",
              "      <td>...</td>\n",
              "      <td>...</td>\n",
              "      <td>...</td>\n",
              "      <td>...</td>\n",
              "      <td>...</td>\n",
              "      <td>...</td>\n",
              "      <td>...</td>\n",
              "      <td>...</td>\n",
              "      <td>...</td>\n",
              "      <td>...</td>\n",
              "      <td>...</td>\n",
              "      <td>...</td>\n",
              "      <td>...</td>\n",
              "      <td>...</td>\n",
              "      <td>...</td>\n",
              "      <td>...</td>\n",
              "      <td>...</td>\n",
              "      <td>...</td>\n",
              "    </tr>\n",
              "    <tr>\n",
              "      <th>10008</th>\n",
              "      <td>20</td>\n",
              "      <td>5050000</td>\n",
              "      <td>44.2</td>\n",
              "      <td>2017-09-14</td>\n",
              "      <td>0</td>\n",
              "      <td>2.70</td>\n",
              "      <td>9.0</td>\n",
              "      <td>32.2</td>\n",
              "      <td>1</td>\n",
              "      <td>False</td>\n",
              "      <td>...</td>\n",
              "      <td>NaN</td>\n",
              "      <td>0</td>\n",
              "      <td>Санкт-Петербург</td>\n",
              "      <td>24329.0</td>\n",
              "      <td>5955.0</td>\n",
              "      <td>0.0</td>\n",
              "      <td>NaN</td>\n",
              "      <td>2.0</td>\n",
              "      <td>520.0</td>\n",
              "      <td>69.0</td>\n",
              "    </tr>\n",
              "    <tr>\n",
              "      <th>13613</th>\n",
              "      <td>16</td>\n",
              "      <td>8100000</td>\n",
              "      <td>58.4</td>\n",
              "      <td>2019-04-26</td>\n",
              "      <td>0</td>\n",
              "      <td>3.30</td>\n",
              "      <td>7.0</td>\n",
              "      <td>33.0</td>\n",
              "      <td>6</td>\n",
              "      <td>False</td>\n",
              "      <td>...</td>\n",
              "      <td>NaN</td>\n",
              "      <td>0</td>\n",
              "      <td>Санкт-Петербург</td>\n",
              "      <td>14509.0</td>\n",
              "      <td>8288.0</td>\n",
              "      <td>0.0</td>\n",
              "      <td>NaN</td>\n",
              "      <td>0.0</td>\n",
              "      <td>NaN</td>\n",
              "      <td>NaN</td>\n",
              "    </tr>\n",
              "    <tr>\n",
              "      <th>21227</th>\n",
              "      <td>0</td>\n",
              "      <td>8200000</td>\n",
              "      <td>71.0</td>\n",
              "      <td>2017-07-21</td>\n",
              "      <td>0</td>\n",
              "      <td>5.80</td>\n",
              "      <td>5.0</td>\n",
              "      <td>68.0</td>\n",
              "      <td>5</td>\n",
              "      <td>False</td>\n",
              "      <td>...</td>\n",
              "      <td>NaN</td>\n",
              "      <td>0</td>\n",
              "      <td>Санкт-Петербург</td>\n",
              "      <td>20170.0</td>\n",
              "      <td>1261.0</td>\n",
              "      <td>2.0</td>\n",
              "      <td>295.0</td>\n",
              "      <td>3.0</td>\n",
              "      <td>366.0</td>\n",
              "      <td>30.0</td>\n",
              "    </tr>\n",
              "    <tr>\n",
              "      <th>20082</th>\n",
              "      <td>10</td>\n",
              "      <td>16300000</td>\n",
              "      <td>98.4</td>\n",
              "      <td>2017-11-08</td>\n",
              "      <td>0</td>\n",
              "      <td>3.10</td>\n",
              "      <td>5.0</td>\n",
              "      <td>60.5</td>\n",
              "      <td>2</td>\n",
              "      <td>False</td>\n",
              "      <td>...</td>\n",
              "      <td>NaN</td>\n",
              "      <td>0</td>\n",
              "      <td>Санкт-Петербург</td>\n",
              "      <td>26972.0</td>\n",
              "      <td>5819.0</td>\n",
              "      <td>0.0</td>\n",
              "      <td>NaN</td>\n",
              "      <td>1.0</td>\n",
              "      <td>674.0</td>\n",
              "      <td>537.0</td>\n",
              "    </tr>\n",
              "    <tr>\n",
              "      <th>19392</th>\n",
              "      <td>5</td>\n",
              "      <td>71000000</td>\n",
              "      <td>371.0</td>\n",
              "      <td>2018-07-26</td>\n",
              "      <td>0</td>\n",
              "      <td>3.57</td>\n",
              "      <td>7.0</td>\n",
              "      <td>NaN</td>\n",
              "      <td>6</td>\n",
              "      <td>False</td>\n",
              "      <td>...</td>\n",
              "      <td>NaN</td>\n",
              "      <td>0</td>\n",
              "      <td>Санкт-Петербург</td>\n",
              "      <td>25257.0</td>\n",
              "      <td>6060.0</td>\n",
              "      <td>1.0</td>\n",
              "      <td>761.0</td>\n",
              "      <td>1.0</td>\n",
              "      <td>584.0</td>\n",
              "      <td>90.0</td>\n",
              "    </tr>\n",
              "  </tbody>\n",
              "</table>\n",
              "<p>82 rows × 22 columns</p>\n",
              "</div>"
            ],
            "text/plain": [
              "       total_images  last_price  total_area first_day_exposition  rooms  \\\n",
              "716               5     1500000        17.0           2017-06-07      0   \n",
              "12996             8     1900000        18.0           2019-01-25      0   \n",
              "8755              1     1350000        18.8           2017-11-22      0   \n",
              "8454              7     2250000        19.0           2019-03-12      0   \n",
              "9817              8     2190000        19.0           2018-10-12      0   \n",
              "...             ...         ...         ...                  ...    ...   \n",
              "10008            20     5050000        44.2           2017-09-14      0   \n",
              "13613            16     8100000        58.4           2019-04-26      0   \n",
              "21227             0     8200000        71.0           2017-07-21      0   \n",
              "20082            10    16300000        98.4           2017-11-08      0   \n",
              "19392             5    71000000       371.0           2018-07-26      0   \n",
              "\n",
              "       ceiling_height  floors_total  living_area  floor  is_apartment  ...  \\\n",
              "716              2.70           9.0         12.0      1         False  ...   \n",
              "12996            2.60           5.0         16.0      3         False  ...   \n",
              "8755             2.75          19.0         15.8      1         False  ...   \n",
              "8454             3.00           6.0          NaN      2         False  ...   \n",
              "9817             3.50           5.0         15.0      1         False  ...   \n",
              "...               ...           ...          ...    ...           ...  ...   \n",
              "10008            2.70           9.0         32.2      1         False  ...   \n",
              "13613            3.30           7.0         33.0      6         False  ...   \n",
              "21227            5.80           5.0         68.0      5         False  ...   \n",
              "20082            3.10           5.0         60.5      2         False  ...   \n",
              "19392            3.57           7.0          NaN      6         False  ...   \n",
              "\n",
              "       kitchen_area  balcony    locality_name  airports_nearest  \\\n",
              "716             NaN        0   посёлок Шушары           18654.0   \n",
              "12996           NaN        0  Санкт-Петербург           19573.0   \n",
              "8755            NaN        0  Санкт-Петербург           37636.0   \n",
              "8454            NaN        0  Санкт-Петербург           12430.0   \n",
              "9817            NaN        0  Санкт-Петербург           29561.0   \n",
              "...             ...      ...              ...               ...   \n",
              "10008           NaN        0  Санкт-Петербург           24329.0   \n",
              "13613           NaN        0  Санкт-Петербург           14509.0   \n",
              "21227           NaN        0  Санкт-Петербург           20170.0   \n",
              "20082           NaN        0  Санкт-Петербург           26972.0   \n",
              "19392           NaN        0  Санкт-Петербург           25257.0   \n",
              "\n",
              "      cityCenters_nearest  parks_around3000  parks_nearest  ponds_around3000  \\\n",
              "716               29846.0               0.0            NaN               0.0   \n",
              "12996             15772.0               2.0          149.0               2.0   \n",
              "8755              14479.0               0.0            NaN               1.0   \n",
              "8454               7316.0               1.0          238.0               3.0   \n",
              "9817               8264.0               2.0          383.0               1.0   \n",
              "...                   ...               ...            ...               ...   \n",
              "10008              5955.0               0.0            NaN               2.0   \n",
              "13613              8288.0               0.0            NaN               0.0   \n",
              "21227              1261.0               2.0          295.0               3.0   \n",
              "20082              5819.0               0.0            NaN               1.0   \n",
              "19392              6060.0               1.0          761.0               1.0   \n",
              "\n",
              "       ponds_nearest  days_exposition  \n",
              "716              NaN             40.0  \n",
              "12996          496.0             10.0  \n",
              "8755          1127.0            128.0  \n",
              "8454           374.0             44.0  \n",
              "9817           781.0             89.0  \n",
              "...              ...              ...  \n",
              "10008          520.0             69.0  \n",
              "13613            NaN              NaN  \n",
              "21227          366.0             30.0  \n",
              "20082          674.0            537.0  \n",
              "19392          584.0             90.0  \n",
              "\n",
              "[82 rows x 22 columns]"
            ]
          },
          "execution_count": 31,
          "metadata": {},
          "output_type": "execute_result"
        }
      ],
      "source": [
        "data.query('rooms==0 and (studio==True or open_plan==True)').sort_values('total_area')"
      ]
    },
    {
      "cell_type": "markdown",
      "metadata": {
        "id": "kdeDLwx_XWXF"
      },
      "source": [
        "Проверим есть ли исключения квартиры более 100м и не студии"
      ]
    },
    {
      "cell_type": "code",
      "execution_count": null,
      "metadata": {
        "id": "RtjjyWAKXWXF",
        "outputId": "30023736-d8e6-4d58-fff9-94f4883daa84"
      },
      "outputs": [
        {
          "data": {
            "text/html": [
              "<div>\n",
              "<style scoped>\n",
              "    .dataframe tbody tr th:only-of-type {\n",
              "        vertical-align: middle;\n",
              "    }\n",
              "\n",
              "    .dataframe tbody tr th {\n",
              "        vertical-align: top;\n",
              "    }\n",
              "\n",
              "    .dataframe thead th {\n",
              "        text-align: right;\n",
              "    }\n",
              "</style>\n",
              "<table border=\"1\" class=\"dataframe\">\n",
              "  <thead>\n",
              "    <tr style=\"text-align: right;\">\n",
              "      <th></th>\n",
              "      <th>total_images</th>\n",
              "      <th>last_price</th>\n",
              "      <th>total_area</th>\n",
              "      <th>first_day_exposition</th>\n",
              "      <th>rooms</th>\n",
              "      <th>ceiling_height</th>\n",
              "      <th>floors_total</th>\n",
              "      <th>living_area</th>\n",
              "      <th>floor</th>\n",
              "      <th>is_apartment</th>\n",
              "      <th>...</th>\n",
              "      <th>kitchen_area</th>\n",
              "      <th>balcony</th>\n",
              "      <th>locality_name</th>\n",
              "      <th>airports_nearest</th>\n",
              "      <th>cityCenters_nearest</th>\n",
              "      <th>parks_around3000</th>\n",
              "      <th>parks_nearest</th>\n",
              "      <th>ponds_around3000</th>\n",
              "      <th>ponds_nearest</th>\n",
              "      <th>days_exposition</th>\n",
              "    </tr>\n",
              "  </thead>\n",
              "  <tbody>\n",
              "    <tr>\n",
              "      <th>19392</th>\n",
              "      <td>5</td>\n",
              "      <td>71000000</td>\n",
              "      <td>371.0</td>\n",
              "      <td>2018-07-26</td>\n",
              "      <td>0</td>\n",
              "      <td>3.57</td>\n",
              "      <td>7.0</td>\n",
              "      <td>NaN</td>\n",
              "      <td>6</td>\n",
              "      <td>False</td>\n",
              "      <td>...</td>\n",
              "      <td>NaN</td>\n",
              "      <td>0</td>\n",
              "      <td>Санкт-Петербург</td>\n",
              "      <td>25257.0</td>\n",
              "      <td>6060.0</td>\n",
              "      <td>1.0</td>\n",
              "      <td>761.0</td>\n",
              "      <td>1.0</td>\n",
              "      <td>584.0</td>\n",
              "      <td>90.0</td>\n",
              "    </tr>\n",
              "  </tbody>\n",
              "</table>\n",
              "<p>1 rows × 22 columns</p>\n",
              "</div>"
            ],
            "text/plain": [
              "       total_images  last_price  total_area first_day_exposition  rooms  \\\n",
              "19392             5    71000000       371.0           2018-07-26      0   \n",
              "\n",
              "       ceiling_height  floors_total  living_area  floor  is_apartment  ...  \\\n",
              "19392            3.57           7.0          NaN      6         False  ...   \n",
              "\n",
              "       kitchen_area  balcony    locality_name  airports_nearest  \\\n",
              "19392           NaN        0  Санкт-Петербург           25257.0   \n",
              "\n",
              "      cityCenters_nearest  parks_around3000  parks_nearest  ponds_around3000  \\\n",
              "19392              6060.0               1.0          761.0               1.0   \n",
              "\n",
              "       ponds_nearest  days_exposition  \n",
              "19392          584.0             90.0  \n",
              "\n",
              "[1 rows x 22 columns]"
            ]
          },
          "execution_count": 32,
          "metadata": {},
          "output_type": "execute_result"
        }
      ],
      "source": [
        "data.query('total_area>100 and rooms==0 and studio!=True')"
      ]
    },
    {
      "cell_type": "markdown",
      "metadata": {
        "id": "E0Bcq8_bXWXF"
      },
      "source": [
        "Заполним пропуски квартиры свободной планировки и более 350 метров заполним медианым значением квартир такого же типа и метража, остальным студиям и квартирам свободной планировки, заполним значением 1 комната."
      ]
    },
    {
      "cell_type": "code",
      "execution_count": null,
      "metadata": {
        "id": "8mJZkK74XWXF",
        "outputId": "3235512d-9dd7-4dd5-8b9e-73c25ed5914a"
      },
      "outputs": [
        {
          "name": "stderr",
          "output_type": "stream",
          "text": [
            "/opt/conda/lib/python3.9/site-packages/pandas/core/indexing.py:1720: SettingWithCopyWarning: \n",
            "A value is trying to be set on a copy of a slice from a DataFrame.\n",
            "Try using .loc[row_indexer,col_indexer] = value instead\n",
            "\n",
            "See the caveats in the documentation: https://pandas.pydata.org/pandas-docs/stable/user_guide/indexing.html#returning-a-view-versus-a-copy\n",
            "  self._setitem_single_column(loc, value, pi)\n",
            "/opt/conda/lib/python3.9/site-packages/pandas/core/indexing.py:1720: SettingWithCopyWarning: \n",
            "A value is trying to be set on a copy of a slice from a DataFrame.\n",
            "Try using .loc[row_indexer,col_indexer] = value instead\n",
            "\n",
            "See the caveats in the documentation: https://pandas.pydata.org/pandas-docs/stable/user_guide/indexing.html#returning-a-view-versus-a-copy\n",
            "  self._setitem_single_column(loc, value, pi)\n"
          ]
        }
      ],
      "source": [
        "data.loc[(data['total_area']>350)&(data['open_plan']==True),'rooms'] = data.loc[(data['total_area']>350)&(data['total_area']<400),'rooms'].median()\n",
        "data.loc[((data['studio']==True) |  (data['open_plan']==True)) & (data['rooms']==0),'rooms'] = 1"
      ]
    },
    {
      "cell_type": "markdown",
      "metadata": {
        "id": "IU-pFGGXXWXF"
      },
      "source": [
        "Построим график квартиры с каким количеством комнат чаще попадают в объявления"
      ]
    },
    {
      "cell_type": "code",
      "execution_count": null,
      "metadata": {
        "scrolled": false,
        "id": "GLhiyn5qXWXF",
        "outputId": "b7517eb8-6e61-46a0-93bb-14898cd4a21d"
      },
      "outputs": [
        {
          "data": {
            "text/plain": [
              "count    14480.000000\n",
              "mean         2.143715\n",
              "std          1.091628\n",
              "min          1.000000\n",
              "25%          1.000000\n",
              "50%          2.000000\n",
              "75%          3.000000\n",
              "max         16.000000\n",
              "Name: rooms, dtype: float64"
            ]
          },
          "execution_count": 34,
          "metadata": {},
          "output_type": "execute_result"
        },
        {
          "data": {
            "image/png": "[encoded data removed]",
            "text/plain": [
              "<Figure size 432x360 with 1 Axes>"
            ]
          },
          "metadata": {
            "needs_background": "light"
          },
          "output_type": "display_data"
        }
      ],
      "source": [
        "data.plot(y='rooms', kind='hist', grid=True,bins=10,range=(1,10), figsize=(6,5)).set(xlabel='кол-во комнат', ylabel='кол-во объявлений')\n",
        "data['rooms'].describe()"
      ]
    },
    {
      "cell_type": "markdown",
      "metadata": {
        "id": "591K83KcXWXF"
      },
      "source": [
        "Однокомнатные квартиры выставляются чаще других, затем идут двухкомнатные (7931 объявлений), трехкомнатные(5807 объявлений)."
      ]
    },
    {
      "cell_type": "markdown",
      "metadata": {
        "id": "yCaS_M76XWXG"
      },
      "source": [
        "### Анализ данных столбца `floor` (этаж недвижимости)"
      ]
    },
    {
      "cell_type": "markdown",
      "metadata": {
        "id": "XghFE8pgXWXG"
      },
      "source": [
        "Просмотрим уникальные значения столбца"
      ]
    },
    {
      "cell_type": "code",
      "execution_count": null,
      "metadata": {
        "id": "3R8jvruVXWXG",
        "outputId": "2d8d4ce9-1b55-410a-87be-4518c3139e2e"
      },
      "outputs": [
        {
          "name": "stdout",
          "output_type": "stream",
          "text": [
            "[ 8 13  7  3  5  1  2 11 15  9 18  4 22 19 20  6 16 10 25 17 14 12 21 24\n",
            " 23 30 26 27 29]\n"
          ]
        },
        {
          "data": {
            "text/plain": [
              "floor\n",
              "2     2131\n",
              "3     1920\n",
              "1     1815\n",
              "4     1799\n",
              "5     1660\n",
              "6      791\n",
              "7      768\n",
              "8      657\n",
              "9      633\n",
              "10     395\n",
              "11     300\n",
              "12     288\n",
              "13     218\n",
              "15     185\n",
              "16     175\n",
              "14     172\n",
              "17     116\n",
              "18      86\n",
              "19      79\n",
              "21      66\n",
              "20      60\n",
              "22      51\n",
              "23      49\n",
              "24      26\n",
              "25      23\n",
              "26      11\n",
              "27       4\n",
              "29       1\n",
              "30       1\n",
              "dtype: int64"
            ]
          },
          "execution_count": 35,
          "metadata": {},
          "output_type": "execute_result"
        }
      ],
      "source": [
        "print(data['floor'].unique())\n",
        "data.value_counts('floor')"
      ]
    },
    {
      "cell_type": "code",
      "execution_count": null,
      "metadata": {
        "scrolled": false,
        "id": "VxXBJ_IqXWXG",
        "outputId": "be12ab79-a619-410a-e065-1e266e2c42ea"
      },
      "outputs": [
        {
          "data": {
            "text/plain": [
              "count    14480.000000\n",
              "mean         5.624240\n",
              "std          4.616762\n",
              "min          1.000000\n",
              "25%          2.000000\n",
              "50%          4.000000\n",
              "75%          7.000000\n",
              "max         30.000000\n",
              "Name: floor, dtype: float64"
            ]
          },
          "execution_count": 36,
          "metadata": {},
          "output_type": "execute_result"
        },
        {
          "data": {
            "image/png": "[encoded data removed]",
            "text/plain": [
              "<Figure size 432x288 with 1 Axes>"
            ]
          },
          "metadata": {
            "needs_background": "light"
          },
          "output_type": "display_data"
        }
      ],
      "source": [
        "data['floor'].hist(range=(1,27),bins=20)\n",
        "data['floor'].describe()"
      ]
    },
    {
      "cell_type": "markdown",
      "metadata": {
        "id": "1NnGhe67XWXG"
      },
      "source": [
        "Чаще всего продают недвижимость на втором этаже (3365 объявлений), потом на третьем (3071 объявлений), далее на первом (2911 объявлений)"
      ]
    },
    {
      "cell_type": "markdown",
      "metadata": {
        "id": "ZkPhn2-BXWXG"
      },
      "source": [
        "### Анализ данных столбца `kitchen_area` (Площадь кухни)"
      ]
    },
    {
      "cell_type": "code",
      "execution_count": null,
      "metadata": {
        "scrolled": true,
        "id": "I5juFjJIXWXG",
        "outputId": "a86c1dc6-6d32-4556-995c-b5116bdd8f7b"
      },
      "outputs": [
        {
          "name": "stdout",
          "output_type": "stream",
          "text": [
            "count    13543.000000\n",
            "mean        10.569948\n",
            "std          6.050517\n",
            "min          1.300000\n",
            "25%          7.000000\n",
            "50%          9.000000\n",
            "75%         12.000000\n",
            "max        112.000000\n",
            "Name: kitchen_area, dtype: float64\n"
          ]
        },
        {
          "data": {
            "text/plain": [
              "kitchen_area\n",
              "6.00      796\n",
              "10.00     728\n",
              "8.00      682\n",
              "7.00      663\n",
              "9.00      634\n",
              "         ... \n",
              "11.85       1\n",
              "11.84       1\n",
              "11.81       1\n",
              "11.69       1\n",
              "112.00      1\n",
              "Length: 723, dtype: int64"
            ]
          },
          "execution_count": 37,
          "metadata": {},
          "output_type": "execute_result"
        }
      ],
      "source": [
        "print(data['kitchen_area'].describe())\n",
        "data['kitchen_area'].unique()\n",
        "data.value_counts('kitchen_area')"
      ]
    },
    {
      "cell_type": "markdown",
      "metadata": {
        "id": "cC9Yp-MNXWXG"
      },
      "source": [
        "Построим график столбца `kitchen_area`"
      ]
    },
    {
      "cell_type": "code",
      "execution_count": null,
      "metadata": {
        "id": "2Rl1TqSYXWXH",
        "outputId": "8f2758ac-4c30-4cd9-b85e-1ff259a0abfd"
      },
      "outputs": [
        {
          "data": {
            "text/plain": [
              "count    13543.000000\n",
              "mean        10.569948\n",
              "std          6.050517\n",
              "min          1.300000\n",
              "25%          7.000000\n",
              "50%          9.000000\n",
              "75%         12.000000\n",
              "max        112.000000\n",
              "Name: kitchen_area, dtype: float64"
            ]
          },
          "execution_count": 38,
          "metadata": {},
          "output_type": "execute_result"
        },
        {
          "data": {
            "image/png": "[encoded data removed]",
            "text/plain": [
              "<Figure size 432x288 with 1 Axes>"
            ]
          },
          "metadata": {
            "needs_background": "light"
          },
          "output_type": "display_data"
        }
      ],
      "source": [
        "data['kitchen_area'].hist(bins=30, range=(2,50))\n",
        "data['kitchen_area'].describe()"
      ]
    },
    {
      "cell_type": "markdown",
      "metadata": {
        "id": "FpZlKY7lXWXH"
      },
      "source": [
        "Большего всего объявлений с размером кухни 6 кв.м., основной диапозон размеров кухни находится от 6 до 11 кв. м."
      ]
    },
    {
      "cell_type": "markdown",
      "metadata": {
        "id": "67At53gcXWXH"
      },
      "source": [
        "### Анализ данных столбца `living_area` (жилая площадь)"
      ]
    },
    {
      "cell_type": "markdown",
      "metadata": {
        "id": "o8HtuPA5XWXH"
      },
      "source": [
        "Просмотрим уникальные значения стобца"
      ]
    },
    {
      "cell_type": "code",
      "execution_count": null,
      "metadata": {
        "scrolled": false,
        "id": "vHwQS8TNXWXH",
        "outputId": "612aeb8d-74eb-4026-fbc2-d7b33e8fcea6"
      },
      "outputs": [
        {
          "name": "stdout",
          "output_type": "stream",
          "text": [
            "living_area\n",
            "18.0    489\n",
            "17.0    372\n",
            "30.0    364\n",
            "20.0    300\n",
            "16.0    262\n",
            "28.0    235\n",
            "31.0    224\n",
            "27.0    196\n",
            "32.0    196\n",
            "19.0    188\n",
            "29.0    183\n",
            "15.0    167\n",
            "40.0    137\n",
            "42.0    136\n",
            "33.0    128\n",
            "43.0    127\n",
            "39.0    120\n",
            "35.0    118\n",
            "34.0    113\n",
            "17.5     99\n",
            "dtype: int64\n"
          ]
        },
        {
          "data": {
            "text/plain": [
              "array([51.  , 32.  , 43.6 , ..., 13.59,  3.  , 12.6 ])"
            ]
          },
          "execution_count": 39,
          "metadata": {},
          "output_type": "execute_result"
        }
      ],
      "source": [
        "print(data.value_counts('living_area').head(20))\n",
        "data['living_area'].unique()"
      ]
    },
    {
      "cell_type": "markdown",
      "metadata": {
        "id": "cCe47vkqXWXH"
      },
      "source": [
        "Построим график столбца `living_area`"
      ]
    },
    {
      "cell_type": "code",
      "execution_count": null,
      "metadata": {
        "scrolled": false,
        "id": "C_i-FQlwXWXH",
        "outputId": "44a20d35-6143-4d6e-9a8d-3b0ed9b8787e"
      },
      "outputs": [
        {
          "data": {
            "text/plain": [
              "count    13686.000000\n",
              "mean        35.686294\n",
              "std         22.863316\n",
              "min          2.000000\n",
              "25%         19.200000\n",
              "50%         30.800000\n",
              "75%         43.300000\n",
              "max        409.700000\n",
              "Name: living_area, dtype: float64"
            ]
          },
          "execution_count": 40,
          "metadata": {},
          "output_type": "execute_result"
        },
        {
          "data": {
            "image/png": "[encoded data removed]",
            "text/plain": [
              "<Figure size 432x288 with 1 Axes>"
            ]
          },
          "metadata": {
            "needs_background": "light"
          },
          "output_type": "display_data"
        }
      ],
      "source": [
        "data['living_area'].hist(bins=30,range=(10,100) )\n",
        "data['living_area'].describe()"
      ]
    },
    {
      "cell_type": "markdown",
      "metadata": {
        "id": "mc7bmB7iXWXH"
      },
      "source": [
        "Больше всего объявлений содержат жилую площадь в диапазоне от 16-30 кв.м. Медианное значение жилой площади в объявлениях 30 кв.м."
      ]
    },
    {
      "cell_type": "markdown",
      "metadata": {
        "id": "B1zy7QsvXWXI"
      },
      "source": [
        "### Анализ данных столбца `airports_nearest` (расстояние до ближайщего аэропорта)"
      ]
    },
    {
      "cell_type": "markdown",
      "metadata": {
        "id": "CJS2lGHfXWXI"
      },
      "source": [
        "Посмотрим значения столбца"
      ]
    },
    {
      "cell_type": "code",
      "execution_count": null,
      "metadata": {
        "scrolled": true,
        "id": "yvuWEAo_XWXI",
        "outputId": "a45f1eb1-aa8f-44a1-be88-5834e94facd2"
      },
      "outputs": [
        {
          "data": {
            "text/plain": [
              "count    11531.000000\n",
              "mean     28817.750846\n",
              "std      12627.276640\n",
              "min          0.000000\n",
              "25%      18551.000000\n",
              "50%      26737.000000\n",
              "75%      37083.000000\n",
              "max      84869.000000\n",
              "Name: airports_nearest, dtype: float64"
            ]
          },
          "execution_count": 41,
          "metadata": {},
          "output_type": "execute_result"
        }
      ],
      "source": [
        "data['airports_nearest'].describe()"
      ]
    },
    {
      "cell_type": "markdown",
      "metadata": {
        "id": "2N7xW6CGXWXI"
      },
      "source": [
        "Удалим аномальное значения 0, так как недвижимость не может находится в аэропорту"
      ]
    },
    {
      "cell_type": "code",
      "execution_count": null,
      "metadata": {
        "id": "kz1YKd0iXWXI"
      },
      "outputs": [],
      "source": [
        "data = data[~(data['airports_nearest']==0)]\n"
      ]
    },
    {
      "cell_type": "markdown",
      "metadata": {
        "id": "JhaSQqSgXWXJ"
      },
      "source": [
        "<div class=\"alert alert-success\">\n",
        "<h2> Комментарий ревьюера V2<a class=\"tocSkip\"> </h2>\n",
        "\n",
        "<b>Все отлично!👍:</b> Все правильно доработал, молодец!"
      ]
    },
    {
      "cell_type": "code",
      "execution_count": null,
      "metadata": {
        "id": "5pvLn35zXWXJ",
        "outputId": "a13d499f-4492-4de2-df75-7c1339676d6c"
      },
      "outputs": [
        {
          "data": {
            "text/plain": [
              "count    11530.000000\n",
              "mean     28820.250217\n",
              "std      12624.971555\n",
              "min       6914.000000\n",
              "25%      18551.250000\n",
              "50%      26743.500000\n",
              "75%      37083.000000\n",
              "max      84869.000000\n",
              "Name: airports_nearest, dtype: float64"
            ]
          },
          "execution_count": 43,
          "metadata": {},
          "output_type": "execute_result"
        },
        {
          "data": {
            "image/png": "[encoded data removed]",
            "text/plain": [
              "<Figure size 432x288 with 1 Axes>"
            ]
          },
          "metadata": {
            "needs_background": "light"
          },
          "output_type": "display_data"
        }
      ],
      "source": [
        "data['airports_nearest'].hist(range=(7000,60000), bins=60)\n",
        "data['airports_nearest'].describe()"
      ]
    },
    {
      "cell_type": "markdown",
      "metadata": {
        "id": "Yy_7iR7-XWXJ"
      },
      "source": [
        "На графике видно, что в основном недвижимость находится на расстояния от аэропорта 1800-3800 метров."
      ]
    },
    {
      "cell_type": "markdown",
      "metadata": {
        "id": "JBRZAgbqXWXJ"
      },
      "source": [
        "### Анализ данных столбца `cityCenters_nearest` (расстояние до центра города)"
      ]
    },
    {
      "cell_type": "markdown",
      "metadata": {
        "id": "aYrHDcBvXWXJ"
      },
      "source": [
        "Просмотрим значения столбца"
      ]
    },
    {
      "cell_type": "code",
      "execution_count": null,
      "metadata": {
        "scrolled": true,
        "id": "b1pztVlYXWXJ",
        "outputId": "dc4a6194-8867-44ae-f63f-63bca0f3a9bf"
      },
      "outputs": [
        {
          "data": {
            "text/plain": [
              "count    11550.000000\n",
              "mean     14064.206234\n",
              "std       8760.389424\n",
              "min        181.000000\n",
              "25%       9037.250000\n",
              "50%      12949.000000\n",
              "75%      16032.750000\n",
              "max      65968.000000\n",
              "Name: cityCenters_nearest, dtype: float64"
            ]
          },
          "execution_count": 44,
          "metadata": {},
          "output_type": "execute_result"
        }
      ],
      "source": [
        "data['cityCenters_nearest'].describe()"
      ]
    },
    {
      "cell_type": "markdown",
      "metadata": {
        "id": "Z0JqroTdXWXJ"
      },
      "source": [
        "Построим график"
      ]
    },
    {
      "cell_type": "code",
      "execution_count": null,
      "metadata": {
        "scrolled": false,
        "id": "gQHNMO1EXWXK",
        "outputId": "eb8717ae-07dc-4fcb-955d-1649150b0c92"
      },
      "outputs": [
        {
          "data": {
            "text/plain": [
              "<AxesSubplot:>"
            ]
          },
          "execution_count": 45,
          "metadata": {},
          "output_type": "execute_result"
        },
        {
          "data": {
            "image/png": "[encoded data removed]",
            "text/plain": [
              "<Figure size 432x288 with 1 Axes>"
            ]
          },
          "metadata": {
            "needs_background": "light"
          },
          "output_type": "display_data"
        }
      ],
      "source": [
        "data['cityCenters_nearest'].hist(range=(0,50000), bins=100)"
      ]
    },
    {
      "cell_type": "markdown",
      "metadata": {
        "id": "6eGf4SPbXWXK"
      },
      "source": [
        "В основном недвижимость расположена на удалении в 9000 - 17000м от центра."
      ]
    },
    {
      "cell_type": "markdown",
      "metadata": {
        "id": "1ay23Ja6XWXK"
      },
      "source": [
        "### Анализ данных столбца `parks_nearest` (расстояние до ближайшего парка)"
      ]
    },
    {
      "cell_type": "markdown",
      "metadata": {
        "id": "qIS2qrXXXWXK"
      },
      "source": [
        "Просмотрим значения столбца"
      ]
    },
    {
      "cell_type": "code",
      "execution_count": null,
      "metadata": {
        "scrolled": true,
        "id": "CfeAGcljXWXK",
        "outputId": "4ec3f54b-7c7c-4c9a-c318-66f5bd526ac6"
      },
      "outputs": [
        {
          "data": {
            "text/plain": [
              "count    5288.000000\n",
              "mean      476.612330\n",
              "std       319.995802\n",
              "min         3.000000\n",
              "25%       285.000000\n",
              "50%       448.000000\n",
              "75%       602.000000\n",
              "max      3190.000000\n",
              "Name: parks_nearest, dtype: float64"
            ]
          },
          "execution_count": 46,
          "metadata": {},
          "output_type": "execute_result"
        }
      ],
      "source": [
        "data['parks_nearest'].describe()"
      ]
    },
    {
      "cell_type": "markdown",
      "metadata": {
        "id": "kL9GJcLhXWXK"
      },
      "source": [
        "Построим график"
      ]
    },
    {
      "cell_type": "code",
      "execution_count": null,
      "metadata": {
        "scrolled": false,
        "id": "_5PqtA-xXWXL",
        "outputId": "2efc01a1-98d6-4191-b0f0-45fabd3baf4f"
      },
      "outputs": [
        {
          "data": {
            "text/plain": [
              "<AxesSubplot:>"
            ]
          },
          "execution_count": 47,
          "metadata": {},
          "output_type": "execute_result"
        },
        {
          "data": {
            "image/png": "[encoded data removed]",
            "text/plain": [
              "<Figure size 432x288 with 1 Axes>"
            ]
          },
          "metadata": {
            "needs_background": "light"
          },
          "output_type": "display_data"
        }
      ],
      "source": [
        "data['parks_nearest'].hist()"
      ]
    },
    {
      "cell_type": "markdown",
      "metadata": {
        "id": "V1oRoEVSXWXL"
      },
      "source": [
        "В основном недвижимость находится на удалении в 300-800 метров от парков."
      ]
    },
    {
      "cell_type": "markdown",
      "metadata": {
        "id": "d_wKUEmuXWXL"
      },
      "source": [
        "### Анализ данных столбца `parks_around3000` (число парков в радиусе 3 км)"
      ]
    },
    {
      "cell_type": "markdown",
      "metadata": {
        "id": "9GtIJo6sXWXL"
      },
      "source": [
        "Просмотрим значения столбца"
      ]
    },
    {
      "cell_type": "code",
      "execution_count": null,
      "metadata": {
        "scrolled": true,
        "id": "3gHbRGmaXWXL",
        "outputId": "48c0d73c-c79d-449a-b301-b5397ede3330"
      },
      "outputs": [
        {
          "data": {
            "text/plain": [
              "parks_around3000\n",
              "0.0    6265\n",
              "1.0    3663\n",
              "2.0    1155\n",
              "3.0     468\n",
              "dtype: int64"
            ]
          },
          "execution_count": 48,
          "metadata": {},
          "output_type": "execute_result"
        }
      ],
      "source": [
        "data.value_counts('parks_around3000')"
      ]
    },
    {
      "cell_type": "markdown",
      "metadata": {
        "id": "urDjAK9qXWXL"
      },
      "source": [
        "Построим график"
      ]
    },
    {
      "cell_type": "code",
      "execution_count": null,
      "metadata": {
        "id": "BobEOfq7XWXL",
        "outputId": "f955af40-0220-4823-ab30-a3d5d745814f"
      },
      "outputs": [
        {
          "data": {
            "text/plain": [
              "count    11551.000000\n",
              "mean         0.638646\n",
              "std          0.820923\n",
              "min          0.000000\n",
              "25%          0.000000\n",
              "50%          0.000000\n",
              "75%          1.000000\n",
              "max          3.000000\n",
              "Name: parks_around3000, dtype: float64"
            ]
          },
          "execution_count": 49,
          "metadata": {},
          "output_type": "execute_result"
        },
        {
          "data": {
            "image/png": "[encoded data removed]",
            "text/plain": [
              "<Figure size 432x288 with 1 Axes>"
            ]
          },
          "metadata": {
            "needs_background": "light"
          },
          "output_type": "display_data"
        }
      ],
      "source": [
        "data['parks_around3000'].hist(range=(0,4), bins=12)\n",
        "data['parks_around3000'].describe()"
      ]
    },
    {
      "cell_type": "markdown",
      "metadata": {
        "id": "kAERWD6ZXWXL"
      },
      "source": [
        "В основном квартиры из объявлений находятся на удалении более 3 км от ближайшего парка (10102 объявления), один парк в радиусе 3км от недвижимости есть у 5676 объявлений."
      ]
    },
    {
      "cell_type": "markdown",
      "metadata": {
        "id": "TIMrCs-PXWXM"
      },
      "source": [
        "### Анализ данных столбца `ponds_nearest` (расстояние до ближайшего водоёма)"
      ]
    },
    {
      "cell_type": "code",
      "execution_count": null,
      "metadata": {
        "scrolled": true,
        "id": "7P6Xv_4jXWXM",
        "outputId": "852fd892-23e2-45d0-d55e-1e36debdd120"
      },
      "outputs": [
        {
          "data": {
            "text/plain": [
              "count    5727.000000\n",
              "mean      518.486293\n",
              "std       280.092142\n",
              "min        16.000000\n",
              "25%       287.000000\n",
              "50%       504.000000\n",
              "75%       733.000000\n",
              "max      1344.000000\n",
              "Name: ponds_nearest, dtype: float64"
            ]
          },
          "execution_count": 50,
          "metadata": {},
          "output_type": "execute_result"
        }
      ],
      "source": [
        "data['ponds_nearest'].describe()"
      ]
    },
    {
      "cell_type": "code",
      "execution_count": null,
      "metadata": {
        "id": "dGpWqhuaXWXM",
        "outputId": "def19fca-3193-4d4d-ef5a-b252a49507ae"
      },
      "outputs": [
        {
          "data": {
            "text/plain": [
              "<AxesSubplot:>"
            ]
          },
          "execution_count": 51,
          "metadata": {},
          "output_type": "execute_result"
        },
        {
          "data": {
            "image/png": "[encoded data removed]",
            "text/plain": [
              "<Figure size 432x288 with 1 Axes>"
            ]
          },
          "metadata": {
            "needs_background": "light"
          },
          "output_type": "display_data"
        }
      ],
      "source": [
        "data['ponds_nearest'].hist()"
      ]
    },
    {
      "cell_type": "markdown",
      "metadata": {
        "id": "LQecEL01XWXM"
      },
      "source": [
        "В основном недвижимость находится на удалении в 200-800 метров от водоёмов."
      ]
    },
    {
      "cell_type": "markdown",
      "metadata": {
        "id": "qoNeXzaxXWXM"
      },
      "source": [
        "### Анализ данных столбца `ponds_around3000` (число водоёмов в радиусе 3 км)"
      ]
    },
    {
      "cell_type": "code",
      "execution_count": null,
      "metadata": {
        "scrolled": true,
        "id": "qKOemKGUXWXM",
        "outputId": "e84445e9-4a6d-438c-fba2-83b729d99e79"
      },
      "outputs": [
        {
          "data": {
            "text/plain": [
              "ponds_around3000\n",
              "0.0    5824\n",
              "1.0    3494\n",
              "2.0    1239\n",
              "3.0     994\n",
              "dtype: int64"
            ]
          },
          "execution_count": 52,
          "metadata": {},
          "output_type": "execute_result"
        }
      ],
      "source": [
        "data.value_counts('ponds_around3000')"
      ]
    },
    {
      "cell_type": "code",
      "execution_count": null,
      "metadata": {
        "id": "QHJPAaUTXWXM",
        "outputId": "c5552358-ef97-4a20-d526-ae9d1afd0e85"
      },
      "outputs": [
        {
          "data": {
            "text/plain": [
              "count    11551.000000\n",
              "mean         0.775171\n",
              "std          0.951423\n",
              "min          0.000000\n",
              "25%          0.000000\n",
              "50%          0.000000\n",
              "75%          1.000000\n",
              "max          3.000000\n",
              "Name: ponds_around3000, dtype: float64"
            ]
          },
          "execution_count": 53,
          "metadata": {},
          "output_type": "execute_result"
        },
        {
          "data": {
            "image/png": "[encoded data removed]",
            "text/plain": [
              "<Figure size 432x288 with 1 Axes>"
            ]
          },
          "metadata": {
            "needs_background": "light"
          },
          "output_type": "display_data"
        }
      ],
      "source": [
        "data['ponds_around3000'].hist(range=(0,4), bins=12)\n",
        "data['ponds_around3000'].describe()"
      ]
    },
    {
      "cell_type": "markdown",
      "metadata": {
        "id": "sz07_f5DXWXM"
      },
      "source": [
        "В основном квартиры из объявлений находятся на удалении более 3 км от ближайшего водоёма (9066 объявления), один водоём в радиусе 3км от недвижимости есть у 5714 объявлений."
      ]
    },
    {
      "cell_type": "markdown",
      "metadata": {
        "id": "Y0HG-3soXWXN"
      },
      "source": [
        "### Посчитано и добавлено в таблицу: цена одного квадратного метра"
      ]
    },
    {
      "cell_type": "markdown",
      "metadata": {
        "id": "MfQxQdHsXWXN"
      },
      "source": [
        "Посчитаем цену квадратного метра столбец `price_meter`"
      ]
    },
    {
      "cell_type": "code",
      "execution_count": null,
      "metadata": {
        "scrolled": false,
        "id": "bXemV6NuXWXN",
        "outputId": "86fd0f7a-43ed-4bd9-e0cd-b37a5b748444"
      },
      "outputs": [
        {
          "name": "stderr",
          "output_type": "stream",
          "text": [
            "/tmp/ipykernel_48/995673686.py:1: SettingWithCopyWarning: \n",
            "A value is trying to be set on a copy of a slice from a DataFrame.\n",
            "Try using .loc[row_indexer,col_indexer] = value instead\n",
            "\n",
            "See the caveats in the documentation: https://pandas.pydata.org/pandas-docs/stable/user_guide/indexing.html#returning-a-view-versus-a-copy\n",
            "  data['price_meter'] =  data['last_price'] / data['total_area']\n"
          ]
        }
      ],
      "source": [
        "data['price_meter'] =  data['last_price'] / data['total_area']"
      ]
    },
    {
      "cell_type": "markdown",
      "metadata": {
        "id": "7kfn5UxmXWXN"
      },
      "source": [
        "Построим график"
      ]
    },
    {
      "cell_type": "code",
      "execution_count": null,
      "metadata": {
        "id": "bzsE9X6wXWXN",
        "outputId": "102ccf12-8204-4642-874b-3572a539750a"
      },
      "outputs": [
        {
          "data": {
            "text/plain": [
              "count    1.447900e+04\n",
              "mean     1.016757e+05\n",
              "std      5.062349e+04\n",
              "min      9.615385e+03\n",
              "25%      7.847378e+04\n",
              "50%      9.673913e+04\n",
              "75%      1.165746e+05\n",
              "max      1.736842e+06\n",
              "Name: price_meter, dtype: float64"
            ]
          },
          "execution_count": 55,
          "metadata": {},
          "output_type": "execute_result"
        },
        {
          "data": {
            "image/png": "[encoded data removed]",
            "text/plain": [
              "<Figure size 648x288 with 1 Axes>"
            ]
          },
          "metadata": {
            "needs_background": "light"
          },
          "output_type": "display_data"
        }
      ],
      "source": [
        "data.plot(y='price_meter', kind='hist',bins=100, grid=True, figsize=(9,4), range=(60000,400000)).set(xlabel='Стоимость квадратного метра', ylabel='кол-во объявлений')\n",
        "data['price_meter'].describe()"
      ]
    },
    {
      "cell_type": "markdown",
      "metadata": {
        "id": "Q-0B-uWfXWXN"
      },
      "source": [
        "Пик графика приходиться на 110000 рублей/ кв.м. В среднем один квадратный метр стоит 100000 рублей."
      ]
    },
    {
      "cell_type": "markdown",
      "metadata": {
        "id": "_HDHEQkTXWXN"
      },
      "source": [
        "### Посчитано и добавлено в таблицу: день публикации объявления (0 - понедельник, 1 - вторник и т.д.)"
      ]
    },
    {
      "cell_type": "markdown",
      "metadata": {
        "id": "jIhWmI5cXWXN"
      },
      "source": [
        "Напишем функцию заполняющие значением (день недели), взависимости от цифры на входе"
      ]
    },
    {
      "cell_type": "code",
      "execution_count": null,
      "metadata": {
        "id": "rbE8-lL4XWXO"
      },
      "outputs": [],
      "source": [
        "def day_of_publication(day):\n",
        "    if day == 0:\n",
        "        return 'понедельник'\n",
        "    if day == 1:\n",
        "        return 'вторник'\n",
        "    if day == 2:\n",
        "        return 'среда'\n",
        "    if day == 3:\n",
        "        return 'четверг'\n",
        "    if day == 4:\n",
        "        return 'пятница'\n",
        "    if day == 5:\n",
        "        return 'суббота'\n",
        "    else:\n",
        "        return 'воскресенье'"
      ]
    },
    {
      "cell_type": "markdown",
      "metadata": {
        "id": "8xfNulqAXWXO"
      },
      "source": [
        "Создадим столбец `day_of_publication` и заполним его названиями дней недели"
      ]
    },
    {
      "cell_type": "code",
      "execution_count": null,
      "metadata": {
        "id": "KXLy7J0hXWXO"
      },
      "outputs": [],
      "source": [
        "data['day_of_publication'] = data['first_day_exposition'].dt.weekday.apply(day_of_publication)\n"
      ]
    },
    {
      "cell_type": "markdown",
      "metadata": {
        "id": "leB1_xOQXWXO"
      },
      "source": [
        "Построим график количества объявлений по дням недели"
      ]
    },
    {
      "cell_type": "code",
      "execution_count": null,
      "metadata": {
        "id": "JK0G6FNWXWXO",
        "outputId": "b2ba010d-eb86-4034-df7b-d7665c3da945"
      },
      "outputs": [
        {
          "data": {
            "text/plain": [
              "[Text(0.5, 0, 'количество объявлений'), Text(0, 0.5, 'день недели')]"
            ]
          },
          "execution_count": 58,
          "metadata": {},
          "output_type": "execute_result"
        },
        {
          "data": {
            "image/png": "[encoded data removed]",
            "text/plain": [
              "<Figure size 504x360 with 1 Axes>"
            ]
          },
          "metadata": {
            "needs_background": "light"
          },
          "output_type": "display_data"
        }
      ],
      "source": [
        "data.groupby('day_of_publication').count().reset_index().sort_values('total_images', ascending=False).head(10).plot(y='total_images', x ='day_of_publication', kind='barh', grid=True, figsize=(7,5), title='Количество объявлений по дням недели').set(xlabel='количество объявлений', ylabel='день недели')"
      ]
    },
    {
      "cell_type": "markdown",
      "metadata": {
        "id": "AX5TopjvXWXO"
      },
      "source": [
        "Из графика видно, что меньше всего люди выкладывают объявления в воскресения и субботу, и чаще всего выкладывают в четверг"
      ]
    },
    {
      "cell_type": "markdown",
      "metadata": {
        "id": "3QH3kSMaXWXO"
      },
      "source": [
        "### Посчитано и добавлено в таблицу: месяц публикации объявления"
      ]
    },
    {
      "cell_type": "markdown",
      "metadata": {
        "id": "HZsyWeREXWXO"
      },
      "source": [
        "Создадим новый столбец `month_of_publication` и заполним его месяцем публикации"
      ]
    },
    {
      "cell_type": "code",
      "execution_count": null,
      "metadata": {
        "id": "xxDXNk7rXWXO"
      },
      "outputs": [],
      "source": [
        "data['month_of_publication'] = pd.DatetimeIndex(data['first_day_exposition']).month"
      ]
    },
    {
      "cell_type": "markdown",
      "metadata": {
        "id": "oOmATxelXWXP"
      },
      "source": [
        "Построим график"
      ]
    },
    {
      "cell_type": "code",
      "execution_count": null,
      "metadata": {
        "scrolled": false,
        "id": "VyeLUkHAXWXP",
        "outputId": "4fd4b60d-0b53-4916-d570-f8ca5b069053"
      },
      "outputs": [
        {
          "data": {
            "text/plain": [
              "month_of_publication\n",
              "3     1727\n",
              "2     1688\n",
              "4     1482\n",
              "11    1422\n",
              "10    1325\n",
              "9     1213\n",
              "8     1092\n",
              "7     1068\n",
              "12     936\n",
              "1      923\n",
              "6      910\n",
              "5      693\n",
              "dtype: int64"
            ]
          },
          "execution_count": 60,
          "metadata": {},
          "output_type": "execute_result"
        },
        {
          "data": {
            "image/png": "[encoded data removed]",
            "text/plain": [
              "<Figure size 432x288 with 1 Axes>"
            ]
          },
          "metadata": {
            "needs_background": "light"
          },
          "output_type": "display_data"
        }
      ],
      "source": [
        "data['month_of_publication'].hist(bins=12,range=(1,12))\n",
        "data.value_counts('month_of_publication')"
      ]
    },
    {
      "cell_type": "markdown",
      "metadata": {
        "id": "MKAgq_BOXWXP"
      },
      "source": [
        "Самыми популярными месяцами по размещению объявлений являются февраль, март, апрель. Самый непопулярный май"
      ]
    },
    {
      "cell_type": "markdown",
      "metadata": {
        "id": "lAn--KfyXWXP"
      },
      "source": [
        "### Посчитано и добавлено в таблицу: год публикации объявления"
      ]
    },
    {
      "cell_type": "markdown",
      "metadata": {
        "id": "vXGxtIyrXWXP"
      },
      "source": [
        "Создадим новый столбец `year_of_publication` и заполним его годом публикации"
      ]
    },
    {
      "cell_type": "code",
      "execution_count": null,
      "metadata": {
        "id": "wC4T42brXWXP"
      },
      "outputs": [],
      "source": [
        "data['year_of_publication'] = pd.DatetimeIndex(data['first_day_exposition']).year"
      ]
    },
    {
      "cell_type": "markdown",
      "metadata": {
        "id": "wezB23-4XWXP"
      },
      "source": [
        "Построим график"
      ]
    },
    {
      "cell_type": "code",
      "execution_count": null,
      "metadata": {
        "id": "qrEA3gVtXWXQ",
        "outputId": "8c283b5f-a43a-4ea3-de9c-ae89f7e3399b"
      },
      "outputs": [
        {
          "data": {
            "text/plain": [
              "year_of_publication\n",
              "2018    5780\n",
              "2017    4443\n",
              "2019    2197\n",
              "2016    1373\n",
              "2015     610\n",
              "2014      76\n",
              "dtype: int64"
            ]
          },
          "execution_count": 62,
          "metadata": {},
          "output_type": "execute_result"
        },
        {
          "data": {
            "image/png": "[encoded data removed]",
            "text/plain": [
              "<Figure size 432x288 with 1 Axes>"
            ]
          },
          "metadata": {
            "needs_background": "light"
          },
          "output_type": "display_data"
        }
      ],
      "source": [
        "data['year_of_publication'].hist(bins=6)\n",
        "data.value_counts('year_of_publication')"
      ]
    },
    {
      "cell_type": "markdown",
      "metadata": {
        "id": "cM4WAUQDXWXQ"
      },
      "source": [
        "На графике видно, что самыми популярными годами по размещению объявлений были 2018 и 2017(более 8000), дальше пошел сильный спад 2019 2876 объявлений"
      ]
    },
    {
      "cell_type": "markdown",
      "metadata": {
        "id": "1BdAV9XNXWXQ"
      },
      "source": [
        "### Посчитано и добавлено в таблицу: тип этажа квартиры (значения — «первый», «последний», «другой»)"
      ]
    },
    {
      "cell_type": "markdown",
      "metadata": {
        "id": "Vp7C1MSVXWXQ"
      },
      "source": [
        "Построим функцию type_floor, которая проверяет значения столбца и присваивает значение, взависимости от результата"
      ]
    },
    {
      "cell_type": "code",
      "execution_count": null,
      "metadata": {
        "id": "iQQlYNExXWXQ"
      },
      "outputs": [],
      "source": [
        "def type_floor(row):\n",
        "    if row['floor'] == 1:\n",
        "        return 'первый'\n",
        "    if row['floor'] == row['floors_total']:\n",
        "        return 'последний'\n",
        "    else:\n",
        "        return 'другой'"
      ]
    },
    {
      "cell_type": "markdown",
      "metadata": {
        "id": "-7-yFt0SXWXQ"
      },
      "source": [
        "Создадим столбец `type_floor` и присвоим ему значения( «первый», «последний», «другой»)"
      ]
    },
    {
      "cell_type": "code",
      "execution_count": null,
      "metadata": {
        "id": "d--etsZvXWXQ"
      },
      "outputs": [],
      "source": [
        "data['type_floor'] = data.apply(type_floor, axis=1)"
      ]
    },
    {
      "cell_type": "markdown",
      "metadata": {
        "id": "o1vzVjI7XWXQ"
      },
      "source": [
        "Построим график"
      ]
    },
    {
      "cell_type": "code",
      "execution_count": null,
      "metadata": {
        "scrolled": false,
        "id": "RAe-N3AbXWXR",
        "outputId": "5ec3f640-dd07-4d31-a227-7996882a8166"
      },
      "outputs": [
        {
          "data": {
            "text/plain": [
              "type_floor\n",
              "другой       10578\n",
              "последний     2086\n",
              "первый        1815\n",
              "dtype: int64"
            ]
          },
          "execution_count": 65,
          "metadata": {},
          "output_type": "execute_result"
        },
        {
          "data": {
            "image/png": "[encoded data removed]",
            "text/plain": [
              "<Figure size 432x288 with 1 Axes>"
            ]
          },
          "metadata": {
            "needs_background": "light"
          },
          "output_type": "display_data"
        }
      ],
      "source": [
        "data['type_floor'].hist()\n",
        "data.value_counts('type_floor')"
      ]
    },
    {
      "cell_type": "markdown",
      "metadata": {
        "id": "6Mowl5lrXWXR"
      },
      "source": [
        "Больше всего объявлений с квартирами со второго по предпоследний этаж, объявлений с квартирами на первом этаже 2911, чуть больше на последнем этаже 3332"
      ]
    },
    {
      "cell_type": "markdown",
      "metadata": {
        "id": "d2hpdTnRXWXR"
      },
      "source": [
        "### Посчитано и добавлено в таблицу: расстояние в км до центра города"
      ]
    },
    {
      "cell_type": "markdown",
      "metadata": {
        "id": "fGqTPmKiXWXR"
      },
      "source": [
        "Создадим столбец cityCenters_nearest_km и заполним его расстояние до центра города в километрах"
      ]
    },
    {
      "cell_type": "code",
      "execution_count": null,
      "metadata": {
        "id": "A1jqWAV5XWXR"
      },
      "outputs": [],
      "source": [
        "data['cityCenters_nearest_km'] = data['cityCenters_nearest'] / 1000\n",
        "\n",
        "def ceil_number(number):\n",
        "    return math.ceil(number)\n",
        "\n",
        "data['cityCenters_nearest_km']   = data.loc[~(data['cityCenters_nearest_km'].isna()), 'cityCenters_nearest_km'].apply(ceil_number)"
      ]
    },
    {
      "cell_type": "markdown",
      "metadata": {
        "id": "OnaFcWTbXWXR"
      },
      "source": [
        "Построим график"
      ]
    },
    {
      "cell_type": "code",
      "execution_count": null,
      "metadata": {
        "id": "txYuh-RGXWXR",
        "outputId": "85a25e6a-a3bd-4b87-a400-a5510d6fa228"
      },
      "outputs": [
        {
          "data": {
            "text/plain": [
              "count    11550.000000\n",
              "mean        14.566061\n",
              "std          8.762641\n",
              "min          1.000000\n",
              "25%         10.000000\n",
              "50%         13.000000\n",
              "75%         17.000000\n",
              "max         66.000000\n",
              "Name: cityCenters_nearest_km, dtype: float64"
            ]
          },
          "execution_count": 67,
          "metadata": {},
          "output_type": "execute_result"
        },
        {
          "data": {
            "image/png": "[encoded data removed]",
            "text/plain": [
              "<Figure size 432x288 with 1 Axes>"
            ]
          },
          "metadata": {
            "needs_background": "light"
          },
          "output_type": "display_data"
        }
      ],
      "source": [
        "data['cityCenters_nearest_km'].hist()\n",
        "data['cityCenters_nearest_km'].describe()"
      ]
    },
    {
      "cell_type": "markdown",
      "metadata": {
        "id": "OmamVL5JXWXR"
      },
      "source": [
        "В большей части объявлений недвижимость находиться на удалении 9-20 км от центра города"
      ]
    },
    {
      "cell_type": "markdown",
      "metadata": {
        "id": "cnbgNReAXWXR"
      },
      "source": [
        "### **Вывод:**"
      ]
    },
    {
      "cell_type": "markdown",
      "metadata": {
        "id": "23wh9nkoXWXS"
      },
      "source": [
        "При проведении предобработки были обнаруженны следующие проблемы:\n",
        " * Неявные дубликаты\n",
        " * Аномальные значения\n",
        " * Несоответствие типов данных\n",
        " * Наличие пропусков\n",
        "  \n",
        "  \n",
        " 1) Неявные дубликаты были обнаруженны в столбце `locality_name`('поселок' и 'посёлок'; 'городской посёлок' и 'посёлок городского типа'; 'посёлок Мурино' и 'Мурино'; 'деревня Кудрово' и 'Кудрово' и т.д.) их появление вызвано тем, что пользователь заполняет данные в свободной форме. Необходимо создать выпадающие списки, чтобы пользователь мог выбирать необходимые типы населённых пунктов и их названия.\n",
        "\n",
        " 2) Аномальные значения были в столбацх `last_price`, `ceiling_height`, `rooms`, `airports_nearest`.\n",
        "\n",
        " В столбце `last_price` была найдена аномально низкая стоимость жилья, возможно пользователь перепутал и хотел выставить жилье в аренду, данная строка была удаленна.\n",
        "\n",
        " В столбце `ceiling_height` были обнаружены аномально маленькие и большие высоты потолков. Строки с потолками менее 2.4 метров были удаленны, высота более 20 метров (высота до 20 метров была оставленна, так как возможны двухэтажные квартиры) была поделена 10, так как возможно пользователь ошибся при заполнении поля. В качестве рекомендации можно уставновить проверку на поле заполнения, не позволяющие заносить аномально низкие значения.\n",
        "\n",
        " В столбце `rooms`(количество комнат в квартире) имелись значения 0. Было выявленно, что значение 0 было у квартир типа студия (столбец `studio`==True) и свободная планировка (столбец `open_plan`==True). В качестве рекомендации можно выставлять автоматическое значение 1 в столбце `rooms` при выборе типа студия и сделать необходимым заполнение столбца `rooms` так как он является ключевым полем.\n",
        "\n",
        " В столбце `airports_nearest` имелось аномальное значение 0, обозначавшее, что недвижимость находится в аэропорту, а это невозможно. Строка была удаленна.\n",
        "\n",
        " 3) Несоответствие типов данных были в столбцах `last_price`, `first_day_exposition`, `is_apartment`, `balcony`.\n",
        "\n",
        " В столбец `last_price`заносились числа с плавающей точкой, преобразовали в целочисленные, так как цены не указывают с копейками.\n",
        "\n",
        " В столбец `first_day_exposition` заносились строковые значения, преобразовали в `datetime`, так как производить операции со строковыми значениями неудобно.\n",
        "\n",
        " В столбец `is_apartment` заносились строковые значения, преобразовали в булевый тип данных, так производить манипуляции с данными неудобно.\n",
        "\n",
        " В столбец `balcony` заносились числа с плавающей точкой, преобразовали в целочисленные, так как невозможно иметь половину балкона.\n",
        "\n",
        " В качествее рекомендации необходимо преобразовать сбор данных в подходящие типы.\n",
        "\n",
        " 4) Данные отсутствовали в столбцах `ceiling_height`, `floors_total`, `living_area`, `is_apartment`, `kitchen_area`, `balcony`,`locality_name`, `airports_nearest`, `cityCenters_nearest`, `parks_nearest`, `parks_around3000`, `ponds_nearest`, `ponds_around3000`, `days_expostiton`\n",
        "\n",
        " Пропуски в данных столбцах `ceiling_height`, `floors_total`, `living_area`, `kitchen_area`, `locality_name`, `parks_nearest`, `parks_around3000`, `ponds_nearest`, `ponds_around3000`, `cityCenters_nearest`, `airports_nearest` не были заполненны, так как нехватает данных для их заполнения, подставление медианных и средних значений сильно исказит информацию и приведет к неверным выводам. В качестве рекомендации можно сделать столбцы `ceiling_height`, `floors_total`, `living_area` сделать обязательным к заполнению, так как они имеют ключевое значение при выборе недвижимости.\n",
        "\n",
        " Пропуски в столбцах `is_apartment` и `balcony`, были заполнены логическим путем, если пользователь их не заполнил соответсвенно они не относятся к его квартире. Если `is_apartment` не заполнен, значит это не аппартаменты, и если `balcony` не заполнены, значит их нет в квартире (0). В качествее рекомендации можно автоматически подставлять данные значения, если пользователь сам не выбрал необходимые ему.\n",
        "\n",
        " Пропуск в столбец `days_expostiton` не заполнен, так как возможно объявление ещё находится в статусе активное и квартира ещё продаётся.\n",
        "\n",
        " На основании имеющихся обработанных данным можно приступить к проверке гипотез и ответить на волнующие вопросы.\n"
      ]
    },
    {
      "cell_type": "markdown",
      "metadata": {
        "id": "y6pexSJBXWXS"
      },
      "source": [
        "## Проверка гипотез"
      ]
    },
    {
      "cell_type": "markdown",
      "metadata": {
        "id": "sfZSSPHJXWXS"
      },
      "source": [
        "### Как быстро продаются квартиры"
      ]
    },
    {
      "cell_type": "code",
      "execution_count": null,
      "metadata": {
        "id": "bhsgvEbcXWXS",
        "outputId": "241565d3-02e8-4f20-c373-4a14965f4c4a"
      },
      "outputs": [
        {
          "name": "stdout",
          "output_type": "stream",
          "text": [
            "В среднем продажа квартир занимает: 190.5700748129676 дней\n",
            "Медианное значение продажи квартир: 103.0 дней\n"
          ]
        }
      ],
      "source": [
        "print('В среднем продажа квартир занимает:',data['days_exposition'].mean(),'дней')\n",
        "print('Медианное значение продажи квартир:',data['days_exposition'].median(),'дней')"
      ]
    },
    {
      "cell_type": "code",
      "execution_count": null,
      "metadata": {
        "scrolled": false,
        "id": "Ekczpf3jXWXS",
        "outputId": "5c1350f3-6b0c-4762-b4cf-f73deea3a08c"
      },
      "outputs": [
        {
          "data": {
            "text/plain": [
              "count    12030.000000\n",
              "mean       190.570075\n",
              "std        228.828413\n",
              "min          1.000000\n",
              "25%         45.000000\n",
              "50%        103.000000\n",
              "75%        248.000000\n",
              "max       1580.000000\n",
              "Name: days_exposition, dtype: float64"
            ]
          },
          "execution_count": 69,
          "metadata": {},
          "output_type": "execute_result"
        },
        {
          "data": {
            "image/png": "[encoded data removed]",
            "text/plain": [
              "<Figure size 432x288 with 1 Axes>"
            ]
          },
          "metadata": {
            "needs_background": "light"
          },
          "output_type": "display_data"
        }
      ],
      "source": [
        "data['days_exposition'].hist( bins=100)\n",
        "data['days_exposition'].describe()"
      ]
    },
    {
      "cell_type": "markdown",
      "metadata": {
        "id": "M4BCKxArXWXS"
      },
      "source": [
        "Из графика видно, что в основном продажа квартиры занимает от 45 до 100 дней. В среднем продажа квартиры занимает 180 дней, медианное время продажи 90 дней. Самые быстрые продажи проводятся в первые три дня, самые долгие от 400 дней."
      ]
    },
    {
      "cell_type": "markdown",
      "metadata": {
        "id": "yIOb1exoXWXT"
      },
      "source": [
        "### Посчитайте среднюю цену одного квадратного метра в 10 населённых пунктах с наибольшим числом объявлений. Выделите населённые пункты с самой высокой и низкой стоимостью квадратного метра."
      ]
    },
    {
      "cell_type": "markdown",
      "metadata": {
        "id": "tG9mPNFvXWXT"
      },
      "source": [
        "Создадим переменную `price_meter_mean` и поместив в неё сводную таблицу в которой отобразим среднюю цену одного квадратного метра в 10 населённых пунктах с наибольшим числом объявлений.\n",
        "Выведем таблицу."
      ]
    },
    {
      "cell_type": "code",
      "execution_count": null,
      "metadata": {
        "id": "YVqQ5PtYXWXT",
        "outputId": "9dbccba4-3532-4a6c-bda5-85e4bc610658"
      },
      "outputs": [
        {
          "data": {
            "text/html": [
              "<div>\n",
              "<style scoped>\n",
              "    .dataframe tbody tr th:only-of-type {\n",
              "        vertical-align: middle;\n",
              "    }\n",
              "\n",
              "    .dataframe tbody tr th {\n",
              "        vertical-align: top;\n",
              "    }\n",
              "\n",
              "    .dataframe thead th {\n",
              "        text-align: right;\n",
              "    }\n",
              "</style>\n",
              "<table border=\"1\" class=\"dataframe\">\n",
              "  <thead>\n",
              "    <tr style=\"text-align: right;\">\n",
              "      <th></th>\n",
              "      <th>locality_name</th>\n",
              "      <th>count</th>\n",
              "      <th>mean</th>\n",
              "    </tr>\n",
              "  </thead>\n",
              "  <tbody>\n",
              "    <tr>\n",
              "      <th>33</th>\n",
              "      <td>Санкт-Петербург</td>\n",
              "      <td>10095</td>\n",
              "      <td>115736.487679</td>\n",
              "    </tr>\n",
              "    <tr>\n",
              "      <th>3</th>\n",
              "      <td>Всеволожск</td>\n",
              "      <td>271</td>\n",
              "      <td>67434.629936</td>\n",
              "    </tr>\n",
              "    <tr>\n",
              "      <th>32</th>\n",
              "      <td>Пушкин</td>\n",
              "      <td>234</td>\n",
              "      <td>103920.487928</td>\n",
              "    </tr>\n",
              "    <tr>\n",
              "      <th>22</th>\n",
              "      <td>Мурино</td>\n",
              "      <td>228</td>\n",
              "      <td>87816.925290</td>\n",
              "    </tr>\n",
              "    <tr>\n",
              "      <th>203</th>\n",
              "      <td>посёлок Шушары</td>\n",
              "      <td>217</td>\n",
              "      <td>79538.627641</td>\n",
              "    </tr>\n",
              "    <tr>\n",
              "      <th>13</th>\n",
              "      <td>Колпино</td>\n",
              "      <td>203</td>\n",
              "      <td>75938.525561</td>\n",
              "    </tr>\n",
              "    <tr>\n",
              "      <th>17</th>\n",
              "      <td>Кудрово</td>\n",
              "      <td>194</td>\n",
              "      <td>96105.431978</td>\n",
              "    </tr>\n",
              "    <tr>\n",
              "      <th>6</th>\n",
              "      <td>Гатчина</td>\n",
              "      <td>149</td>\n",
              "      <td>69992.693801</td>\n",
              "    </tr>\n",
              "    <tr>\n",
              "      <th>27</th>\n",
              "      <td>Петергоф</td>\n",
              "      <td>145</td>\n",
              "      <td>85554.144673</td>\n",
              "    </tr>\n",
              "    <tr>\n",
              "      <th>162</th>\n",
              "      <td>посёлок Парголово</td>\n",
              "      <td>137</td>\n",
              "      <td>90901.351145</td>\n",
              "    </tr>\n",
              "  </tbody>\n",
              "</table>\n",
              "</div>"
            ],
            "text/plain": [
              "         locality_name  count           mean\n",
              "33     Санкт-Петербург  10095  115736.487679\n",
              "3           Всеволожск    271   67434.629936\n",
              "32              Пушкин    234  103920.487928\n",
              "22              Мурино    228   87816.925290\n",
              "203     посёлок Шушары    217   79538.627641\n",
              "13             Колпино    203   75938.525561\n",
              "17             Кудрово    194   96105.431978\n",
              "6              Гатчина    149   69992.693801\n",
              "27            Петергоф    145   85554.144673\n",
              "162  посёлок Парголово    137   90901.351145"
            ]
          },
          "execution_count": 70,
          "metadata": {},
          "output_type": "execute_result"
        }
      ],
      "source": [
        "price_meter_mean = data.pivot_table(index='locality_name',values='price_meter',aggfunc=('count','mean')).reset_index().sort_values('count',ascending=False).head(10)\n",
        "price_meter_mean"
      ]
    },
    {
      "cell_type": "markdown",
      "metadata": {
        "id": "ivhBrP-EXWXT"
      },
      "source": [
        "Построим график"
      ]
    },
    {
      "cell_type": "code",
      "execution_count": null,
      "metadata": {
        "scrolled": false,
        "id": "Fhqsx_vaXWXT",
        "outputId": "3cf8b3e2-0ab0-4428-ca05-12bed9b88615"
      },
      "outputs": [
        {
          "data": {
            "text/plain": [
              "[Text(0.5, 0, 'Средняя цена 1 кв.м.'),\n",
              " Text(0, 0.5, 'Название населённого пункта')]"
            ]
          },
          "execution_count": 71,
          "metadata": {},
          "output_type": "execute_result"
        },
        {
          "data": {
            "image/png": "[encoded data removed]",
            "text/plain": [
              "<Figure size 504x360 with 1 Axes>"
            ]
          },
          "metadata": {
            "needs_background": "light"
          },
          "output_type": "display_data"
        }
      ],
      "source": [
        "price_meter_mean.sort_values('mean').plot(y='mean', x ='locality_name', kind='barh', grid=True, figsize=(7,5), title='Средняя цена одного квадратного метра в 10 населённых пунктах с наибольшим числом объявлений').set(xlabel='Средняя цена 1 кв.м.', ylabel='Название населённого пункта')"
      ]
    },
    {
      "cell_type": "markdown",
      "metadata": {
        "id": "65mL49xKXWXT"
      },
      "source": [
        "В Санкт-Петербурге самая высокая средняя цена одного квадратного метра 114857, в Выборге напротив самая маленькая из 10 насёленных пунктов с наибольшим числом объявлений и составляет 58238."
      ]
    },
    {
      "cell_type": "markdown",
      "metadata": {
        "id": "bgyXGv19XWXU"
      },
      "source": [
        "### Какие факторы больше всего влияют на общую (полную) стоимость объекта?"
      ]
    },
    {
      "cell_type": "code",
      "execution_count": null,
      "metadata": {
        "scrolled": false,
        "id": "_5p-2uW5XWXU",
        "outputId": "f52cc046-0760-4626-e7c7-adec9a966b04"
      },
      "outputs": [
        {
          "data": {
            "text/html": [
              "<div>\n",
              "<style scoped>\n",
              "    .dataframe tbody tr th:only-of-type {\n",
              "        vertical-align: middle;\n",
              "    }\n",
              "\n",
              "    .dataframe tbody tr th {\n",
              "        vertical-align: top;\n",
              "    }\n",
              "\n",
              "    .dataframe thead th {\n",
              "        text-align: right;\n",
              "    }\n",
              "</style>\n",
              "<table border=\"1\" class=\"dataframe\">\n",
              "  <thead>\n",
              "    <tr style=\"text-align: right;\">\n",
              "      <th></th>\n",
              "      <th>last_price</th>\n",
              "      <th>kitchen_area</th>\n",
              "      <th>living_area</th>\n",
              "      <th>month_of_publication</th>\n",
              "      <th>rooms</th>\n",
              "      <th>total_area</th>\n",
              "      <th>year_of_publication</th>\n",
              "    </tr>\n",
              "  </thead>\n",
              "  <tbody>\n",
              "    <tr>\n",
              "      <th>last_price</th>\n",
              "      <td>1.000000</td>\n",
              "      <td>0.616584</td>\n",
              "      <td>0.681179</td>\n",
              "      <td>0.013441</td>\n",
              "      <td>0.505147</td>\n",
              "      <td>0.757547</td>\n",
              "      <td>-0.094455</td>\n",
              "    </tr>\n",
              "    <tr>\n",
              "      <th>kitchen_area</th>\n",
              "      <td>0.616584</td>\n",
              "      <td>1.000000</td>\n",
              "      <td>0.569854</td>\n",
              "      <td>0.004050</td>\n",
              "      <td>0.477423</td>\n",
              "      <td>0.685949</td>\n",
              "      <td>-0.120300</td>\n",
              "    </tr>\n",
              "    <tr>\n",
              "      <th>living_area</th>\n",
              "      <td>0.681179</td>\n",
              "      <td>0.569854</td>\n",
              "      <td>1.000000</td>\n",
              "      <td>0.055108</td>\n",
              "      <td>0.854878</td>\n",
              "      <td>0.952869</td>\n",
              "      <td>-0.092152</td>\n",
              "    </tr>\n",
              "    <tr>\n",
              "      <th>month_of_publication</th>\n",
              "      <td>0.013441</td>\n",
              "      <td>0.004050</td>\n",
              "      <td>0.055108</td>\n",
              "      <td>1.000000</td>\n",
              "      <td>0.042260</td>\n",
              "      <td>0.041387</td>\n",
              "      <td>-0.291256</td>\n",
              "    </tr>\n",
              "    <tr>\n",
              "      <th>rooms</th>\n",
              "      <td>0.505147</td>\n",
              "      <td>0.477423</td>\n",
              "      <td>0.854878</td>\n",
              "      <td>0.042260</td>\n",
              "      <td>1.000000</td>\n",
              "      <td>0.798552</td>\n",
              "      <td>-0.077151</td>\n",
              "    </tr>\n",
              "    <tr>\n",
              "      <th>total_area</th>\n",
              "      <td>0.757547</td>\n",
              "      <td>0.685949</td>\n",
              "      <td>0.952869</td>\n",
              "      <td>0.041387</td>\n",
              "      <td>0.798552</td>\n",
              "      <td>1.000000</td>\n",
              "      <td>-0.130634</td>\n",
              "    </tr>\n",
              "    <tr>\n",
              "      <th>year_of_publication</th>\n",
              "      <td>-0.094455</td>\n",
              "      <td>-0.120300</td>\n",
              "      <td>-0.092152</td>\n",
              "      <td>-0.291256</td>\n",
              "      <td>-0.077151</td>\n",
              "      <td>-0.130634</td>\n",
              "      <td>1.000000</td>\n",
              "    </tr>\n",
              "  </tbody>\n",
              "</table>\n",
              "</div>"
            ],
            "text/plain": [
              "                      last_price  kitchen_area  living_area  \\\n",
              "last_price              1.000000      0.616584     0.681179   \n",
              "kitchen_area            0.616584      1.000000     0.569854   \n",
              "living_area             0.681179      0.569854     1.000000   \n",
              "month_of_publication    0.013441      0.004050     0.055108   \n",
              "rooms                   0.505147      0.477423     0.854878   \n",
              "total_area              0.757547      0.685949     0.952869   \n",
              "year_of_publication    -0.094455     -0.120300    -0.092152   \n",
              "\n",
              "                      month_of_publication     rooms  total_area  \\\n",
              "last_price                        0.013441  0.505147    0.757547   \n",
              "kitchen_area                      0.004050  0.477423    0.685949   \n",
              "living_area                       0.055108  0.854878    0.952869   \n",
              "month_of_publication              1.000000  0.042260    0.041387   \n",
              "rooms                             0.042260  1.000000    0.798552   \n",
              "total_area                        0.041387  0.798552    1.000000   \n",
              "year_of_publication              -0.291256 -0.077151   -0.130634   \n",
              "\n",
              "                      year_of_publication  \n",
              "last_price                      -0.094455  \n",
              "kitchen_area                    -0.120300  \n",
              "living_area                     -0.092152  \n",
              "month_of_publication            -0.291256  \n",
              "rooms                           -0.077151  \n",
              "total_area                      -0.130634  \n",
              "year_of_publication              1.000000  "
            ]
          },
          "execution_count": 72,
          "metadata": {},
          "output_type": "execute_result"
        }
      ],
      "source": [
        "dd = data.pivot_table(index='last_price',values=('total_area','living_area','kitchen_area','rooms','type_floor','day_of_publication','month_of_publication','year_of_publication')).reset_index()\n",
        "dd.corr()\n"
      ]
    },
    {
      "cell_type": "code",
      "execution_count": null,
      "metadata": {
        "scrolled": false,
        "id": "cOygS8PyXWXU",
        "outputId": "35948ee1-b18c-4d80-e895-f32949a98468"
      },
      "outputs": [
        {
          "data": {
            "text/plain": [
              "<AxesSubplot:xlabel='last_price', ylabel='total_area'>"
            ]
          },
          "execution_count": 73,
          "metadata": {},
          "output_type": "execute_result"
        },
        {
          "data": {
            "image/png": "[encoded data removed]",
            "text/plain": [
              "<Figure size 432x288 with 1 Axes>"
            ]
          },
          "metadata": {
            "needs_background": "light"
          },
          "output_type": "display_data"
        }
      ],
      "source": [
        "data.query('total_area<200').plot(x='last_price', y='total_area', kind='scatter', alpha=0.03)"
      ]
    },
    {
      "cell_type": "code",
      "execution_count": null,
      "metadata": {
        "id": "zLWYoK0uXWXU",
        "outputId": "da270c0c-acfe-41a1-98ac-b6ecd9db87f8"
      },
      "outputs": [
        {
          "data": {
            "text/plain": [
              "<AxesSubplot:xlabel='last_price', ylabel='living_area'>"
            ]
          },
          "execution_count": 74,
          "metadata": {},
          "output_type": "execute_result"
        },
        {
          "data": {
            "image/png": "[encoded data removed]",
            "text/plain": [
              "<Figure size 432x288 with 1 Axes>"
            ]
          },
          "metadata": {
            "needs_background": "light"
          },
          "output_type": "display_data"
        }
      ],
      "source": [
        "data.query('living_area<150').plot(x='last_price', y='living_area', kind='scatter', alpha=0.03)"
      ]
    },
    {
      "cell_type": "code",
      "execution_count": null,
      "metadata": {
        "id": "2bCvukVvXWXU",
        "outputId": "75349f8f-f612-48e4-a23a-c54d5f3e95ca"
      },
      "outputs": [
        {
          "data": {
            "text/plain": [
              "<AxesSubplot:xlabel='last_price', ylabel='kitchen_area'>"
            ]
          },
          "execution_count": 75,
          "metadata": {},
          "output_type": "execute_result"
        },
        {
          "data": {
            "image/png": "[encoded data removed]",
            "text/plain": [
              "<Figure size 432x288 with 1 Axes>"
            ]
          },
          "metadata": {
            "needs_background": "light"
          },
          "output_type": "display_data"
        }
      ],
      "source": [
        "data.query('kitchen_area<50').plot(x='last_price', y='kitchen_area', kind='scatter', alpha=0.03)"
      ]
    },
    {
      "cell_type": "code",
      "execution_count": null,
      "metadata": {
        "id": "4LIAdQ2IXWXU",
        "outputId": "c877cf75-f73a-4423-80c8-e15158697ac9"
      },
      "outputs": [
        {
          "data": {
            "text/plain": [
              "<AxesSubplot:xlabel='rooms'>"
            ]
          },
          "execution_count": 76,
          "metadata": {},
          "output_type": "execute_result"
        },
        {
          "data": {
            "image/png": "[encoded data removed]",
            "text/plain": [
              "<Figure size 432x288 with 1 Axes>"
            ]
          },
          "metadata": {
            "needs_background": "light"
          },
          "output_type": "display_data"
        }
      ],
      "source": [
        "data.pivot_table(index='rooms', values='last_price').reset_index().plot(x='rooms', y='last_price', kind='bar')"
      ]
    },
    {
      "cell_type": "code",
      "execution_count": null,
      "metadata": {
        "id": "gy3NGpjiXWXV",
        "outputId": "34de6552-c7c0-4292-91d6-18c0875047f7"
      },
      "outputs": [
        {
          "data": {
            "text/html": [
              "<div>\n",
              "<style scoped>\n",
              "    .dataframe tbody tr th:only-of-type {\n",
              "        vertical-align: middle;\n",
              "    }\n",
              "\n",
              "    .dataframe tbody tr th {\n",
              "        vertical-align: top;\n",
              "    }\n",
              "\n",
              "    .dataframe thead th {\n",
              "        text-align: right;\n",
              "    }\n",
              "</style>\n",
              "<table border=\"1\" class=\"dataframe\">\n",
              "  <thead>\n",
              "    <tr style=\"text-align: right;\">\n",
              "      <th></th>\n",
              "      <th>last_price</th>\n",
              "      <th>type_floor</th>\n",
              "    </tr>\n",
              "  </thead>\n",
              "  <tbody>\n",
              "    <tr>\n",
              "      <th>last_price</th>\n",
              "      <td>1.00000</td>\n",
              "      <td>0.06006</td>\n",
              "    </tr>\n",
              "    <tr>\n",
              "      <th>type_floor</th>\n",
              "      <td>0.06006</td>\n",
              "      <td>1.00000</td>\n",
              "    </tr>\n",
              "  </tbody>\n",
              "</table>\n",
              "</div>"
            ],
            "text/plain": [
              "            last_price  type_floor\n",
              "last_price     1.00000     0.06006\n",
              "type_floor     0.06006     1.00000"
            ]
          },
          "metadata": {},
          "output_type": "display_data"
        },
        {
          "data": {
            "text/plain": [
              "<AxesSubplot:xlabel='type_floor'>"
            ]
          },
          "execution_count": 77,
          "metadata": {},
          "output_type": "execute_result"
        },
        {
          "data": {
            "image/png": "[encoded data removed]",
            "text/plain": [
              "<Figure size 432x288 with 1 Axes>"
            ]
          },
          "metadata": {
            "needs_background": "light"
          },
          "output_type": "display_data"
        }
      ],
      "source": [
        "t = data.replace({'type_floor' : { 'первый' : 1, 'другой' : 2, 'последний' : 3}})\n",
        "display(t[['last_price', 'type_floor']].corr())\n",
        "t= t.pivot_table(index='type_floor', values=('last_price')).reset_index()\n",
        "t.plot(x='type_floor', y='last_price', kind='bar')"
      ]
    },
    {
      "cell_type": "code",
      "execution_count": null,
      "metadata": {
        "id": "DLAA-Pl0XWXV",
        "outputId": "a53aea3a-6d50-4dfa-fc2d-b66b8832e21d"
      },
      "outputs": [
        {
          "data": {
            "text/html": [
              "<div>\n",
              "<style scoped>\n",
              "    .dataframe tbody tr th:only-of-type {\n",
              "        vertical-align: middle;\n",
              "    }\n",
              "\n",
              "    .dataframe tbody tr th {\n",
              "        vertical-align: top;\n",
              "    }\n",
              "\n",
              "    .dataframe thead th {\n",
              "        text-align: right;\n",
              "    }\n",
              "</style>\n",
              "<table border=\"1\" class=\"dataframe\">\n",
              "  <thead>\n",
              "    <tr style=\"text-align: right;\">\n",
              "      <th></th>\n",
              "      <th>last_price</th>\n",
              "      <th>day_of_publication</th>\n",
              "    </tr>\n",
              "  </thead>\n",
              "  <tbody>\n",
              "    <tr>\n",
              "      <th>last_price</th>\n",
              "      <td>1.000000</td>\n",
              "      <td>-0.015695</td>\n",
              "    </tr>\n",
              "    <tr>\n",
              "      <th>day_of_publication</th>\n",
              "      <td>-0.015695</td>\n",
              "      <td>1.000000</td>\n",
              "    </tr>\n",
              "  </tbody>\n",
              "</table>\n",
              "</div>"
            ],
            "text/plain": [
              "                    last_price  day_of_publication\n",
              "last_price            1.000000           -0.015695\n",
              "day_of_publication   -0.015695            1.000000"
            ]
          },
          "metadata": {},
          "output_type": "display_data"
        },
        {
          "data": {
            "text/plain": [
              "<AxesSubplot:xlabel='last_price'>"
            ]
          },
          "execution_count": 78,
          "metadata": {},
          "output_type": "execute_result"
        },
        {
          "data": {
            "image/png": "[encoded data removed]",
            "text/plain": [
              "<Figure size 432x288 with 1 Axes>"
            ]
          },
          "metadata": {
            "needs_background": "light"
          },
          "output_type": "display_data"
        }
      ],
      "source": [
        "t = data.replace({'day_of_publication' : { 'понедельник' : 0, 'вторник' : 1, 'среда' : 2, 'четверг' : 3, 'пятница' : 4, 'суббота' : 5, 'воскресенье' : 6}})\n",
        "display(t[['last_price', 'day_of_publication']].corr())\n",
        "t.plot(x='last_price', y='day_of_publication', kind='bar')\n"
      ]
    },
    {
      "cell_type": "code",
      "execution_count": null,
      "metadata": {
        "id": "FdmFsxtwXWXV",
        "outputId": "19836070-b9c8-4aab-d97f-922c675af7e1"
      },
      "outputs": [
        {
          "data": {
            "text/plain": [
              "<AxesSubplot:xlabel='month_of_publication'>"
            ]
          },
          "execution_count": 79,
          "metadata": {},
          "output_type": "execute_result"
        },
        {
          "data": {
            "image/png": "[encoded data removed]",
            "text/plain": [
              "<Figure size 432x288 with 1 Axes>"
            ]
          },
          "metadata": {
            "needs_background": "light"
          },
          "output_type": "display_data"
        }
      ],
      "source": [
        "data.pivot_table(index='month_of_publication', values=('last_price')).reset_index().plot(x='month_of_publication', y='last_price', kind='bar')"
      ]
    },
    {
      "cell_type": "code",
      "execution_count": null,
      "metadata": {
        "id": "f_n8oGWtXWXV",
        "outputId": "ce0327b2-90e2-412d-981d-79b92ccaee23"
      },
      "outputs": [
        {
          "data": {
            "text/plain": [
              "<AxesSubplot:xlabel='year_of_publication'>"
            ]
          },
          "execution_count": 80,
          "metadata": {},
          "output_type": "execute_result"
        },
        {
          "data": {
            "image/png": "[encoded data removed]",
            "text/plain": [
              "<Figure size 432x288 with 1 Axes>"
            ]
          },
          "metadata": {
            "needs_background": "light"
          },
          "output_type": "display_data"
        }
      ],
      "source": [
        "data.pivot_table(index='year_of_publication', values=('last_price')).reset_index().plot(x='year_of_publication', y='last_price', kind='bar')"
      ]
    },
    {
      "cell_type": "markdown",
      "metadata": {
        "id": "l8nNTGJyXWXW"
      },
      "source": [
        "Самую большую корреляцию со стоимостью квартиры имеют столбцы общая площадь и жилая площадь."
      ]
    },
    {
      "cell_type": "markdown",
      "metadata": {
        "id": "yY7gBrqbXWXW"
      },
      "source": [
        "### Как стоимость объектов зависит от расстояния до центра города?"
      ]
    },
    {
      "cell_type": "markdown",
      "metadata": {
        "id": "Ix9ZcwstXWXW"
      },
      "source": [
        "Отфильтруем базу данных по городу Санкт-Петербург и удалим пустые значения в столбце расстояние до центра города."
      ]
    },
    {
      "cell_type": "code",
      "execution_count": null,
      "metadata": {
        "id": "7GVNOehOXWXW"
      },
      "outputs": [],
      "source": [
        "flats_spb = data.query('locality_name==\"Санкт-Петербург\"')\n",
        "flats_spb = flats_spb.dropna(subset=['cityCenters_nearest'])"
      ]
    },
    {
      "cell_type": "markdown",
      "metadata": {
        "id": "Upqu6u7XXWXW"
      },
      "source": [
        "Расчитаем среднюю цену квадратного метра недвижимости и разделем на расстояние до центра города, так мы вычислим среднюю цену одного киллометра.\n",
        "Построим график."
      ]
    },
    {
      "cell_type": "code",
      "execution_count": null,
      "metadata": {
        "scrolled": false,
        "id": "RYPQCfSPXWXW",
        "outputId": "042b1ebb-021b-4815-cffd-664e971c84be"
      },
      "outputs": [
        {
          "data": {
            "text/plain": [
              "[Text(0.5, 0, 'Расстояние в км. до центра'), Text(0, 0.5, 'цена 1 кв.м')]"
            ]
          },
          "execution_count": 82,
          "metadata": {},
          "output_type": "execute_result"
        },
        {
          "data": {
            "image/png": "[encoded data removed]",
            "text/plain": [
              "<Figure size 504x360 with 1 Axes>"
            ]
          },
          "metadata": {
            "needs_background": "light"
          },
          "output_type": "display_data"
        }
      ],
      "source": [
        "\n",
        "flats_spb['avg_price_km'] = flats_spb['last_price'].mean() / flats_spb['cityCenters_nearest_km']\n",
        "flats_spb.plot(x='cityCenters_nearest_km', y='avg_price_km', kind='scatter', grid=True, figsize=(7,5), title='Зависимость стоимости объекта от удалённости до центра города').set(xlabel='Расстояние в км. до центра', ylabel='цена 1 кв.м')"
      ]
    },
    {
      "cell_type": "markdown",
      "metadata": {
        "id": "lrpaKgpEXWXW"
      },
      "source": [
        "Из графика видно, что чем ближе недвижимость к центру города, тем она дороже. На это влияет много факторов:\n",
        " * престижность проживания в элитном районе;\n",
        " * надёжность инвестиций (квартиру в центре всегда легче продать или сдать в аренду);\n",
        " * транспортная доступность;\n",
        " * гарантированная развитость инфраструктуры (магазины, школы, детсады, поликлиники и т. д.);\n",
        " * чистота и комфорт (как правило, это наиболее ухоженная часть города);\n",
        " * более плотное сосредоточение социально-культурных объектов для отдыха и работы – культурных учреждений, административных, образовательных и бизнес-центров;\n",
        " * красивый вид из окна, особенно в исторической застройке, существенно увеличивающий ценность жилья;\n",
        " * возможность добраться пешком до большинства нужных мест в центре в час пик."
      ]
    },
    {
      "cell_type": "markdown",
      "metadata": {
        "id": "KHqHuBY-XWXX"
      },
      "source": [
        "## Общий вывод"
      ]
    },
    {
      "cell_type": "markdown",
      "metadata": {
        "id": "pgnIupsyXWXX"
      },
      "source": [
        "Входе проверки гипотез было пройдет три этапа:\n",
        "1. Обзор данных\n",
        "2. Предобработка данных.\n",
        "3. Проверка гипотез"
      ]
    },
    {
      "cell_type": "markdown",
      "metadata": {
        "id": "Ak8vTOXSXWXX"
      },
      "source": [
        "На стадии обзора данных был рассмотрен файл с датафреймом `real_estate_data.csv` содержащим информацию о объявлениях квартир, размещённых на Яндекс.Недвижимость. Было выявленно, что датафрейм содержит большое количество пропусков и несоответсвие типов данных в некоторых столбцах."
      ]
    },
    {
      "cell_type": "markdown",
      "metadata": {
        "id": "ibVc8hnPXWXX"
      },
      "source": [
        "При проведении предобработки были устраненны следующие проблемы в датафрейме:\n",
        " * Неявные дубликаты\n",
        " * Аномальные значения\n",
        " * Несоответствие типов данных\n",
        " * Наличие пропусков\n",
        "  \n",
        "  \n",
        " 1) Неявные дубликаты были обнаруженны в столбце `locality_name` их появление вызвано тем, что пользователь заполняет данные в свободной форме. Необходимо создать выпадающие списки, чтобы пользователь мог выбирать необходимые типы населённых пунктов и их названия.\n",
        "\n",
        " 2) Аномальные значения были в столбацх `last_price`, `ceiling_height`, `rooms`, `airports_nearest`. Строки с аномальными значениями были удаленны, либо заполнялись из логики, если пользователь не заполнял какой-либо параметр, следовательно этот параметр отсутствует в его квартире, либо не применим к ней.\n",
        "  \n",
        " В качестве рекомендации можно уставновить проверку на поле высота потолка при заполнении, что не позволит заносить аномально низкие значения. Так же можно выставлять автоматическое значение 1 в столбце `rooms` при выборе типа студия и сделать необходимым заполнение столбца `rooms` так как он является ключевым полем.\n",
        "  \n",
        " 3) Несоответствие типов данных были в столбцах `last_price`, `first_day_exposition`, `is_apartment`, `balcony`.\n",
        "\n",
        " У данных столбцов был преобразован тип данных, так как не соответствовал заполненным данным.\n",
        " В качествее рекомендации необходимо преобразовать сбор данных в подходящие типы.\n",
        "\n",
        " 4) Данные отсутствовали в столбцах `ceiling_height`, `floors_total`, `living_area`, `is_apartment`, `kitchen_area`, `balcony`,`locality_name`, `airports_nearest`, `cityCenters_nearest`, `parks_nearest`, `parks_around3000`, `ponds_nearest`, `ponds_around3000`, `days_expostiton`\n",
        "\n",
        " Пропуски в данных столбцах `ceiling_height`, `floors_total`, `living_area`, `kitchen_area`, `locality_name`, `parks_nearest`, `parks_around3000`, `ponds_nearest`, `ponds_around3000` не были заполненны, так как нехватает данных для их заполнения, подставление медианных и средних значений сильно исказит информацию и приведет к неверным выводам. В качестве рекомендации можно сделать столбцы `ceiling_height`, `floors_total`, `living_area` сделать обязательным к заполнению, так как они имеют ключевое значение при выборе недвижимости.\n",
        "\n",
        " Пропуски в столбцах `is_apartment` и `balcony`, были заполнены логическим путем, если пользователь их не заполнил соответсвенно они не относятся к его квартире. В качествее рекомендации можно автоматически подставлять данные значения, если пользователь сам не выбрал необходимые ему.\n",
        "\n",
        " Пропуск в столбец `days_expostiton` не заполнен, так как возможно объявление ещё находится в статусе активное и квартира ещё продаётся.\n",
        "\n",
        " Также были созданы новые столбцы , которые помогут при проверки гипотез `price_meter`(цена одного квадратного метра), `day_of_publication`(день публикации объявления (0 - понедельник, 1 - вторник и т.д.)), `month_of_publication`(месяц публикации объявления), `year_of_publication`(год публикации объявления), `type_floor`(тип этажа квартиры (значения — «первый», «последний», «другой»)), `cityCenters_nearest_km`(расстояние в км до центра города).\n",
        "\n",
        " После проведения предобработки данных, можно сказать, что в данных имеется большое количество пропусков. Пропуски не всегда получается заполнить исходя из имеющихся данных, что не позволяет полностью увидеть всю картину происходящего на рынке недвижимости. Так же необходимо доработать систему по сбору данных (выпадающие списки, обязательные поля, автоматическое заполнение).\n",
        ""
      ]
    },
    {
      "cell_type": "markdown",
      "metadata": {
        "id": "2-G3ZnxBXWXX"
      },
      "source": [
        "На последнем этапе было отвечено на 4 вопроса:\n",
        " 1) Как быстро продаются квартиры?\n",
        "\n",
        " В основном продажа квартиры занимает от 45 до 100 дней. В среднем продажа квартиры занимает 180 дней, медианное время продажи 90 дней. Самые быстрые продажи проводятся в первые три дня, самые долгие от 400 дней.\n",
        "\n",
        " 2) Какая средняя цена одного квадратного метра в 10 населённых пунктах с наибольшим числом объявлений?\n",
        "\n",
        " В Санкт-Петербурге самая высокая средняя цена одного квадратного метра 114857, в Выборге напротив самая маленькая из 10 насёленных пунктов с наибольшим числом объявлений и составляет 58238.\n",
        "\n",
        " 3) Какие факторы больше всего влияют на общую (полную) стоимость объекта?\n",
        "\n",
        "    - общей площади;\n",
        "    - жилой площади;\n",
        "    - площади кухни;\n",
        "    - количество комнат;\n",
        "    - типа этажа, на котором расположена квартира (первый, последний, другой);\n",
        "    - даты размещения (день недели, месяц, год);\n",
        "    \n",
        " Из всех факторов самую большую корреляцию со стоимостью квартиры имеют столбцы общая площадь и жилая площадь.\n",
        "\n",
        " 4) Как стоимость объектов зависит от расстояния до центра города?\n",
        "\n",
        " Чем ближе недвижимость к центру города, тем она дороже"
      ]
    }
  ],
  "metadata": {
    "ExecuteTimeLog": [
      {
        "duration": 821,
        "start_time": "2022-12-26T05:18:14.908Z"
      },
      {
        "duration": 0,
        "start_time": "2022-12-26T05:18:15.733Z"
      },
      {
        "duration": 0,
        "start_time": "2022-12-26T05:18:15.734Z"
      },
      {
        "duration": 0,
        "start_time": "2022-12-26T05:18:15.735Z"
      },
      {
        "duration": 0,
        "start_time": "2022-12-26T05:18:15.736Z"
      },
      {
        "duration": 0,
        "start_time": "2022-12-26T05:18:15.737Z"
      },
      {
        "duration": 0,
        "start_time": "2022-12-26T05:18:15.738Z"
      },
      {
        "duration": 0,
        "start_time": "2022-12-26T05:18:15.739Z"
      },
      {
        "duration": 0,
        "start_time": "2022-12-26T05:18:15.740Z"
      },
      {
        "duration": 0,
        "start_time": "2022-12-26T05:18:15.741Z"
      },
      {
        "duration": 0,
        "start_time": "2022-12-26T05:18:15.743Z"
      },
      {
        "duration": 0,
        "start_time": "2022-12-26T05:18:15.744Z"
      },
      {
        "duration": 0,
        "start_time": "2022-12-26T05:18:15.745Z"
      },
      {
        "duration": 0,
        "start_time": "2022-12-26T05:18:15.747Z"
      },
      {
        "duration": 0,
        "start_time": "2022-12-26T05:18:15.748Z"
      },
      {
        "duration": 0,
        "start_time": "2022-12-26T05:18:15.750Z"
      },
      {
        "duration": 0,
        "start_time": "2022-12-26T05:18:15.751Z"
      },
      {
        "duration": 0,
        "start_time": "2022-12-26T05:18:15.753Z"
      },
      {
        "duration": 0,
        "start_time": "2022-12-26T05:18:15.754Z"
      },
      {
        "duration": 0,
        "start_time": "2022-12-26T05:18:15.755Z"
      },
      {
        "duration": 0,
        "start_time": "2022-12-26T05:18:15.757Z"
      },
      {
        "duration": 0,
        "start_time": "2022-12-26T05:18:15.758Z"
      },
      {
        "duration": 0,
        "start_time": "2022-12-26T05:18:15.759Z"
      },
      {
        "duration": 0,
        "start_time": "2022-12-26T05:18:15.761Z"
      },
      {
        "duration": 0,
        "start_time": "2022-12-26T05:18:15.762Z"
      },
      {
        "duration": 0,
        "start_time": "2022-12-26T05:18:15.763Z"
      },
      {
        "duration": 0,
        "start_time": "2022-12-26T05:18:15.765Z"
      },
      {
        "duration": 0,
        "start_time": "2022-12-26T05:18:15.766Z"
      },
      {
        "duration": 0,
        "start_time": "2022-12-26T05:18:15.816Z"
      },
      {
        "duration": 0,
        "start_time": "2022-12-26T05:18:15.817Z"
      },
      {
        "duration": 0,
        "start_time": "2022-12-26T05:18:15.819Z"
      },
      {
        "duration": 0,
        "start_time": "2022-12-26T05:18:15.820Z"
      },
      {
        "duration": 0,
        "start_time": "2022-12-26T05:18:15.821Z"
      },
      {
        "duration": 0,
        "start_time": "2022-12-26T05:18:15.823Z"
      },
      {
        "duration": 0,
        "start_time": "2022-12-26T05:18:15.824Z"
      },
      {
        "duration": 0,
        "start_time": "2022-12-26T05:18:15.826Z"
      },
      {
        "duration": 0,
        "start_time": "2022-12-26T05:18:15.827Z"
      },
      {
        "duration": 0,
        "start_time": "2022-12-26T05:18:15.828Z"
      },
      {
        "duration": 0,
        "start_time": "2022-12-26T05:18:15.830Z"
      },
      {
        "duration": 0,
        "start_time": "2022-12-26T05:18:15.831Z"
      },
      {
        "duration": 0,
        "start_time": "2022-12-26T05:18:15.832Z"
      },
      {
        "duration": 0,
        "start_time": "2022-12-26T05:18:15.834Z"
      },
      {
        "duration": 0,
        "start_time": "2022-12-26T05:18:15.835Z"
      },
      {
        "duration": 0,
        "start_time": "2022-12-26T05:18:15.837Z"
      },
      {
        "duration": 0,
        "start_time": "2022-12-26T05:18:15.838Z"
      },
      {
        "duration": 0,
        "start_time": "2022-12-26T05:18:15.840Z"
      },
      {
        "duration": 0,
        "start_time": "2022-12-26T05:18:15.841Z"
      },
      {
        "duration": 0,
        "start_time": "2022-12-26T05:18:15.843Z"
      },
      {
        "duration": 0,
        "start_time": "2022-12-26T05:18:15.845Z"
      },
      {
        "duration": 0,
        "start_time": "2022-12-26T05:18:15.846Z"
      },
      {
        "duration": 0,
        "start_time": "2022-12-26T05:18:15.847Z"
      },
      {
        "duration": 0,
        "start_time": "2022-12-26T05:18:15.849Z"
      },
      {
        "duration": 0,
        "start_time": "2022-12-26T05:18:15.850Z"
      },
      {
        "duration": 0,
        "start_time": "2022-12-26T05:18:15.915Z"
      },
      {
        "duration": 0,
        "start_time": "2022-12-26T05:18:15.916Z"
      },
      {
        "duration": 0,
        "start_time": "2022-12-26T05:18:15.918Z"
      },
      {
        "duration": 0,
        "start_time": "2022-12-26T05:18:15.920Z"
      },
      {
        "duration": 0,
        "start_time": "2022-12-26T05:18:15.921Z"
      },
      {
        "duration": 0,
        "start_time": "2022-12-26T05:18:15.922Z"
      },
      {
        "duration": 0,
        "start_time": "2022-12-26T05:18:15.923Z"
      },
      {
        "duration": 0,
        "start_time": "2022-12-26T05:18:15.925Z"
      },
      {
        "duration": 0,
        "start_time": "2022-12-26T05:18:15.926Z"
      },
      {
        "duration": 0,
        "start_time": "2022-12-26T05:18:15.928Z"
      },
      {
        "duration": 0,
        "start_time": "2022-12-26T05:18:15.929Z"
      },
      {
        "duration": 0,
        "start_time": "2022-12-26T05:18:15.930Z"
      },
      {
        "duration": 0,
        "start_time": "2022-12-26T05:18:15.931Z"
      },
      {
        "duration": 0,
        "start_time": "2022-12-26T05:18:15.933Z"
      },
      {
        "duration": 0,
        "start_time": "2022-12-26T05:18:15.934Z"
      },
      {
        "duration": 0,
        "start_time": "2022-12-26T05:18:15.936Z"
      },
      {
        "duration": 0,
        "start_time": "2022-12-26T05:18:15.937Z"
      },
      {
        "duration": 0,
        "start_time": "2022-12-26T05:18:15.938Z"
      },
      {
        "duration": 0,
        "start_time": "2022-12-26T05:18:15.940Z"
      },
      {
        "duration": 0,
        "start_time": "2022-12-26T05:18:15.941Z"
      },
      {
        "duration": 0,
        "start_time": "2022-12-26T05:18:15.943Z"
      },
      {
        "duration": 0,
        "start_time": "2022-12-26T05:18:15.944Z"
      },
      {
        "duration": 0,
        "start_time": "2022-12-26T05:18:15.945Z"
      },
      {
        "duration": 0,
        "start_time": "2022-12-26T05:18:15.947Z"
      },
      {
        "duration": 0,
        "start_time": "2022-12-26T05:18:15.949Z"
      },
      {
        "duration": 0,
        "start_time": "2022-12-26T05:18:15.950Z"
      },
      {
        "duration": 9,
        "start_time": "2022-12-26T05:18:16.020Z"
      },
      {
        "duration": 0,
        "start_time": "2022-12-26T05:18:16.031Z"
      },
      {
        "duration": 0,
        "start_time": "2022-12-26T05:18:16.033Z"
      },
      {
        "duration": 0,
        "start_time": "2022-12-26T05:18:16.034Z"
      },
      {
        "duration": 0,
        "start_time": "2022-12-26T05:18:16.036Z"
      },
      {
        "duration": 888,
        "start_time": "2022-12-26T13:57:49.145Z"
      },
      {
        "duration": 323,
        "start_time": "2022-12-26T14:02:08.149Z"
      },
      {
        "duration": 822,
        "start_time": "2022-12-26T14:02:50.030Z"
      },
      {
        "duration": 15,
        "start_time": "2022-12-26T14:02:50.854Z"
      },
      {
        "duration": 55,
        "start_time": "2022-12-26T14:02:50.871Z"
      },
      {
        "duration": 2311,
        "start_time": "2022-12-26T14:02:50.929Z"
      },
      {
        "duration": 11,
        "start_time": "2022-12-26T14:02:53.242Z"
      },
      {
        "duration": 4,
        "start_time": "2022-12-26T14:02:53.254Z"
      },
      {
        "duration": 209,
        "start_time": "2022-12-26T14:02:53.260Z"
      },
      {
        "duration": 6,
        "start_time": "2022-12-26T14:02:53.471Z"
      },
      {
        "duration": 13,
        "start_time": "2022-12-26T14:02:53.479Z"
      },
      {
        "duration": 19,
        "start_time": "2022-12-26T14:02:53.496Z"
      },
      {
        "duration": 393,
        "start_time": "2022-12-26T14:02:53.518Z"
      },
      {
        "duration": 449,
        "start_time": "2022-12-26T14:02:53.915Z"
      },
      {
        "duration": 32,
        "start_time": "2022-12-26T14:02:54.366Z"
      },
      {
        "duration": 262,
        "start_time": "2022-12-26T14:02:54.400Z"
      },
      {
        "duration": 342,
        "start_time": "2022-12-26T14:02:54.664Z"
      },
      {
        "duration": 13,
        "start_time": "2022-12-26T14:02:55.008Z"
      },
      {
        "duration": 239,
        "start_time": "2022-12-26T14:02:55.023Z"
      },
      {
        "duration": 184,
        "start_time": "2022-12-26T14:02:55.264Z"
      },
      {
        "duration": 14,
        "start_time": "2022-12-26T14:02:55.450Z"
      },
      {
        "duration": 211,
        "start_time": "2022-12-26T14:02:55.466Z"
      },
      {
        "duration": 213,
        "start_time": "2022-12-26T14:02:55.679Z"
      },
      {
        "duration": 27,
        "start_time": "2022-12-26T14:02:55.894Z"
      },
      {
        "duration": 150,
        "start_time": "2022-12-26T14:02:55.923Z"
      },
      {
        "duration": 409,
        "start_time": "2022-12-26T14:02:56.075Z"
      },
      {
        "duration": 13,
        "start_time": "2022-12-26T14:02:56.486Z"
      },
      {
        "duration": 38,
        "start_time": "2022-12-26T14:02:56.501Z"
      },
      {
        "duration": 20,
        "start_time": "2022-12-26T14:02:56.541Z"
      },
      {
        "duration": 339,
        "start_time": "2022-12-26T14:02:56.567Z"
      },
      {
        "duration": 283,
        "start_time": "2022-12-26T14:02:56.908Z"
      },
      {
        "duration": 9,
        "start_time": "2022-12-26T14:02:57.194Z"
      },
      {
        "duration": 52,
        "start_time": "2022-12-26T14:02:57.216Z"
      },
      {
        "duration": 25,
        "start_time": "2022-12-26T14:02:57.270Z"
      },
      {
        "duration": 16,
        "start_time": "2022-12-26T14:02:57.315Z"
      },
      {
        "duration": 196,
        "start_time": "2022-12-26T14:02:57.333Z"
      },
      {
        "duration": 8,
        "start_time": "2022-12-26T14:02:57.532Z"
      },
      {
        "duration": 257,
        "start_time": "2022-12-26T14:02:57.541Z"
      },
      {
        "duration": 25,
        "start_time": "2022-12-26T14:02:57.800Z"
      },
      {
        "duration": 212,
        "start_time": "2022-12-26T14:02:57.828Z"
      },
      {
        "duration": 11,
        "start_time": "2022-12-26T14:02:58.042Z"
      },
      {
        "duration": 207,
        "start_time": "2022-12-26T14:02:58.055Z"
      },
      {
        "duration": 10,
        "start_time": "2022-12-26T14:02:58.264Z"
      },
      {
        "duration": 1465,
        "start_time": "2022-12-26T14:02:58.276Z"
      },
      {
        "duration": 176,
        "start_time": "2022-12-26T14:02:59.743Z"
      },
      {
        "duration": 15,
        "start_time": "2022-12-26T14:02:59.921Z"
      },
      {
        "duration": 1618,
        "start_time": "2022-12-26T14:02:59.937Z"
      },
      {
        "duration": 294,
        "start_time": "2022-12-26T14:03:01.556Z"
      },
      {
        "duration": 10,
        "start_time": "2022-12-26T14:03:01.852Z"
      },
      {
        "duration": 201,
        "start_time": "2022-12-26T14:03:01.864Z"
      },
      {
        "duration": 16,
        "start_time": "2022-12-26T14:03:02.067Z"
      },
      {
        "duration": 179,
        "start_time": "2022-12-26T14:03:02.085Z"
      },
      {
        "duration": 9,
        "start_time": "2022-12-26T14:03:02.266Z"
      },
      {
        "duration": 173,
        "start_time": "2022-12-26T14:03:02.277Z"
      },
      {
        "duration": 8,
        "start_time": "2022-12-26T14:03:02.452Z"
      },
      {
        "duration": 177,
        "start_time": "2022-12-26T14:03:02.462Z"
      },
      {
        "duration": 5,
        "start_time": "2022-12-26T14:03:02.641Z"
      },
      {
        "duration": 487,
        "start_time": "2022-12-26T14:03:02.648Z"
      },
      {
        "duration": 4,
        "start_time": "2022-12-26T14:03:03.136Z"
      },
      {
        "duration": 14,
        "start_time": "2022-12-26T14:03:03.142Z"
      },
      {
        "duration": 195,
        "start_time": "2022-12-26T14:03:03.158Z"
      },
      {
        "duration": 5,
        "start_time": "2022-12-26T14:03:03.355Z"
      },
      {
        "duration": 153,
        "start_time": "2022-12-26T14:03:03.362Z"
      },
      {
        "duration": 8,
        "start_time": "2022-12-26T14:03:03.518Z"
      },
      {
        "duration": 167,
        "start_time": "2022-12-26T14:03:03.528Z"
      },
      {
        "duration": 3,
        "start_time": "2022-12-26T14:03:03.696Z"
      },
      {
        "duration": 396,
        "start_time": "2022-12-26T14:03:03.702Z"
      },
      {
        "duration": 153,
        "start_time": "2022-12-26T14:03:04.100Z"
      },
      {
        "duration": 17,
        "start_time": "2022-12-26T14:03:04.254Z"
      },
      {
        "duration": 156,
        "start_time": "2022-12-26T14:03:04.272Z"
      },
      {
        "duration": 6,
        "start_time": "2022-12-26T14:03:04.430Z"
      },
      {
        "duration": 278,
        "start_time": "2022-12-26T14:03:04.438Z"
      },
      {
        "duration": 33,
        "start_time": "2022-12-26T14:03:04.719Z"
      },
      {
        "duration": 364,
        "start_time": "2022-12-26T14:03:04.755Z"
      },
      {
        "duration": 35,
        "start_time": "2022-12-26T14:03:05.120Z"
      },
      {
        "duration": 214,
        "start_time": "2022-12-26T14:03:05.158Z"
      },
      {
        "duration": 213,
        "start_time": "2022-12-26T14:03:05.373Z"
      },
      {
        "duration": 215,
        "start_time": "2022-12-26T14:03:05.588Z"
      },
      {
        "duration": 241,
        "start_time": "2022-12-26T14:03:05.805Z"
      },
      {
        "duration": 214,
        "start_time": "2022-12-26T14:03:06.048Z"
      },
      {
        "duration": 295,
        "start_time": "2022-12-26T14:03:06.264Z"
      },
      {
        "duration": 254,
        "start_time": "2022-12-26T14:03:06.562Z"
      },
      {
        "duration": 228,
        "start_time": "2022-12-26T14:03:06.818Z"
      },
      {
        "duration": 14,
        "start_time": "2022-12-26T14:03:07.053Z"
      },
      {
        "duration": 242,
        "start_time": "2022-12-26T14:03:07.069Z"
      },
      {
        "duration": 200,
        "start_time": "2022-12-26T14:03:07.315Z"
      },
      {
        "duration": 833,
        "start_time": "2022-12-27T05:22:14.326Z"
      },
      {
        "duration": 18,
        "start_time": "2022-12-27T05:22:15.161Z"
      },
      {
        "duration": 52,
        "start_time": "2022-12-27T05:22:15.181Z"
      },
      {
        "duration": 2103,
        "start_time": "2022-12-27T05:22:15.250Z"
      },
      {
        "duration": 10,
        "start_time": "2022-12-27T05:22:17.355Z"
      },
      {
        "duration": 5,
        "start_time": "2022-12-27T05:22:17.367Z"
      },
      {
        "duration": 207,
        "start_time": "2022-12-27T05:22:17.373Z"
      },
      {
        "duration": 6,
        "start_time": "2022-12-27T05:22:17.581Z"
      },
      {
        "duration": 16,
        "start_time": "2022-12-27T05:22:17.588Z"
      },
      {
        "duration": 11,
        "start_time": "2022-12-27T05:22:17.607Z"
      },
      {
        "duration": 331,
        "start_time": "2022-12-27T05:22:17.619Z"
      },
      {
        "duration": 329,
        "start_time": "2022-12-27T05:22:17.952Z"
      },
      {
        "duration": 30,
        "start_time": "2022-12-27T05:22:18.283Z"
      },
      {
        "duration": 241,
        "start_time": "2022-12-27T05:22:18.315Z"
      },
      {
        "duration": 277,
        "start_time": "2022-12-27T05:22:18.557Z"
      },
      {
        "duration": 15,
        "start_time": "2022-12-27T05:22:18.836Z"
      },
      {
        "duration": 197,
        "start_time": "2022-12-27T05:22:18.853Z"
      },
      {
        "duration": 207,
        "start_time": "2022-12-27T05:22:19.052Z"
      },
      {
        "duration": 15,
        "start_time": "2022-12-27T05:22:19.262Z"
      },
      {
        "duration": 190,
        "start_time": "2022-12-27T05:22:19.279Z"
      },
      {
        "duration": 202,
        "start_time": "2022-12-27T05:22:19.470Z"
      },
      {
        "duration": 16,
        "start_time": "2022-12-27T05:22:19.675Z"
      },
      {
        "duration": 142,
        "start_time": "2022-12-27T05:22:19.695Z"
      },
      {
        "duration": 402,
        "start_time": "2022-12-27T05:22:19.839Z"
      },
      {
        "duration": 26,
        "start_time": "2022-12-27T05:22:20.243Z"
      },
      {
        "duration": 19,
        "start_time": "2022-12-27T05:22:20.271Z"
      },
      {
        "duration": 8,
        "start_time": "2022-12-27T05:22:20.292Z"
      },
      {
        "duration": 248,
        "start_time": "2022-12-27T05:22:20.306Z"
      },
      {
        "duration": 269,
        "start_time": "2022-12-27T05:22:20.556Z"
      },
      {
        "duration": 7,
        "start_time": "2022-12-27T05:22:20.827Z"
      },
      {
        "duration": 53,
        "start_time": "2022-12-27T05:22:20.836Z"
      },
      {
        "duration": 26,
        "start_time": "2022-12-27T05:22:20.891Z"
      },
      {
        "duration": 32,
        "start_time": "2022-12-27T05:22:20.919Z"
      },
      {
        "duration": 186,
        "start_time": "2022-12-27T05:22:20.953Z"
      },
      {
        "duration": 15,
        "start_time": "2022-12-27T05:22:21.140Z"
      },
      {
        "duration": 262,
        "start_time": "2022-12-27T05:22:21.157Z"
      },
      {
        "duration": 13,
        "start_time": "2022-12-27T05:22:21.420Z"
      },
      {
        "duration": 177,
        "start_time": "2022-12-27T05:22:21.435Z"
      },
      {
        "duration": 8,
        "start_time": "2022-12-27T05:22:21.613Z"
      },
      {
        "duration": 176,
        "start_time": "2022-12-27T05:22:21.623Z"
      },
      {
        "duration": 10,
        "start_time": "2022-12-27T05:22:21.800Z"
      },
      {
        "duration": 1413,
        "start_time": "2022-12-27T05:22:21.811Z"
      },
      {
        "duration": 159,
        "start_time": "2022-12-27T05:22:23.226Z"
      },
      {
        "duration": 10,
        "start_time": "2022-12-27T05:22:23.387Z"
      },
      {
        "duration": 1425,
        "start_time": "2022-12-27T05:22:23.399Z"
      },
      {
        "duration": 252,
        "start_time": "2022-12-27T05:22:24.826Z"
      },
      {
        "duration": 9,
        "start_time": "2022-12-27T05:22:25.080Z"
      },
      {
        "duration": 170,
        "start_time": "2022-12-27T05:22:25.091Z"
      },
      {
        "duration": 6,
        "start_time": "2022-12-27T05:22:25.263Z"
      },
      {
        "duration": 163,
        "start_time": "2022-12-27T05:22:25.271Z"
      },
      {
        "duration": 16,
        "start_time": "2022-12-27T05:22:25.435Z"
      },
      {
        "duration": 151,
        "start_time": "2022-12-27T05:22:25.453Z"
      },
      {
        "duration": 6,
        "start_time": "2022-12-27T05:22:25.606Z"
      },
      {
        "duration": 160,
        "start_time": "2022-12-27T05:22:25.614Z"
      },
      {
        "duration": 5,
        "start_time": "2022-12-27T05:22:25.776Z"
      },
      {
        "duration": 427,
        "start_time": "2022-12-27T05:22:25.782Z"
      },
      {
        "duration": 3,
        "start_time": "2022-12-27T05:22:26.211Z"
      },
      {
        "duration": 15,
        "start_time": "2022-12-27T05:22:26.216Z"
      },
      {
        "duration": 177,
        "start_time": "2022-12-27T05:22:26.233Z"
      },
      {
        "duration": 6,
        "start_time": "2022-12-27T05:22:26.412Z"
      },
      {
        "duration": 160,
        "start_time": "2022-12-27T05:22:26.420Z"
      },
      {
        "duration": 6,
        "start_time": "2022-12-27T05:22:26.581Z"
      },
      {
        "duration": 151,
        "start_time": "2022-12-27T05:22:26.588Z"
      },
      {
        "duration": 3,
        "start_time": "2022-12-27T05:22:26.740Z"
      },
      {
        "duration": 318,
        "start_time": "2022-12-27T05:22:26.750Z"
      },
      {
        "duration": 136,
        "start_time": "2022-12-27T05:22:27.070Z"
      },
      {
        "duration": 14,
        "start_time": "2022-12-27T05:22:27.208Z"
      },
      {
        "duration": 154,
        "start_time": "2022-12-27T05:22:27.223Z"
      },
      {
        "duration": 5,
        "start_time": "2022-12-27T05:22:27.379Z"
      },
      {
        "duration": 256,
        "start_time": "2022-12-27T05:22:27.386Z"
      },
      {
        "duration": 26,
        "start_time": "2022-12-27T05:22:27.644Z"
      },
      {
        "duration": 311,
        "start_time": "2022-12-27T05:22:27.672Z"
      },
      {
        "duration": 24,
        "start_time": "2022-12-27T05:22:27.984Z"
      },
      {
        "duration": 196,
        "start_time": "2022-12-27T05:22:28.009Z"
      },
      {
        "duration": 203,
        "start_time": "2022-12-27T05:22:28.206Z"
      },
      {
        "duration": 179,
        "start_time": "2022-12-27T05:22:28.411Z"
      },
      {
        "duration": 198,
        "start_time": "2022-12-27T05:22:28.592Z"
      },
      {
        "duration": 189,
        "start_time": "2022-12-27T05:22:28.791Z"
      },
      {
        "duration": 208,
        "start_time": "2022-12-27T05:22:28.982Z"
      },
      {
        "duration": 197,
        "start_time": "2022-12-27T05:22:29.192Z"
      },
      {
        "duration": 213,
        "start_time": "2022-12-27T05:22:29.390Z"
      },
      {
        "duration": 14,
        "start_time": "2022-12-27T05:22:29.610Z"
      },
      {
        "duration": 279,
        "start_time": "2022-12-27T05:22:29.627Z"
      },
      {
        "duration": 190,
        "start_time": "2022-12-27T05:22:29.907Z"
      },
      {
        "duration": 51,
        "start_time": "2022-12-27T05:45:02.516Z"
      },
      {
        "duration": 181,
        "start_time": "2022-12-27T05:58:26.517Z"
      },
      {
        "duration": 42481,
        "start_time": "2022-12-27T05:59:13.552Z"
      },
      {
        "duration": 59140,
        "start_time": "2022-12-27T05:59:57.702Z"
      },
      {
        "duration": 863,
        "start_time": "2022-12-28T05:39:05.972Z"
      },
      {
        "duration": 20,
        "start_time": "2022-12-28T05:39:06.837Z"
      },
      {
        "duration": 61,
        "start_time": "2022-12-28T05:39:06.859Z"
      },
      {
        "duration": 2378,
        "start_time": "2022-12-28T05:39:06.922Z"
      },
      {
        "duration": 10,
        "start_time": "2022-12-28T05:39:09.301Z"
      },
      {
        "duration": 4,
        "start_time": "2022-12-28T05:39:09.313Z"
      },
      {
        "duration": 194,
        "start_time": "2022-12-28T05:39:09.319Z"
      },
      {
        "duration": 5,
        "start_time": "2022-12-28T05:39:09.515Z"
      },
      {
        "duration": 9,
        "start_time": "2022-12-28T05:39:09.522Z"
      },
      {
        "duration": 38,
        "start_time": "2022-12-28T05:39:09.533Z"
      },
      {
        "duration": 546,
        "start_time": "2022-12-28T05:39:09.574Z"
      },
      {
        "duration": 358,
        "start_time": "2022-12-28T05:39:10.122Z"
      },
      {
        "duration": 30,
        "start_time": "2022-12-28T05:39:10.483Z"
      },
      {
        "duration": 275,
        "start_time": "2022-12-28T05:39:10.515Z"
      },
      {
        "duration": 299,
        "start_time": "2022-12-28T05:39:10.792Z"
      },
      {
        "duration": 7,
        "start_time": "2022-12-28T05:39:11.093Z"
      },
      {
        "duration": 183,
        "start_time": "2022-12-28T05:39:11.102Z"
      },
      {
        "duration": 169,
        "start_time": "2022-12-28T05:39:11.287Z"
      },
      {
        "duration": 14,
        "start_time": "2022-12-28T05:39:11.458Z"
      },
      {
        "duration": 176,
        "start_time": "2022-12-28T05:39:11.474Z"
      },
      {
        "duration": 178,
        "start_time": "2022-12-28T05:39:11.652Z"
      },
      {
        "duration": 21,
        "start_time": "2022-12-28T05:39:11.832Z"
      },
      {
        "duration": 105,
        "start_time": "2022-12-28T05:39:11.855Z"
      },
      {
        "duration": 388,
        "start_time": "2022-12-28T05:39:11.962Z"
      },
      {
        "duration": 14,
        "start_time": "2022-12-28T05:39:12.353Z"
      },
      {
        "duration": 12,
        "start_time": "2022-12-28T05:39:12.368Z"
      },
      {
        "duration": 9,
        "start_time": "2022-12-28T05:39:12.382Z"
      },
      {
        "duration": 203,
        "start_time": "2022-12-28T05:39:12.396Z"
      },
      {
        "duration": 265,
        "start_time": "2022-12-28T05:39:12.600Z"
      },
      {
        "duration": 7,
        "start_time": "2022-12-28T05:39:12.867Z"
      },
      {
        "duration": 44,
        "start_time": "2022-12-28T05:39:12.875Z"
      },
      {
        "duration": 39,
        "start_time": "2022-12-28T05:39:12.921Z"
      },
      {
        "duration": 10,
        "start_time": "2022-12-28T05:39:12.962Z"
      },
      {
        "duration": 174,
        "start_time": "2022-12-28T05:39:12.974Z"
      },
      {
        "duration": 7,
        "start_time": "2022-12-28T05:39:13.150Z"
      },
      {
        "duration": 175,
        "start_time": "2022-12-28T05:39:13.159Z"
      },
      {
        "duration": 21,
        "start_time": "2022-12-28T05:39:13.336Z"
      },
      {
        "duration": 267,
        "start_time": "2022-12-28T05:39:13.360Z"
      },
      {
        "duration": 11,
        "start_time": "2022-12-28T05:39:13.628Z"
      },
      {
        "duration": 161,
        "start_time": "2022-12-28T05:39:13.651Z"
      },
      {
        "duration": 11,
        "start_time": "2022-12-28T05:39:13.814Z"
      },
      {
        "duration": 27,
        "start_time": "2022-12-28T05:39:13.826Z"
      },
      {
        "duration": 212,
        "start_time": "2022-12-28T05:39:13.855Z"
      },
      {
        "duration": 10,
        "start_time": "2022-12-28T05:39:14.069Z"
      },
      {
        "duration": 271,
        "start_time": "2022-12-28T05:39:14.081Z"
      },
      {
        "duration": 10,
        "start_time": "2022-12-28T05:39:14.354Z"
      },
      {
        "duration": 155,
        "start_time": "2022-12-28T05:39:14.367Z"
      },
      {
        "duration": 6,
        "start_time": "2022-12-28T05:39:14.524Z"
      },
      {
        "duration": 172,
        "start_time": "2022-12-28T05:39:14.532Z"
      },
      {
        "duration": 10,
        "start_time": "2022-12-28T05:39:14.706Z"
      },
      {
        "duration": 158,
        "start_time": "2022-12-28T05:39:14.718Z"
      },
      {
        "duration": 6,
        "start_time": "2022-12-28T05:39:14.878Z"
      },
      {
        "duration": 172,
        "start_time": "2022-12-28T05:39:14.886Z"
      },
      {
        "duration": 5,
        "start_time": "2022-12-28T05:39:15.059Z"
      },
      {
        "duration": 441,
        "start_time": "2022-12-28T05:39:15.066Z"
      },
      {
        "duration": 4,
        "start_time": "2022-12-28T05:39:15.508Z"
      },
      {
        "duration": 31,
        "start_time": "2022-12-28T05:39:15.513Z"
      },
      {
        "duration": 181,
        "start_time": "2022-12-28T05:39:15.546Z"
      },
      {
        "duration": 5,
        "start_time": "2022-12-28T05:39:15.729Z"
      },
      {
        "duration": 160,
        "start_time": "2022-12-28T05:39:15.736Z"
      },
      {
        "duration": 5,
        "start_time": "2022-12-28T05:39:15.897Z"
      },
      {
        "duration": 146,
        "start_time": "2022-12-28T05:39:15.904Z"
      },
      {
        "duration": 3,
        "start_time": "2022-12-28T05:39:16.052Z"
      },
      {
        "duration": 220,
        "start_time": "2022-12-28T05:39:16.057Z"
      },
      {
        "duration": 122,
        "start_time": "2022-12-28T05:39:16.279Z"
      },
      {
        "duration": 12,
        "start_time": "2022-12-28T05:39:16.403Z"
      },
      {
        "duration": 167,
        "start_time": "2022-12-28T05:39:16.416Z"
      },
      {
        "duration": 6,
        "start_time": "2022-12-28T05:39:16.584Z"
      },
      {
        "duration": 280,
        "start_time": "2022-12-28T05:39:16.591Z"
      },
      {
        "duration": 24,
        "start_time": "2022-12-28T05:39:16.873Z"
      },
      {
        "duration": 245,
        "start_time": "2022-12-28T05:39:16.899Z"
      },
      {
        "duration": 24,
        "start_time": "2022-12-28T05:39:17.150Z"
      },
      {
        "duration": 220,
        "start_time": "2022-12-28T05:39:17.176Z"
      },
      {
        "duration": 288,
        "start_time": "2022-12-28T05:39:17.398Z"
      },
      {
        "duration": 202,
        "start_time": "2022-12-28T05:39:17.688Z"
      },
      {
        "duration": 234,
        "start_time": "2022-12-28T05:39:17.892Z"
      },
      {
        "duration": 203,
        "start_time": "2022-12-28T05:39:18.128Z"
      },
      {
        "duration": 211566,
        "start_time": "2022-12-28T05:39:18.333Z"
      },
      {
        "duration": 234,
        "start_time": "2022-12-28T05:42:49.902Z"
      },
      {
        "duration": 191,
        "start_time": "2022-12-28T05:42:50.139Z"
      },
      {
        "duration": 20,
        "start_time": "2022-12-28T05:42:50.333Z"
      },
      {
        "duration": 208,
        "start_time": "2022-12-28T05:42:50.359Z"
      },
      {
        "duration": 218,
        "start_time": "2022-12-28T05:42:50.569Z"
      },
      {
        "duration": 3,
        "start_time": "2022-12-28T05:42:50.790Z"
      },
      {
        "duration": 1067,
        "start_time": "2022-12-28T06:15:24.270Z"
      },
      {
        "duration": 15,
        "start_time": "2022-12-28T06:15:25.340Z"
      },
      {
        "duration": 37,
        "start_time": "2022-12-28T06:15:25.357Z"
      },
      {
        "duration": 1939,
        "start_time": "2022-12-28T06:15:25.396Z"
      },
      {
        "duration": 9,
        "start_time": "2022-12-28T06:15:27.337Z"
      },
      {
        "duration": 4,
        "start_time": "2022-12-28T06:15:27.348Z"
      },
      {
        "duration": 162,
        "start_time": "2022-12-28T06:15:27.353Z"
      },
      {
        "duration": 5,
        "start_time": "2022-12-28T06:15:27.517Z"
      },
      {
        "duration": 11,
        "start_time": "2022-12-28T06:15:27.524Z"
      },
      {
        "duration": 9,
        "start_time": "2022-12-28T06:15:27.538Z"
      },
      {
        "duration": 321,
        "start_time": "2022-12-28T06:15:27.548Z"
      },
      {
        "duration": 315,
        "start_time": "2022-12-28T06:15:27.871Z"
      },
      {
        "duration": 32,
        "start_time": "2022-12-28T06:15:28.187Z"
      },
      {
        "duration": 223,
        "start_time": "2022-12-28T06:15:28.221Z"
      },
      {
        "duration": 269,
        "start_time": "2022-12-28T06:15:28.446Z"
      },
      {
        "duration": 6,
        "start_time": "2022-12-28T06:15:28.717Z"
      },
      {
        "duration": 158,
        "start_time": "2022-12-28T06:15:28.724Z"
      },
      {
        "duration": 148,
        "start_time": "2022-12-28T06:15:28.883Z"
      },
      {
        "duration": 11,
        "start_time": "2022-12-28T06:15:29.033Z"
      },
      {
        "duration": 162,
        "start_time": "2022-12-28T06:15:29.046Z"
      },
      {
        "duration": 160,
        "start_time": "2022-12-28T06:15:29.210Z"
      },
      {
        "duration": 12,
        "start_time": "2022-12-28T06:15:29.372Z"
      },
      {
        "duration": 98,
        "start_time": "2022-12-28T06:15:29.385Z"
      },
      {
        "duration": 353,
        "start_time": "2022-12-28T06:15:29.484Z"
      },
      {
        "duration": 11,
        "start_time": "2022-12-28T06:15:29.839Z"
      },
      {
        "duration": 10,
        "start_time": "2022-12-28T06:15:29.852Z"
      },
      {
        "duration": 7,
        "start_time": "2022-12-28T06:15:29.863Z"
      },
      {
        "duration": 200,
        "start_time": "2022-12-28T06:15:29.874Z"
      },
      {
        "duration": 250,
        "start_time": "2022-12-28T06:15:30.076Z"
      },
      {
        "duration": 7,
        "start_time": "2022-12-28T06:15:30.328Z"
      },
      {
        "duration": 69,
        "start_time": "2022-12-28T06:15:30.336Z"
      },
      {
        "duration": 32,
        "start_time": "2022-12-28T06:15:30.407Z"
      },
      {
        "duration": 29,
        "start_time": "2022-12-28T06:15:30.441Z"
      },
      {
        "duration": 171,
        "start_time": "2022-12-28T06:15:30.472Z"
      },
      {
        "duration": 7,
        "start_time": "2022-12-28T06:15:30.645Z"
      },
      {
        "duration": 183,
        "start_time": "2022-12-28T06:15:30.653Z"
      },
      {
        "duration": 13,
        "start_time": "2022-12-28T06:15:30.838Z"
      },
      {
        "duration": 253,
        "start_time": "2022-12-28T06:15:30.853Z"
      },
      {
        "duration": 13,
        "start_time": "2022-12-28T06:15:31.108Z"
      },
      {
        "duration": 155,
        "start_time": "2022-12-28T06:15:31.123Z"
      },
      {
        "duration": 9,
        "start_time": "2022-12-28T06:15:31.280Z"
      },
      {
        "duration": 16,
        "start_time": "2022-12-28T06:15:31.290Z"
      },
      {
        "duration": 206,
        "start_time": "2022-12-28T06:15:31.308Z"
      },
      {
        "duration": 10,
        "start_time": "2022-12-28T06:15:31.516Z"
      },
      {
        "duration": 243,
        "start_time": "2022-12-28T06:15:31.527Z"
      },
      {
        "duration": 11,
        "start_time": "2022-12-28T06:15:31.773Z"
      },
      {
        "duration": 139,
        "start_time": "2022-12-28T06:15:31.785Z"
      },
      {
        "duration": 7,
        "start_time": "2022-12-28T06:15:31.926Z"
      },
      {
        "duration": 163,
        "start_time": "2022-12-28T06:15:31.935Z"
      },
      {
        "duration": 18,
        "start_time": "2022-12-28T06:15:32.099Z"
      },
      {
        "duration": 137,
        "start_time": "2022-12-28T06:15:32.119Z"
      },
      {
        "duration": 8,
        "start_time": "2022-12-28T06:15:32.257Z"
      },
      {
        "duration": 157,
        "start_time": "2022-12-28T06:15:32.266Z"
      },
      {
        "duration": 5,
        "start_time": "2022-12-28T06:15:32.425Z"
      },
      {
        "duration": 432,
        "start_time": "2022-12-28T06:15:32.432Z"
      },
      {
        "duration": 4,
        "start_time": "2022-12-28T06:15:32.866Z"
      },
      {
        "duration": 11,
        "start_time": "2022-12-28T06:15:32.872Z"
      },
      {
        "duration": 185,
        "start_time": "2022-12-28T06:15:32.884Z"
      },
      {
        "duration": 5,
        "start_time": "2022-12-28T06:15:33.070Z"
      },
      {
        "duration": 147,
        "start_time": "2022-12-28T06:15:33.077Z"
      },
      {
        "duration": 4,
        "start_time": "2022-12-28T06:15:33.226Z"
      },
      {
        "duration": 138,
        "start_time": "2022-12-28T06:15:33.232Z"
      },
      {
        "duration": 3,
        "start_time": "2022-12-28T06:15:33.372Z"
      },
      {
        "duration": 206,
        "start_time": "2022-12-28T06:15:33.376Z"
      },
      {
        "duration": 125,
        "start_time": "2022-12-28T06:15:33.583Z"
      },
      {
        "duration": 11,
        "start_time": "2022-12-28T06:15:33.715Z"
      },
      {
        "duration": 168,
        "start_time": "2022-12-28T06:15:33.728Z"
      },
      {
        "duration": 18,
        "start_time": "2022-12-28T06:15:33.898Z"
      },
      {
        "duration": 283,
        "start_time": "2022-12-28T06:15:33.918Z"
      },
      {
        "duration": 26,
        "start_time": "2022-12-28T06:15:34.203Z"
      },
      {
        "duration": 205,
        "start_time": "2022-12-28T06:15:34.230Z"
      },
      {
        "duration": 24,
        "start_time": "2022-12-28T06:15:34.436Z"
      },
      {
        "duration": 189,
        "start_time": "2022-12-28T06:15:34.462Z"
      },
      {
        "duration": 266,
        "start_time": "2022-12-28T06:15:34.653Z"
      },
      {
        "duration": 161,
        "start_time": "2022-12-28T06:15:34.921Z"
      },
      {
        "duration": 197,
        "start_time": "2022-12-28T06:15:35.083Z"
      },
      {
        "duration": 144,
        "start_time": "2022-12-28T06:15:35.282Z"
      },
      {
        "duration": 197461,
        "start_time": "2022-12-28T06:15:35.430Z"
      },
      {
        "duration": 189,
        "start_time": "2022-12-28T06:18:52.893Z"
      },
      {
        "duration": 164,
        "start_time": "2022-12-28T06:18:53.084Z"
      },
      {
        "duration": 12,
        "start_time": "2022-12-28T06:18:53.250Z"
      },
      {
        "duration": 192,
        "start_time": "2022-12-28T06:18:53.268Z"
      },
      {
        "duration": 183,
        "start_time": "2022-12-28T06:18:53.462Z"
      },
      {
        "duration": 3,
        "start_time": "2022-12-28T06:18:53.647Z"
      }
    ],
    "kernelspec": {
      "display_name": "Python 3 (ipykernel)",
      "language": "python",
      "name": "python3"
    },
    "language_info": {
      "codemirror_mode": {
        "name": "ipython",
        "version": 3
      },
      "file_extension": ".py",
      "mimetype": "text/x-python",
      "name": "python",
      "nbconvert_exporter": "python",
      "pygments_lexer": "ipython3",
      "version": "3.9.5"
    },
    "toc": {
      "base_numbering": 1,
      "nav_menu": {},
      "number_sections": true,
      "sideBar": true,
      "skip_h1_title": true,
      "title_cell": "Table of Contents",
      "title_sidebar": "Contents",
      "toc_cell": false,
      "toc_position": {
        "height": "calc(100% - 180px)",
        "left": "10px",
        "top": "150px",
        "width": "761px"
      },
      "toc_section_display": true,
      "toc_window_display": true
    },
    "colab": {
      "provenance": []
    }
  },
  "nbformat": 4,
  "nbformat_minor": 0
}